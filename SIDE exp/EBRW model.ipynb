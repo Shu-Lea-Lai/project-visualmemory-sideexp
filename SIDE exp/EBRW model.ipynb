{
 "cells": [
  {
   "cell_type": "markdown",
   "metadata": {
    "kernel": "SoS"
   },
   "source": [
    "# Set up \n"
   ]
  },
  {
   "cell_type": "code",
   "execution_count": 506,
   "metadata": {
    "kernel": "SoS"
   },
   "outputs": [],
   "source": [
    "import numpy as np\n",
    "import pandas as pd\n",
    "import time\n",
    "import matplotlib.pyplot as plt\n",
    "import sys\n",
    "import scipy.optimize as optimize\n",
    "\n",
    "# from rpy2.robjects.packages import importr, data\n",
    "# from rpy2.robjects.lib.dplyr import DataFrame"
   ]
  },
  {
   "cell_type": "code",
   "execution_count": 566,
   "metadata": {
    "kernel": "SoS",
    "scrolled": true
   },
   "outputs": [
    {
     "ename": "ModuleNotFoundError",
     "evalue": "No module named 'apm'",
     "output_type": "error",
     "traceback": [
      "\u001b[1;31m---------------------------------------------------------------------------\u001b[0m",
      "\u001b[1;31mModuleNotFoundError\u001b[0m                       Traceback (most recent call last)",
      "\u001b[1;32m<ipython-input-566-8c98eef79c5d>\u001b[0m in \u001b[0;36m<module>\u001b[1;34m\u001b[0m\n\u001b[1;32m----> 1\u001b[1;33m \u001b[1;32mfrom\u001b[0m \u001b[0mapm\u001b[0m \u001b[1;32mimport\u001b[0m \u001b[1;33m*\u001b[0m\u001b[1;33m\u001b[0m\u001b[1;33m\u001b[0m\u001b[0m\n\u001b[0m",
      "\u001b[1;31mModuleNotFoundError\u001b[0m: No module named 'apm'"
     ]
    }
   ],
   "source": [
    "from apm import *"
   ]
  },
  {
   "cell_type": "code",
   "execution_count": 507,
   "metadata": {
    "kernel": "SoS"
   },
   "outputs": [],
   "source": [
    "path=\"./\" + \"sidedata/\"\n",
    "filename = path + \"Alldata.csv\"\n",
    "\n",
    "df=pd.read_csv(filename, index_col=None)\n",
    "df['Probtype'] = np.where(df['Stimkind']==1, \"CM\",\n",
    "                   np.where(df['Stimkind']==0, \"AN\",\n",
    "                   np.where(df['Stimkind']==3, 'VM',\"wrong\")))\n",
    "\n",
    "df['Oldnew'] = np.where(df['Old']==1, \"old\",\n",
    "                   np.where(df['Old']==2, \"new\",\"wrong\"))\n",
    "df['Error'] = 1-df['Correctness']\n",
    "df_org = df[df['RT']<2000]\n",
    "df = df_org.groupby([\"Oldnew\",\"Setsize\",\"Probtype\",\"Lag\",\"Error\",\"FileCondi\"])[[\"RT\"]].agg([\"mean\"])\n",
    "# df[[\"Correctness\",\"Error\"]]\n",
    "# df.groupby(\"Error\")\n",
    "df.index.name = 'Setsize'\n",
    "df.reset_index(inplace=True)\n",
    "# df[\"Error\"]"
   ]
  },
  {
   "cell_type": "markdown",
   "metadata": {
    "kernel": "SoS"
   },
   "source": [
    "# Parameter set"
   ]
  },
  {
   "cell_type": "code",
   "execution_count": 477,
   "metadata": {
    "kernel": "SoS",
    "scrolled": true
   },
   "outputs": [],
   "source": [
    "# Numitem = 16\n",
    "param_dic = {\n",
    "       \"boost\" : 0.60,\n",
    "       \"alpha\" : 0.2, \n",
    "       \"alpha_AN\":0.278,\n",
    "\n",
    "       \"beta\" : 1.228,\n",
    "       \"beta_AN\": 2.011,\n",
    "       \"s\" : 0.2,\n",
    "       \"c\" : 0.587,\n",
    "#        \"LMT_old\" : np.zeros(shape = Numitem),\n",
    "#        \"LMT_new\" : np.zeros(shape = Numitem),\n",
    "       \"Old_crit\" : 3,\n",
    "       \"New_crit\" : -3,\n",
    "       \"t0\" : 700,\n",
    "       \"kao\" : 38,\n",
    "       \"IR_old_CM_old\" : 0.23,\n",
    "    \n",
    "       \"IR_old_AN_old\" : 0,\n",
    "       \"IR_old_VM_old\": 0.143,\n",
    "\n",
    "       \"IR_new_CM_new\" : 0.623,\n",
    "       \"IR_new_AN_new\" : 0,\n",
    "       \"IR_new_VM_new\": 0.039,\n",
    "    \n",
    "    #the followings doesn't to adjust\n",
    "       \"IR_old_CM_new\" : 0,\n",
    "    \n",
    "       \"IR_old_AN_new\" : 0,\n",
    "       \"IR_old_VM_new\": 0,\n",
    "\n",
    "       \"IR_new_CM_old\" : 0,\n",
    "       \"IR_new_AN_old\" : 0,\n",
    "       \"IR_new_VM_old\": 0\n",
    "}\n",
    "\n",
    "for key,val in param_dic.items(): exec(key + '=val')\n",
    "\n",
    "# walk unit to time unit}\n",
    "# pred_raw_rt, predi_resp = Random_Walk(df, \"CMpure\", param_dic)\n",
    "\n",
    "# actual_resp = df[df['FileCondi']=='CMpure']['Response']\n",
    "# predi_resp = predi_resp\n",
    "\n",
    "# for key,val in param_dic.items(): eval(key + '=val')\n"
   ]
  },
  {
   "cell_type": "markdown",
   "metadata": {
    "kernel": "SoS"
   },
   "source": [
    "## make global"
   ]
  },
  {
   "cell_type": "code",
   "execution_count": 555,
   "metadata": {
    "kernel": "SoS"
   },
   "outputs": [
    {
     "ename": "ValueError",
     "evalue": "not enough values to unpack (expected 24, got 23)",
     "output_type": "error",
     "traceback": [
      "\u001b[1;31m---------------------------------------------------------------------------\u001b[0m",
      "\u001b[1;31mValueError\u001b[0m                                Traceback (most recent call last)",
      "\u001b[1;32m<ipython-input-555-b959a043f9f2>\u001b[0m in \u001b[0;36m<module>\u001b[1;34m\u001b[0m\n\u001b[0;32m     32\u001b[0m \u001b[1;31m#     IR_new_CM_new = 100\u001b[0m\u001b[1;33m\u001b[0m\u001b[1;33m\u001b[0m\u001b[1;33m\u001b[0m\u001b[0m\n\u001b[0;32m     33\u001b[0m \u001b[1;31m#     print(alpha)\u001b[0m\u001b[1;33m\u001b[0m\u001b[1;33m\u001b[0m\u001b[1;33m\u001b[0m\u001b[0m\n\u001b[1;32m---> 34\u001b[1;33m \u001b[0mmake_global\u001b[0m\u001b[1;33m(\u001b[0m\u001b[0mparam_dic\u001b[0m\u001b[1;33m)\u001b[0m\u001b[1;33m\u001b[0m\u001b[1;33m\u001b[0m\u001b[0m\n\u001b[0m",
      "\u001b[1;32m<ipython-input-555-b959a043f9f2>\u001b[0m in \u001b[0;36mmake_global\u001b[1;34m(param_dic)\u001b[0m\n\u001b[0;32m     29\u001b[0m     \u001b[0mIR_new_CM_old\u001b[0m \u001b[1;33m,\u001b[0m\u001b[1;33m\u001b[0m\u001b[1;33m\u001b[0m\u001b[0m\n\u001b[0;32m     30\u001b[0m     \u001b[0mIR_new_AN_old\u001b[0m \u001b[1;33m,\u001b[0m\u001b[1;33m\u001b[0m\u001b[1;33m\u001b[0m\u001b[0m\n\u001b[1;32m---> 31\u001b[1;33m     IR_new_VM_old ] = [i for i in param_dic.values() ]\n\u001b[0m\u001b[0;32m     32\u001b[0m \u001b[1;31m#     IR_new_CM_new = 100\u001b[0m\u001b[1;33m\u001b[0m\u001b[1;33m\u001b[0m\u001b[1;33m\u001b[0m\u001b[0m\n\u001b[0;32m     33\u001b[0m \u001b[1;31m#     print(alpha)\u001b[0m\u001b[1;33m\u001b[0m\u001b[1;33m\u001b[0m\u001b[1;33m\u001b[0m\u001b[0m\n",
      "\u001b[1;31mValueError\u001b[0m: not enough values to unpack (expected 24, got 23)"
     ]
    }
   ],
   "source": [
    "def make_global(param_dic):\n",
    "    \n",
    "    global boost, alpha, alpha_AN,beta,beta_AN,s_AN, s_others, c ,Old_crit ,New_crit ,\\\n",
    "    t0 ,kao ,IR_old_CM_old ,IR_old_AN_old ,IR_old_VM_old ,IR_new_CM_new ,\\\n",
    "    IR_new_AN_new ,IR_new_VM_new ,IR_old_CM_new ,IR_old_AN_new ,IR_old_VM_new ,\\\n",
    "    IR_new_CM_old ,IR_new_AN_old ,IR_new_VM_old \n",
    "    \n",
    "    [boost,\n",
    "    alpha,\n",
    "    alpha_AN,\n",
    "    beta,\n",
    "    beta_AN,\n",
    "    s_AN,\n",
    "    s_other,\n",
    "    c ,\n",
    "    Old_crit ,\n",
    "    New_crit ,\n",
    "    t0 ,\n",
    "    kao ,\n",
    "    IR_old_CM_old ,\n",
    "    IR_old_AN_old ,\n",
    "    IR_old_VM_old ,\n",
    "    IR_new_CM_new ,\n",
    "    IR_new_AN_new ,\n",
    "    IR_new_VM_new ,\n",
    "    IR_old_CM_new ,\n",
    "    IR_old_AN_new ,\n",
    "    IR_old_VM_new ,\n",
    "    IR_new_CM_old ,\n",
    "    IR_new_AN_old ,\n",
    "    IR_new_VM_old ] = [i for i in param_dic.values() ]\n",
    "#     IR_new_CM_new = 100\n",
    "#     print(alpha)\n",
    "make_global(param_dic)"
   ]
  },
  {
   "cell_type": "markdown",
   "metadata": {
    "kernel": "SoS"
   },
   "source": [
    "# Calc A (activation)"
   ]
  },
  {
   "cell_type": "code",
   "execution_count": 508,
   "metadata": {
    "kernel": "SoS"
   },
   "outputs": [
    {
     "name": "stdout",
     "output_type": "stream",
     "text": [
      "[0.21649213 0.21649213 0.36538177 0.36538177 0.3037718  0.3037718\n",
      " 0.53372696 0.53372696 0.44942557 0.44942557 0.7774897  0.7774897\n",
      " 0.82993213 0.82993213 0.46902066 0.46902066 1.32538177 1.32538177\n",
      " 0.86690886 0.86690886 0.9172118  0.9172118  0.55630033 0.55630033\n",
      " 0.4899045  0.4899045  0.4667578  0.4667578  1.49372696 1.49372696\n",
      " 1.03525404 1.03525404 0.90130675 0.90130675 0.83952789 0.83952789\n",
      " 1.06286557 1.06286557 0.70195409 0.70195409 0.63555826 0.63555826\n",
      " 0.61241156 0.61241156 0.60172864 0.60172864 0.59593868 0.59593868\n",
      " 0.59245403 0.59245403 0.59019596 0.59019596 1.7374897  1.7374897\n",
      " 1.27901678 1.14506949 1.14506949 1.08329063 1.08329063 1.04834458\n",
      " 1.04834458 1.02610735 1.02610735 1.01082441 1.01082441 0.99973341\n",
      " 0.99973341]\n"
     ]
    }
   ],
   "source": [
    "def calcA(df, name):\n",
    "    \n",
    "#     reveal_param(param_dic)\n",
    "#     for key,val in param_dic.items(): exec(key + '=val')\n",
    "    \n",
    "    dnow = df[df['FileCondi']==name]\n",
    "    a = np.zeros((dnow.shape[0], 8))  #activation\n",
    "    \n",
    "    m = np.array([(j**(-beta) + alpha) for j in np.arange(1,9)])\n",
    "    m_an = np.array([(j**(-beta_AN) + alpha_AN) for j in np.arange(1,9)])\n",
    "    \n",
    "#     for i in range(a.shape[0]): m[dnow['Setsize'].iloc[i]:] = 0\n",
    "#     print(\"m=\", m,\"\\n\",\"s=\",s,\"\\n\")\n",
    "\n",
    "    \n",
    "    for j in np.arange(1,9):\n",
    "        \n",
    "        indexj = j-1 \n",
    "#         a[dnow['Lag'] == j,indexj] = m[indexj] # if tested\n",
    "#         a[dnow['Lag'] != j,indexj] = m[indexj] *(is_an*boost) *s #if not tested\n",
    "        a[np.logical_and(dnow['Lag'] != j, dnow['Probtype'] == \"AN\") ,indexj]  = m_an[indexj] * boost *s\n",
    "        a[np.logical_and(dnow['Lag'] == j, dnow['Probtype'] == \"AN\") ,indexj]  = m_an[indexj] * boost\n",
    "        \n",
    "        a[np.logical_and(dnow['Lag'] != j, dnow['Probtype'] != \"AN\") ,indexj]  = m[indexj] *s\n",
    "        a[np.logical_and(dnow['Lag'] == j, dnow['Probtype'] != \"AN\") ,indexj]  = m[indexj] \n",
    "#     print(\"a=\",a,\"\\n\")\n",
    "        \n",
    "    for i in range(a.shape[0]): a[i,dnow['Setsize'].iloc[i]:] = 0 #a_ij suit for the correct amount of setsize\n",
    "    \n",
    "    debug = 0\n",
    "    if debug==1:\n",
    "        for i in range(a.shape[0]):\n",
    "            print(i, \"begin\\n\",\"a is\",a[i].round(2), \"\\n Lag is \",\\\n",
    "                  dnow['Lag'].iloc[i],\"\\n m is\", np.array(m).round(3),\"\\n Probtype is\",\\\n",
    "                  dnow[\"Probtype\"].iloc[i], \"\\n Ai is\", a[i,:].sum().round(2),\\\n",
    "                 \"\\n------------------------------------------------\" )\n",
    "\n",
    "    \n",
    "    A = a.sum(axis = 1)\n",
    "    \n",
    "    return(A)\n",
    "\n",
    "param_dic['s']=0.2\n",
    "for key,val in param_dic.items(): exec(key + '=val')\n",
    "print(calcA(df, \"CMat\"))\n",
    "\n",
    "# param_dic['s']=0.8\n",
    "# for key,val in param_dic.items(): exec(key + '=val')\n",
    "# print(calcA(df, \"CMat\"))\n"
   ]
  },
  {
   "cell_type": "code",
   "execution_count": 445,
   "metadata": {
    "kernel": "SoS"
   },
   "outputs": [
    {
     "data": {
      "text/plain": [
       "0.06698584140851832"
      ]
     },
     "execution_count": 445,
     "metadata": {},
     "output_type": "execute_result"
    }
   ],
   "source": [
    "8**(-1.5)\n",
    "8**(-1.3)"
   ]
  },
  {
   "cell_type": "markdown",
   "metadata": {
    "kernel": "SoS"
   },
   "source": [
    "# Calc p (drift rate)"
   ]
  },
  {
   "cell_type": "code",
   "execution_count": 509,
   "metadata": {
    "kernel": "SoS"
   },
   "outputs": [
    {
     "name": "stdout",
     "output_type": "stream",
     "text": [
      "['0.27-new-AN' '0.27-new-AN' '0.23-new-CM' '0.23-new-CM' '0.34-new-AN'\n",
      " '0.34-new-AN' '0.31-new-CM' '0.31-new-CM' '0.43-new-AN' '0.43-new-AN'\n",
      " '0.39-new-CM' '0.39-new-CM' '0.59-old-AN' '0.59-old-AN' '0.44-old-AN'\n",
      " '0.44-old-AN' '0.73-old-CM' '0.73-old-CM' '0.65-old-CM' '0.65-old-CM'\n",
      " '0.61-old-AN' '0.61-old-AN' '0.49-old-AN' '0.49-old-AN' '0.45-old-AN'\n",
      " '0.45-old-AN' '0.44-old-AN' '0.44-old-AN' '0.75-old-CM' '0.75-old-CM'\n",
      " '0.68-old-CM' '0.68-old-CM' '0.66-old-CM' '0.66-old-CM' '0.65-old-CM'\n",
      " '0.65-old-CM' '0.64-old-AN' '0.54-old-AN' '0.52-old-AN' '0.52-old-AN'\n",
      " '0.51-old-AN' '0.51-old-AN' '0.51-old-AN' '0.51-old-AN' '0.5-old-AN'\n",
      " '0.5-old-AN' '0.5-old-AN' '0.5-old-AN' '0.5-old-AN' '0.5-old-AN'\n",
      " '0.77-old-CM' '0.77-old-CM' '0.72-old-CM' '0.72-old-CM' '0.7-old-CM'\n",
      " '0.7-old-CM' '0.69-old-CM' '0.69-old-CM' '0.69-old-CM' '0.69-old-CM'\n",
      " '0.68-old-CM' '0.68-old-CM' '0.68-old-CM' '0.68-old-CM' '0.68-old-CM'\n",
      " '0.68-old-CM']\n"
     ]
    }
   ],
   "source": [
    "\n",
    "def calcp(df, name):\n",
    "    \n",
    "#     reveal_param(param_dic)\n",
    "#     for key,val in param_dic.items(): exec(key + '=val')\n",
    "    \n",
    "    A = calcA(df, name)\n",
    "    \n",
    "    dnow = df[df['FileCondi']==name]\n",
    "\n",
    "    p = np.repeat(3.0, A.shape[0])\n",
    "\n",
    "    #dnow['Oldnew'].iloc[i]  \n",
    "    for i in np.arange(0,A.size):\n",
    "        \n",
    "        IR_old_current = eval(\"IR_old_\" + dnow['Probtype'].iloc[i]+ \"_\" + dnow['Oldnew'].iloc[i]) #ex: \"IR_new_VM_new\": 0\n",
    "        IR_new_current = eval(\"IR_new_\" + dnow['Probtype'].iloc[i]+ \"_\" + dnow['Oldnew'].iloc[i])\n",
    "        \n",
    "#         print(IR_new_current,IR_old_current)        \n",
    "#         print((A[i] + IR_old_current)/(A[i] + IR_old_current + c + IR_new_current))\n",
    "\n",
    "        p[i] = (A[i] + IR_old_current)/(A[i] + IR_old_current + c + IR_new_current)\n",
    "#         p_new[i] = 1 - p_old[i]\n",
    "    \n",
    "#     print(\"A\\n\", A, \"\\n IR_old_current\\n\", IR_old_current)\n",
    "\n",
    "    return(np.array(p))\n",
    "\n",
    "\n",
    "# param_dic['s']=0.2\n",
    "# for key,val in param_dic.items(): exec(key + '=val')\n",
    "# calcp(df, \"CMat\")\n",
    "\n",
    "# param_dic['s']=0.8\n",
    "# for key,val in param_dic.items(): exec(key + '=val')\n",
    "\n",
    "ok1=calcp(df, \"MIX\")\n",
    "on = df[df['FileCondi']==\"MIX\"][\"Oldnew\"]\n",
    "onn = df[df['FileCondi']==\"MIX\"][\"Probtype\"]\n",
    "# print(np.array([str(ok1[i].round(2))+\"-\"+str(on.iloc[i]) for i in range(ok1.shape[0])]))\n",
    "print(np.array([str(ok1[i].round(2))+\"-\"+str(on.iloc[i]) +\"-\"+str(onn.iloc[i]) for i in range(ok1.shape[0])]))\n",
    "\n",
    "# df[.]"
   ]
  },
  {
   "cell_type": "code",
   "execution_count": 405,
   "metadata": {
    "kernel": "SoS"
   },
   "outputs": [
    {
     "data": {
      "text/plain": [
       "0.49068322981366463"
      ]
     },
     "execution_count": 405,
     "metadata": {},
     "output_type": "execute_result"
    }
   ],
   "source": [
    "df[df['FileCondi']==\"MIX\"].iloc[1]\n",
    "df[df['FileCondi']==\"MIX\"].iloc[8]\n",
    "# df[df['FileCondi']==\"MIX\"].iloc[9]\n",
    "0.79/(0.79+0.82)"
   ]
  },
  {
   "cell_type": "markdown",
   "metadata": {
    "kernel": "SoS"
   },
   "source": [
    "# RW "
   ]
  },
  {
   "cell_type": "code",
   "execution_count": 510,
   "metadata": {
    "kernel": "SoS"
   },
   "outputs": [
    {
     "name": "stdout",
     "output_type": "stream",
     "text": [
      "['0.27-new-AN' '0.23-new-CM' '0.34-new-AN' '0.31-new-CM' '0.43-new-AN'\n",
      " '0.39-new-CM' '0.59-old-AN' '0.44-old-AN' '0.73-old-CM' '0.65-old-CM'\n",
      " '0.61-old-AN' '0.49-old-AN' '0.45-old-AN' '0.44-old-AN' '0.75-old-CM'\n",
      " '0.68-old-CM' '0.66-old-CM' '0.65-old-CM' '0.64-old-AN' '0.54-old-AN'\n",
      " '0.52-old-AN' '0.51-old-AN' '0.51-old-AN' '0.5-old-AN' '0.5-old-AN'\n",
      " '0.5-old-AN' '0.77-old-CM' '0.72-old-CM' '0.7-old-CM' '0.69-old-CM'\n",
      " '0.69-old-CM' '0.68-old-CM' '0.68-old-CM' '0.68-old-CM']\n",
      "['0.95-new-AN' '0.97-new-CM' '0.88-new-AN' '0.92-new-CM' '0.69-new-AN'\n",
      " '0.79-new-CM' '0.74-old-AN' '0.34-old-AN' '0.95-old-CM' '0.87-old-CM'\n",
      " '0.79-old-AN' '0.46-old-AN' '0.37-old-AN' '0.33-old-AN' '0.96-old-CM'\n",
      " '0.91-old-CM' '0.88-old-CM' '0.86-old-CM' '0.86-old-AN' '0.63-old-AN'\n",
      " '0.56-old-AN' '0.53-old-AN' '0.52-old-AN' '0.51-old-AN' '0.51-old-AN'\n",
      " '0.5-old-AN' '0.97-old-CM' '0.94-old-CM' '0.93-old-CM' '0.92-old-CM'\n",
      " '0.91-old-CM' '0.91-old-CM' '0.9-old-CM' '0.9-old-CM']\n"
     ]
    },
    {
     "data": {
      "text/plain": [
       "array(['[0.033]-new-AN', '[0.04]-new-CM', '[0.045]-new-AN',\n",
       "       '[0.109]-new-CM', '[0.063]-new-AN', '[0.175]-new-CM',\n",
       "       '[0.051]-old-AN', '[0.062]-old-AN', '[0.076]-old-CM',\n",
       "       '[0.046]-old-CM', '[0.033]-old-AN', '[0.053]-old-AN',\n",
       "       '[0.095]-old-AN', '[0.108]-old-AN', '[0.042]-old-CM',\n",
       "       '[0.112]-old-CM', '[0.114]-old-CM', '[0.141]-old-CM',\n",
       "       '[0.]-old-AN', '[0.]-old-AN', '[0.109]-old-AN', '[0.188]-old-AN',\n",
       "       '[0.157]-old-AN', '[0.125]-old-AN', '[0.128]-old-AN',\n",
       "       '[0.044]-old-AN', '[0.02]-old-CM', '[0.037]-old-CM',\n",
       "       '[0.107]-old-CM', '[0.083]-old-CM', '[0.111]-old-CM',\n",
       "       '[0.07]-old-CM', '[0.182]-old-CM', '[0.304]-old-CM'], dtype='<U14')"
      ]
     },
     "execution_count": 510,
     "metadata": {},
     "output_type": "execute_result"
    }
   ],
   "source": [
    "\n",
    "def calc_theoretical_RW(df, name):\n",
    "\n",
    "    A = calcA(df, name)\n",
    "    p = calcp(df, name)\n",
    "\n",
    "    dnow = df[df['FileCondi']==name]\n",
    "    \n",
    "    \"\"\"\n",
    "\n",
    "    IR_old_current = [ eval(\"IR_old_\" + dnow['Probtype'].iloc[i] + \"_\" + dnow['Oldnew'].iloc[i]) for i in range(p.size)]\n",
    "    IR_new_current = [ eval(\"IR_new_\" + dnow['Probtype'].iloc[i] + \"_\" + dnow['Oldnew'].iloc[i]) for i in range(p.size)]\n",
    "    \"\"\"\n",
    "#     print(IR_old_current, IR_new_current)\n",
    "    \n",
    "    p_resp_old = np.zeros(p.size)\n",
    "    pred_correct = np.zeros(p.size)\n",
    "\n",
    "    q = 1-p\n",
    "\n",
    "    AA = Old_crit\n",
    "    BB = -New_crit # bb is a postive number\n",
    "\n",
    "    exp_nstep = np.zeros(p.shape[0])\n",
    "    \n",
    "    \"\"\"exp_nstep[p!=q] = BB/(q-p)-\\\n",
    "            ((BB+AA)/(q-p))*\\\n",
    "                        ((1-(q/p)**BB)/(1-(q/p)**(BB+AA)))\n",
    "    exp_nstep[p==q] = AA* BB\"\"\"\n",
    "    \n",
    "    theta1 = ((p/q)**(AA+BB)+1)/((p/q)**(AA+BB)-1)\n",
    "    theta2 = ((p/q)**BB+1)/((p/q)**BB-1)\n",
    "    \n",
    "    tf = dnow[\"Oldnew\"]=='old'\n",
    "    exp_nstep[np.logical_and(p!=q , tf)] = (1/(p[tf]-q[tf]))*(theta1[tf]*(AA+BB) - theta2[tf]*BB)\n",
    "    exp_nstep[np.logical_and(p==q , tf)] = (AA/3)*(2*BB+AA)\n",
    "    \n",
    "    theta1 = ((p/q)**(-(AA+BB))+1)/((p/q)**(-(AA+BB))-1)\n",
    "    theta2 = ((p/q)**-AA+1)/((p/q)**-AA-1)\n",
    "    tf = dnow[\"Oldnew\"]=='new'\n",
    "    exp_nstep[np.logical_and(p!=q , tf)] = (1/(q[tf]-p[tf]))*(theta1[tf]*(AA+BB) - theta2[tf]*AA)\n",
    "    exp_nstep[np.logical_and(p==q , tf)] = (BB/3)*(2*AA+BB)\n",
    "    \n",
    "\n",
    "    \"\"\"exp_duration =  t0/exp_nstep + kao * (  1/(A + IR_old_current + c + IR_new_current) )\"\"\"\n",
    "    \n",
    "    #exp_raw_t = (exp_nstep * exp_duration) \n",
    "    \n",
    "    p_resp_old[p!=q] = ((1-(q/p)**BB)/(1-(q/p)**(AA+BB)))[p!=q]\n",
    "    p_resp_old[p==q] = BB/(AA+BB)\n",
    "\n",
    "\n",
    "    pred_correct[dnow[\"Oldnew\"]=='old'] = p_resp_old[dnow[\"Oldnew\"]==\"old\"]\n",
    "    pred_correct[dnow[\"Oldnew\"]==\"new\"] = 1-p_resp_old[dnow[\"Oldnew\"]==\"new\"]\n",
    "    \n",
    "    pred_rt = t0 + kao * exp_nstep\n",
    "    \n",
    "#     print(\"ns\", pred_rt)\n",
    "\n",
    "    return(np.array(pred_rt), np.array(pred_correct))\n",
    "          \n",
    "\n",
    "# df_sub_org = df_org[df_org[\"FileCondi\"] == name]\n",
    "df_sub_err = df_org.groupby([\"Oldnew\",\"Setsize\",\"Probtype\",\"Lag\",\"FileCondi\"])[[\"Error\"]].agg([\"mean\"]).reset_index()\n",
    "\n",
    "\n",
    "ok1=calcp(df_sub_err, \"MIX\")\n",
    "on = df_sub_err[df_sub_err['FileCondi']==\"MIX\"][\"Oldnew\"]\n",
    "onn = df_sub_err[df_sub_err['FileCondi']==\"MIX\"][\"Probtype\"]\n",
    "print(np.array([str(ok1[i].round(2))+\"-\"+str(on.iloc[i]) +\"-\"+str(onn.iloc[i]) for i in range(ok1.shape[0])]))\n",
    "\n",
    "jjj, ok1 =calc_theoretical_RW(df_sub_err, \"MIX\")\n",
    "on = df_sub_err[df_sub_err['FileCondi']==\"MIX\"][\"Oldnew\"]\n",
    "onn = df_sub_err[df_sub_err['FileCondi']==\"MIX\"][\"Probtype\"]\n",
    "one = (df_sub_err[df_sub_err['FileCondi']==\"MIX\"][[(\"Error\",\"mean\")]]).to_numpy().round(3)\n",
    "\n",
    "print(np.array([str((ok1[i]).round(2))+\"-\"+str(on.iloc[i])+\"-\"+str(onn.iloc[i]) for i in range(ok1.shape[0])]))\n",
    "\n",
    "np.array([str(one[i])+\"-\"+str(on.iloc[i])+\"-\"+str(onn.iloc[i]) for i in range(ok1.shape[0])])"
   ]
  },
  {
   "cell_type": "code",
   "execution_count": 342,
   "metadata": {
    "kernel": "SoS"
   },
   "outputs": [
    {
     "data": {
      "text/plain": [
       "array([0.94193287, 0.94193287, 0.64512935, 0.64512935, 0.98084707,\n",
       "       0.98084707, 0.851615  , 0.851615  , 0.99377522, 0.99377522,\n",
       "       0.94706663, 0.94706663, 0.97016305, 0.97016305, 0.96418311,\n",
       "       0.96418311, 0.97390302, 0.97390302, 0.96891266, 0.96891266,\n",
       "       0.98819035, 0.98819035, 0.98648475, 0.98648475, 0.98591596,\n",
       "       0.98591596, 0.98564018, 0.98564018, 0.98931442, 0.98931442,\n",
       "       0.98782498, 0.98782498, 0.98733012, 0.98733012, 0.9870905 ,\n",
       "       0.9870905 , 0.99558172, 0.99513109, 0.99498557, 0.99498557,\n",
       "       0.99491581, 0.99491581, 0.99487548, 0.99487548, 0.99484945,\n",
       "       0.99484945, 0.99483137, 0.99483137, 0.99481814, 0.99481814,\n",
       "       0.99589171, 0.99589171, 0.99548328, 0.99548328, 0.99535166,\n",
       "       0.99535166, 0.9952886 , 0.9952886 , 0.99525216, 0.99525216,\n",
       "       0.99522864, 0.99522864, 0.99521231, 0.99521231, 0.99520037,\n",
       "       0.99520037])"
      ]
     },
     "execution_count": 342,
     "metadata": {},
     "output_type": "execute_result"
    }
   ],
   "source": [
    "A = calcA(df, name)\n",
    "p = calcp(df, name)\n",
    "\n",
    "dnow = df[df['FileCondi']==name]\n",
    "\n",
    "\n",
    "p_resp_old = np.zeros(p.size)\n",
    "pred_correct = np.zeros(p.size)\n",
    "\n",
    "q = 1-p\n",
    "\n",
    "AA = Old_crit\n",
    "BB = -New_crit # bb is a postive number\n",
    "\n",
    "exp_nstep = np.zeros(p.size)\n",
    "\n",
    "theta1 = ((p/q)**(AA+BB)+1)/((p/q)**(AA+BB)-1)\n",
    "theta2 = ((p/q)**BB+1)/((p/q)**BB-1)\n",
    "((1/(p-q))*(theta1*(AA+BB) - theta2*BB)).shape\n",
    "np.logical_and(p!=q , (dnow[\"Oldnew\"]=='old')).shape\n",
    "\n",
    "exp_nstep\n",
    "# exp_nstep[np.logical_and(p!=q , (dnow[\"Oldnew\"]=='old')).to_list()] = (1/(p-q))*(theta1*(AA+BB) - theta2*BB)\n",
    "# exp_nstep[np.logical_and(p==q , (dnow[\"Oldnew\"]=='old'))] = (AA/3)*(2*BB+AA)\n",
    "\n",
    "# theta1 = ((p/q)**(-(AA+BB))+1)/((p/q)**(-(AA+BB))-1)\n",
    "# theta2 = ((p/q)**-AA+1)/((p/q)**-AA-1)\n",
    "# exp_nstep[np.logical_and(p!=q , (dnow[\"Oldnew\"]=='new'))] = (1/(q-p))*(theta1*(AA+BB) - theta2*AA)\n",
    "# exp_nstep[np.logical_and(p==q , (dnow[\"Oldnew\"]=='new'))] = (BB/3)*(2*AA+BB)\n",
    "\n",
    "((1-(q/p)**BB)/(1-(q/p)**(AA+BB)))[p!=q]"
   ]
  },
  {
   "cell_type": "markdown",
   "metadata": {
    "kernel": "SoS"
   },
   "source": [
    "## Empirical Random Walk\n"
   ]
  },
  {
   "cell_type": "code",
   "execution_count": 11,
   "metadata": {
    "kernel": "SoS"
   },
   "outputs": [],
   "source": [
    "\n",
    "def Random_Walk_empirical(df, name):\n",
    "    \n",
    "#     reveal_param(param_dic)\n",
    "#     for key,val in param_dic.items(): eval(key=val)\n",
    "\n",
    "    p = calcp(df, name)\n",
    "    \n",
    "#     print(\"p is:\",p)\n",
    "#     print(\"new\",New_crit)\n",
    "    \n",
    "    maxreps = 100\n",
    "    Predi_resp = np.zeros(p.size)\n",
    "    process_time = np.zeros(p.size)\n",
    "    nstep = np.zeros(p.size)\n",
    "\n",
    "    for i in range(p.size):\n",
    "\n",
    "        start = time.time()\n",
    "        Acc = 0\n",
    "        for irep in range(maxreps):\n",
    "            \n",
    "            if p[i]>1: print(\"wrong p\")\n",
    "                \n",
    "#             print(i,\"trial;\",irep,\"step;\",\"ACC\",Acc,\";p:\",p[i])\n",
    "            \n",
    "            Acc += np.random.choice([1,-1], p= [p[i],1-p[i]])\n",
    "\n",
    "            Predi_respi = np.random.choice([1,2]) # defult randomly assign if not found\n",
    "\n",
    "            if Acc == Old_crit: \n",
    "\n",
    "                Predi_respi = 1 #'Old'\n",
    "                break\n",
    "            elif Acc == New_crit:\n",
    "\n",
    "                Predi_respi = 2 #\"new\"\n",
    "                break\n",
    "        end = time.time()\n",
    "        \n",
    "        nstep[i] = irep\n",
    "        process_time[i] = (end-start)*1000\n",
    "        Predi_resp[i] = int(Predi_respi)\n",
    "\n",
    "\n",
    "    return(process_time, Predi_resp, nstep)\n",
    "\n",
    "# print(Random_Walk(df, \"CMpure\", param_dic))"
   ]
  },
  {
   "cell_type": "markdown",
   "metadata": {
    "kernel": "SoS"
   },
   "source": [
    "## Theoretical Random Walk"
   ]
  },
  {
   "cell_type": "code",
   "execution_count": 178,
   "metadata": {
    "kernel": "SoS",
    "scrolled": false
   },
   "outputs": [
    {
     "name": "stdout",
     "output_type": "stream",
     "text": [
      "ns [3465.16407972 4430.85718963 3511.68372768 ... 4498.48625707 3995.22591781\n",
      " 4459.36178618]\n",
      "ns [2106.699911   2435.51038192 2108.09618885 ... 2861.07102664 3520.48189028\n",
      " 2905.86878544]\n"
     ]
    },
    {
     "data": {
      "text/plain": [
       "0.8257274627685547"
      ]
     },
     "execution_count": 178,
     "metadata": {},
     "output_type": "execute_result"
    }
   ],
   "source": [
    "\n",
    "def calc_theoretical_RW(df, name):\n",
    "\n",
    "#     A = calcA(df, name)\n",
    "    p = calcp(df, name)\n",
    "\n",
    "    dnow = df[df['FileCondi']==name]\n",
    "#     print(p.shape)\n",
    "\n",
    "    IR_old_current = [ eval(\"IR_old_\" + dnow['Probtype'].iloc[i]+ dnow['Old'].iloc[i]) for i in range(p.size)]\n",
    "    IR_new_current = [ eval(\"IR_new_\" + dnow['Probtype'].iloc[i]+ dnow['Old'].iloc[i]) for i in range(p.size)]\n",
    "    \n",
    "#     print(IR_old_current, IR_new_current)\n",
    "    \n",
    "    p_resp_old = np.zeros(p.size)\n",
    "    pred_correct = np.zeros(p.size)\n",
    "\n",
    "    q = 1-p\n",
    "\n",
    "    AA = Old_crit\n",
    "    BB = -New_crit # bb is a postive number\n",
    "\n",
    "    exp_nstep = np.zeros(p.size)\n",
    "    exp_nstep[p!=q] = [BB/(q[i]-p[i])-\\\n",
    "            ((BB+AA)/(q[i]-p[i]))*\\\n",
    "                        ((1-(q[i]/p[i])**BB)/(1-(q[i]/p[i])**(BB+AA)))\\\n",
    "                  for i in range(p.size)]\n",
    "    exp_nstep[p==q] = AA* BB\n",
    "\n",
    "    exp_duration = [t0 + 1/(A[i] + IR_old_current[i] + c + IR_new_current[i]) for i in range(p.size)]\n",
    "    \n",
    "    exp_raw_t = [(exp_nstep[i] * exp_duration[i]) for i in range(p.size)]\n",
    "\n",
    "    p_resp_old[p!=q] = [ (1-(q[i]/p[i])**BB)/(1-(q[i]/p[i])**(AA+BB)) for i in range(p.size)]\n",
    "    p_resp_old[p==q] = BB/(AA+BB)\n",
    "\n",
    "\n",
    "    pred_correct[dnow[\"Old\"]==1] = p_resp_old[dnow[\"Old\"]==1]\n",
    "    pred_correct[dnow[\"Old\"]==2] = 1-p_resp_old[dnow[\"Old\"]==2]\n",
    "    \n",
    "    print(\"ns\",np.array(exp_raw_t))\n",
    "    \n",
    "    \n",
    "    pred_rt = kao * np.array(exp_raw_t)\n",
    "\n",
    "    return(np.array(pred_rt), np.array(pred_correct))\n",
    "\n",
    "time1 = time.time()\n",
    "param_dic['s'] = 0.2\n",
    "for key,val in param_dic.items(): exec(key + '=val')\n",
    "# print(calcA(df, \"MIX\", param_dic))\n",
    "calc_theoretical_RW(df, \"MIX\")\n",
    "\n",
    "param_dic['s'] = 0.8\n",
    "for key,val in param_dic.items(): exec(key + '=val')\n",
    "calc_theoretical_RW(df, \"MIX\")\n",
    "# print(calcA(df, \"MIX\", param_dic))\n",
    "# pred_rt.shape\n",
    "time.time()-time1"
   ]
  },
  {
   "cell_type": "code",
   "execution_count": 357,
   "metadata": {
    "kernel": "SoS"
   },
   "outputs": [
    {
     "name": "stdout",
     "output_type": "stream",
     "text": [
      "0.025959035630467253\n"
     ]
    },
    {
     "data": {
      "text/html": [
       "<div>\n",
       "<style scoped>\n",
       "    .dataframe tbody tr th:only-of-type {\n",
       "        vertical-align: middle;\n",
       "    }\n",
       "\n",
       "    .dataframe tbody tr th {\n",
       "        vertical-align: top;\n",
       "    }\n",
       "\n",
       "    .dataframe thead tr th {\n",
       "        text-align: left;\n",
       "    }\n",
       "</style>\n",
       "<table border=\"1\" class=\"dataframe\">\n",
       "  <thead>\n",
       "    <tr>\n",
       "      <th></th>\n",
       "      <th>Oldnew</th>\n",
       "      <th>Setsize</th>\n",
       "      <th>Probtype</th>\n",
       "      <th>Lag</th>\n",
       "      <th>Error</th>\n",
       "      <th>FileCondi</th>\n",
       "      <th>RT</th>\n",
       "    </tr>\n",
       "    <tr>\n",
       "      <th></th>\n",
       "      <th></th>\n",
       "      <th></th>\n",
       "      <th></th>\n",
       "      <th></th>\n",
       "      <th></th>\n",
       "      <th></th>\n",
       "      <th>mean</th>\n",
       "    </tr>\n",
       "  </thead>\n",
       "  <tbody>\n",
       "    <tr>\n",
       "      <td>2</td>\n",
       "      <td>new</td>\n",
       "      <td>2</td>\n",
       "      <td>AN</td>\n",
       "      <td>0</td>\n",
       "      <td>0</td>\n",
       "      <td>MIX</td>\n",
       "      <td>758.693252</td>\n",
       "    </tr>\n",
       "    <tr>\n",
       "      <td>6</td>\n",
       "      <td>new</td>\n",
       "      <td>2</td>\n",
       "      <td>AN</td>\n",
       "      <td>0</td>\n",
       "      <td>1</td>\n",
       "      <td>MIX</td>\n",
       "      <td>858.090909</td>\n",
       "    </tr>\n",
       "    <tr>\n",
       "      <td>10</td>\n",
       "      <td>new</td>\n",
       "      <td>2</td>\n",
       "      <td>CM</td>\n",
       "      <td>0</td>\n",
       "      <td>0</td>\n",
       "      <td>MIX</td>\n",
       "      <td>812.324022</td>\n",
       "    </tr>\n",
       "    <tr>\n",
       "      <td>14</td>\n",
       "      <td>new</td>\n",
       "      <td>2</td>\n",
       "      <td>CM</td>\n",
       "      <td>0</td>\n",
       "      <td>1</td>\n",
       "      <td>MIX</td>\n",
       "      <td>1181.466667</td>\n",
       "    </tr>\n",
       "    <tr>\n",
       "      <td>20</td>\n",
       "      <td>new</td>\n",
       "      <td>4</td>\n",
       "      <td>AN</td>\n",
       "      <td>0</td>\n",
       "      <td>0</td>\n",
       "      <td>MIX</td>\n",
       "      <td>793.163265</td>\n",
       "    </tr>\n",
       "    <tr>\n",
       "      <td>...</td>\n",
       "      <td>...</td>\n",
       "      <td>...</td>\n",
       "      <td>...</td>\n",
       "      <td>...</td>\n",
       "      <td>...</td>\n",
       "      <td>...</td>\n",
       "      <td>...</td>\n",
       "    </tr>\n",
       "    <tr>\n",
       "      <td>268</td>\n",
       "      <td>old</td>\n",
       "      <td>8</td>\n",
       "      <td>CM</td>\n",
       "      <td>6</td>\n",
       "      <td>1</td>\n",
       "      <td>MIX</td>\n",
       "      <td>1060.000000</td>\n",
       "    </tr>\n",
       "    <tr>\n",
       "      <td>272</td>\n",
       "      <td>old</td>\n",
       "      <td>8</td>\n",
       "      <td>CM</td>\n",
       "      <td>7</td>\n",
       "      <td>0</td>\n",
       "      <td>MIX</td>\n",
       "      <td>781.733333</td>\n",
       "    </tr>\n",
       "    <tr>\n",
       "      <td>276</td>\n",
       "      <td>old</td>\n",
       "      <td>8</td>\n",
       "      <td>CM</td>\n",
       "      <td>7</td>\n",
       "      <td>1</td>\n",
       "      <td>MIX</td>\n",
       "      <td>1042.500000</td>\n",
       "    </tr>\n",
       "    <tr>\n",
       "      <td>280</td>\n",
       "      <td>old</td>\n",
       "      <td>8</td>\n",
       "      <td>CM</td>\n",
       "      <td>8</td>\n",
       "      <td>0</td>\n",
       "      <td>MIX</td>\n",
       "      <td>936.093750</td>\n",
       "    </tr>\n",
       "    <tr>\n",
       "      <td>284</td>\n",
       "      <td>old</td>\n",
       "      <td>8</td>\n",
       "      <td>CM</td>\n",
       "      <td>8</td>\n",
       "      <td>1</td>\n",
       "      <td>MIX</td>\n",
       "      <td>979.000000</td>\n",
       "    </tr>\n",
       "  </tbody>\n",
       "</table>\n",
       "<p>66 rows × 7 columns</p>\n",
       "</div>"
      ],
      "text/plain": [
       "    Oldnew Setsize Probtype Lag Error FileCondi           RT\n",
       "                                                        mean\n",
       "2      new       2       AN   0     0       MIX   758.693252\n",
       "6      new       2       AN   0     1       MIX   858.090909\n",
       "10     new       2       CM   0     0       MIX   812.324022\n",
       "14     new       2       CM   0     1       MIX  1181.466667\n",
       "20     new       4       AN   0     0       MIX   793.163265\n",
       "..     ...     ...      ...  ..   ...       ...          ...\n",
       "268    old       8       CM   6     1       MIX  1060.000000\n",
       "272    old       8       CM   7     0       MIX   781.733333\n",
       "276    old       8       CM   7     1       MIX  1042.500000\n",
       "280    old       8       CM   8     0       MIX   936.093750\n",
       "284    old       8       CM   8     1       MIX   979.000000\n",
       "\n",
       "[66 rows x 7 columns]"
      ]
     },
     "execution_count": 357,
     "metadata": {},
     "output_type": "execute_result"
    }
   ],
   "source": [
    "#given a new item\n",
    "p=0.23 #prob to answer old\n",
    "q=1-p \n",
    "print((1-(q/p)**BB)/(1-(q/p)**(AA+BB))) #ptob to answer old\n",
    "\n",
    "df[df['FileCondi']==\"MIX\"]"
   ]
  },
  {
   "cell_type": "code",
   "execution_count": 134,
   "metadata": {
    "kernel": "SoS"
   },
   "outputs": [
    {
     "name": "stdout",
     "output_type": "stream",
     "text": [
      "[0.001 0.004 0.009 0.016 0.025 0.036 0.049 0.064 0.081]\n"
     ]
    },
    {
     "data": {
      "text/plain": [
       "[0.001,\n",
       " 0.004,\n",
       " 0.009000000000000001,\n",
       " 0.016,\n",
       " 0.025,\n",
       " 0.036000000000000004,\n",
       " 0.049,\n",
       " 0.064,\n",
       " 0.08099999999999999]"
      ]
     },
     "execution_count": 134,
     "metadata": {},
     "output_type": "execute_result"
    }
   ],
   "source": [
    "# something = np.array([ (1-(q[i]/p[i])**(New_crit+Old_crit)) for i in range(p.size)])\n",
    "# something[something==0]\n",
    "# something\n",
    "something = np.arange(1,10)\n",
    "print((something/1000)*something)\n",
    "[(something[i]/1000)*something[i] for i in range(something.size)]"
   ]
  },
  {
   "cell_type": "markdown",
   "metadata": {
    "kernel": "SoS"
   },
   "source": [
    "# Calculate WSSE"
   ]
  },
  {
   "cell_type": "code",
   "execution_count": 511,
   "metadata": {
    "kernel": "SoS",
    "scrolled": true
   },
   "outputs": [
    {
     "data": {
      "text/plain": [
       "5.693306377967873"
      ]
     },
     "execution_count": 511,
     "metadata": {},
     "output_type": "execute_result"
    }
   ],
   "source": [
    "w_new_rt = 4*2\n",
    "w_old_rt = 1*2\n",
    "w_new_err = 4\n",
    "w_old_err = 1\n",
    "\n",
    "def calc_wssd(df, name):\n",
    "\n",
    "    df_sub_org = df[df[\"FileCondi\"] == name]\n",
    "    df_sub_err = df_sub_org.groupby([\"Oldnew\",\"Setsize\",\"Probtype\",\"Lag\",\"FileCondi\"])[[\"Error\"]].agg([\"mean\"]).reset_index()\n",
    "    df_sub_crt = df_sub_org[df_sub_org[\"Error\"]==0].\\\n",
    "    groupby([\"Oldnew\",\"Setsize\",\"Probtype\",\"Lag\",\"FileCondi\"])[[\"RT\"]].agg([\"mean\"]).reset_index()\n",
    "\n",
    "\n",
    "    \n",
    "    pred_rt, pred_correct = calc_theoretical_RW(df_sub_err, name)\n",
    "    pred_crt, pred_ccorrect = calc_theoretical_RW(df_sub_crt, name)\n",
    "\n",
    "    \n",
    "    pred_rt, pred_correct = calc_theoretical_RW(df_sub_err, name)\n",
    "    pred_crt, pred_ccorrect = calc_theoretical_RW(df_sub_crt, name)\n",
    "\n",
    "    df_sub_crt[\"pred_crt\"] = pred_crt/1000 #translate crt to seconds. \n",
    "    df_sub_err[\"pred_error\"] = 1- pred_correct\n",
    "\n",
    "    df_sub_crt[\"RT\"] = df_sub_crt[\"RT\"]/1000\n",
    "\n",
    "    df_sub_crt[\"SSD_RT\"] = (df_sub_crt[(\"RT\",\"mean\")] - df_sub_crt[\"pred_crt\"])**2\n",
    "    df_sub_err[\"SSD_err\"] = (df_sub_err[(\"Error\",\"mean\")] - df_sub_err[\"pred_error\"])**2\n",
    "\n",
    "    df_sub_crt[\"wSSD_RT\"] = [df_sub_crt[\"SSD_RT\"][i] *\\\n",
    "                             eval(\"w_\" + df_sub_crt[\"Oldnew\"][i]+\"_\"+\"rt\") for i in range(df_sub_crt.shape[0])]\n",
    "    df_sub_err[\"wSSD_err\"] = [df_sub_err[\"SSD_err\"][i] *\\\n",
    "                             eval(\"w_\" + df_sub_err[\"Oldnew\"][i]+\"_\"+\"err\") for i in range(df_sub_err.shape[0])]\n",
    "\n",
    "    WSSD = df_sub_err[\"wSSD_err\"].sum() + df_sub_crt[\"wSSD_RT\"].sum()\n",
    "\n",
    "    return(WSSD)\n",
    "\n",
    "calc_wssd(df_org, \"MIX\")\n",
    "# df_sub_agg, WSSD = calc_wssd(df, \"MIX\")"
   ]
  },
  {
   "cell_type": "code",
   "execution_count": 359,
   "metadata": {
    "kernel": "SoS"
   },
   "outputs": [
    {
     "data": {
      "text/html": [
       "<div>\n",
       "<style scoped>\n",
       "    .dataframe tbody tr th:only-of-type {\n",
       "        vertical-align: middle;\n",
       "    }\n",
       "\n",
       "    .dataframe tbody tr th {\n",
       "        vertical-align: top;\n",
       "    }\n",
       "\n",
       "    .dataframe thead tr th {\n",
       "        text-align: left;\n",
       "    }\n",
       "</style>\n",
       "<table border=\"1\" class=\"dataframe\">\n",
       "  <thead>\n",
       "    <tr>\n",
       "      <th></th>\n",
       "      <th>Oldnew</th>\n",
       "      <th>Setsize</th>\n",
       "      <th>Probtype</th>\n",
       "      <th>Lag</th>\n",
       "      <th>FileCondi</th>\n",
       "      <th>Error</th>\n",
       "      <th>pred_error</th>\n",
       "      <th>SSD_err</th>\n",
       "      <th>wSSD_err</th>\n",
       "    </tr>\n",
       "    <tr>\n",
       "      <th></th>\n",
       "      <th></th>\n",
       "      <th></th>\n",
       "      <th></th>\n",
       "      <th></th>\n",
       "      <th></th>\n",
       "      <th>mean</th>\n",
       "      <th></th>\n",
       "      <th></th>\n",
       "      <th></th>\n",
       "    </tr>\n",
       "  </thead>\n",
       "  <tbody>\n",
       "    <tr>\n",
       "      <td>0</td>\n",
       "      <td>new</td>\n",
       "      <td>2</td>\n",
       "      <td>AN</td>\n",
       "      <td>0</td>\n",
       "      <td>MIX</td>\n",
       "      <td>0.032641</td>\n",
       "      <td>0.202208</td>\n",
       "      <td>0.028753</td>\n",
       "      <td>0.115012</td>\n",
       "    </tr>\n",
       "    <tr>\n",
       "      <td>1</td>\n",
       "      <td>new</td>\n",
       "      <td>2</td>\n",
       "      <td>CM</td>\n",
       "      <td>0</td>\n",
       "      <td>MIX</td>\n",
       "      <td>0.040214</td>\n",
       "      <td>0.027621</td>\n",
       "      <td>0.000159</td>\n",
       "      <td>0.000634</td>\n",
       "    </tr>\n",
       "    <tr>\n",
       "      <td>2</td>\n",
       "      <td>new</td>\n",
       "      <td>4</td>\n",
       "      <td>AN</td>\n",
       "      <td>0</td>\n",
       "      <td>MIX</td>\n",
       "      <td>0.044568</td>\n",
       "      <td>0.444499</td>\n",
       "      <td>0.159945</td>\n",
       "      <td>0.639779</td>\n",
       "    </tr>\n",
       "    <tr>\n",
       "      <td>3</td>\n",
       "      <td>new</td>\n",
       "      <td>4</td>\n",
       "      <td>CM</td>\n",
       "      <td>0</td>\n",
       "      <td>MIX</td>\n",
       "      <td>0.109043</td>\n",
       "      <td>0.082296</td>\n",
       "      <td>0.000715</td>\n",
       "      <td>0.002862</td>\n",
       "    </tr>\n",
       "    <tr>\n",
       "      <td>4</td>\n",
       "      <td>new</td>\n",
       "      <td>8</td>\n",
       "      <td>AN</td>\n",
       "      <td>0</td>\n",
       "      <td>MIX</td>\n",
       "      <td>0.062874</td>\n",
       "      <td>0.713836</td>\n",
       "      <td>0.423751</td>\n",
       "      <td>1.695006</td>\n",
       "    </tr>\n",
       "    <tr>\n",
       "      <td>5</td>\n",
       "      <td>new</td>\n",
       "      <td>8</td>\n",
       "      <td>CM</td>\n",
       "      <td>0</td>\n",
       "      <td>MIX</td>\n",
       "      <td>0.174648</td>\n",
       "      <td>0.218480</td>\n",
       "      <td>0.001921</td>\n",
       "      <td>0.007685</td>\n",
       "    </tr>\n",
       "    <tr>\n",
       "      <td>6</td>\n",
       "      <td>old</td>\n",
       "      <td>2</td>\n",
       "      <td>AN</td>\n",
       "      <td>1</td>\n",
       "      <td>MIX</td>\n",
       "      <td>0.051282</td>\n",
       "      <td>0.057863</td>\n",
       "      <td>0.000043</td>\n",
       "      <td>0.000043</td>\n",
       "    </tr>\n",
       "    <tr>\n",
       "      <td>7</td>\n",
       "      <td>old</td>\n",
       "      <td>2</td>\n",
       "      <td>AN</td>\n",
       "      <td>2</td>\n",
       "      <td>MIX</td>\n",
       "      <td>0.061538</td>\n",
       "      <td>0.155972</td>\n",
       "      <td>0.008918</td>\n",
       "      <td>0.008918</td>\n",
       "    </tr>\n",
       "    <tr>\n",
       "      <td>8</td>\n",
       "      <td>old</td>\n",
       "      <td>2</td>\n",
       "      <td>CM</td>\n",
       "      <td>1</td>\n",
       "      <td>MIX</td>\n",
       "      <td>0.075581</td>\n",
       "      <td>0.049146</td>\n",
       "      <td>0.000699</td>\n",
       "      <td>0.000699</td>\n",
       "    </tr>\n",
       "    <tr>\n",
       "      <td>9</td>\n",
       "      <td>old</td>\n",
       "      <td>2</td>\n",
       "      <td>CM</td>\n",
       "      <td>2</td>\n",
       "      <td>MIX</td>\n",
       "      <td>0.046392</td>\n",
       "      <td>0.126257</td>\n",
       "      <td>0.006378</td>\n",
       "      <td>0.006378</td>\n",
       "    </tr>\n",
       "    <tr>\n",
       "      <td>10</td>\n",
       "      <td>old</td>\n",
       "      <td>4</td>\n",
       "      <td>AN</td>\n",
       "      <td>1</td>\n",
       "      <td>MIX</td>\n",
       "      <td>0.032609</td>\n",
       "      <td>0.042251</td>\n",
       "      <td>0.000093</td>\n",
       "      <td>0.000093</td>\n",
       "    </tr>\n",
       "    <tr>\n",
       "      <td>11</td>\n",
       "      <td>old</td>\n",
       "      <td>4</td>\n",
       "      <td>AN</td>\n",
       "      <td>2</td>\n",
       "      <td>MIX</td>\n",
       "      <td>0.053191</td>\n",
       "      <td>0.103842</td>\n",
       "      <td>0.002565</td>\n",
       "      <td>0.002565</td>\n",
       "    </tr>\n",
       "    <tr>\n",
       "      <td>12</td>\n",
       "      <td>old</td>\n",
       "      <td>4</td>\n",
       "      <td>AN</td>\n",
       "      <td>3</td>\n",
       "      <td>MIX</td>\n",
       "      <td>0.094737</td>\n",
       "      <td>0.142301</td>\n",
       "      <td>0.002262</td>\n",
       "      <td>0.002262</td>\n",
       "    </tr>\n",
       "    <tr>\n",
       "      <td>13</td>\n",
       "      <td>old</td>\n",
       "      <td>4</td>\n",
       "      <td>AN</td>\n",
       "      <td>4</td>\n",
       "      <td>MIX</td>\n",
       "      <td>0.108108</td>\n",
       "      <td>0.166143</td>\n",
       "      <td>0.003368</td>\n",
       "      <td>0.003368</td>\n",
       "    </tr>\n",
       "    <tr>\n",
       "      <td>14</td>\n",
       "      <td>old</td>\n",
       "      <td>4</td>\n",
       "      <td>CM</td>\n",
       "      <td>1</td>\n",
       "      <td>MIX</td>\n",
       "      <td>0.042105</td>\n",
       "      <td>0.036408</td>\n",
       "      <td>0.000032</td>\n",
       "      <td>0.000032</td>\n",
       "    </tr>\n",
       "    <tr>\n",
       "      <td>15</td>\n",
       "      <td>old</td>\n",
       "      <td>4</td>\n",
       "      <td>CM</td>\n",
       "      <td>2</td>\n",
       "      <td>MIX</td>\n",
       "      <td>0.112360</td>\n",
       "      <td>0.085726</td>\n",
       "      <td>0.000709</td>\n",
       "      <td>0.000709</td>\n",
       "    </tr>\n",
       "    <tr>\n",
       "      <td>16</td>\n",
       "      <td>old</td>\n",
       "      <td>4</td>\n",
       "      <td>CM</td>\n",
       "      <td>3</td>\n",
       "      <td>MIX</td>\n",
       "      <td>0.113636</td>\n",
       "      <td>0.115688</td>\n",
       "      <td>0.000004</td>\n",
       "      <td>0.000004</td>\n",
       "    </tr>\n",
       "    <tr>\n",
       "      <td>17</td>\n",
       "      <td>old</td>\n",
       "      <td>4</td>\n",
       "      <td>CM</td>\n",
       "      <td>4</td>\n",
       "      <td>MIX</td>\n",
       "      <td>0.141176</td>\n",
       "      <td>0.134102</td>\n",
       "      <td>0.000050</td>\n",
       "      <td>0.000050</td>\n",
       "    </tr>\n",
       "    <tr>\n",
       "      <td>18</td>\n",
       "      <td>old</td>\n",
       "      <td>8</td>\n",
       "      <td>AN</td>\n",
       "      <td>1</td>\n",
       "      <td>MIX</td>\n",
       "      <td>0.000000</td>\n",
       "      <td>0.028105</td>\n",
       "      <td>0.000790</td>\n",
       "      <td>0.000790</td>\n",
       "    </tr>\n",
       "    <tr>\n",
       "      <td>19</td>\n",
       "      <td>old</td>\n",
       "      <td>8</td>\n",
       "      <td>AN</td>\n",
       "      <td>2</td>\n",
       "      <td>MIX</td>\n",
       "      <td>0.000000</td>\n",
       "      <td>0.061597</td>\n",
       "      <td>0.003794</td>\n",
       "      <td>0.003794</td>\n",
       "    </tr>\n",
       "    <tr>\n",
       "      <td>20</td>\n",
       "      <td>old</td>\n",
       "      <td>8</td>\n",
       "      <td>AN</td>\n",
       "      <td>3</td>\n",
       "      <td>MIX</td>\n",
       "      <td>0.108696</td>\n",
       "      <td>0.080934</td>\n",
       "      <td>0.000771</td>\n",
       "      <td>0.000771</td>\n",
       "    </tr>\n",
       "    <tr>\n",
       "      <td>21</td>\n",
       "      <td>old</td>\n",
       "      <td>8</td>\n",
       "      <td>AN</td>\n",
       "      <td>4</td>\n",
       "      <td>MIX</td>\n",
       "      <td>0.187500</td>\n",
       "      <td>0.092595</td>\n",
       "      <td>0.009007</td>\n",
       "      <td>0.009007</td>\n",
       "    </tr>\n",
       "    <tr>\n",
       "      <td>22</td>\n",
       "      <td>old</td>\n",
       "      <td>8</td>\n",
       "      <td>AN</td>\n",
       "      <td>5</td>\n",
       "      <td>MIX</td>\n",
       "      <td>0.156863</td>\n",
       "      <td>0.100197</td>\n",
       "      <td>0.003211</td>\n",
       "      <td>0.003211</td>\n",
       "    </tr>\n",
       "    <tr>\n",
       "      <td>23</td>\n",
       "      <td>old</td>\n",
       "      <td>8</td>\n",
       "      <td>AN</td>\n",
       "      <td>6</td>\n",
       "      <td>MIX</td>\n",
       "      <td>0.125000</td>\n",
       "      <td>0.105478</td>\n",
       "      <td>0.000381</td>\n",
       "      <td>0.000381</td>\n",
       "    </tr>\n",
       "    <tr>\n",
       "      <td>24</td>\n",
       "      <td>old</td>\n",
       "      <td>8</td>\n",
       "      <td>AN</td>\n",
       "      <td>7</td>\n",
       "      <td>MIX</td>\n",
       "      <td>0.127660</td>\n",
       "      <td>0.109330</td>\n",
       "      <td>0.000336</td>\n",
       "      <td>0.000336</td>\n",
       "    </tr>\n",
       "    <tr>\n",
       "      <td>25</td>\n",
       "      <td>old</td>\n",
       "      <td>8</td>\n",
       "      <td>AN</td>\n",
       "      <td>8</td>\n",
       "      <td>MIX</td>\n",
       "      <td>0.044444</td>\n",
       "      <td>0.112248</td>\n",
       "      <td>0.004597</td>\n",
       "      <td>0.004597</td>\n",
       "    </tr>\n",
       "    <tr>\n",
       "      <td>26</td>\n",
       "      <td>old</td>\n",
       "      <td>8</td>\n",
       "      <td>CM</td>\n",
       "      <td>1</td>\n",
       "      <td>MIX</td>\n",
       "      <td>0.020000</td>\n",
       "      <td>0.024643</td>\n",
       "      <td>0.000022</td>\n",
       "      <td>0.000022</td>\n",
       "    </tr>\n",
       "    <tr>\n",
       "      <td>27</td>\n",
       "      <td>old</td>\n",
       "      <td>8</td>\n",
       "      <td>CM</td>\n",
       "      <td>2</td>\n",
       "      <td>MIX</td>\n",
       "      <td>0.037037</td>\n",
       "      <td>0.052163</td>\n",
       "      <td>0.000229</td>\n",
       "      <td>0.000229</td>\n",
       "    </tr>\n",
       "    <tr>\n",
       "      <td>28</td>\n",
       "      <td>old</td>\n",
       "      <td>8</td>\n",
       "      <td>CM</td>\n",
       "      <td>3</td>\n",
       "      <td>MIX</td>\n",
       "      <td>0.107143</td>\n",
       "      <td>0.067639</td>\n",
       "      <td>0.001561</td>\n",
       "      <td>0.001561</td>\n",
       "    </tr>\n",
       "    <tr>\n",
       "      <td>29</td>\n",
       "      <td>old</td>\n",
       "      <td>8</td>\n",
       "      <td>CM</td>\n",
       "      <td>4</td>\n",
       "      <td>MIX</td>\n",
       "      <td>0.083333</td>\n",
       "      <td>0.076874</td>\n",
       "      <td>0.000042</td>\n",
       "      <td>0.000042</td>\n",
       "    </tr>\n",
       "    <tr>\n",
       "      <td>30</td>\n",
       "      <td>old</td>\n",
       "      <td>8</td>\n",
       "      <td>CM</td>\n",
       "      <td>5</td>\n",
       "      <td>MIX</td>\n",
       "      <td>0.111111</td>\n",
       "      <td>0.082862</td>\n",
       "      <td>0.000798</td>\n",
       "      <td>0.000798</td>\n",
       "    </tr>\n",
       "    <tr>\n",
       "      <td>31</td>\n",
       "      <td>old</td>\n",
       "      <td>8</td>\n",
       "      <td>CM</td>\n",
       "      <td>6</td>\n",
       "      <td>MIX</td>\n",
       "      <td>0.069767</td>\n",
       "      <td>0.087009</td>\n",
       "      <td>0.000297</td>\n",
       "      <td>0.000297</td>\n",
       "    </tr>\n",
       "    <tr>\n",
       "      <td>32</td>\n",
       "      <td>old</td>\n",
       "      <td>8</td>\n",
       "      <td>CM</td>\n",
       "      <td>7</td>\n",
       "      <td>MIX</td>\n",
       "      <td>0.181818</td>\n",
       "      <td>0.090027</td>\n",
       "      <td>0.008426</td>\n",
       "      <td>0.008426</td>\n",
       "    </tr>\n",
       "    <tr>\n",
       "      <td>33</td>\n",
       "      <td>old</td>\n",
       "      <td>8</td>\n",
       "      <td>CM</td>\n",
       "      <td>8</td>\n",
       "      <td>MIX</td>\n",
       "      <td>0.304348</td>\n",
       "      <td>0.092310</td>\n",
       "      <td>0.044960</td>\n",
       "      <td>0.044960</td>\n",
       "    </tr>\n",
       "  </tbody>\n",
       "</table>\n",
       "</div>"
      ],
      "text/plain": [
       "   Oldnew Setsize Probtype Lag FileCondi     Error pred_error   SSD_err  \\\n",
       "                                              mean                        \n",
       "0     new       2       AN   0       MIX  0.032641   0.202208  0.028753   \n",
       "1     new       2       CM   0       MIX  0.040214   0.027621  0.000159   \n",
       "2     new       4       AN   0       MIX  0.044568   0.444499  0.159945   \n",
       "3     new       4       CM   0       MIX  0.109043   0.082296  0.000715   \n",
       "4     new       8       AN   0       MIX  0.062874   0.713836  0.423751   \n",
       "5     new       8       CM   0       MIX  0.174648   0.218480  0.001921   \n",
       "6     old       2       AN   1       MIX  0.051282   0.057863  0.000043   \n",
       "7     old       2       AN   2       MIX  0.061538   0.155972  0.008918   \n",
       "8     old       2       CM   1       MIX  0.075581   0.049146  0.000699   \n",
       "9     old       2       CM   2       MIX  0.046392   0.126257  0.006378   \n",
       "10    old       4       AN   1       MIX  0.032609   0.042251  0.000093   \n",
       "11    old       4       AN   2       MIX  0.053191   0.103842  0.002565   \n",
       "12    old       4       AN   3       MIX  0.094737   0.142301  0.002262   \n",
       "13    old       4       AN   4       MIX  0.108108   0.166143  0.003368   \n",
       "14    old       4       CM   1       MIX  0.042105   0.036408  0.000032   \n",
       "15    old       4       CM   2       MIX  0.112360   0.085726  0.000709   \n",
       "16    old       4       CM   3       MIX  0.113636   0.115688  0.000004   \n",
       "17    old       4       CM   4       MIX  0.141176   0.134102  0.000050   \n",
       "18    old       8       AN   1       MIX  0.000000   0.028105  0.000790   \n",
       "19    old       8       AN   2       MIX  0.000000   0.061597  0.003794   \n",
       "20    old       8       AN   3       MIX  0.108696   0.080934  0.000771   \n",
       "21    old       8       AN   4       MIX  0.187500   0.092595  0.009007   \n",
       "22    old       8       AN   5       MIX  0.156863   0.100197  0.003211   \n",
       "23    old       8       AN   6       MIX  0.125000   0.105478  0.000381   \n",
       "24    old       8       AN   7       MIX  0.127660   0.109330  0.000336   \n",
       "25    old       8       AN   8       MIX  0.044444   0.112248  0.004597   \n",
       "26    old       8       CM   1       MIX  0.020000   0.024643  0.000022   \n",
       "27    old       8       CM   2       MIX  0.037037   0.052163  0.000229   \n",
       "28    old       8       CM   3       MIX  0.107143   0.067639  0.001561   \n",
       "29    old       8       CM   4       MIX  0.083333   0.076874  0.000042   \n",
       "30    old       8       CM   5       MIX  0.111111   0.082862  0.000798   \n",
       "31    old       8       CM   6       MIX  0.069767   0.087009  0.000297   \n",
       "32    old       8       CM   7       MIX  0.181818   0.090027  0.008426   \n",
       "33    old       8       CM   8       MIX  0.304348   0.092310  0.044960   \n",
       "\n",
       "    wSSD_err  \n",
       "              \n",
       "0   0.115012  \n",
       "1   0.000634  \n",
       "2   0.639779  \n",
       "3   0.002862  \n",
       "4   1.695006  \n",
       "5   0.007685  \n",
       "6   0.000043  \n",
       "7   0.008918  \n",
       "8   0.000699  \n",
       "9   0.006378  \n",
       "10  0.000093  \n",
       "11  0.002565  \n",
       "12  0.002262  \n",
       "13  0.003368  \n",
       "14  0.000032  \n",
       "15  0.000709  \n",
       "16  0.000004  \n",
       "17  0.000050  \n",
       "18  0.000790  \n",
       "19  0.003794  \n",
       "20  0.000771  \n",
       "21  0.009007  \n",
       "22  0.003211  \n",
       "23  0.000381  \n",
       "24  0.000336  \n",
       "25  0.004597  \n",
       "26  0.000022  \n",
       "27  0.000229  \n",
       "28  0.001561  \n",
       "29  0.000042  \n",
       "30  0.000798  \n",
       "31  0.000297  \n",
       "32  0.008426  \n",
       "33  0.044960  "
      ]
     },
     "execution_count": 359,
     "metadata": {},
     "output_type": "execute_result"
    }
   ],
   "source": [
    "# df.columns\n",
    "# # df[\"RT\"]\n",
    "# df[df[\"Error\"]==0]\\\n",
    "# .groupby([\"Oldnew\",\"Setsize\",\"Probtype\",\"Lag\"]).apply(lambda x: x)[\"RT\"]\n",
    "\n",
    "w_new_rt = 4*2\n",
    "w_old_rt = 1*2\n",
    "w_new_err = 4\n",
    "w_old_err = 1\n",
    "\n",
    "\n",
    "name = \"MIX\"\n",
    "\n",
    "df_sub_org = df_org[df_org[\"FileCondi\"] == name]\n",
    "df_sub_err = df_sub_org.groupby([\"Oldnew\",\"Setsize\",\"Probtype\",\"Lag\",\"FileCondi\"])[[\"Error\"]].agg([\"mean\"]).reset_index()\n",
    "df_sub_crt = df_sub_org[df_sub_org[\"Error\"]==0].\\\n",
    "groupby([\"Oldnew\",\"Setsize\",\"Probtype\",\"Lag\",\"FileCondi\"])[[\"RT\"]].agg([\"mean\"]).reset_index()\n",
    "\n",
    "\n",
    "pred_rt, pred_correct = calc_theoretical_RW(df_sub_err, name)\n",
    "pred_crt, pred_ccorrect = calc_theoretical_RW(df_sub_crt, name)\n",
    "\n",
    "df_sub_crt[\"pred_crt\"] = pred_crt/1000 #translate crt to seconds. \n",
    "df_sub_err[\"pred_error\"] = 1- pred_correct\n",
    "\n",
    "df_sub_crt[\"RT\"] = df_sub_crt[\"RT\"]/1000\n",
    "\n",
    "df_sub_crt[\"SSD_RT\"] = (df_sub_crt[(\"RT\",\"mean\")] - df_sub_crt[\"pred_crt\"])**2\n",
    "df_sub_err[\"SSD_err\"] = (df_sub_err[(\"Error\",\"mean\")] - df_sub_err[\"pred_error\"])**2\n",
    "\n",
    "df_sub_crt[\"wSSD_RT\"] = [df_sub_crt[\"SSD_RT\"][i] *\\\n",
    "                         eval(\"w_\" + df_sub_crt[\"Oldnew\"][i]+\"_\"+\"rt\") for i in range(df_sub_crt.shape[0])]\n",
    "df_sub_err[\"wSSD_err\"] = [df_sub_err[\"SSD_err\"][i] *\\\n",
    "                         eval(\"w_\" + df_sub_err[\"Oldnew\"][i]+\"_\"+\"err\") for i in range(df_sub_err.shape[0])]\n",
    "\n",
    "df_sub_err[\"wSSD_err\"].sum() + df_sub_crt[\"wSSD_RT\"].sum()\n",
    "\n",
    "df_sub_err"
   ]
  },
  {
   "cell_type": "code",
   "execution_count": 177,
   "metadata": {
    "kernel": "SoS"
   },
   "outputs": [
    {
     "data": {
      "text/html": [
       "<div>\n",
       "<style scoped>\n",
       "    .dataframe tbody tr th:only-of-type {\n",
       "        vertical-align: middle;\n",
       "    }\n",
       "\n",
       "    .dataframe tbody tr th {\n",
       "        vertical-align: top;\n",
       "    }\n",
       "\n",
       "    .dataframe thead tr th {\n",
       "        text-align: left;\n",
       "    }\n",
       "</style>\n",
       "<table border=\"1\" class=\"dataframe\">\n",
       "  <thead>\n",
       "    <tr>\n",
       "      <th></th>\n",
       "      <th>Oldnew</th>\n",
       "      <th>Setsize</th>\n",
       "      <th>Probtype</th>\n",
       "      <th>Lag</th>\n",
       "      <th>FileCondi</th>\n",
       "      <th>Error</th>\n",
       "      <th>pred_error</th>\n",
       "      <th>SSD_err</th>\n",
       "      <th>wSSD_err</th>\n",
       "    </tr>\n",
       "    <tr>\n",
       "      <th></th>\n",
       "      <th></th>\n",
       "      <th></th>\n",
       "      <th></th>\n",
       "      <th></th>\n",
       "      <th></th>\n",
       "      <th>mean</th>\n",
       "      <th></th>\n",
       "      <th></th>\n",
       "      <th></th>\n",
       "    </tr>\n",
       "  </thead>\n",
       "  <tbody>\n",
       "    <tr>\n",
       "      <td>0</td>\n",
       "      <td>new</td>\n",
       "      <td>2</td>\n",
       "      <td>AN</td>\n",
       "      <td>0</td>\n",
       "      <td>MIX</td>\n",
       "      <td>0.032641</td>\n",
       "      <td>0.941933</td>\n",
       "      <td>0.826812</td>\n",
       "      <td>3.307247</td>\n",
       "    </tr>\n",
       "    <tr>\n",
       "      <td>1</td>\n",
       "      <td>new</td>\n",
       "      <td>2</td>\n",
       "      <td>CM</td>\n",
       "      <td>0</td>\n",
       "      <td>MIX</td>\n",
       "      <td>0.040214</td>\n",
       "      <td>0.645129</td>\n",
       "      <td>0.365922</td>\n",
       "      <td>1.463688</td>\n",
       "    </tr>\n",
       "    <tr>\n",
       "      <td>2</td>\n",
       "      <td>new</td>\n",
       "      <td>4</td>\n",
       "      <td>AN</td>\n",
       "      <td>0</td>\n",
       "      <td>MIX</td>\n",
       "      <td>0.044568</td>\n",
       "      <td>0.980847</td>\n",
       "      <td>0.876618</td>\n",
       "      <td>3.506472</td>\n",
       "    </tr>\n",
       "    <tr>\n",
       "      <td>3</td>\n",
       "      <td>new</td>\n",
       "      <td>4</td>\n",
       "      <td>CM</td>\n",
       "      <td>0</td>\n",
       "      <td>MIX</td>\n",
       "      <td>0.109043</td>\n",
       "      <td>0.851615</td>\n",
       "      <td>0.551414</td>\n",
       "      <td>2.205655</td>\n",
       "    </tr>\n",
       "    <tr>\n",
       "      <td>4</td>\n",
       "      <td>new</td>\n",
       "      <td>8</td>\n",
       "      <td>AN</td>\n",
       "      <td>0</td>\n",
       "      <td>MIX</td>\n",
       "      <td>0.062874</td>\n",
       "      <td>0.993775</td>\n",
       "      <td>0.866577</td>\n",
       "      <td>3.466306</td>\n",
       "    </tr>\n",
       "    <tr>\n",
       "      <td>5</td>\n",
       "      <td>new</td>\n",
       "      <td>8</td>\n",
       "      <td>CM</td>\n",
       "      <td>0</td>\n",
       "      <td>MIX</td>\n",
       "      <td>0.174648</td>\n",
       "      <td>0.947067</td>\n",
       "      <td>0.596631</td>\n",
       "      <td>2.386523</td>\n",
       "    </tr>\n",
       "    <tr>\n",
       "      <td>6</td>\n",
       "      <td>old</td>\n",
       "      <td>2</td>\n",
       "      <td>AN</td>\n",
       "      <td>1</td>\n",
       "      <td>MIX</td>\n",
       "      <td>0.051282</td>\n",
       "      <td>0.029837</td>\n",
       "      <td>0.000460</td>\n",
       "      <td>0.000460</td>\n",
       "    </tr>\n",
       "    <tr>\n",
       "      <td>7</td>\n",
       "      <td>old</td>\n",
       "      <td>2</td>\n",
       "      <td>AN</td>\n",
       "      <td>2</td>\n",
       "      <td>MIX</td>\n",
       "      <td>0.061538</td>\n",
       "      <td>0.035817</td>\n",
       "      <td>0.000662</td>\n",
       "      <td>0.000662</td>\n",
       "    </tr>\n",
       "    <tr>\n",
       "      <td>8</td>\n",
       "      <td>old</td>\n",
       "      <td>2</td>\n",
       "      <td>CM</td>\n",
       "      <td>1</td>\n",
       "      <td>MIX</td>\n",
       "      <td>0.075581</td>\n",
       "      <td>0.026097</td>\n",
       "      <td>0.002449</td>\n",
       "      <td>0.002449</td>\n",
       "    </tr>\n",
       "    <tr>\n",
       "      <td>9</td>\n",
       "      <td>old</td>\n",
       "      <td>2</td>\n",
       "      <td>CM</td>\n",
       "      <td>2</td>\n",
       "      <td>MIX</td>\n",
       "      <td>0.046392</td>\n",
       "      <td>0.031087</td>\n",
       "      <td>0.000234</td>\n",
       "      <td>0.000234</td>\n",
       "    </tr>\n",
       "    <tr>\n",
       "      <td>10</td>\n",
       "      <td>old</td>\n",
       "      <td>4</td>\n",
       "      <td>AN</td>\n",
       "      <td>1</td>\n",
       "      <td>MIX</td>\n",
       "      <td>0.032609</td>\n",
       "      <td>0.011810</td>\n",
       "      <td>0.000433</td>\n",
       "      <td>0.000433</td>\n",
       "    </tr>\n",
       "    <tr>\n",
       "      <td>11</td>\n",
       "      <td>old</td>\n",
       "      <td>4</td>\n",
       "      <td>AN</td>\n",
       "      <td>2</td>\n",
       "      <td>MIX</td>\n",
       "      <td>0.053191</td>\n",
       "      <td>0.013515</td>\n",
       "      <td>0.001574</td>\n",
       "      <td>0.001574</td>\n",
       "    </tr>\n",
       "    <tr>\n",
       "      <td>12</td>\n",
       "      <td>old</td>\n",
       "      <td>4</td>\n",
       "      <td>AN</td>\n",
       "      <td>3</td>\n",
       "      <td>MIX</td>\n",
       "      <td>0.094737</td>\n",
       "      <td>0.014084</td>\n",
       "      <td>0.006505</td>\n",
       "      <td>0.006505</td>\n",
       "    </tr>\n",
       "    <tr>\n",
       "      <td>13</td>\n",
       "      <td>old</td>\n",
       "      <td>4</td>\n",
       "      <td>AN</td>\n",
       "      <td>4</td>\n",
       "      <td>MIX</td>\n",
       "      <td>0.108108</td>\n",
       "      <td>0.014360</td>\n",
       "      <td>0.008789</td>\n",
       "      <td>0.008789</td>\n",
       "    </tr>\n",
       "    <tr>\n",
       "      <td>14</td>\n",
       "      <td>old</td>\n",
       "      <td>4</td>\n",
       "      <td>CM</td>\n",
       "      <td>1</td>\n",
       "      <td>MIX</td>\n",
       "      <td>0.042105</td>\n",
       "      <td>0.010686</td>\n",
       "      <td>0.000987</td>\n",
       "      <td>0.000987</td>\n",
       "    </tr>\n",
       "    <tr>\n",
       "      <td>15</td>\n",
       "      <td>old</td>\n",
       "      <td>4</td>\n",
       "      <td>CM</td>\n",
       "      <td>2</td>\n",
       "      <td>MIX</td>\n",
       "      <td>0.112360</td>\n",
       "      <td>0.012175</td>\n",
       "      <td>0.010037</td>\n",
       "      <td>0.010037</td>\n",
       "    </tr>\n",
       "    <tr>\n",
       "      <td>16</td>\n",
       "      <td>old</td>\n",
       "      <td>4</td>\n",
       "      <td>CM</td>\n",
       "      <td>3</td>\n",
       "      <td>MIX</td>\n",
       "      <td>0.113636</td>\n",
       "      <td>0.012670</td>\n",
       "      <td>0.010194</td>\n",
       "      <td>0.010194</td>\n",
       "    </tr>\n",
       "    <tr>\n",
       "      <td>17</td>\n",
       "      <td>old</td>\n",
       "      <td>4</td>\n",
       "      <td>CM</td>\n",
       "      <td>4</td>\n",
       "      <td>MIX</td>\n",
       "      <td>0.141176</td>\n",
       "      <td>0.012910</td>\n",
       "      <td>0.016452</td>\n",
       "      <td>0.016452</td>\n",
       "    </tr>\n",
       "    <tr>\n",
       "      <td>18</td>\n",
       "      <td>old</td>\n",
       "      <td>8</td>\n",
       "      <td>AN</td>\n",
       "      <td>1</td>\n",
       "      <td>MIX</td>\n",
       "      <td>0.000000</td>\n",
       "      <td>0.004418</td>\n",
       "      <td>0.000020</td>\n",
       "      <td>0.000020</td>\n",
       "    </tr>\n",
       "    <tr>\n",
       "      <td>19</td>\n",
       "      <td>old</td>\n",
       "      <td>8</td>\n",
       "      <td>AN</td>\n",
       "      <td>2</td>\n",
       "      <td>MIX</td>\n",
       "      <td>0.000000</td>\n",
       "      <td>0.004869</td>\n",
       "      <td>0.000024</td>\n",
       "      <td>0.000024</td>\n",
       "    </tr>\n",
       "    <tr>\n",
       "      <td>20</td>\n",
       "      <td>old</td>\n",
       "      <td>8</td>\n",
       "      <td>AN</td>\n",
       "      <td>3</td>\n",
       "      <td>MIX</td>\n",
       "      <td>0.108696</td>\n",
       "      <td>0.005014</td>\n",
       "      <td>0.010750</td>\n",
       "      <td>0.010750</td>\n",
       "    </tr>\n",
       "    <tr>\n",
       "      <td>21</td>\n",
       "      <td>old</td>\n",
       "      <td>8</td>\n",
       "      <td>AN</td>\n",
       "      <td>4</td>\n",
       "      <td>MIX</td>\n",
       "      <td>0.187500</td>\n",
       "      <td>0.005084</td>\n",
       "      <td>0.033276</td>\n",
       "      <td>0.033276</td>\n",
       "    </tr>\n",
       "    <tr>\n",
       "      <td>22</td>\n",
       "      <td>old</td>\n",
       "      <td>8</td>\n",
       "      <td>AN</td>\n",
       "      <td>5</td>\n",
       "      <td>MIX</td>\n",
       "      <td>0.156863</td>\n",
       "      <td>0.005125</td>\n",
       "      <td>0.023024</td>\n",
       "      <td>0.023024</td>\n",
       "    </tr>\n",
       "    <tr>\n",
       "      <td>23</td>\n",
       "      <td>old</td>\n",
       "      <td>8</td>\n",
       "      <td>AN</td>\n",
       "      <td>6</td>\n",
       "      <td>MIX</td>\n",
       "      <td>0.125000</td>\n",
       "      <td>0.005151</td>\n",
       "      <td>0.014364</td>\n",
       "      <td>0.014364</td>\n",
       "    </tr>\n",
       "    <tr>\n",
       "      <td>24</td>\n",
       "      <td>old</td>\n",
       "      <td>8</td>\n",
       "      <td>AN</td>\n",
       "      <td>7</td>\n",
       "      <td>MIX</td>\n",
       "      <td>0.127660</td>\n",
       "      <td>0.005169</td>\n",
       "      <td>0.015004</td>\n",
       "      <td>0.015004</td>\n",
       "    </tr>\n",
       "    <tr>\n",
       "      <td>25</td>\n",
       "      <td>old</td>\n",
       "      <td>8</td>\n",
       "      <td>AN</td>\n",
       "      <td>8</td>\n",
       "      <td>MIX</td>\n",
       "      <td>0.044444</td>\n",
       "      <td>0.005182</td>\n",
       "      <td>0.001542</td>\n",
       "      <td>0.001542</td>\n",
       "    </tr>\n",
       "    <tr>\n",
       "      <td>26</td>\n",
       "      <td>old</td>\n",
       "      <td>8</td>\n",
       "      <td>CM</td>\n",
       "      <td>1</td>\n",
       "      <td>MIX</td>\n",
       "      <td>0.020000</td>\n",
       "      <td>0.004108</td>\n",
       "      <td>0.000253</td>\n",
       "      <td>0.000253</td>\n",
       "    </tr>\n",
       "    <tr>\n",
       "      <td>27</td>\n",
       "      <td>old</td>\n",
       "      <td>8</td>\n",
       "      <td>CM</td>\n",
       "      <td>2</td>\n",
       "      <td>MIX</td>\n",
       "      <td>0.037037</td>\n",
       "      <td>0.004517</td>\n",
       "      <td>0.001058</td>\n",
       "      <td>0.001058</td>\n",
       "    </tr>\n",
       "    <tr>\n",
       "      <td>28</td>\n",
       "      <td>old</td>\n",
       "      <td>8</td>\n",
       "      <td>CM</td>\n",
       "      <td>3</td>\n",
       "      <td>MIX</td>\n",
       "      <td>0.107143</td>\n",
       "      <td>0.004648</td>\n",
       "      <td>0.010505</td>\n",
       "      <td>0.010505</td>\n",
       "    </tr>\n",
       "    <tr>\n",
       "      <td>29</td>\n",
       "      <td>old</td>\n",
       "      <td>8</td>\n",
       "      <td>CM</td>\n",
       "      <td>4</td>\n",
       "      <td>MIX</td>\n",
       "      <td>0.083333</td>\n",
       "      <td>0.004711</td>\n",
       "      <td>0.006181</td>\n",
       "      <td>0.006181</td>\n",
       "    </tr>\n",
       "    <tr>\n",
       "      <td>30</td>\n",
       "      <td>old</td>\n",
       "      <td>8</td>\n",
       "      <td>CM</td>\n",
       "      <td>5</td>\n",
       "      <td>MIX</td>\n",
       "      <td>0.111111</td>\n",
       "      <td>0.004748</td>\n",
       "      <td>0.011313</td>\n",
       "      <td>0.011313</td>\n",
       "    </tr>\n",
       "    <tr>\n",
       "      <td>31</td>\n",
       "      <td>old</td>\n",
       "      <td>8</td>\n",
       "      <td>CM</td>\n",
       "      <td>6</td>\n",
       "      <td>MIX</td>\n",
       "      <td>0.069767</td>\n",
       "      <td>0.004771</td>\n",
       "      <td>0.004224</td>\n",
       "      <td>0.004224</td>\n",
       "    </tr>\n",
       "    <tr>\n",
       "      <td>32</td>\n",
       "      <td>old</td>\n",
       "      <td>8</td>\n",
       "      <td>CM</td>\n",
       "      <td>7</td>\n",
       "      <td>MIX</td>\n",
       "      <td>0.181818</td>\n",
       "      <td>0.004788</td>\n",
       "      <td>0.031340</td>\n",
       "      <td>0.031340</td>\n",
       "    </tr>\n",
       "    <tr>\n",
       "      <td>33</td>\n",
       "      <td>old</td>\n",
       "      <td>8</td>\n",
       "      <td>CM</td>\n",
       "      <td>8</td>\n",
       "      <td>MIX</td>\n",
       "      <td>0.304348</td>\n",
       "      <td>0.004800</td>\n",
       "      <td>0.089729</td>\n",
       "      <td>0.089729</td>\n",
       "    </tr>\n",
       "  </tbody>\n",
       "</table>\n",
       "</div>"
      ],
      "text/plain": [
       "   Oldnew Setsize Probtype Lag FileCondi     Error pred_error   SSD_err  \\\n",
       "                                              mean                        \n",
       "0     new       2       AN   0       MIX  0.032641   0.941933  0.826812   \n",
       "1     new       2       CM   0       MIX  0.040214   0.645129  0.365922   \n",
       "2     new       4       AN   0       MIX  0.044568   0.980847  0.876618   \n",
       "3     new       4       CM   0       MIX  0.109043   0.851615  0.551414   \n",
       "4     new       8       AN   0       MIX  0.062874   0.993775  0.866577   \n",
       "5     new       8       CM   0       MIX  0.174648   0.947067  0.596631   \n",
       "6     old       2       AN   1       MIX  0.051282   0.029837  0.000460   \n",
       "7     old       2       AN   2       MIX  0.061538   0.035817  0.000662   \n",
       "8     old       2       CM   1       MIX  0.075581   0.026097  0.002449   \n",
       "9     old       2       CM   2       MIX  0.046392   0.031087  0.000234   \n",
       "10    old       4       AN   1       MIX  0.032609   0.011810  0.000433   \n",
       "11    old       4       AN   2       MIX  0.053191   0.013515  0.001574   \n",
       "12    old       4       AN   3       MIX  0.094737   0.014084  0.006505   \n",
       "13    old       4       AN   4       MIX  0.108108   0.014360  0.008789   \n",
       "14    old       4       CM   1       MIX  0.042105   0.010686  0.000987   \n",
       "15    old       4       CM   2       MIX  0.112360   0.012175  0.010037   \n",
       "16    old       4       CM   3       MIX  0.113636   0.012670  0.010194   \n",
       "17    old       4       CM   4       MIX  0.141176   0.012910  0.016452   \n",
       "18    old       8       AN   1       MIX  0.000000   0.004418  0.000020   \n",
       "19    old       8       AN   2       MIX  0.000000   0.004869  0.000024   \n",
       "20    old       8       AN   3       MIX  0.108696   0.005014  0.010750   \n",
       "21    old       8       AN   4       MIX  0.187500   0.005084  0.033276   \n",
       "22    old       8       AN   5       MIX  0.156863   0.005125  0.023024   \n",
       "23    old       8       AN   6       MIX  0.125000   0.005151  0.014364   \n",
       "24    old       8       AN   7       MIX  0.127660   0.005169  0.015004   \n",
       "25    old       8       AN   8       MIX  0.044444   0.005182  0.001542   \n",
       "26    old       8       CM   1       MIX  0.020000   0.004108  0.000253   \n",
       "27    old       8       CM   2       MIX  0.037037   0.004517  0.001058   \n",
       "28    old       8       CM   3       MIX  0.107143   0.004648  0.010505   \n",
       "29    old       8       CM   4       MIX  0.083333   0.004711  0.006181   \n",
       "30    old       8       CM   5       MIX  0.111111   0.004748  0.011313   \n",
       "31    old       8       CM   6       MIX  0.069767   0.004771  0.004224   \n",
       "32    old       8       CM   7       MIX  0.181818   0.004788  0.031340   \n",
       "33    old       8       CM   8       MIX  0.304348   0.004800  0.089729   \n",
       "\n",
       "    wSSD_err  \n",
       "              \n",
       "0   3.307247  \n",
       "1   1.463688  \n",
       "2   3.506472  \n",
       "3   2.205655  \n",
       "4   3.466306  \n",
       "5   2.386523  \n",
       "6   0.000460  \n",
       "7   0.000662  \n",
       "8   0.002449  \n",
       "9   0.000234  \n",
       "10  0.000433  \n",
       "11  0.001574  \n",
       "12  0.006505  \n",
       "13  0.008789  \n",
       "14  0.000987  \n",
       "15  0.010037  \n",
       "16  0.010194  \n",
       "17  0.016452  \n",
       "18  0.000020  \n",
       "19  0.000024  \n",
       "20  0.010750  \n",
       "21  0.033276  \n",
       "22  0.023024  \n",
       "23  0.014364  \n",
       "24  0.015004  \n",
       "25  0.001542  \n",
       "26  0.000253  \n",
       "27  0.001058  \n",
       "28  0.010505  \n",
       "29  0.006181  \n",
       "30  0.011313  \n",
       "31  0.004224  \n",
       "32  0.031340  \n",
       "33  0.089729  "
      ]
     },
     "execution_count": 177,
     "metadata": {},
     "output_type": "execute_result"
    }
   ],
   "source": [
    "df_sub_err"
   ]
  },
  {
   "cell_type": "code",
   "execution_count": 153,
   "metadata": {
    "kernel": "SoS"
   },
   "outputs": [
    {
     "ename": "NameError",
     "evalue": "name 'df_sub_agg' is not defined",
     "output_type": "error",
     "traceback": [
      "\u001b[1;31m---------------------------------------------------------------------------\u001b[0m",
      "\u001b[1;31mNameError\u001b[0m                                 Traceback (most recent call last)",
      "\u001b[1;32m<ipython-input-153-1ad0c70141bb>\u001b[0m in \u001b[0;36m<module>\u001b[1;34m\u001b[0m\n\u001b[1;32m----> 1\u001b[1;33m \u001b[0mdf_sub_agg\u001b[0m\u001b[1;33m.\u001b[0m\u001b[0mround\u001b[0m\u001b[1;33m(\u001b[0m\u001b[1;36m2\u001b[0m\u001b[1;33m)\u001b[0m\u001b[1;33m\u001b[0m\u001b[1;33m\u001b[0m\u001b[0m\n\u001b[0m",
      "\u001b[1;31mNameError\u001b[0m: name 'df_sub_agg' is not defined"
     ]
    }
   ],
   "source": [
    "df_sub_agg.round(2)"
   ]
  },
  {
   "cell_type": "code",
   "execution_count": 154,
   "metadata": {
    "kernel": "SoS",
    "scrolled": false
   },
   "outputs": [
    {
     "ename": "KeyError",
     "evalue": "\"Columns not found: 'Error', 'RT'\"",
     "output_type": "error",
     "traceback": [
      "\u001b[1;31m---------------------------------------------------------------------------\u001b[0m",
      "\u001b[1;31mKeyError\u001b[0m                                  Traceback (most recent call last)",
      "\u001b[1;32m<ipython-input-154-4b8f4a6f9bc9>\u001b[0m in \u001b[0;36m<module>\u001b[1;34m\u001b[0m\n\u001b[1;32m----> 1\u001b[1;33m \u001b[0mdd\u001b[0m\u001b[1;33m=\u001b[0m\u001b[0mdf\u001b[0m\u001b[1;33m.\u001b[0m\u001b[0mgroupby\u001b[0m\u001b[1;33m(\u001b[0m\u001b[1;33m[\u001b[0m\u001b[1;34m\"Oldnew\"\u001b[0m\u001b[1;33m,\u001b[0m\u001b[1;34m\"Probtype\"\u001b[0m\u001b[1;33m,\u001b[0m\u001b[1;34m\"Setsize\"\u001b[0m\u001b[1;33m,\u001b[0m\u001b[1;34m\"Lag\"\u001b[0m\u001b[1;33m]\u001b[0m\u001b[1;33m)\u001b[0m\u001b[1;33m[\u001b[0m\u001b[1;33m[\u001b[0m\u001b[1;34m\"RT\"\u001b[0m\u001b[1;33m,\u001b[0m\u001b[1;34m\"Error\"\u001b[0m\u001b[1;33m]\u001b[0m\u001b[1;33m]\u001b[0m\u001b[1;33m.\u001b[0m\u001b[0magg\u001b[0m\u001b[1;33m(\u001b[0m\u001b[1;33m[\u001b[0m\u001b[1;34m\"mean\"\u001b[0m\u001b[1;33m]\u001b[0m\u001b[1;33m)\u001b[0m\u001b[1;33m\u001b[0m\u001b[1;33m\u001b[0m\u001b[0m\n\u001b[0m\u001b[0;32m      2\u001b[0m \u001b[0mdd\u001b[0m\u001b[1;33m[\u001b[0m\u001b[1;34m\"new\"\u001b[0m\u001b[1;33m]\u001b[0m \u001b[1;33m=\u001b[0m \u001b[0mdd\u001b[0m\u001b[1;33m[\u001b[0m\u001b[1;34m\"RT\"\u001b[0m\u001b[1;33m]\u001b[0m\u001b[1;33m-\u001b[0m\u001b[0mdd\u001b[0m\u001b[1;33m[\u001b[0m\u001b[1;34m\"Error\"\u001b[0m\u001b[1;33m]\u001b[0m\u001b[1;33m\u001b[0m\u001b[1;33m\u001b[0m\u001b[0m\n\u001b[0;32m      3\u001b[0m \u001b[0mdd\u001b[0m\u001b[1;33m\u001b[0m\u001b[1;33m\u001b[0m\u001b[0m\n\u001b[0;32m      4\u001b[0m \u001b[1;31m# print(dd)\u001b[0m\u001b[1;33m\u001b[0m\u001b[1;33m\u001b[0m\u001b[1;33m\u001b[0m\u001b[0m\n\u001b[0;32m      5\u001b[0m \u001b[1;31m# print(dd.get_group('Oldnew'))\u001b[0m\u001b[1;33m\u001b[0m\u001b[1;33m\u001b[0m\u001b[1;33m\u001b[0m\u001b[0m\n",
      "\u001b[1;32m~\\Anaconda3\\lib\\site-packages\\pandas\\core\\base.py\u001b[0m in \u001b[0;36m__getitem__\u001b[1;34m(self, key)\u001b[0m\n\u001b[0;32m    255\u001b[0m                 \u001b[0mbad_keys\u001b[0m \u001b[1;33m=\u001b[0m \u001b[0mlist\u001b[0m\u001b[1;33m(\u001b[0m\u001b[0mset\u001b[0m\u001b[1;33m(\u001b[0m\u001b[0mkey\u001b[0m\u001b[1;33m)\u001b[0m\u001b[1;33m.\u001b[0m\u001b[0mdifference\u001b[0m\u001b[1;33m(\u001b[0m\u001b[0mself\u001b[0m\u001b[1;33m.\u001b[0m\u001b[0mobj\u001b[0m\u001b[1;33m.\u001b[0m\u001b[0mcolumns\u001b[0m\u001b[1;33m)\u001b[0m\u001b[1;33m)\u001b[0m\u001b[1;33m\u001b[0m\u001b[1;33m\u001b[0m\u001b[0m\n\u001b[0;32m    256\u001b[0m                 raise KeyError(\n\u001b[1;32m--> 257\u001b[1;33m                     \u001b[1;34m\"Columns not found: {missing}\"\u001b[0m\u001b[1;33m.\u001b[0m\u001b[0mformat\u001b[0m\u001b[1;33m(\u001b[0m\u001b[0mmissing\u001b[0m\u001b[1;33m=\u001b[0m\u001b[0mstr\u001b[0m\u001b[1;33m(\u001b[0m\u001b[0mbad_keys\u001b[0m\u001b[1;33m)\u001b[0m\u001b[1;33m[\u001b[0m\u001b[1;36m1\u001b[0m\u001b[1;33m:\u001b[0m\u001b[1;33m-\u001b[0m\u001b[1;36m1\u001b[0m\u001b[1;33m]\u001b[0m\u001b[1;33m)\u001b[0m\u001b[1;33m\u001b[0m\u001b[1;33m\u001b[0m\u001b[0m\n\u001b[0m\u001b[0;32m    258\u001b[0m                 )\n\u001b[0;32m    259\u001b[0m             \u001b[1;32mreturn\u001b[0m \u001b[0mself\u001b[0m\u001b[1;33m.\u001b[0m\u001b[0m_gotitem\u001b[0m\u001b[1;33m(\u001b[0m\u001b[0mlist\u001b[0m\u001b[1;33m(\u001b[0m\u001b[0mkey\u001b[0m\u001b[1;33m)\u001b[0m\u001b[1;33m,\u001b[0m \u001b[0mndim\u001b[0m\u001b[1;33m=\u001b[0m\u001b[1;36m2\u001b[0m\u001b[1;33m)\u001b[0m\u001b[1;33m\u001b[0m\u001b[1;33m\u001b[0m\u001b[0m\n",
      "\u001b[1;31mKeyError\u001b[0m: \"Columns not found: 'Error', 'RT'\""
     ]
    }
   ],
   "source": [
    "dd=df.groupby([\"Oldnew\",\"Probtype\",\"Setsize\",\"Lag\"])[[\"RT\",\"Error\"]].agg([\"mean\"])\n",
    "dd[\"new\"] = dd[\"RT\"]-dd[\"Error\"] \n",
    "dd\n",
    "# print(dd)\n",
    "# print(dd.get_group('Oldnew'))"
   ]
  },
  {
   "cell_type": "code",
   "execution_count": 155,
   "metadata": {
    "kernel": "SoS"
   },
   "outputs": [
    {
     "name": "stdout",
     "output_type": "stream",
     "text": [
      "a 1\n",
      "1\n"
     ]
    }
   ],
   "source": [
    "from enum import Enum\n",
    "class variables(Enum):\n",
    "    a = 2\n",
    "dict = {}\n",
    "dict['a'] = 1\n",
    "a = 2\n",
    "def setval(dict):\n",
    "\n",
    "    for key, value in dict.items():\n",
    "\n",
    "        print(key, value)\n",
    "        global variables\n",
    "        tdict = {}\n",
    "        names = [var.name for var in variables]\n",
    "        for var in variables:\n",
    "\n",
    "            if var.name == key:\n",
    "                continue\n",
    "            tdict[var.name] = var.value\n",
    "        tdict[key] = value\n",
    "        variables = Enum('variables', tdict)\n",
    "\n",
    "setval(dict)\n",
    "print(variables.a.value)"
   ]
  },
  {
   "cell_type": "markdown",
   "metadata": {
    "kernel": "SoS"
   },
   "source": [
    "# Parameter search"
   ]
  },
  {
   "cell_type": "code",
   "execution_count": 554,
   "metadata": {
    "kernel": "SoS",
    "scrolled": true
   },
   "outputs": [
    {
     "ename": "ValueError",
     "evalue": "not enough values to unpack (expected 24, got 23)",
     "output_type": "error",
     "traceback": [
      "\u001b[1;31m---------------------------------------------------------------------------\u001b[0m",
      "\u001b[1;31mValueError\u001b[0m                                Traceback (most recent call last)",
      "\u001b[1;32m<ipython-input-554-5df35a93635f>\u001b[0m in \u001b[0;36m<module>\u001b[1;34m\u001b[0m\n\u001b[0;32m     65\u001b[0m \u001b[0minitial_guess\u001b[0m \u001b[1;33m=\u001b[0m \u001b[1;33m[\u001b[0m\u001b[0mi\u001b[0m \u001b[1;32mfor\u001b[0m \u001b[0mi\u001b[0m \u001b[1;32min\u001b[0m \u001b[0mparam_dic\u001b[0m\u001b[1;33m.\u001b[0m\u001b[0mvalues\u001b[0m\u001b[1;33m(\u001b[0m\u001b[1;33m)\u001b[0m\u001b[1;33m]\u001b[0m\u001b[1;33m\u001b[0m\u001b[1;33m\u001b[0m\u001b[0m\n\u001b[0;32m     66\u001b[0m \u001b[0mtime1\u001b[0m\u001b[1;33m=\u001b[0m \u001b[0mtime\u001b[0m\u001b[1;33m.\u001b[0m\u001b[0mtime\u001b[0m\u001b[1;33m(\u001b[0m\u001b[1;33m)\u001b[0m\u001b[1;33m\u001b[0m\u001b[1;33m\u001b[0m\u001b[0m\n\u001b[1;32m---> 67\u001b[1;33m \u001b[0mresult\u001b[0m \u001b[1;33m=\u001b[0m \u001b[0moptimize\u001b[0m\u001b[1;33m.\u001b[0m\u001b[0mminimize\u001b[0m\u001b[1;33m(\u001b[0m\u001b[0moptim_wsse\u001b[0m\u001b[1;33m,\u001b[0m \u001b[0minitial_guess\u001b[0m\u001b[1;33m,\u001b[0m \u001b[0mbounds\u001b[0m\u001b[1;33m=\u001b[0m\u001b[0mbdd\u001b[0m\u001b[1;33m,\u001b[0m\u001b[0moptions\u001b[0m\u001b[1;33m=\u001b[0m\u001b[1;33m{\u001b[0m\u001b[1;34m\"maxiter\"\u001b[0m \u001b[1;33m:\u001b[0m \u001b[1;36m5\u001b[0m\u001b[1;33m}\u001b[0m\u001b[1;33m)\u001b[0m\u001b[1;33m\u001b[0m\u001b[1;33m\u001b[0m\u001b[0m\n\u001b[0m\u001b[0;32m     68\u001b[0m \u001b[1;32mif\u001b[0m \u001b[0mresult\u001b[0m\u001b[1;33m.\u001b[0m\u001b[0msuccess\u001b[0m\u001b[1;33m:\u001b[0m\u001b[1;33m\u001b[0m\u001b[1;33m\u001b[0m\u001b[0m\n\u001b[0;32m     69\u001b[0m     \u001b[0mfitted_params\u001b[0m \u001b[1;33m=\u001b[0m \u001b[0mresult\u001b[0m\u001b[1;33m.\u001b[0m\u001b[0mx\u001b[0m\u001b[1;33m\u001b[0m\u001b[1;33m\u001b[0m\u001b[0m\n",
      "\u001b[1;32m~\\Anaconda3\\lib\\site-packages\\scipy\\optimize\\_minimize.py\u001b[0m in \u001b[0;36mminimize\u001b[1;34m(fun, x0, args, method, jac, hess, hessp, bounds, constraints, tol, callback, options)\u001b[0m\n\u001b[0;32m    598\u001b[0m     \u001b[1;32melif\u001b[0m \u001b[0mmeth\u001b[0m \u001b[1;33m==\u001b[0m \u001b[1;34m'l-bfgs-b'\u001b[0m\u001b[1;33m:\u001b[0m\u001b[1;33m\u001b[0m\u001b[1;33m\u001b[0m\u001b[0m\n\u001b[0;32m    599\u001b[0m         return _minimize_lbfgsb(fun, x0, args, jac, bounds,\n\u001b[1;32m--> 600\u001b[1;33m                                 callback=callback, **options)\n\u001b[0m\u001b[0;32m    601\u001b[0m     \u001b[1;32melif\u001b[0m \u001b[0mmeth\u001b[0m \u001b[1;33m==\u001b[0m \u001b[1;34m'tnc'\u001b[0m\u001b[1;33m:\u001b[0m\u001b[1;33m\u001b[0m\u001b[1;33m\u001b[0m\u001b[0m\n\u001b[0;32m    602\u001b[0m         return _minimize_tnc(fun, x0, args, jac, bounds, callback=callback,\n",
      "\u001b[1;32m~\\Anaconda3\\lib\\site-packages\\scipy\\optimize\\lbfgsb.py\u001b[0m in \u001b[0;36m_minimize_lbfgsb\u001b[1;34m(fun, x0, args, jac, bounds, disp, maxcor, ftol, gtol, eps, maxfun, maxiter, iprint, callback, maxls, **unknown_options)\u001b[0m\n\u001b[0;32m    333\u001b[0m             \u001b[1;31m# until the completion of the current minimization iteration.\u001b[0m\u001b[1;33m\u001b[0m\u001b[1;33m\u001b[0m\u001b[1;33m\u001b[0m\u001b[0m\n\u001b[0;32m    334\u001b[0m             \u001b[1;31m# Overwrite f and g:\u001b[0m\u001b[1;33m\u001b[0m\u001b[1;33m\u001b[0m\u001b[1;33m\u001b[0m\u001b[0m\n\u001b[1;32m--> 335\u001b[1;33m             \u001b[0mf\u001b[0m\u001b[1;33m,\u001b[0m \u001b[0mg\u001b[0m \u001b[1;33m=\u001b[0m \u001b[0mfunc_and_grad\u001b[0m\u001b[1;33m(\u001b[0m\u001b[0mx\u001b[0m\u001b[1;33m)\u001b[0m\u001b[1;33m\u001b[0m\u001b[1;33m\u001b[0m\u001b[0m\n\u001b[0m\u001b[0;32m    336\u001b[0m         \u001b[1;32melif\u001b[0m \u001b[0mtask_str\u001b[0m\u001b[1;33m.\u001b[0m\u001b[0mstartswith\u001b[0m\u001b[1;33m(\u001b[0m\u001b[1;34mb'NEW_X'\u001b[0m\u001b[1;33m)\u001b[0m\u001b[1;33m:\u001b[0m\u001b[1;33m\u001b[0m\u001b[1;33m\u001b[0m\u001b[0m\n\u001b[0;32m    337\u001b[0m             \u001b[1;31m# new iteration\u001b[0m\u001b[1;33m\u001b[0m\u001b[1;33m\u001b[0m\u001b[1;33m\u001b[0m\u001b[0m\n",
      "\u001b[1;32m~\\Anaconda3\\lib\\site-packages\\scipy\\optimize\\lbfgsb.py\u001b[0m in \u001b[0;36mfunc_and_grad\u001b[1;34m(x)\u001b[0m\n\u001b[0;32m    278\u001b[0m     \u001b[1;32mif\u001b[0m \u001b[0mjac\u001b[0m \u001b[1;32mis\u001b[0m \u001b[1;32mNone\u001b[0m\u001b[1;33m:\u001b[0m\u001b[1;33m\u001b[0m\u001b[1;33m\u001b[0m\u001b[0m\n\u001b[0;32m    279\u001b[0m         \u001b[1;32mdef\u001b[0m \u001b[0mfunc_and_grad\u001b[0m\u001b[1;33m(\u001b[0m\u001b[0mx\u001b[0m\u001b[1;33m)\u001b[0m\u001b[1;33m:\u001b[0m\u001b[1;33m\u001b[0m\u001b[1;33m\u001b[0m\u001b[0m\n\u001b[1;32m--> 280\u001b[1;33m             \u001b[0mf\u001b[0m \u001b[1;33m=\u001b[0m \u001b[0mfun\u001b[0m\u001b[1;33m(\u001b[0m\u001b[0mx\u001b[0m\u001b[1;33m,\u001b[0m \u001b[1;33m*\u001b[0m\u001b[0margs\u001b[0m\u001b[1;33m)\u001b[0m\u001b[1;33m\u001b[0m\u001b[1;33m\u001b[0m\u001b[0m\n\u001b[0m\u001b[0;32m    281\u001b[0m             \u001b[0mg\u001b[0m \u001b[1;33m=\u001b[0m \u001b[0m_approx_fprime_helper\u001b[0m\u001b[1;33m(\u001b[0m\u001b[0mx\u001b[0m\u001b[1;33m,\u001b[0m \u001b[0mfun\u001b[0m\u001b[1;33m,\u001b[0m \u001b[0mepsilon\u001b[0m\u001b[1;33m,\u001b[0m \u001b[0margs\u001b[0m\u001b[1;33m=\u001b[0m\u001b[0margs\u001b[0m\u001b[1;33m,\u001b[0m \u001b[0mf0\u001b[0m\u001b[1;33m=\u001b[0m\u001b[0mf\u001b[0m\u001b[1;33m)\u001b[0m\u001b[1;33m\u001b[0m\u001b[1;33m\u001b[0m\u001b[0m\n\u001b[0;32m    282\u001b[0m             \u001b[1;32mreturn\u001b[0m \u001b[0mf\u001b[0m\u001b[1;33m,\u001b[0m \u001b[0mg\u001b[0m\u001b[1;33m\u001b[0m\u001b[1;33m\u001b[0m\u001b[0m\n",
      "\u001b[1;32m~\\Anaconda3\\lib\\site-packages\\scipy\\optimize\\optimize.py\u001b[0m in \u001b[0;36mfunction_wrapper\u001b[1;34m(*wrapper_args)\u001b[0m\n\u001b[0;32m    324\u001b[0m     \u001b[1;32mdef\u001b[0m \u001b[0mfunction_wrapper\u001b[0m\u001b[1;33m(\u001b[0m\u001b[1;33m*\u001b[0m\u001b[0mwrapper_args\u001b[0m\u001b[1;33m)\u001b[0m\u001b[1;33m:\u001b[0m\u001b[1;33m\u001b[0m\u001b[1;33m\u001b[0m\u001b[0m\n\u001b[0;32m    325\u001b[0m         \u001b[0mncalls\u001b[0m\u001b[1;33m[\u001b[0m\u001b[1;36m0\u001b[0m\u001b[1;33m]\u001b[0m \u001b[1;33m+=\u001b[0m \u001b[1;36m1\u001b[0m\u001b[1;33m\u001b[0m\u001b[1;33m\u001b[0m\u001b[0m\n\u001b[1;32m--> 326\u001b[1;33m         \u001b[1;32mreturn\u001b[0m \u001b[0mfunction\u001b[0m\u001b[1;33m(\u001b[0m\u001b[1;33m*\u001b[0m\u001b[1;33m(\u001b[0m\u001b[0mwrapper_args\u001b[0m \u001b[1;33m+\u001b[0m \u001b[0margs\u001b[0m\u001b[1;33m)\u001b[0m\u001b[1;33m)\u001b[0m\u001b[1;33m\u001b[0m\u001b[1;33m\u001b[0m\u001b[0m\n\u001b[0m\u001b[0;32m    327\u001b[0m \u001b[1;33m\u001b[0m\u001b[0m\n\u001b[0;32m    328\u001b[0m     \u001b[1;32mreturn\u001b[0m \u001b[0mncalls\u001b[0m\u001b[1;33m,\u001b[0m \u001b[0mfunction_wrapper\u001b[0m\u001b[1;33m\u001b[0m\u001b[1;33m\u001b[0m\u001b[0m\n",
      "\u001b[1;32m<ipython-input-554-5df35a93635f>\u001b[0m in \u001b[0;36moptim_wsse\u001b[1;34m(params_dic)\u001b[0m\n\u001b[0;32m     55\u001b[0m     \u001b[0mIR_new_CM_old\u001b[0m \u001b[1;33m,\u001b[0m\u001b[1;33m\u001b[0m\u001b[1;33m\u001b[0m\u001b[0m\n\u001b[0;32m     56\u001b[0m     \u001b[0mIR_new_AN_old\u001b[0m \u001b[1;33m,\u001b[0m\u001b[1;33m\u001b[0m\u001b[1;33m\u001b[0m\u001b[0m\n\u001b[1;32m---> 57\u001b[1;33m     IR_new_VM_old ] = params_dic\n\u001b[0m\u001b[0;32m     58\u001b[0m \u001b[1;31m#     IR_new_CM_new = 100\u001b[0m\u001b[1;33m\u001b[0m\u001b[1;33m\u001b[0m\u001b[1;33m\u001b[0m\u001b[0m\n\u001b[0;32m     59\u001b[0m \u001b[1;31m#     print(alpha)\u001b[0m\u001b[1;33m\u001b[0m\u001b[1;33m\u001b[0m\u001b[1;33m\u001b[0m\u001b[0m\n",
      "\u001b[1;31mValueError\u001b[0m: not enough values to unpack (expected 24, got 23)"
     ]
    }
   ],
   "source": [
    "bdd = ((0.00001, 2.0), #boost\n",
    "       (0.00001, 2.0), #alpha\n",
    "       (0.00001, 2.0), #alpha _an\n",
    "       (0.00001, 3.0), #beta\n",
    "       #(0.00001, 3.0), #beta_an\n",
    "       (0.0001, 1.0), #s an\n",
    "       (0.0001, 0.99), #s others\n",
    "       (0.00001, 5.0), #c\n",
    "       (0.00001, 5.0), #old_cr\n",
    "       (-5.0, -0.00001), #new_cr\n",
    "       (200, 1500), #t0\n",
    "       (0.00001, 100), #kao\n",
    "       (0.00001, 1.0), #IR_old_CM_old\n",
    "       (0, 0), #old_AN_old\n",
    "       (0, 1.0), #old_vm_old\n",
    "       (0, 1.0), #new_cm_new\n",
    "       (0, 0), #new_an_new\n",
    "       (0, 0.5), #new_vm_new\n",
    "       (0,0), #old_cm_new\n",
    "       (0,0), #old_an_new\n",
    "       (0,0), #old_vm_new\n",
    "       (0,0), #new_cm_old\n",
    "       (0,0), #new_an_old\n",
    "       (0,0) #new_vm_old\n",
    "      )\n",
    "\n",
    "def optim_wsse(params_dic):\n",
    "    # print(params)  # <-- you'll see that params is a NumPy array\n",
    "    global boost, alpha, alpha_AN,beta,beta_AN,s,c ,Old_crit ,New_crit ,\\\n",
    "    t0 ,kao ,IR_old_CM_old ,IR_old_AN_old ,IR_old_VM_old ,IR_new_CM_new ,\\\n",
    "    IR_new_AN_new ,IR_new_VM_new ,IR_old_CM_new ,IR_old_AN_new ,IR_old_VM_new ,\\\n",
    "    IR_new_CM_old ,IR_new_AN_old ,IR_new_VM_old \n",
    "    \n",
    "    [boost,\n",
    "    alpha,\n",
    "    alpha_AN,\n",
    "    beta,\n",
    "    beta_AN,\n",
    "    s_AN,\n",
    "    #s_others,\n",
    "    c ,\n",
    "    Old_crit ,\n",
    "    New_crit ,\n",
    "    t0 ,\n",
    "    kao ,\n",
    "    IR_old_CM_old ,\n",
    "    IR_old_AN_old ,\n",
    "    IR_old_VM_old ,\n",
    "    IR_new_CM_new ,\n",
    "    IR_new_AN_new ,\n",
    "    IR_new_VM_new ,\n",
    "    IR_old_CM_new ,\n",
    "    IR_old_AN_new ,\n",
    "    IR_old_VM_new ,\n",
    "    IR_new_CM_old ,\n",
    "    IR_new_AN_old ,\n",
    "    IR_new_VM_old ] = params_dic\n",
    "#     IR_new_CM_new = 100\n",
    "#     print(alpha)\n",
    "\n",
    "    return calc_wssd(df_org, \"MIX\")\n",
    "\n",
    "\n",
    "\n",
    "initial_guess = [i for i in param_dic.values()]\n",
    "time1= time.time()\n",
    "result = optimize.minimize(optim_wsse, initial_guess, bounds=bdd,options={\"maxiter\" : 5})\n",
    "if result.success:\n",
    "    fitted_params = result.x\n",
    "    print(fitted_params)\n",
    "else:\n",
    "    raise ValueError(result.message)\n",
    "time.time()-time1\n",
    "# params_dic\n",
    "# alpha_AN"
   ]
  },
  {
   "cell_type": "code",
   "execution_count": 564,
   "metadata": {
    "kernel": "SoS"
   },
   "outputs": [
    {
     "ename": "TypeError",
     "evalue": "attribute 'objective' must be a scalar affine or convex PWL function",
     "output_type": "error",
     "traceback": [
      "\u001b[1;31m---------------------------------------------------------------------------\u001b[0m",
      "\u001b[1;31mTypeError\u001b[0m                                 Traceback (most recent call last)",
      "\u001b[1;32m<ipython-input-564-39a2d225cc1b>\u001b[0m in \u001b[0;36m<module>\u001b[1;34m\u001b[0m\n\u001b[0;32m     34\u001b[0m \u001b[0mc1\u001b[0m\u001b[1;33m=\u001b[0m \u001b[1;33m(\u001b[0m\u001b[0malpha\u001b[0m \u001b[1;33m<\u001b[0m \u001b[1;36m2\u001b[0m\u001b[1;33m)\u001b[0m\u001b[1;33m\u001b[0m\u001b[1;33m\u001b[0m\u001b[0m\n\u001b[0;32m     35\u001b[0m \u001b[0mc2\u001b[0m \u001b[1;33m=\u001b[0m \u001b[1;33m(\u001b[0m\u001b[0mbeta\u001b[0m \u001b[1;33m<\u001b[0m \u001b[1;36m2\u001b[0m\u001b[1;33m)\u001b[0m\u001b[1;33m\u001b[0m\u001b[1;33m\u001b[0m\u001b[0m\n\u001b[1;32m---> 36\u001b[1;33m \u001b[0mmodeling\u001b[0m\u001b[1;33m.\u001b[0m\u001b[0mop\u001b[0m\u001b[1;33m(\u001b[0m\u001b[0moptim_wsse\u001b[0m\u001b[1;33m,\u001b[0m\u001b[1;33m[\u001b[0m\u001b[0mc1\u001b[0m\u001b[1;33m,\u001b[0m\u001b[0mc2\u001b[0m\u001b[1;33m]\u001b[0m\u001b[1;33m)\u001b[0m\u001b[1;33m\u001b[0m\u001b[1;33m\u001b[0m\u001b[0m\n\u001b[0m",
      "\u001b[1;32m~\\Anaconda3\\lib\\site-packages\\cvxopt\\modeling.py\u001b[0m in \u001b[0;36m__init__\u001b[1;34m(self, objective, constraints, name)\u001b[0m\n\u001b[0;32m   2150\u001b[0m         \u001b[0mself\u001b[0m\u001b[1;33m.\u001b[0m\u001b[0m_variables\u001b[0m \u001b[1;33m=\u001b[0m \u001b[0mdict\u001b[0m\u001b[1;33m(\u001b[0m\u001b[1;33m)\u001b[0m\u001b[1;33m\u001b[0m\u001b[1;33m\u001b[0m\u001b[0m\n\u001b[0;32m   2151\u001b[0m \u001b[1;33m\u001b[0m\u001b[0m\n\u001b[1;32m-> 2152\u001b[1;33m         \u001b[0mself\u001b[0m\u001b[1;33m.\u001b[0m\u001b[0mobjective\u001b[0m \u001b[1;33m=\u001b[0m \u001b[0mobjective\u001b[0m\u001b[1;33m\u001b[0m\u001b[1;33m\u001b[0m\u001b[0m\n\u001b[0m\u001b[0;32m   2153\u001b[0m         \u001b[1;32mfor\u001b[0m \u001b[0mv\u001b[0m \u001b[1;32min\u001b[0m \u001b[0mself\u001b[0m\u001b[1;33m.\u001b[0m\u001b[0mobjective\u001b[0m\u001b[1;33m.\u001b[0m\u001b[0mvariables\u001b[0m\u001b[1;33m(\u001b[0m\u001b[1;33m)\u001b[0m\u001b[1;33m:\u001b[0m\u001b[1;33m\u001b[0m\u001b[1;33m\u001b[0m\u001b[0m\n\u001b[0;32m   2154\u001b[0m             \u001b[0mself\u001b[0m\u001b[1;33m.\u001b[0m\u001b[0m_variables\u001b[0m\u001b[1;33m[\u001b[0m\u001b[0mv\u001b[0m\u001b[1;33m]\u001b[0m \u001b[1;33m=\u001b[0m \u001b[1;33m{\u001b[0m\u001b[1;34m'o'\u001b[0m\u001b[1;33m:\u001b[0m \u001b[1;32mTrue\u001b[0m\u001b[1;33m,\u001b[0m \u001b[1;34m'i'\u001b[0m\u001b[1;33m:\u001b[0m \u001b[1;33m[\u001b[0m\u001b[1;33m]\u001b[0m\u001b[1;33m,\u001b[0m \u001b[1;34m'e'\u001b[0m\u001b[1;33m:\u001b[0m \u001b[1;33m[\u001b[0m\u001b[1;33m]\u001b[0m\u001b[1;33m}\u001b[0m\u001b[1;33m\u001b[0m\u001b[1;33m\u001b[0m\u001b[0m\n",
      "\u001b[1;32m~\\Anaconda3\\lib\\site-packages\\cvxopt\\modeling.py\u001b[0m in \u001b[0;36m__setattr__\u001b[1;34m(self, name, value)\u001b[0m\n\u001b[0;32m   2211\u001b[0m                 \u001b[1;32mpass\u001b[0m\u001b[1;33m\u001b[0m\u001b[1;33m\u001b[0m\u001b[0m\n\u001b[0;32m   2212\u001b[0m             \u001b[1;32melse\u001b[0m\u001b[1;33m:\u001b[0m\u001b[1;33m\u001b[0m\u001b[1;33m\u001b[0m\u001b[0m\n\u001b[1;32m-> 2213\u001b[1;33m                 raise TypeError(\"attribute 'objective' must be a \"\\\n\u001b[0m\u001b[0;32m   2214\u001b[0m                     \"scalar affine or convex PWL function\")\n\u001b[0;32m   2215\u001b[0m \u001b[1;33m\u001b[0m\u001b[0m\n",
      "\u001b[1;31mTypeError\u001b[0m: attribute 'objective' must be a scalar affine or convex PWL function"
     ]
    }
   ],
   "source": [
    "# >>> x = variable()\n",
    "# >>> y = variable()\n",
    "# >>> c1 = ( 2*x+y <= 3 )\n",
    "# >>> c2 = ( x+2*y <= 3 )\n",
    "# >>> c3 = ( x >= 0 )\n",
    "# >>> c4 = ( y >= 0 )\n",
    "# >>> lp1 = op(-4*x-5*y, [c1,c2,c3,c4])\n",
    "# bdd = ((0.00001, 2.0), #boost\n",
    "#        (0.00001, 2.0), #alpha\n",
    "#        (0.00001, 2.0), #alpha _an\n",
    "#        (0.00001, 3.0), #beta\n",
    "#        #(0.00001, 3.0), #beta_an\n",
    "#        (0.0001, 1.0), #s an\n",
    "#        (0.0001, 0.99), #s others\n",
    "#        (0.00001, 5.0), #c\n",
    "#        (0.00001, 5.0), #old_cr\n",
    "#        (-5.0, -0.00001), #new_cr\n",
    "#        (200, 1500), #t0\n",
    "#        (0.00001, 100), #kao\n",
    "#        (0.00001, 1.0), #IR_old_CM_old\n",
    "#        (0, 0), #old_AN_old\n",
    "#        (0, 1.0), #old_vm_old\n",
    "#        (0, 1.0), #new_cm_new\n",
    "#        (0, 0), #new_an_new\n",
    "#        (0, 0.5), #new_vm_new\n",
    "#        (0,0), #old_cm_new\n",
    "#        (0,0), #old_an_new\n",
    "#        (0,0), #old_vm_new\n",
    "#        (0,0), #new_cm_old\n",
    "#        (0,0), #new_an_old\n",
    "#        (0,0) #new_vm_old\n",
    "#       )\n",
    "# from cvxopt import modeling\n",
    "c1= (alpha < 2)\n",
    "c2 = (beta < 2)\n",
    "modeling.op(optim_wsse,[c1,c2])"
   ]
  },
  {
   "cell_type": "code",
   "execution_count": 503,
   "metadata": {
    "kernel": "SoS"
   },
   "outputs": [
    {
     "data": {
      "text/plain": [
       "0.21255104266314992"
      ]
     },
     "execution_count": 503,
     "metadata": {},
     "output_type": "execute_result"
    }
   ],
   "source": [
    "result.x\n",
    "boost\n",
    "alpha"
   ]
  },
  {
   "cell_type": "code",
   "execution_count": 499,
   "metadata": {
    "kernel": "SoS"
   },
   "outputs": [
    {
     "data": {
      "text/plain": [
       "100"
      ]
     },
     "execution_count": 499,
     "metadata": {},
     "output_type": "execute_result"
    }
   ],
   "source": [
    "\n",
    "def optim_wsse(params_dic):\n",
    "    # print(params)  # <-- you'll see that params is a NumPy array\n",
    "    global boost, alpha, alpha_AN,beta,beta_AN,s,c ,Old_crit ,New_crit ,\\\n",
    "    t0 ,kao ,IR_old_CM_old ,IR_old_AN_old ,IR_old_VM_old ,IR_new_CM_new ,\\\n",
    "    IR_new_AN_new ,IR_new_VM_new ,IR_old_CM_new ,IR_old_AN_new ,IR_old_VM_new ,\\\n",
    "    IR_new_CM_old ,IR_new_AN_old ,IR_new_VM_old \n",
    "    \n",
    "    [boost,\n",
    "    alpha,\n",
    "    alpha_AN,\n",
    "    beta,\n",
    "    beta_AN,\n",
    "    s,\n",
    "    c ,\n",
    "    Old_crit ,\n",
    "    New_crit ,\n",
    "    t0 ,\n",
    "    kao ,\n",
    "    IR_old_CM_old ,\n",
    "    IR_old_AN_old ,\n",
    "    IR_old_VM_old ,\n",
    "    IR_new_CM_new ,\n",
    "    IR_new_AN_new ,\n",
    "    IR_new_VM_new ,\n",
    "    IR_old_CM_new ,\n",
    "    IR_old_AN_new ,\n",
    "    IR_old_VM_new ,\n",
    "    IR_new_CM_old ,\n",
    "    IR_new_AN_old ,\n",
    "    IR_new_VM_old ] = params_dic\n",
    "#     IR_new_CM_new = 100\n",
    "#     print(alpha)\n",
    "\n",
    "    return calc_wssd(df_org, \"MIX\")\n",
    "optim_wsse(initial_guess)\n",
    "IR_new_CM_new"
   ]
  },
  {
   "cell_type": "code",
   "execution_count": 201,
   "metadata": {
    "kernel": "SoS"
   },
   "outputs": [],
   "source": [
    "[alpha,\n",
    "beta,\n",
    "s,\n",
    "c ,\n",
    "Old_crit ,\n",
    "New_crit ,\n",
    "t0 ,\n",
    "kao ,\n",
    "IR_old_CM_old ,\n",
    "IR_old_AN_old ,\n",
    "IR_old_VM_old ,\n",
    "IR_new_CM_new ,\n",
    "IR_new_AN_new ,\n",
    "IR_new_VM_new ,\n",
    "IR_old_CM_new ,\n",
    "IR_old_AN_new ,\n",
    "IR_old_VM_new ,\n",
    "IR_new_CM_old ,\n",
    "IR_new_AN_old ,\n",
    "IR_new_VM_old ] = fitted_params"
   ]
  },
  {
   "cell_type": "code",
   "execution_count": 191,
   "metadata": {
    "kernel": "SoS"
   },
   "outputs": [
    {
     "data": {
      "text/plain": [
       "['alpha',\n",
       " 'beta',\n",
       " 's',\n",
       " 'c',\n",
       " 'Old_crit',\n",
       " 'New_crit',\n",
       " 't0',\n",
       " 'kao',\n",
       " 'IR_old_CM_old',\n",
       " 'IR_old_AN_old',\n",
       " 'IR_old_VM_old',\n",
       " 'IR_new_CM_new',\n",
       " 'IR_new_AN_new',\n",
       " 'IR_new_VM_new',\n",
       " 'IR_old_CM_new',\n",
       " 'IR_old_AN_new',\n",
       " 'IR_old_VM_new',\n",
       " 'IR_new_CM_old',\n",
       " 'IR_new_AN_old',\n",
       " 'IR_new_VM_old']"
      ]
     },
     "execution_count": 191,
     "metadata": {},
     "output_type": "execute_result"
    }
   ],
   "source": [
    "[alpha,\n",
    "beta,\n",
    "s,\n",
    "c ,\n",
    "Old_crit ,\n",
    "New_crit ,\n",
    "t0 ,\n",
    "kao ,\n",
    "IR_old_CM_old ,\n",
    "IR_old_AN_old ,\n",
    "IR_old_VM_old ,\n",
    "IR_new_CM_new ,\n",
    "IR_new_AN_new ,\n",
    "IR_new_VM_new ,\n",
    "IR_old_CM_new ,\n",
    "IR_old_AN_new ,\n",
    "IR_old_VM_new ,\n",
    "IR_new_CM_old ,\n",
    "IR_new_AN_old ,\n",
    "IR_new_VM_old ]"
   ]
  },
  {
   "cell_type": "markdown",
   "metadata": {
    "kernel": "SoS"
   },
   "source": [
    "# Final Random Walk"
   ]
  },
  {
   "cell_type": "code",
   "execution_count": 512,
   "metadata": {
    "kernel": "SoS"
   },
   "outputs": [],
   "source": [
    "def finalRW(df_org):\n",
    "    names = df_org[\"FileCondi\"].astype(\"category\").cat.categories.to_numpy() #get categories name\n",
    "    df_all_crt= pd.DataFrame()\n",
    "    df_all_err= pd.DataFrame()\n",
    "\n",
    "    df_sub_err = df_org.groupby([\"Oldnew\",\"Setsize\",\"Probtype\",\"Lag\",\"FileCondi\"])[[\"Error\"]].agg([\"mean\"]).reset_index()\n",
    "    df_sub_crt = df_org[df_org[\"Error\"]==0].\\\n",
    "    groupby([\"Oldnew\",\"Setsize\",\"Probtype\",\"Lag\",\"FileCondi\"])[[\"RT\"]].agg([\"mean\"]).reset_index()\n",
    "\n",
    "    for iname in names:\n",
    "    #     print(iname)\n",
    "    #     pred_rt, pred_correct = calc_theoretical_RW(df, iname)\n",
    "        pred_rt, pred_correct = calc_theoretical_RW(df_sub_err, iname)\n",
    "        pred_crt, pred_ccorrect = calc_theoretical_RW(df_sub_crt, iname)\n",
    "    #     df_sub = df[df[\"FileCondi\"] == iname]\n",
    "        df_temp_crt = df_sub_crt[df_sub_crt[\"FileCondi\"] == iname]\n",
    "        df_temp_err = df_sub_err[df_sub_err[\"FileCondi\"] == iname]\n",
    "\n",
    "    #     df_sub[\"pred_rt\"] = pred_rt\n",
    "    #     df_sub[\"pred_error\"] = 1- pred_correct\n",
    "\n",
    "        df_temp_crt[\"pred_rt\"] = pred_rt   \n",
    "        df_temp_err[\"pred_error\"] = 1- pred_correct\n",
    "\n",
    "        df_all_crt = df_all_crt.append(df_temp_crt)\n",
    "        df_all_err = df_all_err.append(df_temp_err)\n",
    "\n",
    "#     df_all_err[df_all_err[\"FileCondi\"]==\"MIX\"]\n",
    "    return(df_all_crt, df_all_err)"
   ]
  },
  {
   "cell_type": "code",
   "execution_count": 558,
   "metadata": {
    "kernel": "SoS"
   },
   "outputs": [
    {
     "data": {
      "text/plain": [
       "0.0"
      ]
     },
     "execution_count": 558,
     "metadata": {},
     "output_type": "execute_result"
    }
   ],
   "source": [
    "demand = np.array([5, 10, 10, 7, 3, 7, 1, 0, 0, 0, 8])\n",
    "orders = np.array([0.] * len(demand))\n",
    "\n",
    "def objective(orders):\n",
    "  return np.sum(orders)\n",
    "\n",
    "def items_in_stock(orders):\n",
    "  stock = 0\n",
    "  for i in range(len(orders)):\n",
    "    stock += orders[i]\n",
    "    stock -= demand[i]\n",
    "    if stock < 0.:\n",
    "      return -1.\n",
    "  return 0.\n",
    "\n",
    "def four_weeks_order_distance(orders):\n",
    "  for i in range(len(orders)):\n",
    "    if orders[i] != 0.:\n",
    "      num_orders = (orders[i+1:i+5] != 0.).any()\n",
    "      if num_orders:\n",
    "        return -1.\n",
    "  return 0.\n",
    "\n",
    "def four_weeks_from_end(orders):\n",
    "  if orders[-4:].any():\n",
    "    return -1.\n",
    "  else:\n",
    "    return 0.\n",
    "\n",
    "con1 = {'type': 'eq', 'fun': items_in_stock}\n",
    "con2 = {'type': 'eq', 'fun': four_weeks_order_distance}\n",
    "con3 = {'type': 'eq', 'fun': four_weeks_from_end}\n",
    "cons = [con1, con2, con3]\n",
    "\n",
    "b = [(0, 100)]\n",
    "bnds = b * len(orders)\n",
    "\n",
    "x0 = orders\n",
    "x0[0] = 10.\n",
    "four_weeks_order_distance(orders)\n",
    "# minimize(objective, x0, method='SLSQP', bounds=bnds, constraints=cons)"
   ]
  },
  {
   "cell_type": "code",
   "execution_count": 557,
   "metadata": {
    "kernel": "SoS"
   },
   "outputs": [
    {
     "data": {
      "text/plain": [
       "0.0"
      ]
     },
     "execution_count": 557,
     "metadata": {},
     "output_type": "execute_result"
    }
   ],
   "source": [
    "demand = np.array([5, 10, 10, 7, 3, 7, 1, 0, 0, 0, 8])\n",
    "orders = np.array([0.] * len(demand))\n",
    "\n",
    "def objective(orders):\n",
    "    return np.sum(orders)\n",
    "\n",
    "\n",
    "def items_in_stock(orders):\n",
    "    \"\"\"In-equality Constraint: Idea is to keep the balance of stock and demand.\n",
    "    Cumulated stock should be greater than demand. Also, demand should never cross the stock.\n",
    "    \"\"\"\n",
    "    stock = 0\n",
    "    stock_penalty = 0\n",
    "    for i in range(len(orders)):\n",
    "        stock += orders[i]\n",
    "        stock -= demand[i]\n",
    "        if stock < 0:\n",
    "            stock_penalty -= abs(stock)\n",
    "    return stock_penalty\n",
    "\n",
    "\n",
    "def four_weeks_order_distance(orders):\n",
    "    \"\"\"Equality Constraint: An order can't be placed until four weeks after any other order.\n",
    "    \"\"\"\n",
    "    violation_count = 0\n",
    "    for i in range(len(orders) - 6):\n",
    "        if orders[i] != 0.:\n",
    "            num_orders = orders[i + 1: i + 5].sum()\n",
    "            violation_count -= num_orders\n",
    "    return violation_count\n",
    "\n",
    "\n",
    "def four_weeks_from_end(orders):\n",
    "    \"\"\"Equality Constraint: No orders in the last 4 weeks\n",
    "    \"\"\"\n",
    "    return orders[-4:].sum()\n",
    "\n",
    "\n",
    "con1 = {'type': 'ineq', 'fun': items_in_stock} # Forces value to be greater than zero. \n",
    "con2 = {'type': 'eq', 'fun': four_weeks_order_distance} # Forces value to be zero. \n",
    "con3 = {'type': 'eq', 'fun': four_weeks_from_end} # Forces value to be zero. \n",
    "cons = [con1, con2, con3]\n",
    "\n",
    "b = [(0, 100)]\n",
    "bnds = b * len(orders)\n",
    "\n",
    "x0 = orders\n",
    "x0[0] = 10.\n",
    "four_weeks_order_distance(orders)\n",
    "# res = minimize(objective, x0, method='SLSQP', bounds=bnds, constraints=cons,\n",
    "#                options={'eps': 1})"
   ]
  },
  {
   "cell_type": "markdown",
   "metadata": {
    "kernel": "SoS"
   },
   "source": [
    "# Plots"
   ]
  },
  {
   "cell_type": "markdown",
   "metadata": {
    "kernel": "SoS"
   },
   "source": [
    "## Error plot"
   ]
  },
  {
   "cell_type": "code",
   "execution_count": 550,
   "metadata": {
    "kernel": "SoS"
   },
   "outputs": [
    {
     "name": "stderr",
     "output_type": "stream",
     "text": [
      "C:\\Users\\naszh\\Anaconda3\\lib\\site-packages\\ipykernel_launcher.py:22: SettingWithCopyWarning: \n",
      "A value is trying to be set on a copy of a slice from a DataFrame.\n",
      "Try using .loc[row_indexer,col_indexer] = value instead\n",
      "\n",
      "See the caveats in the documentation: http://pandas.pydata.org/pandas-docs/stable/user_guide/indexing.html#returning-a-view-versus-a-copy\n",
      "C:\\Users\\naszh\\Anaconda3\\lib\\site-packages\\ipykernel_launcher.py:23: SettingWithCopyWarning: \n",
      "A value is trying to be set on a copy of a slice from a DataFrame.\n",
      "Try using .loc[row_indexer,col_indexer] = value instead\n",
      "\n",
      "See the caveats in the documentation: http://pandas.pydata.org/pandas-docs/stable/user_guide/indexing.html#returning-a-view-versus-a-copy\n",
      "C:\\Users\\naszh\\Anaconda3\\lib\\site-packages\\pandas\\core\\generic.py:3946: PerformanceWarning: dropping on a non-lexsorted multi-index without a level parameter may impact performance.\n",
      "  new_axis = axis.drop(labels, errors=errors)\n"
     ]
    },
    {
     "data": {
      "image/png": "[encoded data removed]",
      "text/plain": [
       "<Figure size 1152x576 with 6 Axes>"
      ]
     },
     "metadata": {
      "needs_background": "light"
     },
     "output_type": "display_data"
    },
    {
     "data": {
      "image/png": "[encoded data removed]",
      "text/plain": [
       "<Figure size 1152x576 with 6 Axes>"
      ]
     },
     "metadata": {
      "needs_background": "light"
     },
     "output_type": "display_data"
    }
   ],
   "source": [
    "# Numitem = 16\n",
    "\n",
    "param_dic = {\n",
    "       \"boost\" : 0.60,\n",
    "       \"alpha\" : 0.2, \n",
    "       \"alpha_AN\":0.278,\n",
    "\n",
    "       \"beta\" : 1.228,\n",
    "       \"beta_AN\": 2.011,\n",
    "       \"s\" : 0.2,\n",
    "       \"c\" : 0.587,\n",
    "#        \"LMT_old\" : np.zeros(shape = Numitem),\n",
    "#        \"LMT_new\" : np.zeros(shape = Numitem),\n",
    "       \"Old_crit\" : 3,\n",
    "       \"New_crit\" : -3,\n",
    "       \"t0\" : 700,\n",
    "       \"kao\" : 38,\n",
    "       \"IR_old_CM_old\" : 0.23,\n",
    "    \n",
    "       \"IR_old_AN_old\" : 0,\n",
    "       \"IR_old_VM_old\": 0.143,\n",
    "\n",
    "       \"IR_new_CM_new\" : 0.623,\n",
    "       \"IR_new_AN_new\" : 0,\n",
    "       \"IR_new_VM_new\": 0.039,\n",
    "    \n",
    "    #the followings doesn't to adjust\n",
    "       \"IR_old_CM_new\" : 0,\n",
    "    \n",
    "       \"IR_old_AN_new\" : 0,\n",
    "       \"IR_old_VM_new\": 0,\n",
    "\n",
    "       \"IR_new_CM_old\" : 0,\n",
    "       \"IR_new_AN_old\" : 0,\n",
    "       \"IR_new_VM_old\": 0\n",
    "}\n",
    "\n",
    "for key,val in param_dic.items(): exec(key + '=val')\n",
    "\n",
    "    \n",
    "df_all_crt, df_all_err = finalRW(df_org)\n",
    "# walk unit to time unit}\n",
    "# pred_raw_rt, predi_resp = Random_Walk(df, \"CMpure\", param_dic)\n",
    "\n",
    "# actual_resp = df[df['FileCondi']=='CMpure']['Response']\n",
    "# predi_resp = predi_resp\n",
    "\n",
    "# for key,val in param_dic.items(): eval(key + '=val')\n",
    "\n",
    "def all_plot(df_all_aggnew,plotwhaty,ylim):\n",
    "    names = df_all_aggnew[\"FileCondi\"].astype(\"category\").cat.categories.to_numpy() #get categories name\n",
    "    fig, axes = plt.subplots(nrows=1, ncols=6, figsize=(16,8))\n",
    "    fig.canvas.set_window_title(plotwhaty)\n",
    "    line_width = 2.5\n",
    "    i=0\n",
    "    for iname in names:\n",
    "        df_all_aggnew[df_all_aggnew[\"FileCondi\"]==iname].plot.line(x=\"Setsize\", y=plotwhaty,ax=axes[i],\\\n",
    "                                                                   title=iname,ylim=ylim )\n",
    "        i+=1\n",
    "\n",
    "# all_plot(df_all_aggnew, \"RT\",(600,1100))\n",
    "# all_plot(df_all_aggnew, \"pred_rt\",(600,1100))\n",
    "# all_plot(df_all_aggnew, \"Error\",(0,0.3))\n",
    "# all_plot(df_all_aggnew, \"pred_error\",(0,1))\n",
    "\n",
    "df_all_agg = df_all_err.groupby([\"Oldnew\",\"Setsize\",\"Probtype\",\"FileCondi\"]).agg([\"mean\"])#.apply(lambda x: x)\n",
    "df_all_aggnew = df_all_agg.unstack([\"Oldnew\",\"Probtype\"])\n",
    "# df_all_aggnew = df_all_agg.unstack([\"FileCondi\",\"Oldnew\",\"Probtype\"])\n",
    "df_all_aggnew\n",
    "# df_all_aggnew= df_all_aggnew.swaplevel(i=0,j=2,axis = 1)\n",
    "\n",
    "df_all_aggnew.index.name = 'Setsize'\n",
    "df_all_aggnew.reset_index(inplace=True)\n",
    "\n",
    "\n",
    "df_all_aggnew.columns = df_all_aggnew[df_all_aggnew[\"FileCondi\"]==iname].columns.droplevel([1,2])\n",
    "# df_all_aggnew\n",
    "\n",
    "\n",
    "all_plot(df_all_aggnew, \"Error\",(0,0.3))\n",
    "all_plot(df_all_aggnew, \"pred_error\",(0,1))"
   ]
  },
  {
   "cell_type": "markdown",
   "metadata": {
    "kernel": "SoS"
   },
   "source": [
    "## correct RT plot"
   ]
  },
  {
   "cell_type": "code",
   "execution_count": 505,
   "metadata": {
    "kernel": "SoS"
   },
   "outputs": [
    {
     "data": {
      "image/png": "[encoded data removed]",
      "text/plain": [
       "<Figure size 1152x576 with 6 Axes>"
      ]
     },
     "metadata": {
      "needs_background": "light"
     },
     "output_type": "display_data"
    },
    {
     "data": {
      "image/png": "[encoded data removed]",
      "text/plain": [
       "<Figure size 1152x576 with 6 Axes>"
      ]
     },
     "metadata": {
      "needs_background": "light"
     },
     "output_type": "display_data"
    }
   ],
   "source": [
    "def all_plot(df_all_aggnew,plotwhaty,ylim):\n",
    "    fig, axes = plt.subplots(nrows=1, ncols=6, figsize=(16,8))\n",
    "    fig.canvas.set_window_title(plotwhaty)\n",
    "    line_width = 2.5\n",
    "    i=0\n",
    "    for iname in names:\n",
    "        df_all_aggnew[df_all_aggnew[\"FileCondi\"]==iname].plot.line(x=\"Setsize\", y=plotwhaty,ax=axes[i],\\\n",
    "                                                                   title=iname,ylim=ylim )\n",
    "        i+=1\n",
    "\n",
    "# all_plot(df_all_aggnew, \"RT\",(600,1100))\n",
    "# all_plot(df_all_aggnew, \"pred_rt\",(600,1100))\n",
    "# all_plot(df_all_aggnew, \"Error\",(0,0.3))\n",
    "# all_plot(df_all_aggnew, \"pred_error\",(0,1))\n",
    "\n",
    "df_all_agg = df_all_crt.groupby([\"Oldnew\",\"Setsize\",\"Probtype\",\"FileCondi\"]).agg([\"mean\"])#.apply(lambda x: x)\n",
    "df_all_aggnew = df_all_agg.unstack([\"Oldnew\",\"Probtype\"])\n",
    "# df_all_aggnew = df_all_agg.unstack([\"FileCondi\",\"Oldnew\",\"Probtype\"])\n",
    "df_all_aggnew\n",
    "# df_all_aggnew= df_all_aggnew.swaplevel(i=0,j=2,axis = 1)\n",
    "\n",
    "df_all_aggnew.index.name = 'Setsize'\n",
    "df_all_aggnew.reset_index(inplace=True)\n",
    "\n",
    "\n",
    "df_all_aggnew.columns = df_all_aggnew[df_all_aggnew[\"FileCondi\"]==iname].columns.droplevel([1,2])\n",
    "# df_all_aggnew\n",
    "\n",
    "all_plot(df_all_aggnew, \"RT\",(600,1100))\n",
    "all_plot(df_all_aggnew, \"pred_rt\",(600,1100))"
   ]
  },
  {
   "cell_type": "markdown",
   "metadata": {
    "kernel": "SoS"
   },
   "source": [
    "# Parella search"
   ]
  },
  {
   "cell_type": "code",
   "execution_count": 543,
   "metadata": {
    "kernel": "SoS"
   },
   "outputs": [
    {
     "data": {
      "image/png": "[encoded data removed]",
      "text/plain": [
       "<Figure size 432x288 with 1 Axes>"
      ]
     },
     "metadata": {
      "needs_background": "light"
     },
     "output_type": "display_data"
    },
    {
     "data": {
      "text/plain": [
       "0.4444444444444444"
      ]
     },
     "execution_count": 543,
     "metadata": {},
     "output_type": "execute_result"
    }
   ],
   "source": [
    "def plot_parm(param_name, filename, constrain):\n",
    "    name = filename\n",
    "    # param_name = 'alpha_AN'\n",
    "    parm_range = constrain\n",
    "    niter= 10\n",
    "\n",
    "\n",
    "\n",
    "    # navg = 1\n",
    "    all_s = np.linspace(parm_range[0], parm_range[1],num = niter)\n",
    "\n",
    "    wsse_s = pd.DataFrame()\n",
    "\n",
    "    i = 0\n",
    "    # now = np.zeros((niter, calc_wssd(df, name).size))\n",
    "    for i_s in all_s:\n",
    "\n",
    "        param_dic[param_name] = i_s\n",
    "        make_global(param_dic)\n",
    "\n",
    "        wsse_s[\"iter\"+str(i)] = [calc_wssd(df_org, name)]#.to_numpy()\n",
    "\n",
    "        i+=1\n",
    "\n",
    "    # wsse_s\n",
    "\n",
    "    plt.figure()\n",
    "    plt.plot(all_s, wsse_s.iloc[0])\n",
    "    plt.show()\n",
    "\n",
    "    minindex = wsse_s.iloc[0].to_numpy().argmin()\n",
    "\n",
    "    param_dic[param_name] = all_s[minindex]\n",
    "    make_global(param_dic)\n",
    "    \n",
    "    return(all_s[minindex])\n",
    "plot_parm(\"alpha_AN\",\"MIX\", [0,1])"
   ]
  },
  {
   "cell_type": "code",
   "execution_count": 549,
   "metadata": {
    "kernel": "SoS"
   },
   "outputs": [
    {
     "data": {
      "image/png": "[encoded data removed]",
      "text/plain": [
       "<Figure size 432x288 with 1 Axes>"
      ]
     },
     "metadata": {
      "needs_background": "light"
     },
     "output_type": "display_data"
    },
    {
     "data": {
      "text/plain": [
       "0.5"
      ]
     },
     "execution_count": 549,
     "metadata": {},
     "output_type": "execute_result"
    }
   ],
   "source": [
    "plot_parm(\"alpha\",\"MIX\", [0.5,5])"
   ]
  },
  {
   "cell_type": "code",
   "execution_count": 545,
   "metadata": {
    "kernel": "SoS"
   },
   "outputs": [
    {
     "data": {
      "image/png": "[encoded data removed]",
      "text/plain": [
       "<Figure size 432x288 with 1 Axes>"
      ]
     },
     "metadata": {
      "needs_background": "light"
     },
     "output_type": "display_data"
    },
    {
     "data": {
      "text/plain": [
       "1.6666666666666665"
      ]
     },
     "execution_count": 545,
     "metadata": {},
     "output_type": "execute_result"
    }
   ],
   "source": [
    "plot_parm(\"beta_AN\",\"MIX\", [0,3])"
   ]
  },
  {
   "cell_type": "code",
   "execution_count": 548,
   "metadata": {
    "kernel": "SoS"
   },
   "outputs": [
    {
     "data": {
      "image/png": "[encoded data removed]",
      "text/plain": [
       "<Figure size 432x288 with 1 Axes>"
      ]
     },
     "metadata": {
      "needs_background": "light"
     },
     "output_type": "display_data"
    },
    {
     "data": {
      "text/plain": [
       "0.6666666666666666"
      ]
     },
     "execution_count": 548,
     "metadata": {},
     "output_type": "execute_result"
    }
   ],
   "source": [
    "plot_parm(\"beta\",\"MIX\", [0,3])"
   ]
  },
  {
   "cell_type": "code",
   "execution_count": null,
   "metadata": {
    "kernel": "SoS"
   },
   "outputs": [],
   "source": []
  },
  {
   "cell_type": "code",
   "execution_count": null,
   "metadata": {
    "kernel": "SoS"
   },
   "outputs": [],
   "source": []
  },
  {
   "cell_type": "code",
   "execution_count": null,
   "metadata": {
    "kernel": "SoS"
   },
   "outputs": [],
   "source": []
  },
  {
   "cell_type": "markdown",
   "metadata": {
    "kernel": "SoS"
   },
   "source": [
    "## Search s"
   ]
  },
  {
   "cell_type": "code",
   "execution_count": 742,
   "metadata": {
    "kernel": "SoS",
    "scrolled": false
   },
   "outputs": [
    {
     "name": "stderr",
     "output_type": "stream",
     "text": [
      "C:\\Users\\naszh\\Anaconda3\\lib\\site-packages\\ipykernel_launcher.py:14: SettingWithCopyWarning: \n",
      "A value is trying to be set on a copy of a slice from a DataFrame.\n",
      "Try using .loc[row_indexer,col_indexer] = value instead\n",
      "\n",
      "See the caveats in the documentation: http://pandas.pydata.org/pandas-docs/stable/user_guide/indexing.html#returning-a-view-versus-a-copy\n",
      "  \n",
      "C:\\Users\\naszh\\Anaconda3\\lib\\site-packages\\ipykernel_launcher.py:15: SettingWithCopyWarning: \n",
      "A value is trying to be set on a copy of a slice from a DataFrame.\n",
      "Try using .loc[row_indexer,col_indexer] = value instead\n",
      "\n",
      "See the caveats in the documentation: http://pandas.pydata.org/pandas-docs/stable/user_guide/indexing.html#returning-a-view-versus-a-copy\n",
      "  from ipykernel import kernelapp as app\n"
     ]
    },
    {
     "data": {
      "image/png": "[encoded data removed]",
      "text/plain": [
       "<Figure size 432x288 with 1 Axes>"
      ]
     },
     "metadata": {
      "needs_background": "light"
     },
     "output_type": "display_data"
    },
    {
     "name": "stdout",
     "output_type": "stream",
     "text": [
      "0.56\n"
     ]
    },
    {
     "data": {
      "text/plain": [
       "'s'"
      ]
     },
     "execution_count": 742,
     "metadata": {},
     "output_type": "execute_result"
    }
   ],
   "source": [
    "name = \"CMpure\"\n",
    "param_name = 's'\n",
    "parm_range = [0.01, 1]\n",
    "niter=10\n",
    "\n",
    "\n",
    "# navg = 1\n",
    "all_s = np.linspace(parm_range[0], parm_range[1],num = niter)\n",
    "\n",
    "wsse_s = pd.DataFrame()\n",
    "\n",
    "i = 0\n",
    "# now = np.zeros((niter, calc_wssd(df, name).size))\n",
    "for i_s in all_s:\n",
    "    \n",
    "    param_dic[param_name] = i_s\n",
    "    for key,val in param_dic.items(): exec(key + '=val')\n",
    "\n",
    "    wsse_s[\"iter\"+str(i)] = calc_wssd(df, name)#[\"mean\"].to_numpy()\n",
    "        \n",
    "    i+=1\n",
    "    \n",
    "wsse_s\n",
    "\n",
    "plt.figure()\n",
    "plt.plot(all_s, wsse_s.iloc[0])\n",
    "plt.show()\n",
    "\n",
    "# # wsse_s * 10**-7\n",
    "# i=0\n",
    "# for i in range(8):\n",
    "#     plt.figure()\n",
    "#     plt.plot(range(wsse_s.iloc[i].size), wsse_s.iloc[i])\n",
    "#     plt.show()\n",
    "    \n",
    "minindex = wsse_s.iloc[0].to_numpy().argmin()\n",
    "print(all_s[minindex])\n",
    "\n",
    "param_dic[param_name] = all_s[minindex]\n",
    "for key,val in param_dic.items(): exec(key + '=val')\n",
    "param_name"
   ]
  },
  {
   "cell_type": "markdown",
   "metadata": {
    "kernel": "SoS"
   },
   "source": [
    "## parall search"
   ]
  },
  {
   "cell_type": "code",
   "execution_count": 743,
   "metadata": {
    "kernel": "SoS"
   },
   "outputs": [
    {
     "name": "stderr",
     "output_type": "stream",
     "text": [
      "C:\\Users\\naszh\\Anaconda3\\lib\\site-packages\\ipykernel_launcher.py:14: SettingWithCopyWarning: \n",
      "A value is trying to be set on a copy of a slice from a DataFrame.\n",
      "Try using .loc[row_indexer,col_indexer] = value instead\n",
      "\n",
      "See the caveats in the documentation: http://pandas.pydata.org/pandas-docs/stable/user_guide/indexing.html#returning-a-view-versus-a-copy\n",
      "  \n",
      "C:\\Users\\naszh\\Anaconda3\\lib\\site-packages\\ipykernel_launcher.py:15: SettingWithCopyWarning: \n",
      "A value is trying to be set on a copy of a slice from a DataFrame.\n",
      "Try using .loc[row_indexer,col_indexer] = value instead\n",
      "\n",
      "See the caveats in the documentation: http://pandas.pydata.org/pandas-docs/stable/user_guide/indexing.html#returning-a-view-versus-a-copy\n",
      "  from ipykernel import kernelapp as app\n"
     ]
    },
    {
     "data": {
      "image/png": "[encoded data removed]",
      "text/plain": [
       "<Figure size 432x288 with 1 Axes>"
      ]
     },
     "metadata": {
      "needs_background": "light"
     },
     "output_type": "display_data"
    },
    {
     "name": "stdout",
     "output_type": "stream",
     "text": [
      "1.0\n"
     ]
    }
   ],
   "source": [
    "name = \"CMpure\"\n",
    "param_name = 'c'\n",
    "parm_range = [0, 1]\n",
    "niter=10\n",
    "\n",
    "# navg = 1\n",
    "all_s = np.linspace(parm_range[0], parm_range[1],num = niter)\n",
    "\n",
    "wsse_s = pd.DataFrame()\n",
    "\n",
    "i = 0\n",
    "# now = np.zeros((niter, calc_wssd(df, name).size))\n",
    "for i_s in all_s:\n",
    "    \n",
    "    param_dic[param_name] = i_s\n",
    "    for key,val in param_dic.items(): exec(key + '=val')\n",
    "\n",
    "    wsse_s[\"iter\"+str(i)] = calc_wssd(df, name)#[\"mean\"].to_numpy()\n",
    "        \n",
    "    i+=1\n",
    "    \n",
    "wsse_s\n",
    "\n",
    "plt.figure()\n",
    "plt.plot(all_s, wsse_s.iloc[0])\n",
    "plt.show()\n",
    "    \n",
    "minindex = wsse_s.iloc[0].to_numpy().argmin()\n",
    "print(all_s[minindex])\n",
    "\n",
    "param_dic[param_name] = all_s[minindex]\n",
    "for key,val in param_dic.items(): exec(key + '=val')"
   ]
  },
  {
   "cell_type": "markdown",
   "metadata": {
    "kernel": "SoS"
   },
   "source": [
    "## Old_crit"
   ]
  },
  {
   "cell_type": "code",
   "execution_count": 744,
   "metadata": {
    "kernel": "SoS"
   },
   "outputs": [
    {
     "name": "stderr",
     "output_type": "stream",
     "text": [
      "C:\\Users\\naszh\\Anaconda3\\lib\\site-packages\\ipykernel_launcher.py:14: SettingWithCopyWarning: \n",
      "A value is trying to be set on a copy of a slice from a DataFrame.\n",
      "Try using .loc[row_indexer,col_indexer] = value instead\n",
      "\n",
      "See the caveats in the documentation: http://pandas.pydata.org/pandas-docs/stable/user_guide/indexing.html#returning-a-view-versus-a-copy\n",
      "  \n",
      "C:\\Users\\naszh\\Anaconda3\\lib\\site-packages\\ipykernel_launcher.py:15: SettingWithCopyWarning: \n",
      "A value is trying to be set on a copy of a slice from a DataFrame.\n",
      "Try using .loc[row_indexer,col_indexer] = value instead\n",
      "\n",
      "See the caveats in the documentation: http://pandas.pydata.org/pandas-docs/stable/user_guide/indexing.html#returning-a-view-versus-a-copy\n",
      "  from ipykernel import kernelapp as app\n"
     ]
    },
    {
     "data": {
      "image/png": "[encoded data removed]",
      "text/plain": [
       "<Figure size 432x288 with 1 Axes>"
      ]
     },
     "metadata": {
      "needs_background": "light"
     },
     "output_type": "display_data"
    },
    {
     "name": "stdout",
     "output_type": "stream",
     "text": [
      "2.0\n",
      "[2. 3. 4. 5.]\n"
     ]
    }
   ],
   "source": [
    "name = \"CMpure\"\n",
    "param_name = 'Old_crit'\n",
    "parm_range = [2, 5]\n",
    "niter= parm_range[1]-parm_range[0]+1\n",
    "\n",
    "\n",
    "# navg = 1\n",
    "all_s = np.linspace(parm_range[0], parm_range[1],num = niter)\n",
    "\n",
    "wsse_s = pd.DataFrame()\n",
    "\n",
    "i = 0\n",
    "# now = np.zeros((niter, calc_wssd(df, name).size))\n",
    "for i_s in all_s:\n",
    "    \n",
    "    param_dic[param_name] = i_s\n",
    "    for key,val in param_dic.items(): exec(key + '=val')\n",
    "\n",
    "    wsse_s[\"iter\"+str(i)] = calc_wssd(df, name)#[\"mean\"].to_numpy()\n",
    "        \n",
    "    i+=1\n",
    "    \n",
    "wsse_s\n",
    "\n",
    "plt.figure()\n",
    "plt.plot(all_s, wsse_s.iloc[0])\n",
    "plt.show()\n",
    "\n",
    "minindex = wsse_s.iloc[0].to_numpy().argmin()\n",
    "print(all_s[minindex])\n",
    "print(all_s)\n",
    "param_dic[param_name] = all_s[minindex]\n",
    "for key,val in param_dic.items(): exec(key + '=val')"
   ]
  },
  {
   "cell_type": "markdown",
   "metadata": {
    "kernel": "SoS"
   },
   "source": [
    "## New_crit"
   ]
  },
  {
   "cell_type": "code",
   "execution_count": 746,
   "metadata": {
    "kernel": "SoS"
   },
   "outputs": [
    {
     "name": "stderr",
     "output_type": "stream",
     "text": [
      "C:\\Users\\naszh\\Anaconda3\\lib\\site-packages\\ipykernel_launcher.py:14: SettingWithCopyWarning: \n",
      "A value is trying to be set on a copy of a slice from a DataFrame.\n",
      "Try using .loc[row_indexer,col_indexer] = value instead\n",
      "\n",
      "See the caveats in the documentation: http://pandas.pydata.org/pandas-docs/stable/user_guide/indexing.html#returning-a-view-versus-a-copy\n",
      "  \n",
      "C:\\Users\\naszh\\Anaconda3\\lib\\site-packages\\ipykernel_launcher.py:15: SettingWithCopyWarning: \n",
      "A value is trying to be set on a copy of a slice from a DataFrame.\n",
      "Try using .loc[row_indexer,col_indexer] = value instead\n",
      "\n",
      "See the caveats in the documentation: http://pandas.pydata.org/pandas-docs/stable/user_guide/indexing.html#returning-a-view-versus-a-copy\n",
      "  from ipykernel import kernelapp as app\n"
     ]
    },
    {
     "data": {
      "image/png": "[encoded data removed]",
      "text/plain": [
       "<Figure size 432x288 with 1 Axes>"
      ]
     },
     "metadata": {
      "needs_background": "light"
     },
     "output_type": "display_data"
    },
    {
     "name": "stdout",
     "output_type": "stream",
     "text": [
      "-5.0\n"
     ]
    }
   ],
   "source": [
    "name = \"MIX\"\n",
    "param_name = 'New_crit'\n",
    "parm_range = [-5, -2]\n",
    "niter= parm_range[1]-parm_range[0]+1\n",
    "\n",
    "\n",
    "\n",
    "# navg = 1\n",
    "all_s = np.linspace(parm_range[0], parm_range[1],num = niter)\n",
    "\n",
    "wsse_s = pd.DataFrame()\n",
    "\n",
    "i = 0\n",
    "# now = np.zeros((niter, calc_wssd(df, name).size))\n",
    "for i_s in all_s:\n",
    "    \n",
    "    param_dic[param_name] = i_s\n",
    "    for key,val in param_dic.items(): exec(key + '=val')\n",
    "\n",
    "    wsse_s[\"iter\"+str(i)] = calc_wssd(df, name)#[\"mean\"].to_numpy()\n",
    "        \n",
    "    i+=1\n",
    "    \n",
    "wsse_s\n",
    "\n",
    "plt.figure()\n",
    "plt.plot(all_s, wsse_s.iloc[0])\n",
    "plt.show()\n",
    "    \n",
    "minindex = wsse_s.iloc[0].to_numpy().argmin()\n",
    "print(all_s[minindex])\n",
    "\n",
    "param_dic[param_name] = all_s[minindex]\n",
    "for key,val in param_dic.items(): exec(key + '=val')"
   ]
  },
  {
   "cell_type": "markdown",
   "metadata": {
    "kernel": "SoS"
   },
   "source": [
    "## t0"
   ]
  },
  {
   "cell_type": "code",
   "execution_count": 749,
   "metadata": {
    "kernel": "SoS"
   },
   "outputs": [
    {
     "name": "stderr",
     "output_type": "stream",
     "text": [
      "C:\\Users\\naszh\\Anaconda3\\lib\\site-packages\\ipykernel_launcher.py:14: SettingWithCopyWarning: \n",
      "A value is trying to be set on a copy of a slice from a DataFrame.\n",
      "Try using .loc[row_indexer,col_indexer] = value instead\n",
      "\n",
      "See the caveats in the documentation: http://pandas.pydata.org/pandas-docs/stable/user_guide/indexing.html#returning-a-view-versus-a-copy\n",
      "  \n",
      "C:\\Users\\naszh\\Anaconda3\\lib\\site-packages\\ipykernel_launcher.py:15: SettingWithCopyWarning: \n",
      "A value is trying to be set on a copy of a slice from a DataFrame.\n",
      "Try using .loc[row_indexer,col_indexer] = value instead\n",
      "\n",
      "See the caveats in the documentation: http://pandas.pydata.org/pandas-docs/stable/user_guide/indexing.html#returning-a-view-versus-a-copy\n",
      "  from ipykernel import kernelapp as app\n"
     ]
    },
    {
     "data": {
      "image/png": "[encoded data removed]",
      "text/plain": [
       "<Figure size 432x288 with 1 Axes>"
      ]
     },
     "metadata": {
      "needs_background": "light"
     },
     "output_type": "display_data"
    },
    {
     "name": "stdout",
     "output_type": "stream",
     "text": [
      "811.1111111111111\n"
     ]
    }
   ],
   "source": [
    "name = \"MIX\"\n",
    "param_name = 't0'\n",
    "parm_range = [500, 1200]\n",
    "niter= 10\n",
    "\n",
    "\n",
    "\n",
    "# navg = 1\n",
    "all_s = np.linspace(parm_range[0], parm_range[1],num = niter)\n",
    "\n",
    "wsse_s = pd.DataFrame()\n",
    "\n",
    "i = 0\n",
    "# now = np.zeros((niter, calc_wssd(df, name).size))\n",
    "for i_s in all_s:\n",
    "    \n",
    "    param_dic[param_name] = i_s\n",
    "    for key,val in param_dic.items(): exec(key + '=val')\n",
    "\n",
    "    wsse_s[\"iter\"+str(i)] = calc_wssd(df, name)#[\"mean\"].to_numpy()\n",
    "        \n",
    "    i+=1\n",
    "    \n",
    "wsse_s\n",
    "\n",
    "plt.figure()\n",
    "plt.plot(all_s, wsse_s.iloc[0])\n",
    "plt.show()\n",
    "\n",
    "minindex = wsse_s.iloc[0].to_numpy().argmin()\n",
    "print(all_s[minindex])\n",
    "\n",
    "param_dic[param_name] = all_s[minindex]\n",
    "for key,val in param_dic.items(): exec(key + '=val')\n"
   ]
  },
  {
   "cell_type": "markdown",
   "metadata": {
    "kernel": "SoS"
   },
   "source": [
    "## kao"
   ]
  },
  {
   "cell_type": "code",
   "execution_count": 750,
   "metadata": {
    "kernel": "SoS"
   },
   "outputs": [
    {
     "name": "stderr",
     "output_type": "stream",
     "text": [
      "C:\\Users\\naszh\\Anaconda3\\lib\\site-packages\\ipykernel_launcher.py:14: SettingWithCopyWarning: \n",
      "A value is trying to be set on a copy of a slice from a DataFrame.\n",
      "Try using .loc[row_indexer,col_indexer] = value instead\n",
      "\n",
      "See the caveats in the documentation: http://pandas.pydata.org/pandas-docs/stable/user_guide/indexing.html#returning-a-view-versus-a-copy\n",
      "  \n",
      "C:\\Users\\naszh\\Anaconda3\\lib\\site-packages\\ipykernel_launcher.py:15: SettingWithCopyWarning: \n",
      "A value is trying to be set on a copy of a slice from a DataFrame.\n",
      "Try using .loc[row_indexer,col_indexer] = value instead\n",
      "\n",
      "See the caveats in the documentation: http://pandas.pydata.org/pandas-docs/stable/user_guide/indexing.html#returning-a-view-versus-a-copy\n",
      "  from ipykernel import kernelapp as app\n"
     ]
    },
    {
     "data": {
      "image/png": "[encoded data removed]",
      "text/plain": [
       "<Figure size 432x288 with 1 Axes>"
      ]
     },
     "metadata": {
      "needs_background": "light"
     },
     "output_type": "display_data"
    },
    {
     "name": "stdout",
     "output_type": "stream",
     "text": [
      "3.1578947368421053\n"
     ]
    }
   ],
   "source": [
    "name = \"MIX\"\n",
    "param_name = 'kao'\n",
    "parm_range = [0, 20]\n",
    "niter= 20\n",
    "\n",
    "\n",
    "\n",
    "# navg = 1\n",
    "all_s = np.linspace(parm_range[0], parm_range[1],num = niter)\n",
    "\n",
    "wsse_s = pd.DataFrame()\n",
    "\n",
    "i = 0\n",
    "# now = np.zeros((niter, calc_wssd(df, name).size))\n",
    "for i_s in all_s:\n",
    "    \n",
    "    param_dic[param_name] = i_s\n",
    "    for key,val in param_dic.items(): exec(key + '=val')\n",
    "\n",
    "    wsse_s[\"iter\"+str(i)] = calc_wssd(df, name)#[\"mean\"].to_numpy()\n",
    "        \n",
    "    i+=1\n",
    "    \n",
    "wsse_s\n",
    "\n",
    "plt.figure()\n",
    "plt.plot(all_s, wsse_s.iloc[0])\n",
    "plt.show()\n",
    "\n",
    "minindex = wsse_s.iloc[0].to_numpy().argmin()\n",
    "print(all_s[minindex])\n",
    "\n",
    "param_dic[param_name] = all_s[minindex]\n",
    "for key,val in param_dic.items(): exec(key + '=val')"
   ]
  },
  {
   "cell_type": "markdown",
   "metadata": {
    "kernel": "SoS"
   },
   "source": [
    "## alpha"
   ]
  },
  {
   "cell_type": "code",
   "execution_count": 541,
   "metadata": {
    "kernel": "SoS"
   },
   "outputs": [
    {
     "data": {
      "image/png": "[encoded data removed]",
      "text/plain": [
       "<Figure size 432x288 with 1 Axes>"
      ]
     },
     "metadata": {
      "needs_background": "light"
     },
     "output_type": "display_data"
    },
    {
     "name": "stdout",
     "output_type": "stream",
     "text": [
      "0.0\n"
     ]
    }
   ],
   "source": [
    "name = \"CMpure\"\n",
    "param_name = 'alpha_AN'\n",
    "parm_range = [0, 1]\n",
    "niter= 10\n",
    "\n",
    "\n",
    "\n",
    "# navg = 1\n",
    "all_s = np.linspace(parm_range[0], parm_range[1],num = niter)\n",
    "\n",
    "wsse_s = pd.DataFrame()\n",
    "\n",
    "i = 0\n",
    "# now = np.zeros((niter, calc_wssd(df, name).size))\n",
    "for i_s in all_s:\n",
    "    \n",
    "    param_dic[param_name] = i_s\n",
    "    make_global(param_dic)\n",
    "\n",
    "    wsse_s[\"iter\"+str(i)] = [calc_wssd(df_org, name)]#.to_numpy()\n",
    "        \n",
    "    i+=1\n",
    "    \n",
    "# wsse_s\n",
    "\n",
    "plt.figure()\n",
    "plt.plot(all_s, wsse_s.iloc[0])\n",
    "plt.show()\n",
    "    \n",
    "minindex = wsse_s.iloc[0].to_numpy().argmin()\n",
    "print(all_s[minindex])\n",
    "\n",
    "param_dic[param_name] = all_s[minindex]\n",
    "make_global(param_dic)"
   ]
  },
  {
   "cell_type": "markdown",
   "metadata": {
    "kernel": "SoS"
   },
   "source": [
    "## beta"
   ]
  },
  {
   "cell_type": "code",
   "execution_count": 513,
   "metadata": {
    "kernel": "SoS"
   },
   "outputs": [
    {
     "ename": "KeyError",
     "evalue": "\"Columns not found: 'Error'\"",
     "output_type": "error",
     "traceback": [
      "\u001b[1;31m---------------------------------------------------------------------------\u001b[0m",
      "\u001b[1;31mKeyError\u001b[0m                                  Traceback (most recent call last)",
      "\u001b[1;32m<ipython-input-513-1ca9ff2821df>\u001b[0m in \u001b[0;36m<module>\u001b[1;34m\u001b[0m\n\u001b[0;32m     18\u001b[0m     \u001b[1;32mfor\u001b[0m \u001b[0mkey\u001b[0m\u001b[1;33m,\u001b[0m\u001b[0mval\u001b[0m \u001b[1;32min\u001b[0m \u001b[0mparam_dic\u001b[0m\u001b[1;33m.\u001b[0m\u001b[0mitems\u001b[0m\u001b[1;33m(\u001b[0m\u001b[1;33m)\u001b[0m\u001b[1;33m:\u001b[0m \u001b[0mexec\u001b[0m\u001b[1;33m(\u001b[0m\u001b[0mkey\u001b[0m \u001b[1;33m+\u001b[0m \u001b[1;34m'=val'\u001b[0m\u001b[1;33m)\u001b[0m\u001b[1;33m\u001b[0m\u001b[1;33m\u001b[0m\u001b[0m\n\u001b[0;32m     19\u001b[0m \u001b[1;33m\u001b[0m\u001b[0m\n\u001b[1;32m---> 20\u001b[1;33m     \u001b[0mwsse_s\u001b[0m\u001b[1;33m[\u001b[0m\u001b[1;34m\"iter\"\u001b[0m\u001b[1;33m+\u001b[0m\u001b[0mstr\u001b[0m\u001b[1;33m(\u001b[0m\u001b[0mi\u001b[0m\u001b[1;33m)\u001b[0m\u001b[1;33m]\u001b[0m \u001b[1;33m=\u001b[0m \u001b[0mcalc_wssd\u001b[0m\u001b[1;33m(\u001b[0m\u001b[0mdf\u001b[0m\u001b[1;33m,\u001b[0m \u001b[0mname\u001b[0m\u001b[1;33m)\u001b[0m\u001b[1;31m#[\"mean\"].to_numpy()\u001b[0m\u001b[1;33m\u001b[0m\u001b[1;33m\u001b[0m\u001b[0m\n\u001b[0m\u001b[0;32m     21\u001b[0m \u001b[1;33m\u001b[0m\u001b[0m\n\u001b[0;32m     22\u001b[0m     \u001b[0mi\u001b[0m\u001b[1;33m+=\u001b[0m\u001b[1;36m1\u001b[0m\u001b[1;33m\u001b[0m\u001b[1;33m\u001b[0m\u001b[0m\n",
      "\u001b[1;32m<ipython-input-511-e3624ef8ba3f>\u001b[0m in \u001b[0;36mcalc_wssd\u001b[1;34m(df, name)\u001b[0m\n\u001b[0;32m      7\u001b[0m \u001b[1;33m\u001b[0m\u001b[0m\n\u001b[0;32m      8\u001b[0m     \u001b[0mdf_sub_org\u001b[0m \u001b[1;33m=\u001b[0m \u001b[0mdf\u001b[0m\u001b[1;33m[\u001b[0m\u001b[0mdf\u001b[0m\u001b[1;33m[\u001b[0m\u001b[1;34m\"FileCondi\"\u001b[0m\u001b[1;33m]\u001b[0m \u001b[1;33m==\u001b[0m \u001b[0mname\u001b[0m\u001b[1;33m]\u001b[0m\u001b[1;33m\u001b[0m\u001b[1;33m\u001b[0m\u001b[0m\n\u001b[1;32m----> 9\u001b[1;33m     \u001b[0mdf_sub_err\u001b[0m \u001b[1;33m=\u001b[0m \u001b[0mdf_sub_org\u001b[0m\u001b[1;33m.\u001b[0m\u001b[0mgroupby\u001b[0m\u001b[1;33m(\u001b[0m\u001b[1;33m[\u001b[0m\u001b[1;34m\"Oldnew\"\u001b[0m\u001b[1;33m,\u001b[0m\u001b[1;34m\"Setsize\"\u001b[0m\u001b[1;33m,\u001b[0m\u001b[1;34m\"Probtype\"\u001b[0m\u001b[1;33m,\u001b[0m\u001b[1;34m\"Lag\"\u001b[0m\u001b[1;33m,\u001b[0m\u001b[1;34m\"FileCondi\"\u001b[0m\u001b[1;33m]\u001b[0m\u001b[1;33m)\u001b[0m\u001b[1;33m[\u001b[0m\u001b[1;33m[\u001b[0m\u001b[1;34m\"Error\"\u001b[0m\u001b[1;33m]\u001b[0m\u001b[1;33m]\u001b[0m\u001b[1;33m.\u001b[0m\u001b[0magg\u001b[0m\u001b[1;33m(\u001b[0m\u001b[1;33m[\u001b[0m\u001b[1;34m\"mean\"\u001b[0m\u001b[1;33m]\u001b[0m\u001b[1;33m)\u001b[0m\u001b[1;33m.\u001b[0m\u001b[0mreset_index\u001b[0m\u001b[1;33m(\u001b[0m\u001b[1;33m)\u001b[0m\u001b[1;33m\u001b[0m\u001b[1;33m\u001b[0m\u001b[0m\n\u001b[0m\u001b[0;32m     10\u001b[0m     \u001b[0mdf_sub_crt\u001b[0m \u001b[1;33m=\u001b[0m \u001b[0mdf_sub_org\u001b[0m\u001b[1;33m[\u001b[0m\u001b[0mdf_sub_org\u001b[0m\u001b[1;33m[\u001b[0m\u001b[1;34m\"Error\"\u001b[0m\u001b[1;33m]\u001b[0m\u001b[1;33m==\u001b[0m\u001b[1;36m0\u001b[0m\u001b[1;33m]\u001b[0m\u001b[1;33m.\u001b[0m\u001b[0;31m\\\u001b[0m\u001b[1;33m\u001b[0m\u001b[1;33m\u001b[0m\u001b[0m\n\u001b[0;32m     11\u001b[0m     \u001b[0mgroupby\u001b[0m\u001b[1;33m(\u001b[0m\u001b[1;33m[\u001b[0m\u001b[1;34m\"Oldnew\"\u001b[0m\u001b[1;33m,\u001b[0m\u001b[1;34m\"Setsize\"\u001b[0m\u001b[1;33m,\u001b[0m\u001b[1;34m\"Probtype\"\u001b[0m\u001b[1;33m,\u001b[0m\u001b[1;34m\"Lag\"\u001b[0m\u001b[1;33m,\u001b[0m\u001b[1;34m\"FileCondi\"\u001b[0m\u001b[1;33m]\u001b[0m\u001b[1;33m)\u001b[0m\u001b[1;33m[\u001b[0m\u001b[1;33m[\u001b[0m\u001b[1;34m\"RT\"\u001b[0m\u001b[1;33m]\u001b[0m\u001b[1;33m]\u001b[0m\u001b[1;33m.\u001b[0m\u001b[0magg\u001b[0m\u001b[1;33m(\u001b[0m\u001b[1;33m[\u001b[0m\u001b[1;34m\"mean\"\u001b[0m\u001b[1;33m]\u001b[0m\u001b[1;33m)\u001b[0m\u001b[1;33m.\u001b[0m\u001b[0mreset_index\u001b[0m\u001b[1;33m(\u001b[0m\u001b[1;33m)\u001b[0m\u001b[1;33m\u001b[0m\u001b[1;33m\u001b[0m\u001b[0m\n",
      "\u001b[1;32m~\\Anaconda3\\lib\\site-packages\\pandas\\core\\base.py\u001b[0m in \u001b[0;36m__getitem__\u001b[1;34m(self, key)\u001b[0m\n\u001b[0;32m    255\u001b[0m                 \u001b[0mbad_keys\u001b[0m \u001b[1;33m=\u001b[0m \u001b[0mlist\u001b[0m\u001b[1;33m(\u001b[0m\u001b[0mset\u001b[0m\u001b[1;33m(\u001b[0m\u001b[0mkey\u001b[0m\u001b[1;33m)\u001b[0m\u001b[1;33m.\u001b[0m\u001b[0mdifference\u001b[0m\u001b[1;33m(\u001b[0m\u001b[0mself\u001b[0m\u001b[1;33m.\u001b[0m\u001b[0mobj\u001b[0m\u001b[1;33m.\u001b[0m\u001b[0mcolumns\u001b[0m\u001b[1;33m)\u001b[0m\u001b[1;33m)\u001b[0m\u001b[1;33m\u001b[0m\u001b[1;33m\u001b[0m\u001b[0m\n\u001b[0;32m    256\u001b[0m                 raise KeyError(\n\u001b[1;32m--> 257\u001b[1;33m                     \u001b[1;34m\"Columns not found: {missing}\"\u001b[0m\u001b[1;33m.\u001b[0m\u001b[0mformat\u001b[0m\u001b[1;33m(\u001b[0m\u001b[0mmissing\u001b[0m\u001b[1;33m=\u001b[0m\u001b[0mstr\u001b[0m\u001b[1;33m(\u001b[0m\u001b[0mbad_keys\u001b[0m\u001b[1;33m)\u001b[0m\u001b[1;33m[\u001b[0m\u001b[1;36m1\u001b[0m\u001b[1;33m:\u001b[0m\u001b[1;33m-\u001b[0m\u001b[1;36m1\u001b[0m\u001b[1;33m]\u001b[0m\u001b[1;33m)\u001b[0m\u001b[1;33m\u001b[0m\u001b[1;33m\u001b[0m\u001b[0m\n\u001b[0m\u001b[0;32m    258\u001b[0m                 )\n\u001b[0;32m    259\u001b[0m             \u001b[1;32mreturn\u001b[0m \u001b[0mself\u001b[0m\u001b[1;33m.\u001b[0m\u001b[0m_gotitem\u001b[0m\u001b[1;33m(\u001b[0m\u001b[0mlist\u001b[0m\u001b[1;33m(\u001b[0m\u001b[0mkey\u001b[0m\u001b[1;33m)\u001b[0m\u001b[1;33m,\u001b[0m \u001b[0mndim\u001b[0m\u001b[1;33m=\u001b[0m\u001b[1;36m2\u001b[0m\u001b[1;33m)\u001b[0m\u001b[1;33m\u001b[0m\u001b[1;33m\u001b[0m\u001b[0m\n",
      "\u001b[1;31mKeyError\u001b[0m: \"Columns not found: 'Error'\""
     ]
    }
   ],
   "source": [
    "name = \"CMpure\"\n",
    "param_name = 'beta'\n",
    "parm_range = [0, 3]\n",
    "niter= 10\n",
    "\n",
    "\n",
    "\n",
    "# navg = 1\n",
    "all_s = np.linspace(parm_range[0], parm_range[1],num = niter)\n",
    "\n",
    "wsse_s = pd.DataFrame()\n",
    "\n",
    "i = 0\n",
    "# now = np.zeros((niter, calc_wssd(df, name).size))\n",
    "for i_s in all_s:\n",
    "    \n",
    "    param_dic[param_name] = i_s\n",
    "    for key,val in param_dic.items(): exec(key + '=val')\n",
    "\n",
    "    wsse_s[\"iter\"+str(i)] = calc_wssd(df, name)#[\"mean\"].to_numpy()\n",
    "        \n",
    "    i+=1\n",
    "    \n",
    "wsse_s\n",
    "\n",
    "plt.figure()\n",
    "plt.plot(all_s, wsse_s.iloc[0])\n",
    "plt.show()\n",
    "\n",
    "minindex = wsse_s.iloc[0].to_numpy().argmin()\n",
    "print(all_s[minindex])\n",
    "\n",
    "param_dic[param_name] = all_s[minindex]\n",
    "for key,val in param_dic.items(): exec(key + '=val')\n"
   ]
  },
  {
   "cell_type": "markdown",
   "metadata": {
    "kernel": "SoS"
   },
   "source": [
    "## IR_old_CM"
   ]
  },
  {
   "cell_type": "code",
   "execution_count": 754,
   "metadata": {
    "kernel": "SoS"
   },
   "outputs": [
    {
     "name": "stderr",
     "output_type": "stream",
     "text": [
      "C:\\Users\\naszh\\Anaconda3\\lib\\site-packages\\ipykernel_launcher.py:14: SettingWithCopyWarning: \n",
      "A value is trying to be set on a copy of a slice from a DataFrame.\n",
      "Try using .loc[row_indexer,col_indexer] = value instead\n",
      "\n",
      "See the caveats in the documentation: http://pandas.pydata.org/pandas-docs/stable/user_guide/indexing.html#returning-a-view-versus-a-copy\n",
      "  \n",
      "C:\\Users\\naszh\\Anaconda3\\lib\\site-packages\\ipykernel_launcher.py:15: SettingWithCopyWarning: \n",
      "A value is trying to be set on a copy of a slice from a DataFrame.\n",
      "Try using .loc[row_indexer,col_indexer] = value instead\n",
      "\n",
      "See the caveats in the documentation: http://pandas.pydata.org/pandas-docs/stable/user_guide/indexing.html#returning-a-view-versus-a-copy\n",
      "  from ipykernel import kernelapp as app\n"
     ]
    },
    {
     "data": {
      "image/png": "[encoded data removed]",
      "text/plain": [
       "<Figure size 432x288 with 1 Axes>"
      ]
     },
     "metadata": {
      "needs_background": "light"
     },
     "output_type": "display_data"
    },
    {
     "name": "stdout",
     "output_type": "stream",
     "text": [
      "1.0\n"
     ]
    }
   ],
   "source": [
    "name = \"CMpure\"\n",
    "param_name = 'IR_old_CM'\n",
    "parm_range = [0, 1]\n",
    "niter= 10\n",
    "\n",
    "\n",
    "\n",
    "# navg = 1\n",
    "all_s = np.linspace(parm_range[0], parm_range[1],num = niter)\n",
    "\n",
    "wsse_s = pd.DataFrame()\n",
    "\n",
    "i = 0\n",
    "# now = np.zeros((niter, calc_wssd(df, name).size))\n",
    "for i_s in all_s:\n",
    "    \n",
    "    param_dic[param_name] = i_s\n",
    "    for key,val in param_dic.items(): exec(key + '=val')\n",
    "\n",
    "    wsse_s[\"iter\"+str(i)] = calc_wssd(df, name)#[\"mean\"].to_numpy()\n",
    "        \n",
    "    i+=1\n",
    "    \n",
    "wsse_s\n",
    "\n",
    "plt.figure()\n",
    "plt.plot(all_s, wsse_s.iloc[0])\n",
    "plt.show()\n",
    "\n",
    "minindex = wsse_s.iloc[0].to_numpy().argmin()\n",
    "print(all_s[minindex])\n",
    "\n",
    "param_dic[param_name] = all_s[minindex]\n",
    "for key,val in param_dic.items(): exec(key + '=val')\n"
   ]
  },
  {
   "cell_type": "markdown",
   "metadata": {
    "kernel": "SoS"
   },
   "source": [
    "## IR_old_AN"
   ]
  },
  {
   "cell_type": "code",
   "execution_count": 305,
   "metadata": {
    "kernel": "SoS"
   },
   "outputs": [
    {
     "name": "stderr",
     "output_type": "stream",
     "text": [
      "C:\\Users\\naszh\\Anaconda3\\lib\\site-packages\\ipykernel_launcher.py:14: SettingWithCopyWarning: \n",
      "A value is trying to be set on a copy of a slice from a DataFrame.\n",
      "Try using .loc[row_indexer,col_indexer] = value instead\n",
      "\n",
      "See the caveats in the documentation: http://pandas.pydata.org/pandas-docs/stable/user_guide/indexing.html#returning-a-view-versus-a-copy\n",
      "  \n",
      "C:\\Users\\naszh\\Anaconda3\\lib\\site-packages\\ipykernel_launcher.py:15: SettingWithCopyWarning: \n",
      "A value is trying to be set on a copy of a slice from a DataFrame.\n",
      "Try using .loc[row_indexer,col_indexer] = value instead\n",
      "\n",
      "See the caveats in the documentation: http://pandas.pydata.org/pandas-docs/stable/user_guide/indexing.html#returning-a-view-versus-a-copy\n",
      "  from ipykernel import kernelapp as app\n"
     ]
    },
    {
     "data": {
      "image/png": "[encoded data removed]",
      "text/plain": [
       "<Figure size 432x288 with 1 Axes>"
      ]
     },
     "metadata": {
      "needs_background": "light"
     },
     "output_type": "display_data"
    },
    {
     "name": "stdout",
     "output_type": "stream",
     "text": [
      "1.0\n"
     ]
    }
   ],
   "source": [
    "name = \"MIX\"\n",
    "param_name = 'IR_old_AN'\n",
    "parm_range = [0, 1]\n",
    "niter= 10\n",
    "\n",
    "\n",
    "\n",
    "# navg = 1\n",
    "all_s = np.linspace(parm_range[0], parm_range[1],num = niter)\n",
    "\n",
    "wsse_s = pd.DataFrame()\n",
    "\n",
    "i = 0\n",
    "# now = np.zeros((niter, calc_wssd(df, name).size))\n",
    "for i_s in all_s:\n",
    "    \n",
    "    param_dic[param_name] = i_s\n",
    "    for key,val in param_dic.items(): exec(key + '=val')\n",
    "\n",
    "    wsse_s[\"iter\"+str(i)] = calc_wssd(df, name)#[\"mean\"].to_numpy()\n",
    "        \n",
    "    i+=1\n",
    "    \n",
    "wsse_s\n",
    "\n",
    "plt.figure()\n",
    "plt.plot(all_s, wsse_s.iloc[0])\n",
    "plt.show()\n",
    "\n",
    "minindex = wsse_s.iloc[0].to_numpy().argmin()\n",
    "print(all_s[minindex])\n",
    "\n",
    "param_dic[param_name] = all_s[minindex]\n",
    "for key,val in param_dic.items(): exec(key + '=val')\n"
   ]
  },
  {
   "cell_type": "markdown",
   "metadata": {
    "kernel": "SoS"
   },
   "source": [
    "## IR_old_VM  "
   ]
  },
  {
   "cell_type": "code",
   "execution_count": 758,
   "metadata": {
    "kernel": "SoS"
   },
   "outputs": [
    {
     "name": "stderr",
     "output_type": "stream",
     "text": [
      "C:\\Users\\naszh\\Anaconda3\\lib\\site-packages\\ipykernel_launcher.py:14: SettingWithCopyWarning: \n",
      "A value is trying to be set on a copy of a slice from a DataFrame.\n",
      "Try using .loc[row_indexer,col_indexer] = value instead\n",
      "\n",
      "See the caveats in the documentation: http://pandas.pydata.org/pandas-docs/stable/user_guide/indexing.html#returning-a-view-versus-a-copy\n",
      "  \n",
      "C:\\Users\\naszh\\Anaconda3\\lib\\site-packages\\ipykernel_launcher.py:15: SettingWithCopyWarning: \n",
      "A value is trying to be set on a copy of a slice from a DataFrame.\n",
      "Try using .loc[row_indexer,col_indexer] = value instead\n",
      "\n",
      "See the caveats in the documentation: http://pandas.pydata.org/pandas-docs/stable/user_guide/indexing.html#returning-a-view-versus-a-copy\n",
      "  from ipykernel import kernelapp as app\n"
     ]
    },
    {
     "data": {
      "image/png": "[encoded data removed]",
      "text/plain": [
       "<Figure size 432x288 with 1 Axes>"
      ]
     },
     "metadata": {
      "needs_background": "light"
     },
     "output_type": "display_data"
    },
    {
     "name": "stdout",
     "output_type": "stream",
     "text": [
      "0.0\n"
     ]
    }
   ],
   "source": [
    "name = \"MIX\"\n",
    "param_name = 'old_VM'\n",
    "parm_range = [0, 4]\n",
    "niter= 10\n",
    "\n",
    "\n",
    "\n",
    "# navg = 1\n",
    "all_s = np.linspace(parm_range[0], parm_range[1],num = niter)\n",
    "\n",
    "wsse_s = pd.DataFrame()\n",
    "\n",
    "i = 0\n",
    "# now = np.zeros((niter, calc_wssd(df, name).size))\n",
    "for i_s in all_s:\n",
    "    \n",
    "    param_dic[param_name] = i_s\n",
    "    for key,val in param_dic.items(): exec(key + '=val')\n",
    "\n",
    "    wsse_s[\"iter\"+str(i)] = calc_wssd(df, name)#[\"mean\"].to_numpy()\n",
    "        \n",
    "    i+=1\n",
    "    \n",
    "wsse_s\n",
    "\n",
    "plt.figure()\n",
    "plt.plot(all_s, wsse_s.iloc[0])\n",
    "plt.show()\n",
    "\n",
    "minindex = wsse_s.iloc[0].to_numpy().argmin()\n",
    "print(all_s[minindex])\n",
    "\n",
    "param_dic[param_name] = all_s[minindex]\n",
    "for key,val in param_dic.items(): exec(key + '=val')\n"
   ]
  },
  {
   "cell_type": "markdown",
   "metadata": {
    "kernel": "SoS"
   },
   "source": [
    "## IR_new_CM  "
   ]
  },
  {
   "cell_type": "code",
   "execution_count": 756,
   "metadata": {
    "kernel": "SoS"
   },
   "outputs": [
    {
     "name": "stderr",
     "output_type": "stream",
     "text": [
      "C:\\Users\\naszh\\Anaconda3\\lib\\site-packages\\ipykernel_launcher.py:14: SettingWithCopyWarning: \n",
      "A value is trying to be set on a copy of a slice from a DataFrame.\n",
      "Try using .loc[row_indexer,col_indexer] = value instead\n",
      "\n",
      "See the caveats in the documentation: http://pandas.pydata.org/pandas-docs/stable/user_guide/indexing.html#returning-a-view-versus-a-copy\n",
      "  \n",
      "C:\\Users\\naszh\\Anaconda3\\lib\\site-packages\\ipykernel_launcher.py:15: SettingWithCopyWarning: \n",
      "A value is trying to be set on a copy of a slice from a DataFrame.\n",
      "Try using .loc[row_indexer,col_indexer] = value instead\n",
      "\n",
      "See the caveats in the documentation: http://pandas.pydata.org/pandas-docs/stable/user_guide/indexing.html#returning-a-view-versus-a-copy\n",
      "  from ipykernel import kernelapp as app\n"
     ]
    },
    {
     "data": {
      "image/png": "[encoded data removed]",
      "text/plain": [
       "<Figure size 432x288 with 1 Axes>"
      ]
     },
     "metadata": {
      "needs_background": "light"
     },
     "output_type": "display_data"
    },
    {
     "name": "stdout",
     "output_type": "stream",
     "text": [
      "0.0\n"
     ]
    }
   ],
   "source": [
    "name = \"CMpure\"\n",
    "param_name = 'IR_new_CM'\n",
    "parm_range = [0, 1]\n",
    "niter= 10\n",
    "\n",
    "\n",
    "\n",
    "# navg = 1\n",
    "all_s = np.linspace(parm_range[0], parm_range[1],num = niter)\n",
    "\n",
    "wsse_s = pd.DataFrame()\n",
    "\n",
    "i = 0\n",
    "# now = np.zeros((niter, calc_wssd(df, name).size))\n",
    "for i_s in all_s:\n",
    "    \n",
    "    param_dic[param_name] = i_s\n",
    "    for key,val in param_dic.items(): exec(key + '=val')\n",
    "\n",
    "    wsse_s[\"iter\"+str(i)] = calc_wssd(df, name)#[\"mean\"].to_numpy()\n",
    "        \n",
    "    i+=1\n",
    "    \n",
    "wsse_s\n",
    "\n",
    "plt.figure()\n",
    "plt.plot(all_s, wsse_s.iloc[0])\n",
    "plt.show()\n",
    "\n",
    "minindex = wsse_s.iloc[0].to_numpy().argmin()\n",
    "print(all_s[minindex])\n",
    "\n",
    "param_dic[param_name] = all_s[minindex]\n",
    "for key,val in param_dic.items(): exec(key + '=val')\n"
   ]
  },
  {
   "cell_type": "markdown",
   "metadata": {
    "kernel": "SoS"
   },
   "source": [
    "## Final Random Walk"
   ]
  },
  {
   "cell_type": "code",
   "execution_count": 532,
   "metadata": {
    "kernel": "SoS",
    "scrolled": true
   },
   "outputs": [
    {
     "name": "stderr",
     "output_type": "stream",
     "text": [
      "C:\\Users\\naszh\\Anaconda3\\lib\\site-packages\\ipykernel_launcher.py:7: SettingWithCopyWarning: \n",
      "A value is trying to be set on a copy of a slice from a DataFrame.\n",
      "Try using .loc[row_indexer,col_indexer] = value instead\n",
      "\n",
      "See the caveats in the documentation: http://pandas.pydata.org/pandas-docs/stable/user_guide/indexing.html#returning-a-view-versus-a-copy\n",
      "  import sys\n",
      "C:\\Users\\naszh\\Anaconda3\\lib\\site-packages\\ipykernel_launcher.py:8: SettingWithCopyWarning: \n",
      "A value is trying to be set on a copy of a slice from a DataFrame.\n",
      "Try using .loc[row_indexer,col_indexer] = value instead\n",
      "\n",
      "See the caveats in the documentation: http://pandas.pydata.org/pandas-docs/stable/user_guide/indexing.html#returning-a-view-versus-a-copy\n",
      "  \n"
     ]
    },
    {
     "ename": "KeyError",
     "evalue": "\"Columns not found: 'pred_rt', 'pred_error'\"",
     "output_type": "error",
     "traceback": [
      "\u001b[1;31m---------------------------------------------------------------------------\u001b[0m",
      "\u001b[1;31mKeyError\u001b[0m                                  Traceback (most recent call last)",
      "\u001b[1;32m<ipython-input-532-4a1f5860a839>\u001b[0m in \u001b[0;36m<module>\u001b[1;34m\u001b[0m\n\u001b[0;32m      8\u001b[0m     \u001b[0mdf\u001b[0m\u001b[1;33m[\u001b[0m\u001b[0mdf\u001b[0m\u001b[1;33m[\u001b[0m\u001b[1;34m\"FileCondi\"\u001b[0m\u001b[1;33m]\u001b[0m \u001b[1;33m==\u001b[0m \u001b[0miname\u001b[0m\u001b[1;33m]\u001b[0m\u001b[1;33m[\u001b[0m\u001b[1;34m\"pred_error\"\u001b[0m\u001b[1;33m]\u001b[0m \u001b[1;33m=\u001b[0m \u001b[1;36m1\u001b[0m\u001b[1;33m-\u001b[0m \u001b[0mpred_correct\u001b[0m\u001b[1;33m\u001b[0m\u001b[1;33m\u001b[0m\u001b[0m\n\u001b[0;32m      9\u001b[0m \u001b[1;33m\u001b[0m\u001b[0m\n\u001b[1;32m---> 10\u001b[1;33m \u001b[0mdf_sub_agg\u001b[0m \u001b[1;33m=\u001b[0m \u001b[0mdf\u001b[0m\u001b[1;33m.\u001b[0m\u001b[0mgroupby\u001b[0m\u001b[1;33m(\u001b[0m\u001b[1;33m[\u001b[0m\u001b[1;34m\"FileCondi\"\u001b[0m\u001b[1;33m,\u001b[0m\u001b[1;34m\"Oldnew\"\u001b[0m\u001b[1;33m,\u001b[0m\u001b[1;34m\"Setsize\"\u001b[0m\u001b[1;33m,\u001b[0m\u001b[1;34m\"Probtype\"\u001b[0m\u001b[1;33m]\u001b[0m\u001b[1;33m)\u001b[0m\u001b[1;33m[\u001b[0m\u001b[1;33m[\u001b[0m\u001b[1;34m\"RT\"\u001b[0m\u001b[1;33m,\u001b[0m\u001b[1;34m\"Error\"\u001b[0m\u001b[1;33m,\u001b[0m\u001b[1;34m\"pred_rt\"\u001b[0m\u001b[1;33m,\u001b[0m\u001b[1;34m\"pred_error\"\u001b[0m\u001b[1;33m]\u001b[0m\u001b[1;33m]\u001b[0m\u001b[1;33m.\u001b[0m\u001b[0magg\u001b[0m\u001b[1;33m(\u001b[0m\u001b[1;33m[\u001b[0m\u001b[1;34m\"mean\"\u001b[0m\u001b[1;33m]\u001b[0m\u001b[1;33m)\u001b[0m\u001b[1;33m\u001b[0m\u001b[1;33m\u001b[0m\u001b[0m\n\u001b[0m\u001b[0;32m     11\u001b[0m \u001b[1;33m\u001b[0m\u001b[0m\n\u001b[0;32m     12\u001b[0m \u001b[0mdf_sub_agg\u001b[0m\u001b[1;33m[\u001b[0m\u001b[1;34m'SSD_RT'\u001b[0m\u001b[1;33m]\u001b[0m \u001b[1;33m=\u001b[0m \u001b[1;33m(\u001b[0m\u001b[0mdf_sub_agg\u001b[0m\u001b[1;33m[\u001b[0m\u001b[1;34m\"RT\"\u001b[0m\u001b[1;33m]\u001b[0m \u001b[1;33m-\u001b[0m \u001b[0mdf_sub_agg\u001b[0m\u001b[1;33m[\u001b[0m\u001b[1;34m\"pred_rt\"\u001b[0m\u001b[1;33m]\u001b[0m\u001b[1;33m)\u001b[0m\u001b[1;33m**\u001b[0m\u001b[1;36m2\u001b[0m\u001b[1;33m\u001b[0m\u001b[1;33m\u001b[0m\u001b[0m\n",
      "\u001b[1;32m~\\Anaconda3\\lib\\site-packages\\pandas\\core\\base.py\u001b[0m in \u001b[0;36m__getitem__\u001b[1;34m(self, key)\u001b[0m\n\u001b[0;32m    255\u001b[0m                 \u001b[0mbad_keys\u001b[0m \u001b[1;33m=\u001b[0m \u001b[0mlist\u001b[0m\u001b[1;33m(\u001b[0m\u001b[0mset\u001b[0m\u001b[1;33m(\u001b[0m\u001b[0mkey\u001b[0m\u001b[1;33m)\u001b[0m\u001b[1;33m.\u001b[0m\u001b[0mdifference\u001b[0m\u001b[1;33m(\u001b[0m\u001b[0mself\u001b[0m\u001b[1;33m.\u001b[0m\u001b[0mobj\u001b[0m\u001b[1;33m.\u001b[0m\u001b[0mcolumns\u001b[0m\u001b[1;33m)\u001b[0m\u001b[1;33m)\u001b[0m\u001b[1;33m\u001b[0m\u001b[1;33m\u001b[0m\u001b[0m\n\u001b[0;32m    256\u001b[0m                 raise KeyError(\n\u001b[1;32m--> 257\u001b[1;33m                     \u001b[1;34m\"Columns not found: {missing}\"\u001b[0m\u001b[1;33m.\u001b[0m\u001b[0mformat\u001b[0m\u001b[1;33m(\u001b[0m\u001b[0mmissing\u001b[0m\u001b[1;33m=\u001b[0m\u001b[0mstr\u001b[0m\u001b[1;33m(\u001b[0m\u001b[0mbad_keys\u001b[0m\u001b[1;33m)\u001b[0m\u001b[1;33m[\u001b[0m\u001b[1;36m1\u001b[0m\u001b[1;33m:\u001b[0m\u001b[1;33m-\u001b[0m\u001b[1;36m1\u001b[0m\u001b[1;33m]\u001b[0m\u001b[1;33m)\u001b[0m\u001b[1;33m\u001b[0m\u001b[1;33m\u001b[0m\u001b[0m\n\u001b[0m\u001b[0;32m    258\u001b[0m                 )\n\u001b[0;32m    259\u001b[0m             \u001b[1;32mreturn\u001b[0m \u001b[0mself\u001b[0m\u001b[1;33m.\u001b[0m\u001b[0m_gotitem\u001b[0m\u001b[1;33m(\u001b[0m\u001b[0mlist\u001b[0m\u001b[1;33m(\u001b[0m\u001b[0mkey\u001b[0m\u001b[1;33m)\u001b[0m\u001b[1;33m,\u001b[0m \u001b[0mndim\u001b[0m\u001b[1;33m=\u001b[0m\u001b[1;36m2\u001b[0m\u001b[1;33m)\u001b[0m\u001b[1;33m\u001b[0m\u001b[1;33m\u001b[0m\u001b[0m\n",
      "\u001b[1;31mKeyError\u001b[0m: \"Columns not found: 'pred_rt', 'pred_error'\""
     ]
    }
   ],
   "source": [
    "# names = df[\"FileCondi\"].astype(\"category\").cat.categories.to_numpy() #get categories name\n",
    "\n",
    "# for iname in names:\n",
    "# #     print(iname)\n",
    "#     pred_rt, pred_correct = calc_theoretical_RW(df, iname)\n",
    "#     df_sub = df[df[\"FileCondi\"] == iname]\n",
    "#     df[df[\"FileCondi\"] == iname][\"pred_rt\"] = pred_rt\n",
    "#     df[df[\"FileCondi\"] == iname][\"pred_error\"] = 1- pred_correct\n",
    "\n",
    "# df_sub_agg = df.groupby([\"FileCondi\",\"Oldnew\",\"Setsize\",\"Probtype\"])[[\"RT\",\"Error\",\"pred_rt\",\"pred_error\"]].agg([\"mean\"])\n",
    "\n",
    "# df_sub_agg['SSD_RT'] = (df_sub_agg[\"RT\"] - df_sub_agg[\"pred_rt\"])**2\n",
    "# df_sub_agg['SSD_ER'] = (df_sub_agg[\"Error\"] - df_sub_agg[\"pred_error\"])**2"
   ]
  },
  {
   "cell_type": "code",
   "execution_count": 413,
   "metadata": {
    "kernel": "SoS"
   },
   "outputs": [
    {
     "name": "stderr",
     "output_type": "stream",
     "text": [
      "C:\\Users\\naszh\\Anaconda3\\lib\\site-packages\\ipykernel_launcher.py:21: SettingWithCopyWarning: \n",
      "A value is trying to be set on a copy of a slice from a DataFrame.\n",
      "Try using .loc[row_indexer,col_indexer] = value instead\n",
      "\n",
      "See the caveats in the documentation: http://pandas.pydata.org/pandas-docs/stable/user_guide/indexing.html#returning-a-view-versus-a-copy\n",
      "C:\\Users\\naszh\\Anaconda3\\lib\\site-packages\\ipykernel_launcher.py:22: SettingWithCopyWarning: \n",
      "A value is trying to be set on a copy of a slice from a DataFrame.\n",
      "Try using .loc[row_indexer,col_indexer] = value instead\n",
      "\n",
      "See the caveats in the documentation: http://pandas.pydata.org/pandas-docs/stable/user_guide/indexing.html#returning-a-view-versus-a-copy\n"
     ]
    },
    {
     "data": {
      "text/html": [
       "<div>\n",
       "<style scoped>\n",
       "    .dataframe tbody tr th:only-of-type {\n",
       "        vertical-align: middle;\n",
       "    }\n",
       "\n",
       "    .dataframe tbody tr th {\n",
       "        vertical-align: top;\n",
       "    }\n",
       "\n",
       "    .dataframe thead tr th {\n",
       "        text-align: left;\n",
       "    }\n",
       "</style>\n",
       "<table border=\"1\" class=\"dataframe\">\n",
       "  <thead>\n",
       "    <tr>\n",
       "      <th></th>\n",
       "      <th>Oldnew</th>\n",
       "      <th>Setsize</th>\n",
       "      <th>Probtype</th>\n",
       "      <th>Lag</th>\n",
       "      <th>FileCondi</th>\n",
       "      <th>Error</th>\n",
       "      <th>pred_error</th>\n",
       "    </tr>\n",
       "    <tr>\n",
       "      <th></th>\n",
       "      <th></th>\n",
       "      <th></th>\n",
       "      <th></th>\n",
       "      <th></th>\n",
       "      <th></th>\n",
       "      <th>mean</th>\n",
       "      <th></th>\n",
       "    </tr>\n",
       "  </thead>\n",
       "  <tbody>\n",
       "    <tr>\n",
       "      <td>2</td>\n",
       "      <td>new</td>\n",
       "      <td>2</td>\n",
       "      <td>AN</td>\n",
       "      <td>0</td>\n",
       "      <td>MIX</td>\n",
       "      <td>0.032641</td>\n",
       "      <td>0.082309</td>\n",
       "    </tr>\n",
       "    <tr>\n",
       "      <td>6</td>\n",
       "      <td>new</td>\n",
       "      <td>2</td>\n",
       "      <td>CM</td>\n",
       "      <td>0</td>\n",
       "      <td>MIX</td>\n",
       "      <td>0.040214</td>\n",
       "      <td>0.016192</td>\n",
       "    </tr>\n",
       "    <tr>\n",
       "      <td>11</td>\n",
       "      <td>new</td>\n",
       "      <td>4</td>\n",
       "      <td>AN</td>\n",
       "      <td>0</td>\n",
       "      <td>MIX</td>\n",
       "      <td>0.044568</td>\n",
       "      <td>0.220673</td>\n",
       "    </tr>\n",
       "    <tr>\n",
       "      <td>15</td>\n",
       "      <td>new</td>\n",
       "      <td>4</td>\n",
       "      <td>CM</td>\n",
       "      <td>0</td>\n",
       "      <td>MIX</td>\n",
       "      <td>0.109043</td>\n",
       "      <td>0.049394</td>\n",
       "    </tr>\n",
       "    <tr>\n",
       "      <td>20</td>\n",
       "      <td>new</td>\n",
       "      <td>8</td>\n",
       "      <td>AN</td>\n",
       "      <td>0</td>\n",
       "      <td>MIX</td>\n",
       "      <td>0.062874</td>\n",
       "      <td>0.468856</td>\n",
       "    </tr>\n",
       "    <tr>\n",
       "      <td>24</td>\n",
       "      <td>new</td>\n",
       "      <td>8</td>\n",
       "      <td>CM</td>\n",
       "      <td>0</td>\n",
       "      <td>MIX</td>\n",
       "      <td>0.174648</td>\n",
       "      <td>0.139402</td>\n",
       "    </tr>\n",
       "    <tr>\n",
       "      <td>29</td>\n",
       "      <td>old</td>\n",
       "      <td>2</td>\n",
       "      <td>AN</td>\n",
       "      <td>1</td>\n",
       "      <td>MIX</td>\n",
       "      <td>0.051282</td>\n",
       "      <td>0.190890</td>\n",
       "    </tr>\n",
       "    <tr>\n",
       "      <td>33</td>\n",
       "      <td>old</td>\n",
       "      <td>2</td>\n",
       "      <td>AN</td>\n",
       "      <td>2</td>\n",
       "      <td>MIX</td>\n",
       "      <td>0.061538</td>\n",
       "      <td>0.451230</td>\n",
       "    </tr>\n",
       "    <tr>\n",
       "      <td>37</td>\n",
       "      <td>old</td>\n",
       "      <td>2</td>\n",
       "      <td>CM</td>\n",
       "      <td>1</td>\n",
       "      <td>MIX</td>\n",
       "      <td>0.075581</td>\n",
       "      <td>0.127445</td>\n",
       "    </tr>\n",
       "    <tr>\n",
       "      <td>41</td>\n",
       "      <td>old</td>\n",
       "      <td>2</td>\n",
       "      <td>CM</td>\n",
       "      <td>2</td>\n",
       "      <td>MIX</td>\n",
       "      <td>0.046392</td>\n",
       "      <td>0.289948</td>\n",
       "    </tr>\n",
       "    <tr>\n",
       "      <td>47</td>\n",
       "      <td>old</td>\n",
       "      <td>4</td>\n",
       "      <td>AN</td>\n",
       "      <td>1</td>\n",
       "      <td>MIX</td>\n",
       "      <td>0.032609</td>\n",
       "      <td>0.140798</td>\n",
       "    </tr>\n",
       "    <tr>\n",
       "      <td>51</td>\n",
       "      <td>old</td>\n",
       "      <td>4</td>\n",
       "      <td>AN</td>\n",
       "      <td>2</td>\n",
       "      <td>MIX</td>\n",
       "      <td>0.053191</td>\n",
       "      <td>0.324704</td>\n",
       "    </tr>\n",
       "    <tr>\n",
       "      <td>55</td>\n",
       "      <td>old</td>\n",
       "      <td>4</td>\n",
       "      <td>AN</td>\n",
       "      <td>3</td>\n",
       "      <td>MIX</td>\n",
       "      <td>0.094737</td>\n",
       "      <td>0.420494</td>\n",
       "    </tr>\n",
       "    <tr>\n",
       "      <td>59</td>\n",
       "      <td>old</td>\n",
       "      <td>4</td>\n",
       "      <td>AN</td>\n",
       "      <td>4</td>\n",
       "      <td>MIX</td>\n",
       "      <td>0.108108</td>\n",
       "      <td>0.473046</td>\n",
       "    </tr>\n",
       "    <tr>\n",
       "      <td>63</td>\n",
       "      <td>old</td>\n",
       "      <td>4</td>\n",
       "      <td>CM</td>\n",
       "      <td>1</td>\n",
       "      <td>MIX</td>\n",
       "      <td>0.042105</td>\n",
       "      <td>0.096472</td>\n",
       "    </tr>\n",
       "    <tr>\n",
       "      <td>67</td>\n",
       "      <td>old</td>\n",
       "      <td>4</td>\n",
       "      <td>CM</td>\n",
       "      <td>2</td>\n",
       "      <td>MIX</td>\n",
       "      <td>0.112360</td>\n",
       "      <td>0.209465</td>\n",
       "    </tr>\n",
       "    <tr>\n",
       "      <td>71</td>\n",
       "      <td>old</td>\n",
       "      <td>4</td>\n",
       "      <td>CM</td>\n",
       "      <td>3</td>\n",
       "      <td>MIX</td>\n",
       "      <td>0.113636</td>\n",
       "      <td>0.269909</td>\n",
       "    </tr>\n",
       "    <tr>\n",
       "      <td>75</td>\n",
       "      <td>old</td>\n",
       "      <td>4</td>\n",
       "      <td>CM</td>\n",
       "      <td>4</td>\n",
       "      <td>MIX</td>\n",
       "      <td>0.141176</td>\n",
       "      <td>0.304421</td>\n",
       "    </tr>\n",
       "    <tr>\n",
       "      <td>83</td>\n",
       "      <td>old</td>\n",
       "      <td>8</td>\n",
       "      <td>AN</td>\n",
       "      <td>1</td>\n",
       "      <td>MIX</td>\n",
       "      <td>0.000000</td>\n",
       "      <td>0.093776</td>\n",
       "    </tr>\n",
       "    <tr>\n",
       "      <td>87</td>\n",
       "      <td>old</td>\n",
       "      <td>8</td>\n",
       "      <td>AN</td>\n",
       "      <td>2</td>\n",
       "      <td>MIX</td>\n",
       "      <td>0.000000</td>\n",
       "      <td>0.202543</td>\n",
       "    </tr>\n",
       "    <tr>\n",
       "      <td>91</td>\n",
       "      <td>old</td>\n",
       "      <td>8</td>\n",
       "      <td>AN</td>\n",
       "      <td>3</td>\n",
       "      <td>MIX</td>\n",
       "      <td>0.108696</td>\n",
       "      <td>0.260699</td>\n",
       "    </tr>\n",
       "    <tr>\n",
       "      <td>95</td>\n",
       "      <td>old</td>\n",
       "      <td>8</td>\n",
       "      <td>AN</td>\n",
       "      <td>4</td>\n",
       "      <td>MIX</td>\n",
       "      <td>0.187500</td>\n",
       "      <td>0.293945</td>\n",
       "    </tr>\n",
       "    <tr>\n",
       "      <td>99</td>\n",
       "      <td>old</td>\n",
       "      <td>8</td>\n",
       "      <td>AN</td>\n",
       "      <td>5</td>\n",
       "      <td>MIX</td>\n",
       "      <td>0.156863</td>\n",
       "      <td>0.314876</td>\n",
       "    </tr>\n",
       "    <tr>\n",
       "      <td>103</td>\n",
       "      <td>old</td>\n",
       "      <td>8</td>\n",
       "      <td>AN</td>\n",
       "      <td>6</td>\n",
       "      <td>MIX</td>\n",
       "      <td>0.125000</td>\n",
       "      <td>0.329073</td>\n",
       "    </tr>\n",
       "    <tr>\n",
       "      <td>107</td>\n",
       "      <td>old</td>\n",
       "      <td>8</td>\n",
       "      <td>AN</td>\n",
       "      <td>7</td>\n",
       "      <td>MIX</td>\n",
       "      <td>0.127660</td>\n",
       "      <td>0.339251</td>\n",
       "    </tr>\n",
       "    <tr>\n",
       "      <td>111</td>\n",
       "      <td>old</td>\n",
       "      <td>8</td>\n",
       "      <td>AN</td>\n",
       "      <td>8</td>\n",
       "      <td>MIX</td>\n",
       "      <td>0.044444</td>\n",
       "      <td>0.346864</td>\n",
       "    </tr>\n",
       "    <tr>\n",
       "      <td>115</td>\n",
       "      <td>old</td>\n",
       "      <td>8</td>\n",
       "      <td>CM</td>\n",
       "      <td>1</td>\n",
       "      <td>MIX</td>\n",
       "      <td>0.020000</td>\n",
       "      <td>0.066640</td>\n",
       "    </tr>\n",
       "    <tr>\n",
       "      <td>119</td>\n",
       "      <td>old</td>\n",
       "      <td>8</td>\n",
       "      <td>CM</td>\n",
       "      <td>2</td>\n",
       "      <td>MIX</td>\n",
       "      <td>0.037037</td>\n",
       "      <td>0.134588</td>\n",
       "    </tr>\n",
       "    <tr>\n",
       "      <td>123</td>\n",
       "      <td>old</td>\n",
       "      <td>8</td>\n",
       "      <td>CM</td>\n",
       "      <td>3</td>\n",
       "      <td>MIX</td>\n",
       "      <td>0.107143</td>\n",
       "      <td>0.170130</td>\n",
       "    </tr>\n",
       "    <tr>\n",
       "      <td>127</td>\n",
       "      <td>old</td>\n",
       "      <td>8</td>\n",
       "      <td>CM</td>\n",
       "      <td>4</td>\n",
       "      <td>MIX</td>\n",
       "      <td>0.083333</td>\n",
       "      <td>0.190499</td>\n",
       "    </tr>\n",
       "    <tr>\n",
       "      <td>131</td>\n",
       "      <td>old</td>\n",
       "      <td>8</td>\n",
       "      <td>CM</td>\n",
       "      <td>5</td>\n",
       "      <td>MIX</td>\n",
       "      <td>0.111111</td>\n",
       "      <td>0.203389</td>\n",
       "    </tr>\n",
       "    <tr>\n",
       "      <td>135</td>\n",
       "      <td>old</td>\n",
       "      <td>8</td>\n",
       "      <td>CM</td>\n",
       "      <td>6</td>\n",
       "      <td>MIX</td>\n",
       "      <td>0.069767</td>\n",
       "      <td>0.212172</td>\n",
       "    </tr>\n",
       "    <tr>\n",
       "      <td>139</td>\n",
       "      <td>old</td>\n",
       "      <td>8</td>\n",
       "      <td>CM</td>\n",
       "      <td>7</td>\n",
       "      <td>MIX</td>\n",
       "      <td>0.181818</td>\n",
       "      <td>0.218492</td>\n",
       "    </tr>\n",
       "    <tr>\n",
       "      <td>143</td>\n",
       "      <td>old</td>\n",
       "      <td>8</td>\n",
       "      <td>CM</td>\n",
       "      <td>8</td>\n",
       "      <td>MIX</td>\n",
       "      <td>0.304348</td>\n",
       "      <td>0.223234</td>\n",
       "    </tr>\n",
       "  </tbody>\n",
       "</table>\n",
       "</div>"
      ],
      "text/plain": [
       "    Oldnew Setsize Probtype Lag FileCondi     Error pred_error\n",
       "                                               mean           \n",
       "2      new       2       AN   0       MIX  0.032641   0.082309\n",
       "6      new       2       CM   0       MIX  0.040214   0.016192\n",
       "11     new       4       AN   0       MIX  0.044568   0.220673\n",
       "15     new       4       CM   0       MIX  0.109043   0.049394\n",
       "20     new       8       AN   0       MIX  0.062874   0.468856\n",
       "24     new       8       CM   0       MIX  0.174648   0.139402\n",
       "29     old       2       AN   1       MIX  0.051282   0.190890\n",
       "33     old       2       AN   2       MIX  0.061538   0.451230\n",
       "37     old       2       CM   1       MIX  0.075581   0.127445\n",
       "41     old       2       CM   2       MIX  0.046392   0.289948\n",
       "47     old       4       AN   1       MIX  0.032609   0.140798\n",
       "51     old       4       AN   2       MIX  0.053191   0.324704\n",
       "55     old       4       AN   3       MIX  0.094737   0.420494\n",
       "59     old       4       AN   4       MIX  0.108108   0.473046\n",
       "63     old       4       CM   1       MIX  0.042105   0.096472\n",
       "67     old       4       CM   2       MIX  0.112360   0.209465\n",
       "71     old       4       CM   3       MIX  0.113636   0.269909\n",
       "75     old       4       CM   4       MIX  0.141176   0.304421\n",
       "83     old       8       AN   1       MIX  0.000000   0.093776\n",
       "87     old       8       AN   2       MIX  0.000000   0.202543\n",
       "91     old       8       AN   3       MIX  0.108696   0.260699\n",
       "95     old       8       AN   4       MIX  0.187500   0.293945\n",
       "99     old       8       AN   5       MIX  0.156863   0.314876\n",
       "103    old       8       AN   6       MIX  0.125000   0.329073\n",
       "107    old       8       AN   7       MIX  0.127660   0.339251\n",
       "111    old       8       AN   8       MIX  0.044444   0.346864\n",
       "115    old       8       CM   1       MIX  0.020000   0.066640\n",
       "119    old       8       CM   2       MIX  0.037037   0.134588\n",
       "123    old       8       CM   3       MIX  0.107143   0.170130\n",
       "127    old       8       CM   4       MIX  0.083333   0.190499\n",
       "131    old       8       CM   5       MIX  0.111111   0.203389\n",
       "135    old       8       CM   6       MIX  0.069767   0.212172\n",
       "139    old       8       CM   7       MIX  0.181818   0.218492\n",
       "143    old       8       CM   8       MIX  0.304348   0.223234"
      ]
     },
     "execution_count": 413,
     "metadata": {},
     "output_type": "execute_result"
    }
   ],
   "source": []
  },
  {
   "cell_type": "code",
   "execution_count": 235,
   "metadata": {
    "kernel": "SoS"
   },
   "outputs": [
    {
     "data": {
      "text/html": [
       "<div>\n",
       "<style scoped>\n",
       "    .dataframe tbody tr th:only-of-type {\n",
       "        vertical-align: middle;\n",
       "    }\n",
       "\n",
       "    .dataframe tbody tr th {\n",
       "        vertical-align: top;\n",
       "    }\n",
       "\n",
       "    .dataframe thead tr th {\n",
       "        text-align: left;\n",
       "    }\n",
       "</style>\n",
       "<table border=\"1\" class=\"dataframe\">\n",
       "  <thead>\n",
       "    <tr>\n",
       "      <th></th>\n",
       "      <th>Oldnew</th>\n",
       "      <th>Setsize</th>\n",
       "      <th>Probtype</th>\n",
       "      <th>Lag</th>\n",
       "      <th>FileCondi</th>\n",
       "      <th>Error</th>\n",
       "    </tr>\n",
       "    <tr>\n",
       "      <th></th>\n",
       "      <th></th>\n",
       "      <th></th>\n",
       "      <th></th>\n",
       "      <th></th>\n",
       "      <th></th>\n",
       "      <th>mean</th>\n",
       "    </tr>\n",
       "  </thead>\n",
       "  <tbody>\n",
       "    <tr>\n",
       "      <td>0</td>\n",
       "      <td>new</td>\n",
       "      <td>2</td>\n",
       "      <td>AN</td>\n",
       "      <td>0</td>\n",
       "      <td>ANpure</td>\n",
       "      <td>0.074648</td>\n",
       "    </tr>\n",
       "    <tr>\n",
       "      <td>1</td>\n",
       "      <td>new</td>\n",
       "      <td>2</td>\n",
       "      <td>AN</td>\n",
       "      <td>0</td>\n",
       "      <td>CMat</td>\n",
       "      <td>0.053571</td>\n",
       "    </tr>\n",
       "    <tr>\n",
       "      <td>2</td>\n",
       "      <td>new</td>\n",
       "      <td>2</td>\n",
       "      <td>AN</td>\n",
       "      <td>0</td>\n",
       "      <td>MIX</td>\n",
       "      <td>0.032641</td>\n",
       "    </tr>\n",
       "    <tr>\n",
       "      <td>3</td>\n",
       "      <td>new</td>\n",
       "      <td>2</td>\n",
       "      <td>AN</td>\n",
       "      <td>0</td>\n",
       "      <td>MIX2</td>\n",
       "      <td>0.033520</td>\n",
       "    </tr>\n",
       "    <tr>\n",
       "      <td>4</td>\n",
       "      <td>new</td>\n",
       "      <td>2</td>\n",
       "      <td>CM</td>\n",
       "      <td>0</td>\n",
       "      <td>CMat</td>\n",
       "      <td>0.089337</td>\n",
       "    </tr>\n",
       "    <tr>\n",
       "      <td>...</td>\n",
       "      <td>...</td>\n",
       "      <td>...</td>\n",
       "      <td>...</td>\n",
       "      <td>...</td>\n",
       "      <td>...</td>\n",
       "      <td>...</td>\n",
       "    </tr>\n",
       "    <tr>\n",
       "      <td>148</td>\n",
       "      <td>old</td>\n",
       "      <td>8</td>\n",
       "      <td>VM</td>\n",
       "      <td>4</td>\n",
       "      <td>VMpure</td>\n",
       "      <td>0.216495</td>\n",
       "    </tr>\n",
       "    <tr>\n",
       "      <td>149</td>\n",
       "      <td>old</td>\n",
       "      <td>8</td>\n",
       "      <td>VM</td>\n",
       "      <td>5</td>\n",
       "      <td>VMpure</td>\n",
       "      <td>0.122222</td>\n",
       "    </tr>\n",
       "    <tr>\n",
       "      <td>150</td>\n",
       "      <td>old</td>\n",
       "      <td>8</td>\n",
       "      <td>VM</td>\n",
       "      <td>6</td>\n",
       "      <td>VMpure</td>\n",
       "      <td>0.336957</td>\n",
       "    </tr>\n",
       "    <tr>\n",
       "      <td>151</td>\n",
       "      <td>old</td>\n",
       "      <td>8</td>\n",
       "      <td>VM</td>\n",
       "      <td>7</td>\n",
       "      <td>VMpure</td>\n",
       "      <td>0.257143</td>\n",
       "    </tr>\n",
       "    <tr>\n",
       "      <td>152</td>\n",
       "      <td>old</td>\n",
       "      <td>8</td>\n",
       "      <td>VM</td>\n",
       "      <td>8</td>\n",
       "      <td>VMpure</td>\n",
       "      <td>0.240506</td>\n",
       "    </tr>\n",
       "  </tbody>\n",
       "</table>\n",
       "<p>153 rows × 6 columns</p>\n",
       "</div>"
      ],
      "text/plain": [
       "    Oldnew Setsize Probtype Lag FileCondi     Error\n",
       "                                               mean\n",
       "0      new       2       AN   0    ANpure  0.074648\n",
       "1      new       2       AN   0      CMat  0.053571\n",
       "2      new       2       AN   0       MIX  0.032641\n",
       "3      new       2       AN   0      MIX2  0.033520\n",
       "4      new       2       CM   0      CMat  0.089337\n",
       "..     ...     ...      ...  ..       ...       ...\n",
       "148    old       8       VM   4    VMpure  0.216495\n",
       "149    old       8       VM   5    VMpure  0.122222\n",
       "150    old       8       VM   6    VMpure  0.336957\n",
       "151    old       8       VM   7    VMpure  0.257143\n",
       "152    old       8       VM   8    VMpure  0.240506\n",
       "\n",
       "[153 rows x 6 columns]"
      ]
     },
     "execution_count": 235,
     "metadata": {},
     "output_type": "execute_result"
    }
   ],
   "source": [
    "df_sub_err"
   ]
  },
  {
   "cell_type": "code",
   "execution_count": 481,
   "metadata": {
    "kernel": "SoS"
   },
   "outputs": [
    {
     "data": {
      "text/plain": [
       "array([ 849.2267474 ,  966.52530387,  853.59759464, ...,  839.03160314,\n",
       "        853.85999353, 1010.34286576])"
      ]
     },
     "execution_count": 481,
     "metadata": {},
     "output_type": "execute_result"
    }
   ],
   "source": [
    "np.array(\\\n",
    "    np.array([eval(['pred_rt'+ np.arange(1,4).astype(str)[i] for i in range(3)][i]).tolist() \\\n",
    "              for i in range(3)]).flatten('F')[0])"
   ]
  },
  {
   "cell_type": "code",
   "execution_count": 236,
   "metadata": {
    "kernel": "SoS"
   },
   "outputs": [
    {
     "name": "stderr",
     "output_type": "stream",
     "text": [
      "C:\\Users\\naszh\\Anaconda3\\lib\\site-packages\\pandas\\core\\generic.py:3946: PerformanceWarning: dropping on a non-lexsorted multi-index without a level parameter may impact performance.\n",
      "  new_axis = axis.drop(labels, errors=errors)\n"
     ]
    },
    {
     "data": {
      "text/html": [
       "<div>\n",
       "<style scoped>\n",
       "    .dataframe tbody tr th:only-of-type {\n",
       "        vertical-align: middle;\n",
       "    }\n",
       "\n",
       "    .dataframe tbody tr th {\n",
       "        vertical-align: top;\n",
       "    }\n",
       "\n",
       "    .dataframe thead tr th {\n",
       "        text-align: left;\n",
       "    }\n",
       "\n",
       "    .dataframe thead tr:last-of-type th {\n",
       "        text-align: right;\n",
       "    }\n",
       "</style>\n",
       "<table border=\"1\" class=\"dataframe\">\n",
       "  <thead>\n",
       "    <tr>\n",
       "      <th></th>\n",
       "      <th></th>\n",
       "      <th></th>\n",
       "      <th></th>\n",
       "      <th></th>\n",
       "      <th>RT</th>\n",
       "      <th>pred_rt</th>\n",
       "    </tr>\n",
       "    <tr>\n",
       "      <th></th>\n",
       "      <th></th>\n",
       "      <th></th>\n",
       "      <th></th>\n",
       "      <th></th>\n",
       "      <th>mean</th>\n",
       "      <th></th>\n",
       "    </tr>\n",
       "    <tr>\n",
       "      <th></th>\n",
       "      <th></th>\n",
       "      <th></th>\n",
       "      <th></th>\n",
       "      <th></th>\n",
       "      <th>mean</th>\n",
       "      <th>mean</th>\n",
       "    </tr>\n",
       "    <tr>\n",
       "      <th>Oldnew</th>\n",
       "      <th>Setsize</th>\n",
       "      <th>Probtype</th>\n",
       "      <th>Lag</th>\n",
       "      <th>FileCondi</th>\n",
       "      <th></th>\n",
       "      <th></th>\n",
       "    </tr>\n",
       "  </thead>\n",
       "  <tbody>\n",
       "    <tr>\n",
       "      <td rowspan=\"5\" valign=\"top\">new</td>\n",
       "      <td rowspan=\"5\" valign=\"top\">2</td>\n",
       "      <td rowspan=\"4\" valign=\"top\">AN</td>\n",
       "      <td rowspan=\"4\" valign=\"top\">0</td>\n",
       "      <td>ANpure</td>\n",
       "      <td>802.972603</td>\n",
       "      <td>919.385114</td>\n",
       "    </tr>\n",
       "    <tr>\n",
       "      <td>CMat</td>\n",
       "      <td>681.754717</td>\n",
       "      <td>919.385114</td>\n",
       "    </tr>\n",
       "    <tr>\n",
       "      <td>MIX</td>\n",
       "      <td>758.693252</td>\n",
       "      <td>919.385114</td>\n",
       "    </tr>\n",
       "    <tr>\n",
       "      <td>MIX2</td>\n",
       "      <td>860.904624</td>\n",
       "      <td>919.385114</td>\n",
       "    </tr>\n",
       "    <tr>\n",
       "      <td>CM</td>\n",
       "      <td>0</td>\n",
       "      <td>CMat</td>\n",
       "      <td>721.398734</td>\n",
       "      <td>1022.731941</td>\n",
       "    </tr>\n",
       "    <tr>\n",
       "      <td>...</td>\n",
       "      <td>...</td>\n",
       "      <td>...</td>\n",
       "      <td>...</td>\n",
       "      <td>...</td>\n",
       "      <td>...</td>\n",
       "      <td>...</td>\n",
       "    </tr>\n",
       "    <tr>\n",
       "      <td rowspan=\"5\" valign=\"top\">old</td>\n",
       "      <td rowspan=\"5\" valign=\"top\">8</td>\n",
       "      <td rowspan=\"5\" valign=\"top\">VM</td>\n",
       "      <td>4</td>\n",
       "      <td>VMpure</td>\n",
       "      <td>896.421053</td>\n",
       "      <td>851.452873</td>\n",
       "    </tr>\n",
       "    <tr>\n",
       "      <td>5</td>\n",
       "      <td>VMpure</td>\n",
       "      <td>908.658228</td>\n",
       "      <td>851.545563</td>\n",
       "    </tr>\n",
       "    <tr>\n",
       "      <td>6</td>\n",
       "      <td>VMpure</td>\n",
       "      <td>962.377049</td>\n",
       "      <td>851.605119</td>\n",
       "    </tr>\n",
       "    <tr>\n",
       "      <td>7</td>\n",
       "      <td>VMpure</td>\n",
       "      <td>942.743590</td>\n",
       "      <td>851.646353</td>\n",
       "    </tr>\n",
       "    <tr>\n",
       "      <td>8</td>\n",
       "      <td>VMpure</td>\n",
       "      <td>965.583333</td>\n",
       "      <td>851.676454</td>\n",
       "    </tr>\n",
       "  </tbody>\n",
       "</table>\n",
       "<p>153 rows × 2 columns</p>\n",
       "</div>"
      ],
      "text/plain": [
       "                                               RT      pred_rt\n",
       "                                             mean             \n",
       "                                             mean         mean\n",
       "Oldnew Setsize Probtype Lag FileCondi                         \n",
       "new    2       AN       0   ANpure     802.972603   919.385114\n",
       "                            CMat       681.754717   919.385114\n",
       "                            MIX        758.693252   919.385114\n",
       "                            MIX2       860.904624   919.385114\n",
       "               CM       0   CMat       721.398734  1022.731941\n",
       "...                                           ...          ...\n",
       "old    8       VM       4   VMpure     896.421053   851.452873\n",
       "                        5   VMpure     908.658228   851.545563\n",
       "                        6   VMpure     962.377049   851.605119\n",
       "                        7   VMpure     942.743590   851.646353\n",
       "                        8   VMpure     965.583333   851.676454\n",
       "\n",
       "[153 rows x 2 columns]"
      ]
     },
     "execution_count": 236,
     "metadata": {},
     "output_type": "execute_result"
    }
   ],
   "source": [
    "df_all_crt.groupby([\"Oldnew\",\"Setsize\",\"Probtype\",\"Lag\",\"FileCondi\"]).agg([\"mean\"])#.apply(lambda x: x)"
   ]
  },
  {
   "cell_type": "code",
   "execution_count": 414,
   "metadata": {
    "kernel": "SoS",
    "scrolled": false
   },
   "outputs": [
    {
     "name": "stderr",
     "output_type": "stream",
     "text": [
      "C:\\Users\\naszh\\Anaconda3\\lib\\site-packages\\pandas\\core\\generic.py:3946: PerformanceWarning: dropping on a non-lexsorted multi-index without a level parameter may impact performance.\n",
      "  new_axis = axis.drop(labels, errors=errors)\n"
     ]
    },
    {
     "data": {
      "image/png": "[encoded data removed]",
      "text/plain": [
       "<Figure size 1152x576 with 6 Axes>"
      ]
     },
     "metadata": {
      "needs_background": "light"
     },
     "output_type": "display_data"
    },
    {
     "data": {
      "image/png": "[encoded data removed]",
      "text/plain": [
       "<Figure size 1152x576 with 6 Axes>"
      ]
     },
     "metadata": {
      "needs_background": "light"
     },
     "output_type": "display_data"
    }
   ],
   "source": []
  },
  {
   "cell_type": "code",
   "execution_count": 415,
   "metadata": {
    "kernel": "SoS"
   },
   "outputs": [
    {
     "data": {
      "image/png": "[encoded data removed]",
      "text/plain": [
       "<Figure size 1152x576 with 6 Axes>"
      ]
     },
     "metadata": {
      "needs_background": "light"
     },
     "output_type": "display_data"
    },
    {
     "data": {
      "image/png": "[encoded data removed]",
      "text/plain": [
       "<Figure size 1152x576 with 6 Axes>"
      ]
     },
     "metadata": {
      "needs_background": "light"
     },
     "output_type": "display_data"
    }
   ],
   "source": []
  },
  {
   "cell_type": "code",
   "execution_count": null,
   "metadata": {
    "kernel": "SoS"
   },
   "outputs": [],
   "source": []
  },
  {
   "cell_type": "code",
   "execution_count": null,
   "metadata": {
    "kernel": "SoS"
   },
   "outputs": [],
   "source": []
  },
  {
   "cell_type": "code",
   "execution_count": null,
   "metadata": {
    "kernel": "SoS"
   },
   "outputs": [],
   "source": []
  },
  {
   "cell_type": "code",
   "execution_count": null,
   "metadata": {
    "kernel": "SoS"
   },
   "outputs": [],
   "source": []
  },
  {
   "cell_type": "code",
   "execution_count": null,
   "metadata": {
    "kernel": "SoS"
   },
   "outputs": [],
   "source": []
  }
 ],
 "metadata": {
  "kernelspec": {
   "display_name": "SoS",
   "language": "sos",
   "name": "sos"
  },
  "language_info": {
   "codemirror_mode": "sos",
   "file_extension": ".sos",
   "mimetype": "text/x-sos",
   "name": "sos",
   "nbconvert_exporter": "sos_notebook.converter.SoS_Exporter",
   "pygments_lexer": "sos"
  },
  "latex_envs": {
   "LaTeX_envs_menu_present": true,
   "autoclose": false,
   "autocomplete": true,
   "bibliofile": "biblio.bib",
   "cite_by": "apalike",
   "current_citInitial": 1,
   "eqLabelWithNumbers": true,
   "eqNumInitial": 1,
   "hotkeys": {
    "equation": "Ctrl-E",
    "itemize": "Ctrl-I"
   },
   "labels_anchors": false,
   "latex_user_defs": false,
   "report_style_numbering": false,
   "user_envs_cfg": false
  },
  "sos": {
   "kernels": [
    [
     null,
     null,
     "",
     "",
     ""
    ]
   ],
   "panel": {
    "displayed": true,
    "height": 0
   },
   "version": "0.20.6"
  },
  "toc": {
   "base_numbering": 1,
   "nav_menu": {},
   "number_sections": true,
   "sideBar": true,
   "skip_h1_title": false,
   "title_cell": "Table of Contents",
   "title_sidebar": "Contents",
   "toc_cell": false,
   "toc_position": {
    "height": "calc(100% - 180px)",
    "left": "10px",
    "top": "150px",
    "width": "323.969px"
   },
   "toc_section_display": true,
   "toc_window_display": true
  },
  "varInspector": {
   "cols": {
    "lenName": 16,
    "lenType": 16,
    "lenVar": 40
   },
   "kernels_config": {
    "python": {
     "delete_cmd_postfix": "",
     "delete_cmd_prefix": "del ",
     "library": "var_list.py",
     "varRefreshCmd": "print(var_dic_list())"
    },
    "r": {
     "delete_cmd_postfix": ") ",
     "delete_cmd_prefix": "rm(",
     "library": "var_list.r",
     "varRefreshCmd": "cat(var_dic_list()) "
    }
   },
   "types_to_exclude": [
    "module",
    "function",
    "builtin_function_or_method",
    "instance",
    "_Feature"
   ],
   "window_display": false
  }
 },
 "nbformat": 4,
 "nbformat_minor": 2
}
