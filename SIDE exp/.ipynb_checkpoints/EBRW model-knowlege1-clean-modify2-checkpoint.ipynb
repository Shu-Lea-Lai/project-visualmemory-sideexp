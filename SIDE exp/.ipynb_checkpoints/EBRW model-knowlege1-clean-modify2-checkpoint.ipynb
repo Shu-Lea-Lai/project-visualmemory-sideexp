{
 "cells": [
  {
   "cell_type": "markdown",
   "metadata": {},
   "source": [
    "# Set up \n"
   ]
  },
  {
   "cell_type": "code",
   "execution_count": 2,
   "metadata": {},
   "outputs": [],
   "source": [
    "import numpy as np\n",
    "import pandas as pd\n",
    "import time\n",
    "import matplotlib.pyplot as plt\n",
    "import sys\n",
    "import scipy.optimize as optimize\n",
    "import threading\n",
    "from scipy.optimize import LinearConstraint\n",
    "from datetime import datetime"
   ]
  },
  {
   "cell_type": "code",
   "execution_count": 13,
   "metadata": {},
   "outputs": [],
   "source": [
    "path=\"./\" + \"sidedata/\"\n",
    "filename = path + \"Alldata2.csv\"\n",
    "\n",
    "df=pd.read_csv(filename, index_col=None)\n",
    "df['Probtype'] = np.where(df['Stimkind']==1, \"CM\",\n",
    "                   np.where(df['Stimkind']==0, \"AN\",\n",
    "                   np.where(df['Stimkind']==3, 'VM',\"wrong\")))\n",
    "\n",
    "df['Oldnew'] = np.where(df['Old']==1, \"old\",\n",
    "                   np.where(df['Old']==2, \"new\",\"wrong\"))\n",
    "df['Error'] = 1-df['Correctness']\n",
    "df_org = df[df['RT']<2000]\n",
    "df = df_org.groupby([\"Oldnew\",\"Setsize\",\"Probtype\",\"Lag\",\"Error\",\"FileCondi\"])[[\"RT\"]].agg([\"mean\"])\n",
    "# df[[\"Correctness\",\"Error\"]]\n",
    "# df.groupby(\"Error\")\n",
    "df.index.name = 'Setsize'\n",
    "df.reset_index(inplace=True)\n",
    "# df[\"Error\"]\n",
    "\n",
    "\n",
    "df_err = df_org.groupby([\"Oldnew\",\"Setsize\",\"Probtype\",\"Lag\",\"FileCondi\"])[[\"Error\"]].agg([\"mean\"]).reset_index()\n",
    "df_crt = df_org[df_org[\"Error\"]==0].\\\n",
    "groupby([\"Oldnew\",\"Setsize\",\"Probtype\",\"Lag\",\"FileCondi\"])[[\"RT\"]].agg([\"mean\"]).reset_index()\n",
    "\n",
    "df_err.columns = df_err.columns.droplevel(1)\n",
    "df_crt.columns = df_crt.columns.droplevel(1)\n",
    "\n",
    "# df_err.reindex(np.arange(1,df_err.shape[0]))\n",
    "# df_crt.reindex(np.arange(1,df_crt.shape[0]))"
   ]
  },
  {
   "cell_type": "code",
   "execution_count": 14,
   "metadata": {},
   "outputs": [
    {
     "data": {
      "text/html": [
       "<div>\n",
       "<style scoped>\n",
       "    .dataframe tbody tr th:only-of-type {\n",
       "        vertical-align: middle;\n",
       "    }\n",
       "\n",
       "    .dataframe tbody tr th {\n",
       "        vertical-align: top;\n",
       "    }\n",
       "\n",
       "    .dataframe thead tr th {\n",
       "        text-align: left;\n",
       "    }\n",
       "</style>\n",
       "<table border=\"1\" class=\"dataframe\">\n",
       "  <thead>\n",
       "    <tr>\n",
       "      <th></th>\n",
       "      <th>Oldnew</th>\n",
       "      <th>Setsize</th>\n",
       "      <th>Probtype</th>\n",
       "      <th>Lag</th>\n",
       "      <th>Error</th>\n",
       "      <th>FileCondi</th>\n",
       "      <th>RT</th>\n",
       "    </tr>\n",
       "    <tr>\n",
       "      <th></th>\n",
       "      <th></th>\n",
       "      <th></th>\n",
       "      <th></th>\n",
       "      <th></th>\n",
       "      <th></th>\n",
       "      <th></th>\n",
       "      <th>mean</th>\n",
       "    </tr>\n",
       "  </thead>\n",
       "  <tbody>\n",
       "    <tr>\n",
       "      <th>0</th>\n",
       "      <td>new</td>\n",
       "      <td>2</td>\n",
       "      <td>AN</td>\n",
       "      <td>0</td>\n",
       "      <td>0</td>\n",
       "      <td>ANpure</td>\n",
       "      <td>808.779720</td>\n",
       "    </tr>\n",
       "    <tr>\n",
       "      <th>1</th>\n",
       "      <td>new</td>\n",
       "      <td>2</td>\n",
       "      <td>AN</td>\n",
       "      <td>0</td>\n",
       "      <td>0</td>\n",
       "      <td>CMat</td>\n",
       "      <td>692.045652</td>\n",
       "    </tr>\n",
       "    <tr>\n",
       "      <th>2</th>\n",
       "      <td>new</td>\n",
       "      <td>2</td>\n",
       "      <td>AN</td>\n",
       "      <td>0</td>\n",
       "      <td>0</td>\n",
       "      <td>MIX</td>\n",
       "      <td>749.161058</td>\n",
       "    </tr>\n",
       "    <tr>\n",
       "      <th>3</th>\n",
       "      <td>new</td>\n",
       "      <td>2</td>\n",
       "      <td>AN</td>\n",
       "      <td>0</td>\n",
       "      <td>0</td>\n",
       "      <td>MIX2</td>\n",
       "      <td>903.858079</td>\n",
       "    </tr>\n",
       "    <tr>\n",
       "      <th>4</th>\n",
       "      <td>new</td>\n",
       "      <td>2</td>\n",
       "      <td>AN</td>\n",
       "      <td>0</td>\n",
       "      <td>1</td>\n",
       "      <td>ANpure</td>\n",
       "      <td>801.656250</td>\n",
       "    </tr>\n",
       "    <tr>\n",
       "      <th>...</th>\n",
       "      <td>...</td>\n",
       "      <td>...</td>\n",
       "      <td>...</td>\n",
       "      <td>...</td>\n",
       "      <td>...</td>\n",
       "      <td>...</td>\n",
       "      <td>...</td>\n",
       "    </tr>\n",
       "    <tr>\n",
       "      <th>298</th>\n",
       "      <td>old</td>\n",
       "      <td>8</td>\n",
       "      <td>VM</td>\n",
       "      <td>6</td>\n",
       "      <td>1</td>\n",
       "      <td>VMpure</td>\n",
       "      <td>972.575000</td>\n",
       "    </tr>\n",
       "    <tr>\n",
       "      <th>299</th>\n",
       "      <td>old</td>\n",
       "      <td>8</td>\n",
       "      <td>VM</td>\n",
       "      <td>7</td>\n",
       "      <td>0</td>\n",
       "      <td>VMpure</td>\n",
       "      <td>964.521739</td>\n",
       "    </tr>\n",
       "    <tr>\n",
       "      <th>300</th>\n",
       "      <td>old</td>\n",
       "      <td>8</td>\n",
       "      <td>VM</td>\n",
       "      <td>7</td>\n",
       "      <td>1</td>\n",
       "      <td>VMpure</td>\n",
       "      <td>868.483871</td>\n",
       "    </tr>\n",
       "    <tr>\n",
       "      <th>301</th>\n",
       "      <td>old</td>\n",
       "      <td>8</td>\n",
       "      <td>VM</td>\n",
       "      <td>8</td>\n",
       "      <td>0</td>\n",
       "      <td>VMpure</td>\n",
       "      <td>969.577465</td>\n",
       "    </tr>\n",
       "    <tr>\n",
       "      <th>302</th>\n",
       "      <td>old</td>\n",
       "      <td>8</td>\n",
       "      <td>VM</td>\n",
       "      <td>8</td>\n",
       "      <td>1</td>\n",
       "      <td>VMpure</td>\n",
       "      <td>922.076923</td>\n",
       "    </tr>\n",
       "  </tbody>\n",
       "</table>\n",
       "<p>303 rows × 7 columns</p>\n",
       "</div>"
      ],
      "text/plain": [
       "    Oldnew Setsize Probtype Lag Error FileCondi          RT\n",
       "                                                       mean\n",
       "0      new       2       AN   0     0    ANpure  808.779720\n",
       "1      new       2       AN   0     0      CMat  692.045652\n",
       "2      new       2       AN   0     0       MIX  749.161058\n",
       "3      new       2       AN   0     0      MIX2  903.858079\n",
       "4      new       2       AN   0     1    ANpure  801.656250\n",
       "..     ...     ...      ...  ..   ...       ...         ...\n",
       "298    old       8       VM   6     1    VMpure  972.575000\n",
       "299    old       8       VM   7     0    VMpure  964.521739\n",
       "300    old       8       VM   7     1    VMpure  868.483871\n",
       "301    old       8       VM   8     0    VMpure  969.577465\n",
       "302    old       8       VM   8     1    VMpure  922.076923\n",
       "\n",
       "[303 rows x 7 columns]"
      ]
     },
     "execution_count": 14,
     "metadata": {},
     "output_type": "execute_result"
    }
   ],
   "source": [
    "df"
   ]
  },
  {
   "cell_type": "markdown",
   "metadata": {},
   "source": [
    "## Some global setting"
   ]
  },
  {
   "cell_type": "code",
   "execution_count": 217,
   "metadata": {},
   "outputs": [],
   "source": [
    "global vary_ss, give_c2\n",
    "vary_ss=0\n",
    "give_c2=0"
   ]
  },
  {
   "cell_type": "markdown",
   "metadata": {},
   "source": [
    "# Parameter set"
   ]
  },
  {
   "cell_type": "code",
   "execution_count": 206,
   "metadata": {
    "scrolled": true
   },
   "outputs": [],
   "source": [
    "global boost, alpha, beta, s, c ,Old_crit ,New_crit ,\\\n",
    "    t0 ,kao , F, L, c2\n",
    "  \n",
    "alpha={}; beta ={}; s = {}; F = {}; L = {}, c={}\n",
    "\n",
    "\n",
    "boost = 1.05\n",
    "alpha[\"all\"] = 0.19\n",
    "# alpha['CM'] = 0.1969 \n",
    "# alpha['VM'] = 0.1969 \n",
    "# alpha[\"AN\"]=0.84\n",
    "\n",
    "beta[\"all\"] =1.2\n",
    "# beta['CM'] = 1.228\n",
    "# beta['VM'] = 1.228\n",
    "# beta[\"AN\"]= 1.708\n",
    "\n",
    "s[\"all\"]=0.01\n",
    "s[\"ss24\"]=0.01\n",
    "s[\"ss8\"]=0.01\n",
    "# s[\"AN\"] = 0.01\n",
    "# s[\"CM\"] = 0.02\n",
    "# s[\"VM\"] = 0.02\n",
    "c[\"ANpure\"] = 0.3938\n",
    "c[\"CMpure\"] = 0.3938\n",
    "c[\"VMpure\"] = 0.3938\n",
    "c[\"MIX\"] = 0.3938\n",
    "c[\"MIX2\"] = 0.3938\n",
    "# c[\"CMat\"] = 0.3938\n",
    "c2=0.3\n",
    "Old_crit[\"Anpure\"] = 1.9197\n",
    "New_crit[\"ANpure\"] = -2.33\n",
    "Old_crit[\"CMpure\"] = 1.9197\n",
    "New_crit[\"CMpure\"] = -2.33\n",
    "Old_crit[\"VMpure\"] = 1.9197\n",
    "New_crit[\"VMpure\"] = -2.33\n",
    "Old_crit[\"MIX\"] = 1.9197\n",
    "New_crit[\"MIX\"] = -2.33\n",
    "Old_crit[\"MIX2\"] = 1.9197\n",
    "New_crit[\"MIX2\"] = -2.33\n",
    "\n",
    "t0 = 699.98\n",
    "kao = 37\n",
    "\n",
    "#---CM\n",
    "F[\"CM_oldiold_oldinew\"] = 0.2\n",
    "\n",
    "L[\"CM_oldiold_newinew\"] = 0.2\n",
    "L[\"CM_oldinew_newiold\"] = 0.2\n",
    "\n",
    "#---AN\n",
    "F[\"AN_oldiold_oldinew\"] = 0.2"
   ]
  },
  {
   "cell_type": "code",
   "execution_count": null,
   "metadata": {},
   "outputs": [],
   "source": []
  },
  {
   "cell_type": "code",
   "execution_count": null,
   "metadata": {},
   "outputs": [],
   "source": []
  },
  {
   "cell_type": "markdown",
   "metadata": {},
   "source": [
    "# Assign LTM global"
   ]
  },
  {
   "cell_type": "code",
   "execution_count": 207,
   "metadata": {},
   "outputs": [
    {
     "data": {
      "text/plain": [
       "0.2"
      ]
     },
     "execution_count": 207,
     "metadata": {},
     "output_type": "execute_result"
    }
   ],
   "source": [
    "def assign_LTM_global(item_condi, walk, item):\n",
    "    \n",
    "    global F,L,Fnow,Lnow\n",
    "    \n",
    "    if item_condi==\"CM\":\n",
    "        \n",
    "        if walk+\"i\"+item == \"oldiold\" or walk+\"i\"+item == \"oldinew\":\n",
    "            \n",
    "            Fnow = F[\"CM_oldiold_oldinew\"]\n",
    "        else: Fnow = 0\n",
    "        \n",
    "        if walk+\"i\"+item == \"oldiold\" or walk+\"i\"+item == \"newinew\":\n",
    "            \n",
    "            Lnow = L[\"CM_oldiold_newinew\"]\n",
    "        elif walk+\"i\"+item == \"oldinew\" or walk+\"i\"+item == \"newiold\":\n",
    "            \n",
    "            Lnow = L[\"CM_oldinew_newiold\"]\n",
    "        else: Lnow=0\n",
    "            \n",
    "    if item_condi == \"AN\":\n",
    "        \n",
    "        if walk+\"i\"+item == \"oldiold\" or walk+\"i\"+item == \"oldinew\":\n",
    "            \n",
    "            Fnow = F[\"AN_oldiold_oldinew\"]\n",
    "        else: Fnow=0\n",
    "        \n",
    "        Lnow = 0\n",
    "    \n",
    "    return(Fnow + Lnow)\n",
    "\n",
    "assign_LTM_global(\"AN\",\"old\",\"old\")\n",
    "        "
   ]
  },
  {
   "cell_type": "markdown",
   "metadata": {},
   "source": [
    "# Calc A (activation)"
   ]
  },
  {
   "cell_type": "code",
   "execution_count": 208,
   "metadata": {},
   "outputs": [
    {
     "name": "stdout",
     "output_type": "stream",
     "text": [
      "[0.01815275 0.01815275 0.0265232  0.0265232  0.03853018 0.03853018\n",
      " 1.19625275 0.63717528 1.19625275 0.63717528 1.2046232  0.64554573\n",
      " 0.47952792 0.40219313 1.2046232  0.64554573 0.47952792 0.40219313\n",
      " 1.21663018 0.65755271 0.4915349  0.41420011 0.37013656 0.34193666\n",
      " 0.32246373 0.30827473 1.21663018 0.65755271 0.4915349  0.41420011\n",
      " 0.37013656 0.34193666 0.32246373 0.30827473]\n"
     ]
    }
   ],
   "source": [
    "# seperate albes\n",
    "def calcA(df, name):\n",
    "\n",
    "    \n",
    "    dnow = df[df['FileCondi']==name]\n",
    "    a = np.zeros((dnow.shape[0], 8))  #activation\n",
    "    \n",
    "\n",
    "    betanow=beta[\"all\"] \n",
    "    alphanow=alpha[\"all\"]\n",
    "    \n",
    "    m = np.array([(j**(-betanow) + alphanow) for j in np.arange(1,9)])\n",
    "    \n",
    "    for j in range(1,9):\n",
    "\n",
    "        indexj = j-1\n",
    "        \n",
    "        \n",
    "        if vary_ss==0:\n",
    "            \n",
    "            a[dnow[\"Lag\"]==j,indexj] = m[indexj]\n",
    "            a[dnow[\"Lag\"]!=j,indexj] = m[indexj] * s[\"all\"]\n",
    "        else:\n",
    "            a[np.logical_and(dnow[\"Lag\"]!=j,dnow[\"Setsize\"]!=8),indexj] = m[indexj] * s[\"ss24\"]\n",
    "            a[np.logical_and(dnow[\"Lag\"]!=j,dnow[\"Setsize\"]==8),indexj] = m[indexj] * s[\"ss8\"]\n",
    "            a[dnow[\"Lag\"]==j,indexj] = m[indexj]\n",
    "        \n",
    "        \n",
    "#         print(m[indexj] * s[\"all\"])\n",
    "    for i in range(a.shape[0]): a[i,dnow['Setsize'].iloc[i]:] = 0 #a_ij suit for the correct amount of setsize\n",
    "    debug = 0\n",
    "    if debug==1:\n",
    "        for i in range(a.shape[0]):\n",
    "            print(i, \"begin\\n\",\"a is\",a[i].round(5),\\\n",
    "                  \"\\n m is\", np.array(m).round(3),\"\\n Probtype is\",\\\n",
    "                  \"\\n Lag is \",dnow['Lag'].iloc[i],\\\n",
    "                  \"\\n Setsize is\", dnow[\"Setsize\"].iloc[i],\\\n",
    "                  \"\\n Probtype:\",\\\n",
    "                  dnow[\"Probtype\"].iloc[i],\\\n",
    "                  \"\\n Oldnew: \",dnow[\"Oldnew\"].iloc[i],\\\n",
    "                  \"\\n Ai is\", a[i,:].sum().round(2),\\\n",
    "                  \"\\n snow\", snow,\\\n",
    "                 \"\\n------------------------------------------------\" )\n",
    "\n",
    "    \n",
    "    A = a.sum(axis = 1)\n",
    "    \n",
    "    return(A)\n",
    "\n",
    "print(calcA(df[df[\"Error\"]==0], \"CMat\"))\n"
   ]
  },
  {
   "cell_type": "markdown",
   "metadata": {},
   "source": [
    "# Calc p (drift rate)"
   ]
  },
  {
   "cell_type": "code",
   "execution_count": 241,
   "metadata": {},
   "outputs": [
    {
     "name": "stdout",
     "output_type": "stream",
     "text": [
      "['0.76901936-new-AN-ss:2-lag:0' '0.76901936-new-AN-ss:2-lag:0'\n",
      " '0.81081816-new-AN-ss:4-lag:0' '0.81081816-new-AN-ss:4-lag:0'\n",
      " '0.85568409-new-AN-ss:8-lag:0' '0.85568409-new-AN-ss:8-lag:0'\n",
      " '0.8428962-old-AN-ss:2-lag:1' '0.8428962-old-AN-ss:2-lag:1'\n",
      " '0.81285277-old-AN-ss:2-lag:2' '0.81285277-old-AN-ss:2-lag:2'\n",
      " '0.86342102-old-AN-ss:4-lag:1' '0.86342102-old-AN-ss:4-lag:1'\n",
      " '0.84126831-old-AN-ss:4-lag:2' '0.84126831-old-AN-ss:4-lag:2'\n",
      " '0.83565501-old-AN-ss:4-lag:3' '0.83565501-old-AN-ss:4-lag:3'\n",
      " '0.83342762-old-AN-ss:4-lag:4' '0.83342762-old-AN-ss:4-lag:4'\n",
      " '0.88845627-old-AN-ss:8-lag:1' '0.88845627-old-AN-ss:8-lag:1'\n",
      " '0.87410714-old-AN-ss:8-lag:2' '0.87410714-old-AN-ss:8-lag:2'\n",
      " '0.87060182-old-AN-ss:8-lag:3' '0.87060182-old-AN-ss:8-lag:3'\n",
      " '0.86922496-old-AN-ss:8-lag:4' '0.86922496-old-AN-ss:8-lag:4'\n",
      " '0.86854019-old-AN-ss:8-lag:5' '0.86854019-old-AN-ss:8-lag:5'\n",
      " '0.86814821-old-AN-ss:8-lag:6' '0.86814821-old-AN-ss:8-lag:6'\n",
      " '0.86790188-old-AN-ss:8-lag:7' '0.86790188-old-AN-ss:8-lag:7'\n",
      " '0.86773642-old-AN-ss:8-lag:8' '0.86773642-old-AN-ss:8-lag:8']\n"
     ]
    }
   ],
   "source": [
    "# F[\"AN_oldiold_oldinew\"] = 0.099\n",
    "def calcp(df, name):\n",
    "    \n",
    "    A = calcA(df, name)\n",
    "    dnow = df[df['FileCondi']==name]\n",
    "    p = np.repeat(3.0, A.shape[0])\n",
    "    \n",
    "    probs = dnow[\"Probtype\"].astype(\"category\").cat.categories.to_numpy() #get categories name\n",
    "    \n",
    "\n",
    "    for iprob in probs:\n",
    "        \n",
    "        for ion in [\"old\",\"new\"]:\n",
    "            \n",
    "            tf_ion = dnow['Oldnew'] == ion\n",
    "            tf_iprob = dnow['Probtype'] == iprob\n",
    "            tf_all = np.logical_and(tf_ion, tf_iprob)\n",
    "            \n",
    "#             print(iprob)\n",
    "            IR_old_current = assign_LTM_global(iprob,\"old\",ion)\n",
    "            IR_new_current = assign_LTM_global(iprob,\"new\",ion)\n",
    "        \n",
    "            if give_c2==0:\n",
    "                p[tf_all] = (A[tf_all] + IR_old_current)/(A[tf_all] + IR_old_current + c + IR_new_current)\n",
    "            elif give_c2==1: \n",
    "                if iprob==\"CM\":\n",
    "                    p[tf_all] = (A[tf_all] + IR_old_current)/(A[tf_all] + IR_old_current + c + c2 + IR_new_current)\n",
    "                else:\n",
    "                    p[tf_all] = (A[tf_all] + IR_old_current)/(A[tf_all] + IR_old_current + c + IR_new_current)\n",
    "                \n",
    "            \n",
    "#         break\n",
    "        \n",
    "\n",
    "    return(np.array(p))\n",
    "\n",
    "\n",
    "\n",
    "ok1=calcp(df, \"ANpure\")\n",
    "on = df[df['FileCondi']==\"ANpure\"][\"Oldnew\"]\n",
    "onn = df[df['FileCondi']==\"ANpure\"][\"Probtype\"]\n",
    "ss = df[df['FileCondi']==\"ANpure\"][\"Setsize\"]\n",
    "lagg = df[df['FileCondi']==\"ANpure\"][\"Lag\"]\n",
    "# print(np.array([str(ok1[i].round(2))+\"-\"+str(on.iloc[i]) for i in range(ok1.shape[0])]))\n",
    "print(np.array([str(ok1[i].round(8))+\"-\"+str(on.iloc[i]) +\"-\"+str(onn.iloc[i])+\"-ss:\"+str(ss.iloc[i])\\\n",
    "                + \"-lag:\" + str(lagg.iloc[i]) for i in range(ok1.shape[0])]))\n"
   ]
  },
  {
   "cell_type": "markdown",
   "metadata": {},
   "source": [
    "# RW "
   ]
  },
  {
   "cell_type": "code",
   "execution_count": 210,
   "metadata": {
    "scrolled": true
   },
   "outputs": [
    {
     "data": {
      "text/plain": [
       "array(['[0.028]-new-AN', '[0.039]-new-CM', '[0.039]-new-AN',\n",
       "       '[0.103]-new-CM', '[0.056]-new-AN', '[0.191]-new-CM',\n",
       "       '[0.042]-old-AN', '[0.051]-old-AN', '[0.059]-old-CM',\n",
       "       '[0.043]-old-CM', '[0.026]-old-AN', '[0.049]-old-AN',\n",
       "       '[0.079]-old-AN', '[0.091]-old-AN', '[0.035]-old-CM',\n",
       "       '[0.11]-old-CM', '[0.133]-old-CM', '[0.125]-old-CM', '[0.]-old-AN',\n",
       "       '[0.]-old-AN', '[0.095]-old-AN', '[0.172]-old-AN',\n",
       "       '[0.159]-old-AN', '[0.14]-old-AN', '[0.164]-old-AN',\n",
       "       '[0.065]-old-AN', '[0.015]-old-CM', '[0.061]-old-CM',\n",
       "       '[0.09]-old-CM', '[0.069]-old-CM', '[0.083]-old-CM',\n",
       "       '[0.074]-old-CM', '[0.159]-old-CM', '[0.246]-old-CM'], dtype='<U14')"
      ]
     },
     "execution_count": 210,
     "metadata": {},
     "output_type": "execute_result"
    }
   ],
   "source": [
    "\n",
    "def calc_theoretical_RW(df, name):\n",
    "\n",
    "    A = calcA(df, name)\n",
    "    p = calcp(df, name)\n",
    "\n",
    "#     dnow\n",
    "    dnow = df[df['FileCondi']==name]\n",
    "\n",
    "    p_resp_old = np.zeros(p.size)\n",
    "    pred_correct = np.zeros(p.size)\n",
    "\n",
    "    q = 1-p\n",
    "\n",
    "    AA = Old_crit\n",
    "    BB = -New_crit # bb is a postive number\n",
    "\n",
    "    exp_nstep = np.zeros(p.shape[0])\n",
    "\n",
    "    \n",
    "    theta1 = ((p/q)**(AA+BB)+1)/((p/q)**(AA+BB)-1)\n",
    "    theta2 = ((p/q)**BB+1)/((p/q)**BB-1)\n",
    "\n",
    "    \n",
    "    tf = np.logical_and(p!=q , dnow[\"Oldnew\"]=='old')\n",
    "    exp_nstep[tf] = (1/(p[tf]-q[tf]))*(theta1[tf]*(AA+BB) - theta2[tf]*BB)\n",
    "    \n",
    "    tf = np.logical_and(p==q , dnow[\"Oldnew\"]=='old')\n",
    "    exp_nstep[tf] = (AA/3)*(2*BB+AA)\n",
    "    \n",
    "    #-------------------\n",
    "    theta1 = ((p/q)**(-(AA+BB))+1)/((p/q)**(-(AA+BB))-1)\n",
    "    theta2 = ((p/q)**-AA+1)/((p/q)**-AA-1)\n",
    "\n",
    "    tf = np.logical_and(p!=q , dnow[\"Oldnew\"]=='new')\n",
    "    exp_nstep[tf] = (1/(q[tf]-p[tf]))*(theta1[tf]*(AA+BB) - theta2[tf]*AA)\n",
    "    tf = np.logical_and(p==q , dnow[\"Oldnew\"]=='new')\n",
    "    exp_nstep[tf] = (BB/3)*(2*AA+BB)\n",
    "    \n",
    "    \n",
    "    p_resp_old[p!=q] = ((1-(q/p)**BB)/(1-(q/p)**(AA+BB)))[p!=q]\n",
    "    p_resp_old[p==q] = BB/(AA+BB)\n",
    "    \n",
    "    pred_correct[dnow[\"Oldnew\"]=='old'] = p_resp_old[dnow[\"Oldnew\"]==\"old\"]\n",
    "    pred_correct[dnow[\"Oldnew\"]==\"new\"] = 1-p_resp_old[dnow[\"Oldnew\"]==\"new\"]\n",
    "    \n",
    "    pred_rt = t0 + kao * exp_nstep\n",
    "    \n",
    "\n",
    "\n",
    "    return(np.array(pred_rt), np.array(pred_correct))\n",
    "          \n",
    "\n",
    "df_sub_err = df_org.groupby([\"Oldnew\",\"Setsize\",\"Probtype\",\"Lag\",\"FileCondi\"])[[\"Error\"]].agg([\"mean\"]).reset_index()\n",
    "\n",
    "\n",
    "ok1=calcp(df_sub_err, \"MIX\")\n",
    "on = df_sub_err[df_sub_err['FileCondi']==\"MIX\"][\"Oldnew\"]\n",
    "onn = df_sub_err[df_sub_err['FileCondi']==\"MIX\"][\"Probtype\"]\n",
    "# print(np.array([str(ok1[i].round(2))+\"-\"+str(on.iloc[i]) +\"-\"+str(onn.iloc[i]) for i in range(ok1.shape[0])]))\n",
    "\n",
    "jjj, ok1 =calc_theoretical_RW(df_sub_err, \"MIX\")\n",
    "on = df_sub_err[df_sub_err['FileCondi']==\"MIX\"][\"Oldnew\"]\n",
    "onn = df_sub_err[df_sub_err['FileCondi']==\"MIX\"][\"Probtype\"]\n",
    "one = (df_sub_err[df_sub_err['FileCondi']==\"MIX\"][[(\"Error\",\"mean\")]]).to_numpy().round(3)\n",
    "\n",
    "# print(np.array([str((ok1[i]).round(2))+\"-\"+str(on.iloc[i])+\"-\"+str(onn.iloc[i]) for i in range(ok1.shape[0])]))\n",
    "\n",
    "np.array([str(one[i])+\"-\"+str(on.iloc[i])+\"-\"+str(onn.iloc[i]) for i in range(ok1.shape[0])])"
   ]
  },
  {
   "cell_type": "markdown",
   "metadata": {},
   "source": [
    "# Calculate WSSE"
   ]
  },
  {
   "cell_type": "code",
   "execution_count": 211,
   "metadata": {
    "scrolled": true
   },
   "outputs": [
    {
     "data": {
      "text/plain": [
       "0.8111491534532795"
      ]
     },
     "execution_count": 211,
     "metadata": {},
     "output_type": "execute_result"
    }
   ],
   "source": [
    "w={}\n",
    "w[\"new_rt\"] = 4*2\n",
    "w[\"old_rt\"] = 1*2\n",
    "w[\"new_err\"] = 4\n",
    "w[\"old_err\"] = 1\n",
    "# F[\"AN_oldiold_oldinew\"] = 0.017\n",
    "def calc_wssd(df, name):\n",
    "\n",
    "    df_sub_org = df[df[\"FileCondi\"] == name]\n",
    "    df_sub_err = df_err[df_err[\"FileCondi\"] == name]\n",
    "    df_sub_crt = df_crt[df_crt[\"FileCondi\"] == name]\n",
    "\n",
    "    df_sub_err = df_sub_err.reset_index()\n",
    "    df_sub_crt = df_sub_crt.reset_index()\n",
    "\n",
    "    pred_rt, pred_correct = calc_theoretical_RW(df_sub_err, name)\n",
    "    pred_crt, pred_ccorrect = calc_theoretical_RW(df_sub_crt, name)\n",
    "\n",
    "    pred_rt, pred_correct = calc_theoretical_RW(df_sub_err, name)\n",
    "    pred_crt, pred_ccorrect = calc_theoretical_RW(df_sub_crt, name)\n",
    "\n",
    "    df_sub_crt[\"pred_crt\"] = pred_crt/1000 #translate crt to seconds. \n",
    "    df_sub_err[\"pred_error\"] = 1- pred_correct\n",
    "\n",
    "    df_sub_crt[\"RT\"]= df_sub_crt[\"RT\"]/1000\n",
    "\n",
    "    df_sub_crt[\"SSD_RT\"] = ((df_sub_crt[\"RT\"] - df_sub_crt[\"pred_crt\"])**2).to_numpy()\n",
    "    df_sub_err[\"SSD_err\"] = ((df_sub_err[\"Error\"] - df_sub_err[\"pred_error\"])**2).to_numpy()\n",
    "\n",
    "    df_sub_crt[\"wSSD_RT\"] = [df_sub_crt.loc[i,\"SSD_RT\"] *\\\n",
    "                             w[df_sub_crt.loc[i,\"Oldnew\"]+\"_rt\"] for i in range(df_sub_crt.shape[0])]\n",
    "\n",
    "    df_sub_err[\"wSSD_err\"] = [df_sub_err.loc[i,\"SSD_err\"] *\\\n",
    "                             w[df_sub_err.loc[i,\"Oldnew\"] + \"_err\"] for i in range(df_sub_err.shape[0])]\n",
    "\n",
    "    WSSD = df_sub_err[\"wSSD_err\"].sum() + df_sub_crt[\"wSSD_RT\"].sum()\n",
    "\n",
    "    return(WSSD)\n",
    "\n",
    "# time1=time.time()\n",
    "calc_wssd(df_org, \"ANpure\")\n",
    "# print(time.time()-time1)\n",
    "# df_sub_agg, WSSD = calc_wssd(df, \"MIX\")"
   ]
  },
  {
   "cell_type": "markdown",
   "metadata": {},
   "source": [
    "# Parameter search"
   ]
  },
  {
   "cell_type": "markdown",
   "metadata": {},
   "source": [
    "## Asign parm_dic"
   ]
  },
  {
   "cell_type": "code",
   "execution_count": 212,
   "metadata": {},
   "outputs": [
    {
     "data": {
      "text/plain": [
       "array([ 1.9000e-01,  1.2000e+00,  1.0000e-02,  3.9380e-01,  1.9197e+00,\n",
       "       -2.3300e+00,  6.9998e+02,  3.7000e+01,  2.0000e-01,  2.0000e-01,\n",
       "        2.0000e-01,  2.0000e-01])"
      ]
     },
     "execution_count": 212,
     "metadata": {},
     "output_type": "execute_result"
    }
   ],
   "source": [
    "if vary_ss==0:\n",
    "     param_dic=np.array(( alpha[\"all\"], beta[\"all\"], s[\"all\"],\n",
    "                         c, Old_crit, New_crit, t0, kao,\n",
    "                         F[\"CM_oldiold_oldinew\"], L[\"CM_oldiold_newinew\"], L[\"CM_oldinew_newiold\"],\n",
    "                         F[\"AN_oldiold_oldinew\"]))\n",
    "else:\n",
    "     param_dic=np.array((alpha[\"all\"], beta[\"all\"], s[\"ss24\"], s[\"ss8\"],\n",
    "                         c, Old_crit, New_crit, t0, kao,\n",
    "                         F[\"CM_oldiold_oldinew\"], L[\"CM_oldiold_newinew\"], L[\"CM_oldinew_newiold\"],\n",
    "                         F[\"AN_oldiold_oldinew\"]))\n",
    "         \n",
    "param_dic"
   ]
  },
  {
   "cell_type": "markdown",
   "metadata": {},
   "source": [
    "## optim_wsse"
   ]
  },
  {
   "cell_type": "code",
   "execution_count": 213,
   "metadata": {},
   "outputs": [
    {
     "data": {
      "text/plain": [
       "0.8111491534532795"
      ]
     },
     "execution_count": 213,
     "metadata": {},
     "output_type": "execute_result"
    }
   ],
   "source": [
    "def optim_wsse(params_dic):\n",
    "    global alpha, beta, s, c ,Old_crit ,New_crit ,\\\n",
    "        t0 ,kao ,F, L\n",
    "\n",
    "    alpha={}; beta ={}; s = {}; F = {}; L={}\n",
    "    \n",
    "    # print(params)  # <-- you'll see that params is a NumPy array\n",
    "    if vary_ss==0:\n",
    "        [alpha[\"all\"], beta[\"all\"], s[\"all\"],\n",
    "                             c, Old_crit, New_crit, t0, kao,\n",
    "                             F[\"CM_oldiold_oldinew\"], L[\"CM_oldiold_newinew\"], L[\"CM_oldinew_newiold\"],\n",
    "                             F[\"AN_oldiold_oldinew\"]] = params_dic\n",
    "    else:\n",
    "        [alpha[\"all\"], beta[\"all\"], s[\"ss24\"], s[\"ss8\"],\n",
    "                             c, Old_crit, New_crit, t0, kao,\n",
    "                             F[\"CM_oldiold_oldinew\"], L[\"CM_oldiold_newinew\"], L[\"CM_oldinew_newiold\"],\n",
    "                         F[\"AN_oldiold_oldinew\"]] = params_dic\n",
    "    \n",
    "\n",
    "\n",
    "    return calc_wssd(df_org, Which_file)\n",
    "optim_wsse(param_dic)"
   ]
  },
  {
   "cell_type": "markdown",
   "metadata": {},
   "source": [
    "## random start"
   ]
  },
  {
   "cell_type": "code",
   "execution_count": 275,
   "metadata": {},
   "outputs": [],
   "source": [
    "def random_start():\n",
    "    global alpha, beta, s, c ,Old_crit ,New_crit ,\\\n",
    "    t0 ,kao , F, L\n",
    "  \n",
    "    alpha={}; beta ={}; s = {}; F = {}; L = {}\n",
    "\n",
    "    alpha[\"all\"] = np.random.uniform(0.1,1)\n",
    "    beta[\"all\"] =np.random.uniform(1,2)\n",
    "    s[\"all\"] = np.random.uniform(0.01,1)\n",
    "    s[\"ss24\"] = np.random.uniform(0.01,1)\n",
    "    s[\"ss8\"] = np.random.uniform(0.01,1)\n",
    "    c = np.random.uniform(0.05,0.99)\n",
    "    c2=np.random.uniform(0.05,0.99)\n",
    "\n",
    "    Old_crit = np.random.uniform(1,5)\n",
    "    New_crit = np.random.uniform(-5,-1)\n",
    "    t0 = 445.5\n",
    "    kao = 50.4\n",
    "\n",
    "    #---CM\n",
    "    F[\"CM_oldiold_oldinew\"] = np.random.uniform(0.01,1)\n",
    "\n",
    "    L[\"CM_oldiold_newinew\"] = np.random.uniform(0.01,1)\n",
    "    L[\"CM_oldinew_newiold\"] = np.random.uniform(0.001,1)\n",
    "\n",
    "    #---AN\n",
    "    F[\"AN_oldiold_oldinew\"] = np.random.uniform(0.001,1)\n",
    "    if vary_ss==0:\n",
    "        param_dic=[alpha[\"all\"], beta[\"all\"], s[\"all\"],\n",
    "                             c, Old_crit, New_crit, t0, kao,\n",
    "                             F[\"CM_oldiold_oldinew\"], L[\"CM_oldiold_newinew\"], L[\"CM_oldinew_newiold\"],\n",
    "                             F[\"AN_oldiold_oldinew\"]] \n",
    "    else:\n",
    "        param_dic=[alpha[\"all\"], beta[\"all\"], s[\"ss24\"], s[\"ss8\"],\n",
    "                             c, Old_crit, New_crit, t0, kao,\n",
    "                             F[\"CM_oldiold_oldinew\"], L[\"CM_oldiold_newinew\"], L[\"CM_oldinew_newiold\"],\n",
    "                         F[\"AN_oldiold_oldinew\"]]\n",
    "\n",
    "    return(param_dic)\n",
    "\n",
    "if vary_ss==0:\n",
    "    bdd = (\n",
    "\n",
    "        (0.00001, 1.0), #alphaall\n",
    "        (0.20, 6.0), #beta_all\n",
    "        (0.001, 1.0), #s all\n",
    "\n",
    "        (0.001, 0.99), #c\n",
    "\n",
    "        (1, 10.0), #old_cr\n",
    "        (-10.0, -1), #new_cr\n",
    "        \n",
    "        (400,700), #t0\n",
    "        (10, 70), #kao\n",
    "#         (638,638),#(400,700), #t0\n",
    "#         (37,37),#(10, 70), #kao\n",
    "#         (500,500),#(400,700), #t0\n",
    "#         (22,22),#(10, 70), #kao\n",
    "\n",
    "#         (0,0),#(0,0.99),#F[\"CM_oldiold_oldinew\"],\n",
    "\n",
    "#         (0,0),#(0,0.99),#L[\"CM_oldiold_newinew\"],\n",
    "#         (0,0),#(0,0.99),#L[\"CM_oldinew_newiold\"],\n",
    "        \n",
    "        (0,0.99),#F[\"CM_oldiold_oldinew\"],\n",
    "        (0,0.99),#L[\"CM_oldiold_newinew\"],\n",
    "        (0,0.99),#L[\"CM_oldinew_newiold\"],\n",
    "\n",
    "        #---AN\n",
    "        (0,0.9)#F[\"AN_oldiold_oldinew\"]\n",
    "          )\n",
    "else:\n",
    "    bdd = (\n",
    "\n",
    "        (0.00001, 1.0), #alphaall\n",
    "        (1, 3.0), #beta_all\n",
    "        (0.001, 1.0), #s 24\n",
    "        (0.001, 1.0), #s 8\n",
    "\n",
    "        (0.001, 0.99), #c\n",
    "\n",
    "        (1, 10.0), #old_cr\n",
    "        (-10.0, -1), #new_cr\n",
    "                \n",
    "#         (400,700), #t0\n",
    "#         (10, 70), #kao\n",
    "        \n",
    "#         (638,638),#(400,700), #t0\n",
    "#         (37,37),#(10, 70), #kao\n",
    "        (500,500),#(400,700), #t0\n",
    "        (22,22),#(10, 70), #kao\n",
    "\n",
    "        (0,0),#(0,0.99),#F[\"CM_oldiold_oldinew\"],\n",
    "\n",
    "        (0,0),#(0,0.99),#L[\"CM_oldiold_newinew\"],\n",
    "        (0,0),#(0,0.99),#L[\"CM_oldinew_newiold\"],\n",
    "\n",
    "        #---AN\n",
    "        (0,0.20)#F[\"AN_oldiold_oldinew\"]\n",
    "          )\n",
    "    \n",
    "if give_c2==1:\n",
    "    bdd = (\n",
    "\n",
    "        (0.00001, 1.0), #alphaall\n",
    "        (1, 6.0), #beta_all\n",
    "        (0.001, 1.0), #s all\n",
    "\n",
    "        (0.001, 0.99), #c\n",
    "        (0.001, 0.99), #c2\n",
    "\n",
    "        (1, 10.0), #old_cr\n",
    "        (-10.0, -1), #new_cr\n",
    "        \n",
    "#         (400,700), #t0\n",
    "#         (10, 70), #kao\n",
    "#         (638,638),#(400,700), #t0\n",
    "#         (37,37),#(10, 70), #kao\n",
    "        (500,500),#(400,700), #t0\n",
    "        (22,22),#(10, 70), #kao\n",
    "\n",
    "        (0,0),#(0,0.99),#F[\"CM_oldiold_oldinew\"],\n",
    "\n",
    "        (0,0),#(0,0.99),#L[\"CM_oldiold_newinew\"],\n",
    "        (0,0),#(0,0.99),#L[\"CM_oldinew_newiold\"],\n",
    "\n",
    "        #---AN\n",
    "        (0,0.20)#F[\"AN_oldiold_oldinew\"]\n",
    "          )\n",
    "\n",
    "cm_pure=1\n",
    "\n",
    "def Jcstrain():\n",
    "    if vary_ss==0:\n",
    "        linear_constraint = LinearConstraint(\\\n",
    "            [[ 0, 0, 0, 0, 0, 0, 0, 0, 0, 1, -1,  0],[ 0, 0, 0, 0, 0, 0, 0, 0, 1, 0,  0, -1]],\\\n",
    "            [0.01, 0.01],[np.inf,np.inf])\n",
    "#         linear_constraint = LinearConstraint(\\\n",
    "#             [[ 0, 0, 0, 0, 0, 0, 0, 0, 0, 1, -1.5,  0],[ 0, 0, 0, 0, 0, 0, 0, 0, 2, 0,  0, -1]],\\\n",
    "#             [0.01, 0.01],[np.inf,np.inf])\n",
    "    elif vary_ss==1: \n",
    "        linear_constraint = LinearConstraint(\\\n",
    "            [[ 0, 0, 0, 0, 0, 0, 0, 0, 0, 0, 1, -1,  0],[0, 0, 0, 0, 0, 0, 0, 0, 0, 1, 0,  0, -1]],\\\n",
    "            [0.01, 0.01],[np.inf,np.inf])\n",
    "    if cm_pure==1:\n",
    "        linear_constraint = LinearConstraint(\\\n",
    "            [[ 0, 0, 0, 0, 0, 0, 0, 0, 0, 1, -1,  0]],\\\n",
    "            [0.01],[np.inf])\n",
    "    if give_c2==1:\n",
    "        linear_constraint = LinearConstraint(\\\n",
    "            [[ 0, 0, 0, 0, 0, 0, 0, 0, 0, 0, 1, -1,  0],[ 0, 0, 0, 0, 0, 0, 0, 0, 0, 1, 0,  0, -1]],\\\n",
    "            [0.01, 0.01],[np.inf,np.inf])\n",
    "\n",
    "    return(linear_constraint)"
   ]
  },
  {
   "cell_type": "markdown",
   "metadata": {},
   "source": [
    "## Actual search"
   ]
  },
  {
   "cell_type": "code",
   "execution_count": 236,
   "metadata": {},
   "outputs": [],
   "source": [
    "def actual_search_trust3():# \n",
    "\n",
    "    time1 = time.time()\n",
    "    numit=5\n",
    "    global fitted_params3,result\n",
    "    fitted_params3 = np.zeros((numit,12))\n",
    "    for i in range(0,numit):\n",
    "        param_dic = random_start()\n",
    "        result = optimize.minimize(optim_wsse, param_dic,\\\n",
    "#                                    bounds=bdd,options={\"maxiter\" : 1500})\n",
    "                               bounds=bdd,options={'verbose': 1,\"maxiter\" : 1500},\n",
    "                                   constraints=[Jcstrain(), ],\n",
    "                                   method='trust-constr')\n",
    "        print(i)\n",
    "        if result.success:\n",
    "            fitted_params3[i,:] = result.x\n",
    "        else: \n",
    "            print(result.message)\n",
    "\n",
    "\n",
    "    time2 = time.time()\n",
    "    print(time2-time1)\n"
   ]
  },
  {
   "cell_type": "code",
   "execution_count": 278,
   "metadata": {},
   "outputs": [
    {
     "data": {
      "text/html": [
       "<div>\n",
       "<style scoped>\n",
       "    .dataframe tbody tr th:only-of-type {\n",
       "        vertical-align: middle;\n",
       "    }\n",
       "\n",
       "    .dataframe tbody tr th {\n",
       "        vertical-align: top;\n",
       "    }\n",
       "\n",
       "    .dataframe thead th {\n",
       "        text-align: right;\n",
       "    }\n",
       "</style>\n",
       "<table border=\"1\" class=\"dataframe\">\n",
       "  <thead>\n",
       "    <tr style=\"text-align: right;\">\n",
       "      <th></th>\n",
       "      <th>alpha</th>\n",
       "      <th>beta</th>\n",
       "      <th>s</th>\n",
       "      <th>c</th>\n",
       "      <th>old_crt</th>\n",
       "      <th>new_crt</th>\n",
       "      <th>t0</th>\n",
       "      <th>kappa</th>\n",
       "      <th>F_cmooon</th>\n",
       "      <th>L_cmoonn</th>\n",
       "      <th>L_cmonno</th>\n",
       "      <th>F_anooon</th>\n",
       "    </tr>\n",
       "  </thead>\n",
       "  <tbody>\n",
       "    <tr>\n",
       "      <th>0</th>\n",
       "      <td>0.386879</td>\n",
       "      <td>0.804301</td>\n",
       "      <td>0.0288851</td>\n",
       "      <td>0.709655</td>\n",
       "      <td>4.2975</td>\n",
       "      <td>-5.25313</td>\n",
       "      <td>484.602</td>\n",
       "      <td>21.2681</td>\n",
       "      <td>0.257573</td>\n",
       "      <td>0.156434</td>\n",
       "      <td>0.146433</td>\n",
       "      <td>0.207807</td>\n",
       "    </tr>\n",
       "    <tr>\n",
       "      <th>1</th>\n",
       "      <td>0.386877</td>\n",
       "      <td>0.804383</td>\n",
       "      <td>0.0288839</td>\n",
       "      <td>0.709517</td>\n",
       "      <td>4.29679</td>\n",
       "      <td>-5.25238</td>\n",
       "      <td>484.603</td>\n",
       "      <td>21.2745</td>\n",
       "      <td>0.257468</td>\n",
       "      <td>0.156397</td>\n",
       "      <td>0.146397</td>\n",
       "      <td>0.207708</td>\n",
       "    </tr>\n",
       "    <tr>\n",
       "      <th>0</th>\n",
       "      <td>1e-05 ~ 1.0</td>\n",
       "      <td>0.2 ~ 6.0</td>\n",
       "      <td>0.001 ~ 1.0</td>\n",
       "      <td>0.001 ~ 0.99</td>\n",
       "      <td>1.0 ~ 10.0</td>\n",
       "      <td>-10.0 ~ -1.0</td>\n",
       "      <td>400.0 ~ 700.0</td>\n",
       "      <td>10.0 ~ 70.0</td>\n",
       "      <td>0.0 ~ 0.99</td>\n",
       "      <td>0.0 ~ 0.99</td>\n",
       "      <td>0.0 ~ 0.99</td>\n",
       "      <td>0.0 ~ 0.9</td>\n",
       "    </tr>\n",
       "  </tbody>\n",
       "</table>\n",
       "</div>"
      ],
      "text/plain": [
       "         alpha       beta            s             c     old_crt  \\\n",
       "0     0.386879   0.804301    0.0288851      0.709655      4.2975   \n",
       "1     0.386877   0.804383    0.0288839      0.709517     4.29679   \n",
       "0  1e-05 ~ 1.0  0.2 ~ 6.0  0.001 ~ 1.0  0.001 ~ 0.99  1.0 ~ 10.0   \n",
       "\n",
       "        new_crt             t0        kappa    F_cmooon    L_cmoonn  \\\n",
       "0      -5.25313        484.602      21.2681    0.257573    0.156434   \n",
       "1      -5.25238        484.603      21.2745    0.257468    0.156397   \n",
       "0  -10.0 ~ -1.0  400.0 ~ 700.0  10.0 ~ 70.0  0.0 ~ 0.99  0.0 ~ 0.99   \n",
       "\n",
       "     L_cmonno   F_anooon  \n",
       "0    0.146433   0.207807  \n",
       "1    0.146397   0.207708  \n",
       "0  0.0 ~ 0.99  0.0 ~ 0.9  "
      ]
     },
     "execution_count": 278,
     "metadata": {},
     "output_type": "execute_result"
    }
   ],
   "source": [
    "# actual_search_trust3()\n",
    "\n",
    "def write_file(which_work):\n",
    "    \n",
    "    if vary_ss==0:\n",
    "        Parnames = [\"alpha\",\"beta\",\"s\",\"c\",\"old_crt\",\"new_crt\",\"t0\",\"kappa\",\"F_cmooon\",\"L_cmoonn\",\"L_cmonno\",\"F_anooon\"]\n",
    "    else:\n",
    "        Parnames = [\"alpha\",\"beta\",\"s_ss24\",\"s_ss8\",\"c\",\"old_crt\",\"new_crt\",\"t0\",\n",
    "                    \"kappa\",\"F_cmooon\",\"L_cmoonn\",\"L_cmonno\",\"F_anooon\"]\n",
    "    fitted_params3\n",
    "    fitpdf=pd.DataFrame(fitted_params3)\n",
    "    fitpdf.columns=Parnames\n",
    "    now = datetime.now()\n",
    "    current_time = now.strftime(\"%m_%d_%H_%M\")\n",
    "#     print(\"Current Time =\", current_time)\n",
    "    fitsel=fitpdf[np.logical_and(fitpdf[\"alpha\"]>0 , fitpdf[\"alpha\"]<1)]\n",
    "    #------\n",
    "#     print(bdd)\n",
    "    bddstr=np.array(bdd).astype(str)\n",
    "    bddbdd=pd.DataFrame([[bddstr[i,0]+\" ~ \"+bddstr[i,1] for i in range(bddstr.shape[0])]])\n",
    "    bddbdd.columns=Parnames\n",
    "    fitsel=fitsel.append(bddbdd, sort=False)\n",
    "    # print(fitsel)\n",
    "    #---------\n",
    "    \n",
    "    filen = which_work+\"_\" + current_time +\".csv\"\n",
    "    \n",
    "    fitsel.to_csv(filen)\n",
    "\n",
    "    return(fitsel)\n",
    "    \n",
    "global Which_file\n",
    "Which_file = \"MIX\"\n",
    "current = \"ajust_beta_cons\"\n",
    "\n",
    "fitsel=write_file(Which_file + \"_\" + current)\n",
    "fitsel"
   ]
  },
  {
   "cell_type": "code",
   "execution_count": 265,
   "metadata": {},
   "outputs": [
    {
     "data": {
      "text/plain": [
       "array([[ 2.16989012e-01,  1.93660634e+00,  1.46427846e-02,\n",
       "         1.62842786e-01,  2.39162354e+00, -2.87341313e+00,\n",
       "         6.38000000e+02,  3.70000000e+01,  2.18535292e-02,\n",
       "         3.58588599e-02,  2.58587705e-02,  3.85165093e-08],\n",
       "       [ 2.16988128e-01,  1.93661206e+00,  1.46427765e-02,\n",
       "         1.62841981e-01,  2.39162452e+00, -2.87341219e+00,\n",
       "         6.38000000e+02,  3.70000000e+01,  2.18534470e-02,\n",
       "         3.58585494e-02,  2.58585292e-02,  5.21314090e-09],\n",
       "       [ 0.00000000e+00,  0.00000000e+00,  0.00000000e+00,\n",
       "         0.00000000e+00,  0.00000000e+00,  0.00000000e+00,\n",
       "         0.00000000e+00,  0.00000000e+00,  0.00000000e+00,\n",
       "         0.00000000e+00,  0.00000000e+00,  0.00000000e+00],\n",
       "       [ 0.00000000e+00,  0.00000000e+00,  0.00000000e+00,\n",
       "         0.00000000e+00,  0.00000000e+00,  0.00000000e+00,\n",
       "         0.00000000e+00,  0.00000000e+00,  0.00000000e+00,\n",
       "         0.00000000e+00,  0.00000000e+00,  0.00000000e+00],\n",
       "       [ 0.00000000e+00,  0.00000000e+00,  0.00000000e+00,\n",
       "         0.00000000e+00,  0.00000000e+00,  0.00000000e+00,\n",
       "         0.00000000e+00,  0.00000000e+00,  0.00000000e+00,\n",
       "         0.00000000e+00,  0.00000000e+00,  0.00000000e+00]])"
      ]
     },
     "execution_count": 265,
     "metadata": {},
     "output_type": "execute_result"
    }
   ],
   "source": [
    "fitted_params3"
   ]
  },
  {
   "cell_type": "markdown",
   "metadata": {},
   "source": [
    "## Assignresults"
   ]
  },
  {
   "cell_type": "code",
   "execution_count": 279,
   "metadata": {},
   "outputs": [],
   "source": [
    " [\n",
    "        alpha[\"all\"],\n",
    "        beta[\"all\"],\n",
    "        s[\"all\"],\n",
    "#         s[\"ss24\"],\n",
    "#         s[\"ss8\"],\n",
    "        c,\n",
    "        Old_crit,\n",
    "        New_crit,\n",
    "        t0,\n",
    "        kao,\n",
    "        F[\"CM_oldiold_oldinew\"],\n",
    "        L[\"CM_oldiold_newinew\"],\n",
    "        L[\"CM_oldinew_newiold\"],\n",
    "        F[\"AN_oldiold_oldinew\"]] = fitted_params3[1]"
   ]
  },
  {
   "cell_type": "code",
   "execution_count": 280,
   "metadata": {},
   "outputs": [
    {
     "data": {
      "text/plain": [
       "[0.3868773815003098,\n",
       " 0.8043827754112935,\n",
       " 0.028883920282116348,\n",
       " 0.7095173495561341,\n",
       " 4.296794630423347,\n",
       " -5.252375213184772,\n",
       " 484.60251860944396,\n",
       " 21.274484716351516,\n",
       " 0.2574683748909266,\n",
       " 0.15639725239100774,\n",
       " 0.14639687484729874,\n",
       " 0.20770751768112194]"
      ]
     },
     "execution_count": 280,
     "metadata": {},
     "output_type": "execute_result"
    }
   ],
   "source": [
    " [\n",
    "        alpha[\"all\"],\n",
    "        beta[\"all\"],\n",
    "        s[\"all\"],\n",
    "#         s[\"ss24\"],\n",
    "#         s[\"ss8\"],\n",
    "        c,\n",
    "        Old_crit,\n",
    "        New_crit,\n",
    "        t0,\n",
    "        kao,\n",
    "        F[\"CM_oldiold_oldinew\"],\n",
    "        L[\"CM_oldiold_newinew\"],\n",
    "        L[\"CM_oldinew_newiold\"],\n",
    "        F[\"AN_oldiold_oldinew\"]]"
   ]
  },
  {
   "cell_type": "markdown",
   "metadata": {},
   "source": [
    "# Final Random Walk"
   ]
  },
  {
   "cell_type": "code",
   "execution_count": 76,
   "metadata": {},
   "outputs": [],
   "source": [
    "s_AN=0.01\n",
    "s_others = 0.07\n",
    "def finalRW(df_org):\n",
    "    names = df_org[\"FileCondi\"].astype(\"category\").cat.categories.to_numpy() #get categories name\n",
    "    df_all_crt= pd.DataFrame()\n",
    "    df_all_err= pd.DataFrame()\n",
    "\n",
    "    df_sub_err = df_org.groupby([\"Oldnew\",\"Setsize\",\"Probtype\",\"Lag\",\"FileCondi\"])[[\"Error\"]].agg([\"mean\"]).reset_index()\n",
    "    df_sub_crt = df_org[df_org[\"Error\"]==0].\\\n",
    "    groupby([\"Oldnew\",\"Setsize\",\"Probtype\",\"Lag\",\"FileCondi\"])[[\"RT\"]].agg([\"mean\"]).reset_index()\n",
    "\n",
    "    for iname in names:\n",
    "\n",
    "        pred_rt, pred_correct = calc_theoretical_RW(df_sub_err, iname)\n",
    "        pred_crt, pred_ccorrect = calc_theoretical_RW(df_sub_crt, iname)\n",
    "\n",
    "        df_temp_crt = df_sub_crt[df_sub_crt[\"FileCondi\"] == iname]\n",
    "        df_temp_err = df_sub_err[df_sub_err[\"FileCondi\"] == iname]\n",
    "\n",
    "\n",
    "        df_temp_crt[\"pred_rt\"] = pred_rt   \n",
    "        df_temp_err[\"pred_error\"] = 1- pred_correct\n",
    "\n",
    "        df_all_crt = df_all_crt.append(df_temp_crt)\n",
    "        df_all_err = df_all_err.append(df_temp_err)\n",
    "\n",
    "\n",
    "    return(df_all_crt, df_all_err)"
   ]
  },
  {
   "cell_type": "code",
   "execution_count": 201,
   "metadata": {},
   "outputs": [
    {
     "name": "stdout",
     "output_type": "stream",
     "text": [
      "11.725444698500784\n",
      "11.725470249262703\n",
      "10.162856170523758\n",
      "11.72535711344988\n",
      "11.66039946863931\n"
     ]
    }
   ],
   "source": [
    "\n",
    "for i in range(5):\n",
    "    [alpha[\"all\"],\n",
    "    beta[\"all\"],\n",
    "    s[\"all\"],\n",
    "    c,\n",
    "    Old_crit,\n",
    "    New_crit,\n",
    "    t0,\n",
    "    kao,\n",
    "    F[\"CM_oldiold_oldinew\"],\n",
    "    L[\"CM_oldiold_newinew\"],\n",
    "    L[\"CM_oldinew_newiold\"],\n",
    "    F[\"AN_oldiold_oldinew\"]]= fitted_params3[i]\n",
    "    print(calc_wssd(df_org,\"ANpure\"))\n"
   ]
  },
  {
   "cell_type": "code",
   "execution_count": 187,
   "metadata": {},
   "outputs": [],
   "source": []
  },
  {
   "cell_type": "code",
   "execution_count": 182,
   "metadata": {},
   "outputs": [
    {
     "data": {
      "text/plain": [
       "array([ 8.01863231e-02,  3.00000000e+00,  3.43491459e-02,  8.76671929e-02,\n",
       "        4.93200807e+00, -3.81094736e+00,  5.00000000e+02,  2.20000000e+01,\n",
       "        0.00000000e+00,  0.00000000e+00,  0.00000000e+00,  2.29127402e-02])"
      ]
     },
     "execution_count": 182,
     "metadata": {},
     "output_type": "execute_result"
    }
   ],
   "source": [
    "fitted_params3[0]"
   ]
  },
  {
   "cell_type": "markdown",
   "metadata": {},
   "source": [
    "## Error plot"
   ]
  },
  {
   "cell_type": "code",
   "execution_count": 281,
   "metadata": {},
   "outputs": [
    {
     "name": "stderr",
     "output_type": "stream",
     "text": [
      "C:\\Users\\naszh\\Anaconda3\\envs\\Lea\\lib\\site-packages\\ipykernel_launcher.py:21: SettingWithCopyWarning: \n",
      "A value is trying to be set on a copy of a slice from a DataFrame.\n",
      "Try using .loc[row_indexer,col_indexer] = value instead\n",
      "\n",
      "See the caveats in the documentation: http://pandas.pydata.org/pandas-docs/stable/user_guide/indexing.html#returning-a-view-versus-a-copy\n",
      "C:\\Users\\naszh\\Anaconda3\\envs\\Lea\\lib\\site-packages\\ipykernel_launcher.py:22: SettingWithCopyWarning: \n",
      "A value is trying to be set on a copy of a slice from a DataFrame.\n",
      "Try using .loc[row_indexer,col_indexer] = value instead\n",
      "\n",
      "See the caveats in the documentation: http://pandas.pydata.org/pandas-docs/stable/user_guide/indexing.html#returning-a-view-versus-a-copy\n"
     ]
    },
    {
     "data": {
      "image/png": "[encoded data removed]",
      "text/plain": [
       "<Figure size 1152x576 with 6 Axes>"
      ]
     },
     "metadata": {
      "needs_background": "light"
     },
     "output_type": "display_data"
    }
   ],
   "source": [
    "\n",
    "# print(L[\"CM_oldinew_newiold\"])\n",
    "df_all_crt, df_all_err = finalRW(df_org)\n",
    "\n",
    "def all_plot(df_all_aggnew,plotwhaty,ylim):\n",
    "    fig, axes = plt.subplots(nrows=1, ncols=6, figsize=(16,8))\n",
    "    fig.canvas.set_window_title(plotwhaty)\n",
    "    line_width = 2.5\n",
    "    i=0\n",
    "    names = df_all_aggnew[\"FileCondi\"].astype(\"category\").cat.categories.to_numpy() #get categories name\n",
    "    for iname in names:\n",
    "        df_all_aggnew[df_all_aggnew[\"FileCondi\"]==iname].plot.line(x=\"Setsize\", y=plotwhaty,ax=axes[i],\\\n",
    "                                                                   title=iname,ylim=ylim )\n",
    "        i+=1\n",
    "\n",
    "# all_plot(df_all_aggnew, \"RT\",(600,1100))\n",
    "# all_plot(df_all_aggnew, \"pred_rt\",(600,1100))\n",
    "# all_plot(df_all_aggnew, \"Error\",(0,0.3))\n",
    "# all_plot(df_all_aggnew, \"pred_error\",(0,1))\n",
    "\n",
    "df_all_agg = df_all_err.groupby([\"Oldnew\",\"Setsize\",\"Probtype\",\"FileCondi\"]).agg([\"mean\"])#.apply(lambda x: x)\n",
    "df_all_aggnew = df_all_agg.unstack([\"Oldnew\",\"Probtype\"])\n",
    "# df_all_aggnew = df_all_agg.unstack([\"FileCondi\",\"Oldnew\",\"Probtype\"])\n",
    "df_all_aggnew\n",
    "# df_all_aggnew= df_all_aggnew.swaplevel(i=0,j=2,axis = 1)\n",
    "\n",
    "df_all_aggnew.index.name = 'Setsize'\n",
    "df_all_aggnew.reset_index(inplace=True)\n",
    "\n",
    "\n",
    "# df_all_aggnew.columns = df_all_aggnew[df_all_aggnew[\"FileCondi\"]==iname].columns.droplevel([1,2])\n",
    "df_all_aggnew.columns = df_all_aggnew.columns.droplevel([1,2])\n",
    "# df_all_aggnew\n",
    "\n",
    "\n",
    "all_plot(df_all_aggnew, \"pred_error\",(0,0.3))"
   ]
  },
  {
   "cell_type": "code",
   "execution_count": 97,
   "metadata": {},
   "outputs": [
    {
     "data": {
      "image/png": "[encoded data removed]",
      "text/plain": [
       "<Figure size 1152x576 with 6 Axes>"
      ]
     },
     "metadata": {
      "needs_background": "light"
     },
     "output_type": "display_data"
    }
   ],
   "source": [
    "all_plot(df_all_aggnew, \"Error\",(0,0.3))"
   ]
  },
  {
   "cell_type": "markdown",
   "metadata": {},
   "source": [
    "## correct RT plot"
   ]
  },
  {
   "cell_type": "code",
   "execution_count": 274,
   "metadata": {},
   "outputs": [
    {
     "data": {
      "image/png": "[encoded data removed]",
      "text/plain": [
       "<Figure size 1152x576 with 6 Axes>"
      ]
     },
     "metadata": {
      "needs_background": "light"
     },
     "output_type": "display_data"
    },
    {
     "data": {
      "image/png": "[encoded data removed]",
      "text/plain": [
       "<Figure size 1152x576 with 6 Axes>"
      ]
     },
     "metadata": {
      "needs_background": "light"
     },
     "output_type": "display_data"
    }
   ],
   "source": [
    "def all_plot(df_all_aggnew,plotwhaty,ylim):\n",
    "    fig, axes = plt.subplots(nrows=1, ncols=6, figsize=(16,8))\n",
    "    fig.canvas.set_window_title(plotwhaty)\n",
    "    line_width = 2.5\n",
    "    i=0\n",
    "    names = df_all_aggnew[\"FileCondi\"].astype(\"category\").cat.categories.to_numpy() #get categories name\n",
    "    for iname in names:\n",
    "        df_all_aggnew[df_all_aggnew[\"FileCondi\"]==iname].plot.line(x=\"Setsize\", y=plotwhaty,ax=axes[i],\\\n",
    "                                                                   title=iname,ylim=ylim )\n",
    "        i+=1\n",
    "\n",
    "# all_plot(df_all_aggnew, \"RT\",(600,1100))\n",
    "# all_plot(df_all_aggnew, \"pred_rt\",(600,1100))\n",
    "# all_plot(df_all_aggnew, \"Error\",(0,0.3))\n",
    "# all_plot(df_all_aggnew, \"pred_error\",(0,1))\n",
    "\n",
    "df_all_agg = df_all_crt.groupby([\"Oldnew\",\"Setsize\",\"Probtype\",\"FileCondi\"]).agg([\"mean\"])#.apply(lambda x: x)\n",
    "df_all_aggnew = df_all_agg.unstack([\"Oldnew\",\"Probtype\"])\n",
    "# df_all_aggnew = df_all_agg.unstack([\"FileCondi\",\"Oldnew\",\"Probtype\"])\n",
    "df_all_aggnew\n",
    "# df_all_aggnew= df_all_aggnew.swaplevel(i=0,j=2,axis = 1)\n",
    "\n",
    "df_all_aggnew.index.name = 'Setsize'\n",
    "df_all_aggnew.reset_index(inplace=True)\n",
    "\n",
    "\n",
    "df_all_aggnew.columns = df_all_aggnew.columns.droplevel([1,2])\n",
    "# df_all_aggnew\n",
    "\n",
    "\n",
    "all_plot(df_all_aggnew, \"pred_rt\",(600,1100))\n",
    "all_plot(df_all_aggnew, \"RT\",(600,1100))\n"
   ]
  },
  {
   "cell_type": "code",
   "execution_count": null,
   "metadata": {},
   "outputs": [],
   "source": []
  }
 ],
 "metadata": {
  "kernelspec": {
   "display_name": "Python 3",
   "language": "python",
   "name": "python3"
  },
  "language_info": {
   "codemirror_mode": {
    "name": "ipython",
    "version": 3
   },
   "file_extension": ".py",
   "mimetype": "text/x-python",
   "name": "python",
   "nbconvert_exporter": "python",
   "pygments_lexer": "ipython3",
   "version": "3.7.4"
  },
  "latex_envs": {
   "LaTeX_envs_menu_present": true,
   "autoclose": false,
   "autocomplete": true,
   "bibliofile": "biblio.bib",
   "cite_by": "apalike",
   "current_citInitial": 1,
   "eqLabelWithNumbers": true,
   "eqNumInitial": 1,
   "hotkeys": {
    "equation": "Ctrl-E",
    "itemize": "Ctrl-I"
   },
   "labels_anchors": false,
   "latex_user_defs": false,
   "report_style_numbering": false,
   "user_envs_cfg": false
  },
  "toc": {
   "base_numbering": 1,
   "nav_menu": {
    "height": "315px",
    "width": "281.441px"
   },
   "number_sections": true,
   "sideBar": true,
   "skip_h1_title": false,
   "title_cell": "Table of Contents",
   "title_sidebar": "Contents",
   "toc_cell": false,
   "toc_position": {
    "height": "693.993px",
    "left": "1531px",
    "top": "34.32px",
    "width": "213.836px"
   },
   "toc_section_display": true,
   "toc_window_display": true
  }
 },
 "nbformat": 4,
 "nbformat_minor": 4
}
