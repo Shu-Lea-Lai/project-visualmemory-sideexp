{
 "cells": [
  {
   "cell_type": "markdown",
   "metadata": {
    "kernel": "SoS"
   },
   "source": [
    "# Set up \n"
   ]
  },
  {
   "cell_type": "code",
   "execution_count": 1,
   "metadata": {
    "kernel": "Python3"
   },
   "outputs": [],
   "source": [
    "import numpy as np\n",
    "import pandas as pd\n",
    "import time\n",
    "import matplotlib.pyplot as plt\n",
    "import sys\n",
    "from scipy.optimize import LinearConstraint\n",
    "import scipy.optimize as optimize\n",
    "import threading\n",
    "# from rpy2.robjects.packages import importr, data\n",
    "# from rpy2.robjects.lib.dplyr import DataFrame\n",
    "from datetime import datetime\n"
   ]
  },
  {
   "cell_type": "code",
   "execution_count": 19,
   "metadata": {
    "kernel": "Python3"
   },
   "outputs": [],
   "source": [
    "path=\"./\" + \"sidedata/\"\n",
    "filename = path + \"Alldata2.csv\"\n",
    "\n",
    "df=pd.read_csv(filename, index_col=None)\n",
    "df['Probtype'] = np.where(df['Stimkind']==1, \"CM\",\n",
    "                   np.where(df['Stimkind']==0, \"AN\",\n",
    "                   np.where(df['Stimkind']==3, 'VM',\"wrong\")))\n",
    "\n",
    "df['Oldnew'] = np.where(df['Old']==1, \"old\",\n",
    "                   np.where(df['Old']==2, \"new\",\"wrong\"))\n",
    "df['Error'] = 1-df['Correctness']\n",
    "df_org = df[df['RT']<2000]\n",
    "df = df_org.groupby([\"Oldnew\",\"Setsize\",\"Probtype\",\"Lag\",\"Error\",\"FileCondi\"])[[\"RT\"]].agg([\"mean\"])\n",
    "# df[[\"Correctness\",\"Error\"]]\n",
    "# df.groupby(\"Error\")\n",
    "df.index.name = 'Setsize'\n",
    "df.reset_index(inplace=True)\n",
    "# df[\"Error\"]\n",
    "\n",
    "\n",
    "df_err = df_org.groupby([\"Oldnew\",\"Setsize\",\"Probtype\",\"Lag\",\"FileCondi\"])[[\"Error\"]].agg([\"mean\"]).reset_index()\n",
    "df_crt = df_org[df_org[\"Error\"]==0].\\\n",
    "groupby([\"Oldnew\",\"Setsize\",\"Probtype\",\"Lag\",\"FileCondi\"])[[\"RT\"]].agg([\"mean\"]).reset_index()\n",
    "\n",
    "df_err.columns = df_err.columns.droplevel(1)\n",
    "df_crt.columns = df_crt.columns.droplevel(1)\n",
    "\n",
    "df_err = df_err.reset_index()\n",
    "df_crt = df_crt.reset_index()"
   ]
  },
  {
   "cell_type": "markdown",
   "metadata": {
    "kernel": "SoS"
   },
   "source": [
    "# Parameter set"
   ]
  },
  {
   "cell_type": "code",
   "execution_count": 3,
   "metadata": {
    "kernel": "Python3",
    "scrolled": true
   },
   "outputs": [],
   "source": [
    "global boost, alpha, beta, s, c ,Old_crit ,New_crit ,\\\n",
    "    t0 ,kao , F, L\n",
    "  \n",
    "alpha={}; beta ={}; s = {}; F = {}; L = {}; t0 = {}\n",
    "\n",
    "\n",
    "boost = 1.05\n",
    "alpha[\"all\"] = 0.19\n",
    "# alpha['CM'] = 0.1969 \n",
    "# alpha['VM'] = 0.1969 \n",
    "# alpha[\"AN\"]=0.84\n",
    "\n",
    "beta[\"all\"] =1.2\n",
    "# beta['CM'] = 1.228\n",
    "# beta['VM'] = 1.228\n",
    "# beta[\"AN\"]= 1.708\n",
    "\n",
    "# s[\"all\"]=0.01\n",
    "s[\"ss2\"]=0.01\n",
    "s[\"ss4\"]=0.01\n",
    "s[\"ss8\"]=0.01\n",
    "# s[\"AN\"] = 0.01\n",
    "# s[\"CM\"] = 0.02\n",
    "# s[\"VM\"] = 0.02\n",
    "c = 0.3938\n",
    "\n",
    "Old_crit = 1.9197\n",
    "New_crit = -2.33\n",
    "t0[\"all\"] = 699.98\n",
    "t0[\"ann\"] = 699.98\n",
    "\n",
    "kao = 37\n",
    "\n",
    "#---CM\n",
    "F[\"CM_oldiold_oldinew\"] = 0.2\n",
    "\n",
    "L[\"CM_oldiold_newinew\"] = 0.2\n",
    "L[\"CM_oldinew_newiold\"] = 0.2\n",
    "\n",
    "#---AN\n",
    "F[\"AN_oldiold_oldinew\"] = 0.2"
   ]
  },
  {
   "cell_type": "markdown",
   "metadata": {
    "kernel": "SoS"
   },
   "source": [
    "# Assign LTM global"
   ]
  },
  {
   "cell_type": "code",
   "execution_count": 4,
   "metadata": {
    "kernel": "Python3"
   },
   "outputs": [
    {
     "data": {
      "text/plain": [
       "0.2"
      ]
     },
     "execution_count": 4,
     "metadata": {},
     "output_type": "execute_result"
    }
   ],
   "source": [
    "def assign_LTM_global(item_condi, walk, item):\n",
    "    \n",
    "    global F,L,Fnow,Lnow\n",
    "    \n",
    "    if item_condi==\"CM\":\n",
    "        \n",
    "        if walk+\"i\"+item == \"oldiold\" or walk+\"i\"+item == \"oldinew\":\n",
    "            \n",
    "            Fnow = F[\"CM_oldiold_oldinew\"]\n",
    "        else: Fnow = 0\n",
    "        \n",
    "        if walk+\"i\"+item == \"oldiold\" or walk+\"i\"+item == \"newinew\":\n",
    "            \n",
    "            Lnow = L[\"CM_oldiold_newinew\"]\n",
    "        elif walk+\"i\"+item == \"oldinew\" or walk+\"i\"+item == \"newiold\":\n",
    "            \n",
    "            Lnow = L[\"CM_oldinew_newiold\"]\n",
    "        else: Lnow=0\n",
    "            \n",
    "    if item_condi == \"AN\":\n",
    "        \n",
    "        if walk+\"i\"+item == \"oldiold\" or walk+\"i\"+item == \"oldinew\":\n",
    "            \n",
    "            Fnow = F[\"AN_oldiold_oldinew\"]\n",
    "        else: Fnow=0\n",
    "        \n",
    "        Lnow = 0\n",
    "    \n",
    "    return(Fnow + Lnow)\n",
    "\n",
    "assign_LTM_global(\"AN\",\"old\",\"old\")\n",
    "        "
   ]
  },
  {
   "cell_type": "markdown",
   "metadata": {
    "kernel": "SoS"
   },
   "source": [
    "# Calc A (activation)"
   ]
  },
  {
   "cell_type": "code",
   "execution_count": 5,
   "metadata": {
    "kernel": "Python3"
   },
   "outputs": [],
   "source": [
    "# seperate albes\n",
    "def calcA(df, name):\n",
    "\n",
    "    \n",
    "    dnow = df[df['FileCondi']==name]\n",
    "    a = np.zeros((dnow.shape[0], 8))  #activation\n",
    "    \n",
    "    betanow=beta[\"all\"] \n",
    "    alphanow=alpha[\"all\"]\n",
    "    \n",
    "    m = np.array([(j**(-betanow) + alphanow) for j in np.arange(1,9)])\n",
    "    \n",
    "    for j in range(1,9):\n",
    "        \n",
    "        indexj = j-1\n",
    "        a[np.logical_and(dnow[\"Lag\"]!=j,dnow[\"Setsize\"]==2),indexj] = m[indexj] * s[\"ss2\"]\n",
    "        a[np.logical_and(dnow[\"Lag\"]!=j,dnow[\"Setsize\"]==4),indexj] = m[indexj] * s[\"ss4\"]\n",
    "        a[np.logical_and(dnow[\"Lag\"]!=j,dnow[\"Setsize\"]==8),indexj] = m[indexj] * s[\"ss8\"]\n",
    "        a[dnow[\"Lag\"]==j,indexj] = m[indexj]\n",
    "        \n",
    "#         print(m[indexj] * s[\"all\"])\n",
    "    for i in range(a.shape[0]): a[i,dnow['Setsize'].iloc[i]:] = 0 #a_ij suit for the correct amount of setsize\n",
    "    debug = 0\n",
    "    if debug==1:\n",
    "        for i in range(a.shape[0]):\n",
    "            print(i, \"begin\\n\",\"a is\",a[i].round(5),\\\n",
    "                  \"\\n m is\", np.array(m).round(3),\"\\n Probtype is\",\\\n",
    "                  \"\\n Lag is \",dnow['Lag'].iloc[i],\\\n",
    "                  \"\\n Setsize is\", dnow[\"Setsize\"].iloc[i],\\\n",
    "                  \"\\n Probtype:\",\\\n",
    "                  dnow[\"Probtype\"].iloc[i],\\\n",
    "                  \"\\n Oldnew: \",dnow[\"Oldnew\"].iloc[i],\\\n",
    "                  \"\\n Ai is\", a[i,:].sum().round(2),\\\n",
    "                  \"\\n snow\", snow,\\\n",
    "                 \"\\n------------------------------------------------\" )\n",
    "\n",
    "    \n",
    "    A = a.sum(axis = 1)\n",
    "    \n",
    "    return(A)\n",
    "\n",
    "# print(calcA(df[df[\"Error\"]==0], \"CMat\"))\n",
    "\n",
    "name=\"MIX\"\n",
    "A0=calcA(df,name)\n",
    "df_sub= df[df['FileCondi']==name]\n",
    "show =[df_sub[\"FileCondi\"].iloc[i]+\\\n",
    "        \"-- \"+A0[i].round(5).astype(str)+\\\n",
    "      \"--\"+ df_sub[\"Setsize\"].iloc[i].astype(str)+\\\n",
    "      \"--\"+df_sub[\"Probtype\"].iloc[i]+\\\n",
    "      \"--\"+df_sub[\"Oldnew\"].iloc[i] for i in range(A0.size)]\n",
    "# print(np.sort(show))"
   ]
  },
  {
   "cell_type": "markdown",
   "metadata": {
    "kernel": "SoS"
   },
   "source": [
    "# Calc p (drift rate)"
   ]
  },
  {
   "cell_type": "code",
   "execution_count": 6,
   "metadata": {
    "kernel": "Python3",
    "scrolled": false
   },
   "outputs": [],
   "source": [
    "\n",
    "def calcp(df, name):\n",
    "    \n",
    "    A = calcA(df, name)\n",
    "    dnow = df[df['FileCondi']==name]\n",
    "    p = np.repeat(3.0, A.shape[0])\n",
    "    \n",
    "    probs = dnow[\"Probtype\"].astype(\"category\").cat.categories.to_numpy() #get categories name\n",
    "    \n",
    "\n",
    "    for iprob in probs:\n",
    "        \n",
    "        for ion in [\"old\",\"new\"]:\n",
    "            \n",
    "            tf_ion = dnow['Oldnew'] == ion\n",
    "            tf_iprob = dnow['Probtype'] == iprob\n",
    "            tf_all = np.logical_and(tf_ion, tf_iprob)\n",
    "            \n",
    "            IR_old_current = assign_LTM_global(iprob,\"old\",ion)\n",
    "            IR_new_current = assign_LTM_global(iprob,\"new\",ion)\n",
    "        \n",
    "            p[tf_all] = (A[tf_all] + IR_old_current)/(A[tf_all] + IR_old_current + c + IR_new_current)\n",
    "        \n",
    "#             print(\"**\",\"MIX\",iprob,\"oldi\"+ion+\"--\",IR_old_current,\n",
    "#                                       \"newi\"+ion+\"--\",IR_new_current, p[tf_all])\n",
    "    return(np.array(p))\n",
    "\n",
    "p0=calcp(df,\"MIX\")\n",
    "\n",
    "# ok1=calcp(df, \"MIX\")\n",
    "# on = df[df['FileCondi']==\"MIX\"][\"Oldnew\"]\n",
    "# onn = df[df['FileCondi']==\"MIX\"][\"Probtype\"]\n",
    "# ss = df[df['FileCondi']==\"MIX\"][\"Setsize\"]\n",
    "# lagg = df[df['FileCondi']==\"MIX\"][\"Lag\"]\n",
    "# # print(np.array([str(ok1[i].round(2))+\"-\"+str(on.iloc[i]) for i in range(ok1.shape[0])]))\n",
    "# print(np.array([str(ok1[i].round(8))+\"-\"+str(on.iloc[i]) +\"-\"+str(onn.iloc[i])+\"-ss:\"+str(ss.iloc[i])\\\n",
    "#                 + \"-lag:\" + str(lagg.iloc[i]) for i in range(ok1.shape[0])]))\n",
    "\n",
    "\n",
    "name=\"MIX\"\n",
    "df_sub = df[df['FileCondi']==name]\n",
    "p0=calcp(df,name)\n",
    "show =[df_sub[\"FileCondi\"].iloc[i]+\\\n",
    "       \"--\"+df_sub[\"Probtype\"].iloc[i]+\\\n",
    "       \"--\"+ df_sub[\"Setsize\"].iloc[i].astype(str)+\\\n",
    "       \"--\"+df_sub[\"Oldnew\"].iloc[i]+\\\n",
    "       \"-- \"+p0[i].round(5).astype(str) for i in range(A0.size)]\n",
    "# print(np.sort(show))"
   ]
  },
  {
   "cell_type": "markdown",
   "metadata": {
    "kernel": "SoS"
   },
   "source": [
    "# RW "
   ]
  },
  {
   "cell_type": "code",
   "execution_count": 23,
   "metadata": {
    "kernel": "Python3"
   },
   "outputs": [],
   "source": [
    "\n",
    "def calc_theoretical_RW(df, name, which):\n",
    "    \n",
    "    A = calcA(df,name)\n",
    "    p = calcp(df,name)\n",
    "    q = 1-p\n",
    "    \n",
    "    dnow = df[df['FileCondi']==name]\n",
    "    \n",
    "    p_resp_old = np.zeros(p.size)\n",
    "    pred_correct = np.zeros(p.size)\n",
    "    pred_rt = np.zeros(p.size)\n",
    "\n",
    "    theta1 = np.zeros(p.size)\n",
    "    theta2 = np.zeros(q.size)\n",
    "    theta11 = np.zeros(p.size)\n",
    "    theta22 = np.zeros(q.size)\n",
    "    exp_nstep = np.zeros(p.shape[0])\n",
    "    \n",
    "    \n",
    "    AA = Old_crit\n",
    "    BB = -New_crit # bb is a postive number\n",
    "    \n",
    "    exp_nstep = np.zeros(p.shape[0])\n",
    "    if which==\"crt\":\n",
    "\n",
    "        theta1 = ((p/q)**(AA+BB)+1)/((p/q)**(AA+BB)-1)\n",
    "        theta2 = ((p/q)**BB+1)/((p/q)**BB-1)\n",
    "\n",
    "\n",
    "        tf = np.logical_and(p!=q , dnow[\"Oldnew\"]=='old')\n",
    "        exp_nstep[tf] = (1/(p[tf]-q[tf]))*(theta1[tf]*(AA+BB) - theta2[tf]*BB)\n",
    "\n",
    "        tf = np.logical_and(p==q , dnow[\"Oldnew\"]=='old')\n",
    "        exp_nstep[tf] = (AA/3)*(2*BB+AA)\n",
    "\n",
    "        theta1 = ((p/q)**(-(AA+BB))+1)/((p/q)**(-(AA+BB))-1)\n",
    "        theta2 = ((p/q)**-AA+1)/((p/q)**-AA-1)\n",
    "\n",
    "        tf = np.logical_and(p!=q , dnow[\"Oldnew\"]=='new')\n",
    "        exp_nstep[tf] = (1/(q[tf]-p[tf]))*(theta1[tf]*(AA+BB) - theta2[tf]*AA)\n",
    "        tf = np.logical_and(p==q , dnow[\"Oldnew\"]=='new')\n",
    "        exp_nstep[tf] = (BB/3)*(2*AA+BB)\n",
    "        \n",
    "        suprise = np.logical_and.reduce((np.logical_or(dnow[\"FileCondi\"]==\"MIX\",dnow[\"FileCondi\"]==\"MIX2\"),\n",
    "                                         dnow[\"Probtype\"]==\"AN\",dnow[\"Oldnew\"]==\"new\"))\n",
    "        notsuprise = np.logical_not(suprise)\n",
    "\n",
    "        pred_rt[suprise] = t0[\"ann\"] + kao * exp_nstep[suprise]\n",
    "        pred_rt[notsuprise] = t0[\"all\"] + kao * exp_nstep[notsuprise]\n",
    "\n",
    "\n",
    "    #------------------- correct response\n",
    "    elif which == \"err\":\n",
    "\n",
    "        p_resp_old[p!=q] = ((1-(q/p)**BB)/(1-(q/p)**(AA+BB)))[p!=q]\n",
    "        p_resp_old[p==q] = BB/(AA+BB)\n",
    "\n",
    "        pred_correct[dnow[\"Oldnew\"]=='old'] = p_resp_old[dnow[\"Oldnew\"]==\"old\"]\n",
    "        pred_correct[dnow[\"Oldnew\"]==\"new\"] = 1-p_resp_old[dnow[\"Oldnew\"]==\"new\"]\n",
    "\n",
    "    \n",
    "\n",
    "    \n",
    "    if which == \"crt\": \n",
    "        return(np.array(pred_rt))\n",
    "    elif which == \"err\":\n",
    "        return(np.array(pred_correct))\n",
    "          \n",
    "\n",
    "\n",
    "\n",
    "\n",
    "\n",
    "name=\"MIX\"\n",
    "df_sub = df[df['FileCondi']==name]\n",
    "rw=calc_theoretical_RW(df,name,\"crt\")\n",
    "show =[df_sub[\"FileCondi\"].iloc[i]+\\\n",
    "       \"--\"+df_sub[\"Probtype\"].iloc[i]+\\\n",
    "       \"--\"+ df_sub[\"Setsize\"].iloc[i].astype(str)+\\\n",
    "       \"--\"+df_sub[\"Oldnew\"].iloc[i]+\\\n",
    "       \"-- \"+rw[i].round(5).astype(str) for i in range(A0.size)]\n",
    "# print(np.sort(show))"
   ]
  },
  {
   "cell_type": "markdown",
   "metadata": {
    "kernel": "SoS"
   },
   "source": [
    "# Calculate WSSE"
   ]
  },
  {
   "cell_type": "code",
   "execution_count": 22,
   "metadata": {
    "kernel": "Python3",
    "scrolled": true
   },
   "outputs": [
    {
     "ename": "UnboundLocalError",
     "evalue": "local variable 'df_sub_err' referenced before assignment",
     "output_type": "error",
     "traceback": [
      "\u001b[0;31m---------------------------------------------------------------------------\u001b[0m",
      "\u001b[0;31mUnboundLocalError\u001b[0m                         Traceback (most recent call last)",
      "\u001b[0;32m<ipython-input-22-c8551c2145d6>\u001b[0m in \u001b[0;36m<module>\u001b[0;34m\u001b[0m\n\u001b[1;32m     54\u001b[0m \u001b[0;34m\u001b[0m\u001b[0m\n\u001b[1;32m     55\u001b[0m \u001b[0;31m# time1=time.time()\u001b[0m\u001b[0;34m\u001b[0m\u001b[0;34m\u001b[0m\u001b[0;34m\u001b[0m\u001b[0m\n\u001b[0;32m---> 56\u001b[0;31m \u001b[0mcalc_wssd\u001b[0m\u001b[0;34m(\u001b[0m\u001b[0mdf_err\u001b[0m\u001b[0;34m,\u001b[0m\u001b[0mdf_crt\u001b[0m\u001b[0;34m,\u001b[0m \u001b[0;34m\"MIX2\"\u001b[0m\u001b[0;34m)\u001b[0m\u001b[0;34m\u001b[0m\u001b[0;34m\u001b[0m\u001b[0m\n\u001b[0m\u001b[1;32m     57\u001b[0m \u001b[0;31m# print(time.time()-time1)\u001b[0m\u001b[0;34m\u001b[0m\u001b[0;34m\u001b[0m\u001b[0;34m\u001b[0m\u001b[0m\n\u001b[1;32m     58\u001b[0m \u001b[0;31m# df_sub_agg, WSSD = calc_wssd(df, \"MIX\")\u001b[0m\u001b[0;34m\u001b[0m\u001b[0;34m\u001b[0m\u001b[0;34m\u001b[0m\u001b[0m\n",
      "\u001b[0;32m<ipython-input-22-c8551c2145d6>\u001b[0m in \u001b[0;36mcalc_wssd\u001b[0;34m(df_err, df_crt, name)\u001b[0m\n\u001b[1;32m     21\u001b[0m \u001b[0;34m\u001b[0m\u001b[0m\n\u001b[1;32m     22\u001b[0m \u001b[0;34m\u001b[0m\u001b[0m\n\u001b[0;32m---> 23\u001b[0;31m     \u001b[0mdf_sub_err\u001b[0m \u001b[0;34m=\u001b[0m \u001b[0mdf_sub_err\u001b[0m\u001b[0;34m.\u001b[0m\u001b[0mreset_index\u001b[0m\u001b[0;34m(\u001b[0m\u001b[0;34m)\u001b[0m\u001b[0;34m\u001b[0m\u001b[0;34m\u001b[0m\u001b[0m\n\u001b[0m\u001b[1;32m     24\u001b[0m     \u001b[0mdf_sub_crt\u001b[0m \u001b[0;34m=\u001b[0m \u001b[0mdf_sub_crt\u001b[0m\u001b[0;34m.\u001b[0m\u001b[0mreset_index\u001b[0m\u001b[0;34m(\u001b[0m\u001b[0;34m)\u001b[0m\u001b[0;34m\u001b[0m\u001b[0;34m\u001b[0m\u001b[0m\n\u001b[1;32m     25\u001b[0m \u001b[0;34m\u001b[0m\u001b[0m\n",
      "\u001b[0;31mUnboundLocalError\u001b[0m: local variable 'df_sub_err' referenced before assignment"
     ]
    }
   ],
   "source": [
    "w={}\n",
    "# w[\"new_rt\"] = 4*2\n",
    "# w[\"old_rt\"] = 1*2\n",
    "# w[\"new_err\"] = 4\n",
    "# w[\"old_err\"] = 1\n",
    "# w[\"new_rt\"] = 4 *1.4  #2 is how many rt more than err\n",
    "# w[\"old_rt\"] = 1 \n",
    "# w[\"new_err\"] = 4 *1.1\n",
    "# w[\"old_err\"] = 4  *8\n",
    "\n",
    "# w[\"new_rt\"] = 1 *25 #2 is how many rt more than err\n",
    "# w[\"old_rt\"] = 1 \n",
    "# w[\"new_err\"] = 1  *20\n",
    "# w[\"old_err\"] = 1\n",
    "w[\"new_rt\"] = 1 *10 *5\n",
    "w[\"old_rt\"] = 1 *10\n",
    "w[\"new_err\"] = 1 *5\n",
    "w[\"old_err\"] = 1 \n",
    "\n",
    "def calc_wssd(df_sub_err,df_sub_crt, name):\n",
    "\n",
    "\n",
    "    df_sub_err = df_sub_err.reset_index()\n",
    "    df_sub_crt = df_sub_crt.reset_index()\n",
    "\n",
    "    pred_correct = calc_theoretical_RW(df_err, name, \"err\")\n",
    "    pred_crt= calc_theoretical_RW(df_crt, name,\"crt\")\n",
    "\n",
    "\n",
    "    df_sub_crt[\"pred_crt\"] = pred_crt/1000 #translate crt to seconds. \n",
    "    df_sub_err[\"pred_error\"] = 1- pred_correct\n",
    "\n",
    "    df_sub_crt[\"RT\"]= df_sub_crt[\"RT\"]/1000\n",
    "\n",
    "    df_sub_crt[\"SSD_RT\"] = ((df_sub_crt[\"RT\"] - df_sub_crt[\"pred_crt\"])**2).to_numpy()\n",
    "    df_sub_err[\"SSD_err\"] = ((df_sub_err[\"Error\"] - df_sub_err[\"pred_error\"])**2).to_numpy()\n",
    "\n",
    "    df_sub_crt[\"wSSD_RT\"] = [df_sub_crt.loc[i,\"SSD_RT\"] *\\\n",
    "                             w[df_sub_crt.loc[i,\"Oldnew\"]+\"_rt\"] for i in range(df_sub_crt.shape[0])]\n",
    "\n",
    "    df_sub_err[\"wSSD_err\"] = [df_sub_err.loc[i,\"SSD_err\"] *\\\n",
    "                             w[df_sub_err.loc[i,\"Oldnew\"] + \"_err\"] for i in range(df_sub_err.shape[0])]\n",
    "    \n",
    "    adj_oldnew=0\n",
    "    if adj_oldnew==1:\n",
    "        print(\"\\nERR\",\"old\",df_sub_err[df_sub_err[\"Oldnew\"]==\"old\"][\"wSSD_err\"].sum(),\\\n",
    "             \"new\",df_sub_err[df_sub_err[\"Oldnew\"]==\"new\"][\"wSSD_err\"].sum(),\n",
    "             \"\\nRT\",\"old\",df_sub_crt[df_sub_crt[\"Oldnew\"]==\"old\"][\"wSSD_RT\"].sum(),\\\n",
    "             \"new\",df_sub_crt[df_sub_crt[\"Oldnew\"]==\"new\"][\"wSSD_RT\"].sum(),)\n",
    "\n",
    "    WSSD = df_sub_err[\"wSSD_err\"].sum() + df_sub_crt[\"wSSD_RT\"].sum()\n",
    "\n",
    "    return(WSSD)\n",
    "\n",
    "# time1=time.time()\n",
    "calc_wssd(df_err,df_crt, \"MIX2\")\n",
    "# print(time.time()-time1)\n",
    "# df_sub_agg, WSSD = calc_wssd(df, \"MIX\")\n",
    "\n"
   ]
  },
  {
   "cell_type": "markdown",
   "metadata": {
    "kernel": "SoS"
   },
   "source": [
    "# Parameter search"
   ]
  },
  {
   "cell_type": "markdown",
   "metadata": {
    "kernel": "SoS"
   },
   "source": [
    "## Asign parm_dic"
   ]
  },
  {
   "cell_type": "code",
   "execution_count": 9,
   "metadata": {
    "kernel": "Python3"
   },
   "outputs": [
    {
     "data": {
      "text/plain": [
       "array([0.19, 1.2, 0.01, 0.01, 0.01, 0.3938, 1.9197, -2.33,\n",
       "       {'all': 699.98, 'ann': 699.98}, 37, 0.2, 0.2, 0.2, 0.2],\n",
       "      dtype=object)"
      ]
     },
     "execution_count": 9,
     "metadata": {},
     "output_type": "execute_result"
    }
   ],
   "source": [
    "param_dic=np.array((\n",
    "    \n",
    "    alpha[\"all\"],\n",
    "    beta[\"all\"],\n",
    "    s[\"ss2\"],s[\"ss4\"],s[\"ss8\"],\n",
    "    \n",
    "    c,\n",
    "    \n",
    "    Old_crit,\n",
    "    New_crit,\n",
    "    \n",
    "    t0,\n",
    "    kao,\n",
    "\n",
    "    #---CM\n",
    "    F[\"CM_oldiold_oldinew\"],\n",
    "\n",
    "    L[\"CM_oldiold_newinew\"],\n",
    "    L[\"CM_oldinew_newiold\"],\n",
    "\n",
    "    #---AN\n",
    "    F[\"AN_oldiold_oldinew\"]\n",
    "))\n",
    "param_dic"
   ]
  },
  {
   "cell_type": "markdown",
   "metadata": {
    "kernel": "SoS"
   },
   "source": [
    "## optim_wsse"
   ]
  },
  {
   "cell_type": "code",
   "execution_count": 10,
   "metadata": {
    "kernel": "Python3"
   },
   "outputs": [],
   "source": [
    "def optim_wsse(params_dic):\n",
    "    global alpha, beta, s, c ,Old_crit ,New_crit ,\\\n",
    "        t0 ,kao ,F, L,t\n",
    "\n",
    "    alpha={}; beta ={}; s = {}; F = {}; L={};t={}\n",
    "    \n",
    "    # print(params)  # <-- you'll see that params is a NumPy array\n",
    "    [\n",
    "        alpha[\"all\"],\n",
    "        beta[\"all\"],\n",
    "        s[\"ss2\"],s[\"ss4\"],s[\"ss8\"],\n",
    "        c,\n",
    "\n",
    "        Old_crit,\n",
    "        New_crit,\n",
    "\n",
    "        t0[\"all\"],\n",
    "        t0[\"ann\"],\n",
    "        \n",
    "        kao,\n",
    "\n",
    "        #---CM\n",
    "        F[\"CM_oldiold_oldinew\"],\n",
    "\n",
    "        L[\"CM_oldiold_newinew\"],\n",
    "        L[\"CM_oldinew_newiold\"],\n",
    "\n",
    "        #---AN\n",
    "        F[\"AN_oldiold_oldinew\"]] = params_dic\n",
    "    \n",
    "\n",
    "\n",
    "    return calc_wssd(df_org, \"MIX2\")\n"
   ]
  },
  {
   "cell_type": "markdown",
   "metadata": {
    "kernel": "SoS"
   },
   "source": [
    "## random start"
   ]
  },
  {
   "cell_type": "code",
   "execution_count": 11,
   "metadata": {
    "kernel": "Python3"
   },
   "outputs": [],
   "source": [
    "def random_start():\n",
    "    global alpha, beta, s, c ,Old_crit ,New_crit ,\\\n",
    "    t0 ,kao , F, L,t\n",
    "  \n",
    "    alpha={}; beta ={}; s = {}; F = {}; L = {};t={}\n",
    "\n",
    "    alpha[\"all\"] = np.random.uniform(0.1,1)\n",
    "    beta[\"all\"] =np.random.uniform(1,2)\n",
    "    s[\"ss2\"]= np.random.uniform(0.01,0.999)\n",
    "    s[\"ss4\"]= np.random.uniform(0.01,0.999)\n",
    "    s[\"ss8\"]= np.random.uniform(0.01,0.999)\n",
    "    c = np.random.uniform(0.05,0.99)\n",
    "\n",
    "    Old_crit = np.random.uniform(1,5)\n",
    "    New_crit = np.random.uniform(-5,-1)\n",
    "    t0[\"all\"] = 699\n",
    "    t0[\"ann\"]=699\n",
    "    kao = 37\n",
    "\n",
    "    #---CM\n",
    "    F[\"CM_oldiold_oldinew\"] = np.random.uniform(0.01,1)\n",
    "\n",
    "    L[\"CM_oldiold_newinew\"] = np.random.uniform(0.01,1)\n",
    "    L[\"CM_oldinew_newiold\"] = np.random.uniform(0.001,1)\n",
    "\n",
    "    #---AN\n",
    "    F[\"AN_oldiold_oldinew\"] = np.random.uniform(0.001,1)\n",
    "    \n",
    "    param_dic=[\n",
    "        alpha[\"all\"],\n",
    "        beta[\"all\"],\n",
    "        s[\"ss2\"],s[\"ss4\"],s[\"ss8\"],\n",
    "        c,\n",
    "        Old_crit,\n",
    "        New_crit,\n",
    "        t0[\"all\"],\n",
    "        t0[\"ann\"],\n",
    "        kao,\n",
    "        F[\"CM_oldiold_oldinew\"],\n",
    "        L[\"CM_oldiold_newinew\"],\n",
    "        L[\"CM_oldinew_newiold\"],\n",
    "        F[\"AN_oldiold_oldinew\"]]\n",
    "    return(param_dic)\n",
    "\n",
    "bdd = (\n",
    "\n",
    "(0.01, 1.0), #alphaall\n",
    "(0.01, 3.0), #beta_all\n",
    "(0.01, 1.0), #s all\n",
    "(0.01, 1.0), #s all\n",
    "(0.01, 1.0), #s all\n",
    "\n",
    "(0.01, 2), #c\n",
    "\n",
    "(1, 8.0), #old_cr\n",
    "(-8.0, -1), #new_cr\n",
    "(100, 800), #t0_all\n",
    "(100, 800), #t0_ann\n",
    "(5, 100), #kao\n",
    "\n",
    "(0,2),#F[\"CM_oldiold_oldinew\"],\n",
    "\n",
    "(0,2),#L[\"CM_oldiold_newinew\"],\n",
    "(0,2),#L[\"CM_oldinew_newiold\"],\n",
    "\n",
    "#---AN\n",
    "(0,2)#F[\"AN_oldiold_oldinew\"]\n",
    "  )\n",
    "def apply_sum_constraint(inp):\n",
    "    global alpha, beta, s, c ,Old_crit ,New_crit ,\\\n",
    "        t0 ,kao ,F, L\n",
    "\n",
    "    alpha={}; beta ={}; s = {}; F = {}; L={}\n",
    "    \n",
    "    [\n",
    "        alpha[\"all\"],\n",
    "        beta[\"all\"],\n",
    "        s[\"ss2\"],s[\"ss4\"],s[\"ss8\"],\n",
    "        c,\n",
    "        Old_crit,\n",
    "        New_crit,\n",
    "        t0[\"all\"],\n",
    "        t0[\"ann\"],\n",
    "        kao,\n",
    "        F[\"CM_oldiold_oldinew\"],\n",
    "        L[\"CM_oldiold_newinew\"],\n",
    "        L[\"CM_oldinew_newiold\"],\n",
    "        F[\"AN_oldiold_oldinew\"]] = inp\n",
    "    \n",
    "    suffice = 1 \n",
    "    suffice = 1- ((np.logical_and(L[\"CM_oldiold_newinew\"]>L[\"CM_oldinew_newiold\"],\\\n",
    "                                  F[\"CM_oldiold_oldinew\"]>F[\"AN_oldiold_oldinew\"]))).astype('float')\n",
    "    \n",
    "    return suffice\n",
    "\n",
    "def Jcstrain():\n",
    "    linear_constraint = LinearConstraint(\\\n",
    "       [[ 0, 0, 0, 0, 0, 0, 0, 0, 0, 0, 0, 0, 1, -1,  0],\n",
    "        [ 0, 0, 0, 0, 0, 0, 0, 0, 0, 0, 0, 1, 0,  0, -1]],\\\n",
    "        [0.01, 0.01],[np.inf,np.inf])\n",
    "\n",
    "    return(linear_constraint)"
   ]
  },
  {
   "cell_type": "markdown",
   "metadata": {
    "kernel": "SoS"
   },
   "source": [
    "## Actual search"
   ]
  },
  {
   "cell_type": "code",
   "execution_count": 12,
   "metadata": {
    "kernel": "Python3",
    "scrolled": true
   },
   "outputs": [],
   "source": [
    "# def actual_search():\n",
    "# # cons = ({'type': 'eq', 'fun': lambda x:  1 - sum(x)})\n",
    "#     my_constraints = ({'type': 'eq', \"fun\": apply_sum_constraint })\n",
    "\n",
    "#     time1 = time.time()\n",
    "    \n",
    "#     global fitted_params2\n",
    "    \n",
    "#     numit = 6\n",
    "#     fitted_params2 = np.zeros((numit,12))\n",
    "#     for i in range(1,6):\n",
    "#         param_dic = random_start()\n",
    "#         result = optimize.minimize(optim_wsse, param_dic,\\\n",
    "#                                bounds=bdd,options={\"maxiter\" : 100,'eps': 1},constraints=my_constraints)\n",
    "#         print(i)\n",
    "#         if result.success:\n",
    "#             fitted_params2[i,:] = result.x\n",
    "#         else: \n",
    "#             print(result.message)\n",
    "\n",
    "# #     fitted_params2[1,6]=9\n",
    "#     print(fitted_params2)\n",
    "#     time2 = time.time()\n",
    "#     print(time2-time1)\n",
    "    \n",
    "def actual_search():# \n",
    "\n",
    "    time1 = time.time()\n",
    "    numit=15\n",
    "    global fitted_params3,result\n",
    "    fitted_params3 = np.zeros((numit,np.array(bdd).shape[0]))\n",
    "    for i in range(0,numit):\n",
    "        param_dic = random_start()\n",
    "#         result = optimize.minimize(optim_wsse, param_dic,\\\n",
    "#                                bounds=bdd,options={'verbose': 1,\"maxiter\" : 800},\n",
    "#                                    constraints=[Jcstrain(), ],\n",
    "#                                    method='trust-constr')\n",
    "        result = optimize.minimize(optim_wsse, param_dic,\\\n",
    "                       bounds=bdd,options={\"maxiter\" : 800},\n",
    "                           constraints=[Jcstrain(), ])\n",
    "        print(i)\n",
    "        print(\"time:\", time.time()-time1)\n",
    "        if result.success:\n",
    "            fitted_params3[i,:] = result.x\n",
    "        else: \n",
    "            print(result.message)\n",
    "\n",
    "\n",
    "    time2 = time.time()\n",
    "    print(time2-time1)\n"
   ]
  },
  {
   "cell_type": "markdown",
   "metadata": {
    "kernel": "Python3"
   },
   "source": [
    "## Write in file"
   ]
  },
  {
   "cell_type": "code",
   "execution_count": 13,
   "metadata": {
    "kernel": "Python3"
   },
   "outputs": [
    {
     "ename": "NameError",
     "evalue": "name 'fitted_params3' is not defined",
     "output_type": "error",
     "traceback": [
      "\u001b[0;31m---------------------------------------------------------------------------\u001b[0m",
      "\u001b[0;31mNameError\u001b[0m                                 Traceback (most recent call last)",
      "\u001b[0;32m<ipython-input-13-d256ff5f770f>\u001b[0m in \u001b[0;36m<module>\u001b[0;34m\u001b[0m\n\u001b[1;32m     50\u001b[0m \u001b[0mcurrent\u001b[0m \u001b[0;34m=\u001b[0m \u001b[0;34m\"puresingle_test_MIX2_vary_ss\"\u001b[0m\u001b[0;34m\u001b[0m\u001b[0;34m\u001b[0m\u001b[0m\n\u001b[1;32m     51\u001b[0m \u001b[0;34m\u001b[0m\u001b[0m\n\u001b[0;32m---> 52\u001b[0;31m \u001b[0mfitsel\u001b[0m\u001b[0;34m=\u001b[0m\u001b[0mwrite_file\u001b[0m\u001b[0;34m(\u001b[0m\u001b[0mcurrent\u001b[0m\u001b[0;34m)\u001b[0m\u001b[0;34m\u001b[0m\u001b[0;34m\u001b[0m\u001b[0m\n\u001b[0m\u001b[1;32m     53\u001b[0m \u001b[0mfitsel\u001b[0m\u001b[0;34m\u001b[0m\u001b[0;34m\u001b[0m\u001b[0m\n",
      "\u001b[0;32m<ipython-input-13-d256ff5f770f>\u001b[0m in \u001b[0;36mwrite_file\u001b[0;34m(which_work)\u001b[0m\n\u001b[1;32m      6\u001b[0m                 \"c\",\"old_crt\",\"new_crt\",\"t0\",\"t0ann\",\"kappa\",\"F_cmoonn\",\"L_cmoonn\",\"Lcmonno\",\"an_oool\"]\n\u001b[1;32m      7\u001b[0m \u001b[0;34m\u001b[0m\u001b[0m\n\u001b[0;32m----> 8\u001b[0;31m     \u001b[0mfitted_params3\u001b[0m\u001b[0;34m\u001b[0m\u001b[0;34m\u001b[0m\u001b[0m\n\u001b[0m\u001b[1;32m      9\u001b[0m     \u001b[0mfitpdf\u001b[0m\u001b[0;34m=\u001b[0m\u001b[0mpd\u001b[0m\u001b[0;34m.\u001b[0m\u001b[0mDataFrame\u001b[0m\u001b[0;34m(\u001b[0m\u001b[0mfitted_params3\u001b[0m\u001b[0;34m)\u001b[0m\u001b[0;34m\u001b[0m\u001b[0;34m\u001b[0m\u001b[0m\n\u001b[1;32m     10\u001b[0m     \u001b[0mfitpdf\u001b[0m\u001b[0;34m.\u001b[0m\u001b[0mcolumns\u001b[0m\u001b[0;34m=\u001b[0m\u001b[0mParnames\u001b[0m\u001b[0;34m\u001b[0m\u001b[0;34m\u001b[0m\u001b[0m\n",
      "\u001b[0;31mNameError\u001b[0m: name 'fitted_params3' is not defined"
     ]
    }
   ],
   "source": [
    "# actual_search()\n",
    "\n",
    "def write_file(which_work):\n",
    "    \n",
    "    Parnames = [\"alpha\",\"beta\",\"s_ss2\",\"s_ss4\",\"s_ss8\",\n",
    "                \"c\",\"old_crt\",\"new_crt\",\"t0\",\"t0ann\",\"kappa\",\"F_cmoonn\",\"L_cmoonn\",\"Lcmonno\",\"an_oool\"]\n",
    "\n",
    "    fitted_params3\n",
    "    fitpdf=pd.DataFrame(fitted_params3)\n",
    "    fitpdf.columns=Parnames\n",
    "    now = datetime.now()\n",
    "    current_time = now.strftime(\"%m_%d_%H_%M\")\n",
    "#     print(\"Current Time =\", current_time)\n",
    "    fitsel=fitpdf[fitpdf[\"alpha\"]>0]\n",
    "    #------\n",
    "#     print(bdd)\n",
    "    bddstr=np.array(bdd).astype(str)\n",
    "    bddbdd=pd.DataFrame([[bddstr[i,0]+\" ~ \"+bddstr[i,1] for i in range(bddstr.shape[0])]])\n",
    "    bddbdd.columns=Parnames\n",
    "    fitsel=fitsel.append(bddbdd, sort=False)\n",
    "    # print(fitsel)\n",
    "    \n",
    "    \n",
    "    #======= write wssd\n",
    "    wssd_all = np.zeros(fitsel.shape[0])\n",
    "    for i in range(fitsel.shape[0]-1):\n",
    "        [alpha[\"all\"], beta[\"all\"], s[\"ss2\"],s[\"ss4\"],s[\"ss8\"], c, Old_crit, New_crit, t0[\"all\"],\n",
    "          t0[\"ann\"], kao, F[\"CM_oldiold_oldinew\"], L[\"CM_oldiold_newinew\"],\n",
    "          L[\"CM_oldinew_newiold\"], F[\"AN_oldiold_oldinew\"]]=fitsel.iloc[i,:].astype(float).to_list()\n",
    "        wssd_all[i]=calc_wssd(df_org,\"MIX2\")\n",
    "    fitsel[\"wssd\"]=wssd_all\n",
    "    filen = current_time + \"_\" + which_work + \".csv\"\n",
    "    #=======\n",
    "    #=====\n",
    "    w_curr=np.repeat(\"--------------\",fitsel.shape[0])\n",
    "    w_keys = [i for i in w.keys()]\n",
    "    w_values=[i for i in w.values()]\n",
    "    for i in range(len(w_keys)):\n",
    "        w_curr[i]= w_keys[i]+\":\"+str(w_values[i])\n",
    "\n",
    "    fitsel[\"w\"]=w_curr\n",
    "    #===============\n",
    "    \n",
    "    filen = current_time + \"_\" + which_work + \".csv\"\n",
    "    fitsel.to_csv(filen)\n",
    "\n",
    "    return(fitsel)\n",
    "    \n",
    "\n",
    "current = \"puresingle_test_MIX2_vary_ss\"\n",
    "\n",
    "fitsel=write_file(current)\n",
    "fitsel"
   ]
  },
  {
   "cell_type": "markdown",
   "metadata": {
    "kernel": "SoS"
   },
   "source": [
    "# Final Random Walk"
   ]
  },
  {
   "cell_type": "markdown",
   "metadata": {
    "kernel": "Python3"
   },
   "source": [
    "## finalRW()"
   ]
  },
  {
   "cell_type": "code",
   "execution_count": 18,
   "metadata": {
    "kernel": "Python3"
   },
   "outputs": [
    {
     "ename": "ValueError",
     "evalue": "Length of values does not match length of index",
     "output_type": "error",
     "traceback": [
      "\u001b[0;31m---------------------------------------------------------------------------\u001b[0m",
      "\u001b[0;31mValueError\u001b[0m                                Traceback (most recent call last)",
      "\u001b[0;32m<ipython-input-18-70294029aa7c>\u001b[0m in \u001b[0;36m<module>\u001b[0;34m\u001b[0m\n\u001b[1;32m     11\u001b[0m     \u001b[0;32mreturn\u001b[0m\u001b[0;34m(\u001b[0m\u001b[0mdf_what\u001b[0m\u001b[0;34m)\u001b[0m\u001b[0;34m\u001b[0m\u001b[0;34m\u001b[0m\u001b[0m\n\u001b[1;32m     12\u001b[0m \u001b[0;34m\u001b[0m\u001b[0m\n\u001b[0;32m---> 13\u001b[0;31m \u001b[0mfinalRW\u001b[0m\u001b[0;34m(\u001b[0m\u001b[0mdf_err\u001b[0m\u001b[0;34m,\u001b[0m \u001b[0;34m\"MIX\"\u001b[0m\u001b[0;34m,\u001b[0m \u001b[0;34m\"err\"\u001b[0m\u001b[0;34m)\u001b[0m\u001b[0;34m\u001b[0m\u001b[0;34m\u001b[0m\u001b[0m\n\u001b[0m",
      "\u001b[0;32m<ipython-input-18-70294029aa7c>\u001b[0m in \u001b[0;36mfinalRW\u001b[0;34m(df_what, name, kind)\u001b[0m\n\u001b[1;32m      4\u001b[0m \u001b[0;34m\u001b[0m\u001b[0m\n\u001b[1;32m      5\u001b[0m     \u001b[0;32mif\u001b[0m \u001b[0mkind\u001b[0m \u001b[0;34m==\u001b[0m \u001b[0;34m\"err\"\u001b[0m\u001b[0;34m:\u001b[0m\u001b[0;34m\u001b[0m\u001b[0;34m\u001b[0m\u001b[0m\n\u001b[0;32m----> 6\u001b[0;31m         \u001b[0mdf_what\u001b[0m\u001b[0;34m[\u001b[0m\u001b[0;34m\"Pred_error\"\u001b[0m\u001b[0;34m]\u001b[0m \u001b[0;34m=\u001b[0m \u001b[0;36m1\u001b[0m\u001b[0;34m-\u001b[0m\u001b[0mcalc_theoretical_RW\u001b[0m\u001b[0;34m(\u001b[0m\u001b[0mdf_what\u001b[0m\u001b[0;34m,\u001b[0m\u001b[0mname\u001b[0m\u001b[0;34m,\u001b[0m \u001b[0mkind\u001b[0m\u001b[0;34m)\u001b[0m\u001b[0;34m\u001b[0m\u001b[0;34m\u001b[0m\u001b[0m\n\u001b[0m\u001b[1;32m      7\u001b[0m     \u001b[0;32melif\u001b[0m \u001b[0mkind\u001b[0m \u001b[0;34m==\u001b[0m \u001b[0;34m\"crt\"\u001b[0m\u001b[0;34m:\u001b[0m\u001b[0;34m\u001b[0m\u001b[0;34m\u001b[0m\u001b[0m\n\u001b[1;32m      8\u001b[0m         \u001b[0mdf_what\u001b[0m\u001b[0;34m[\u001b[0m\u001b[0;34m\"Pred_cRT\"\u001b[0m\u001b[0;34m]\u001b[0m\u001b[0;34m=\u001b[0m\u001b[0mcalc_theoretical_RW\u001b[0m\u001b[0;34m(\u001b[0m\u001b[0mdf_what\u001b[0m\u001b[0;34m,\u001b[0m\u001b[0mname\u001b[0m\u001b[0;34m,\u001b[0m \u001b[0mkind\u001b[0m\u001b[0;34m)\u001b[0m\u001b[0;34m\u001b[0m\u001b[0;34m\u001b[0m\u001b[0m\n",
      "\u001b[0;32m~/anaconda3/envs/Lea/lib/python3.7/site-packages/pandas/core/frame.py\u001b[0m in \u001b[0;36m__setitem__\u001b[0;34m(self, key, value)\u001b[0m\n\u001b[1;32m   3485\u001b[0m         \u001b[0;32melse\u001b[0m\u001b[0;34m:\u001b[0m\u001b[0;34m\u001b[0m\u001b[0;34m\u001b[0m\u001b[0m\n\u001b[1;32m   3486\u001b[0m             \u001b[0;31m# set column\u001b[0m\u001b[0;34m\u001b[0m\u001b[0;34m\u001b[0m\u001b[0;34m\u001b[0m\u001b[0m\n\u001b[0;32m-> 3487\u001b[0;31m             \u001b[0mself\u001b[0m\u001b[0;34m.\u001b[0m\u001b[0m_set_item\u001b[0m\u001b[0;34m(\u001b[0m\u001b[0mkey\u001b[0m\u001b[0;34m,\u001b[0m \u001b[0mvalue\u001b[0m\u001b[0;34m)\u001b[0m\u001b[0;34m\u001b[0m\u001b[0;34m\u001b[0m\u001b[0m\n\u001b[0m\u001b[1;32m   3488\u001b[0m \u001b[0;34m\u001b[0m\u001b[0m\n\u001b[1;32m   3489\u001b[0m     \u001b[0;32mdef\u001b[0m \u001b[0m_setitem_slice\u001b[0m\u001b[0;34m(\u001b[0m\u001b[0mself\u001b[0m\u001b[0;34m,\u001b[0m \u001b[0mkey\u001b[0m\u001b[0;34m,\u001b[0m \u001b[0mvalue\u001b[0m\u001b[0;34m)\u001b[0m\u001b[0;34m:\u001b[0m\u001b[0;34m\u001b[0m\u001b[0;34m\u001b[0m\u001b[0m\n",
      "\u001b[0;32m~/anaconda3/envs/Lea/lib/python3.7/site-packages/pandas/core/frame.py\u001b[0m in \u001b[0;36m_set_item\u001b[0;34m(self, key, value)\u001b[0m\n\u001b[1;32m   3562\u001b[0m \u001b[0;34m\u001b[0m\u001b[0m\n\u001b[1;32m   3563\u001b[0m         \u001b[0mself\u001b[0m\u001b[0;34m.\u001b[0m\u001b[0m_ensure_valid_index\u001b[0m\u001b[0;34m(\u001b[0m\u001b[0mvalue\u001b[0m\u001b[0;34m)\u001b[0m\u001b[0;34m\u001b[0m\u001b[0;34m\u001b[0m\u001b[0m\n\u001b[0;32m-> 3564\u001b[0;31m         \u001b[0mvalue\u001b[0m \u001b[0;34m=\u001b[0m \u001b[0mself\u001b[0m\u001b[0;34m.\u001b[0m\u001b[0m_sanitize_column\u001b[0m\u001b[0;34m(\u001b[0m\u001b[0mkey\u001b[0m\u001b[0;34m,\u001b[0m \u001b[0mvalue\u001b[0m\u001b[0;34m)\u001b[0m\u001b[0;34m\u001b[0m\u001b[0;34m\u001b[0m\u001b[0m\n\u001b[0m\u001b[1;32m   3565\u001b[0m         \u001b[0mNDFrame\u001b[0m\u001b[0;34m.\u001b[0m\u001b[0m_set_item\u001b[0m\u001b[0;34m(\u001b[0m\u001b[0mself\u001b[0m\u001b[0;34m,\u001b[0m \u001b[0mkey\u001b[0m\u001b[0;34m,\u001b[0m \u001b[0mvalue\u001b[0m\u001b[0;34m)\u001b[0m\u001b[0;34m\u001b[0m\u001b[0;34m\u001b[0m\u001b[0m\n\u001b[1;32m   3566\u001b[0m \u001b[0;34m\u001b[0m\u001b[0m\n",
      "\u001b[0;32m~/anaconda3/envs/Lea/lib/python3.7/site-packages/pandas/core/frame.py\u001b[0m in \u001b[0;36m_sanitize_column\u001b[0;34m(self, key, value, broadcast)\u001b[0m\n\u001b[1;32m   3747\u001b[0m \u001b[0;34m\u001b[0m\u001b[0m\n\u001b[1;32m   3748\u001b[0m             \u001b[0;31m# turn me into an ndarray\u001b[0m\u001b[0;34m\u001b[0m\u001b[0;34m\u001b[0m\u001b[0;34m\u001b[0m\u001b[0m\n\u001b[0;32m-> 3749\u001b[0;31m             \u001b[0mvalue\u001b[0m \u001b[0;34m=\u001b[0m \u001b[0msanitize_index\u001b[0m\u001b[0;34m(\u001b[0m\u001b[0mvalue\u001b[0m\u001b[0;34m,\u001b[0m \u001b[0mself\u001b[0m\u001b[0;34m.\u001b[0m\u001b[0mindex\u001b[0m\u001b[0;34m,\u001b[0m \u001b[0mcopy\u001b[0m\u001b[0;34m=\u001b[0m\u001b[0;32mFalse\u001b[0m\u001b[0;34m)\u001b[0m\u001b[0;34m\u001b[0m\u001b[0;34m\u001b[0m\u001b[0m\n\u001b[0m\u001b[1;32m   3750\u001b[0m             \u001b[0;32mif\u001b[0m \u001b[0;32mnot\u001b[0m \u001b[0misinstance\u001b[0m\u001b[0;34m(\u001b[0m\u001b[0mvalue\u001b[0m\u001b[0;34m,\u001b[0m \u001b[0;34m(\u001b[0m\u001b[0mnp\u001b[0m\u001b[0;34m.\u001b[0m\u001b[0mndarray\u001b[0m\u001b[0;34m,\u001b[0m \u001b[0mIndex\u001b[0m\u001b[0;34m)\u001b[0m\u001b[0;34m)\u001b[0m\u001b[0;34m:\u001b[0m\u001b[0;34m\u001b[0m\u001b[0;34m\u001b[0m\u001b[0m\n\u001b[1;32m   3751\u001b[0m                 \u001b[0;32mif\u001b[0m \u001b[0misinstance\u001b[0m\u001b[0;34m(\u001b[0m\u001b[0mvalue\u001b[0m\u001b[0;34m,\u001b[0m \u001b[0mlist\u001b[0m\u001b[0;34m)\u001b[0m \u001b[0;32mand\u001b[0m \u001b[0mlen\u001b[0m\u001b[0;34m(\u001b[0m\u001b[0mvalue\u001b[0m\u001b[0;34m)\u001b[0m \u001b[0;34m>\u001b[0m \u001b[0;36m0\u001b[0m\u001b[0;34m:\u001b[0m\u001b[0;34m\u001b[0m\u001b[0;34m\u001b[0m\u001b[0m\n",
      "\u001b[0;32m~/anaconda3/envs/Lea/lib/python3.7/site-packages/pandas/core/internals/construction.py\u001b[0m in \u001b[0;36msanitize_index\u001b[0;34m(data, index, copy)\u001b[0m\n\u001b[1;32m    610\u001b[0m \u001b[0;34m\u001b[0m\u001b[0m\n\u001b[1;32m    611\u001b[0m     \u001b[0;32mif\u001b[0m \u001b[0mlen\u001b[0m\u001b[0;34m(\u001b[0m\u001b[0mdata\u001b[0m\u001b[0;34m)\u001b[0m \u001b[0;34m!=\u001b[0m \u001b[0mlen\u001b[0m\u001b[0;34m(\u001b[0m\u001b[0mindex\u001b[0m\u001b[0;34m)\u001b[0m\u001b[0;34m:\u001b[0m\u001b[0;34m\u001b[0m\u001b[0;34m\u001b[0m\u001b[0m\n\u001b[0;32m--> 612\u001b[0;31m         \u001b[0;32mraise\u001b[0m \u001b[0mValueError\u001b[0m\u001b[0;34m(\u001b[0m\u001b[0;34m\"Length of values does not match length of index\"\u001b[0m\u001b[0;34m)\u001b[0m\u001b[0;34m\u001b[0m\u001b[0;34m\u001b[0m\u001b[0m\n\u001b[0m\u001b[1;32m    613\u001b[0m \u001b[0;34m\u001b[0m\u001b[0m\n\u001b[1;32m    614\u001b[0m     \u001b[0;32mif\u001b[0m \u001b[0misinstance\u001b[0m\u001b[0;34m(\u001b[0m\u001b[0mdata\u001b[0m\u001b[0;34m,\u001b[0m \u001b[0mABCIndexClass\u001b[0m\u001b[0;34m)\u001b[0m \u001b[0;32mand\u001b[0m \u001b[0;32mnot\u001b[0m \u001b[0mcopy\u001b[0m\u001b[0;34m:\u001b[0m\u001b[0;34m\u001b[0m\u001b[0;34m\u001b[0m\u001b[0m\n",
      "\u001b[0;31mValueError\u001b[0m: Length of values does not match length of index"
     ]
    }
   ],
   "source": [
    "s_AN=0.01\n",
    "s_others = 0.07\n",
    "def finalRW(df_what, name, kind):\n",
    "    \n",
    "    if kind == \"err\":\n",
    "        df_what[\"Pred_error\"] = 1-calc_theoretical_RW(df_what,name, kind)\n",
    "    elif kind == \"crt\":\n",
    "        df_what[\"Pred_cRT\"]=calc_theoretical_RW(df_what,name, kind)\n",
    "    else: print(\"error input of name kind\")\n",
    "    \n",
    "    return(df_what)\n",
    "\n",
    "finalRW(df_err, \"MIX\", \"err\")"
   ]
  },
  {
   "cell_type": "code",
   "execution_count": 14,
   "metadata": {
    "kernel": "Python3"
   },
   "outputs": [
    {
     "name": "stderr",
     "output_type": "stream",
     "text": [
      "/home/shulai/anaconda3/envs/Lea/lib/python3.7/site-packages/ipykernel_launcher.py:24: SettingWithCopyWarning: \n",
      "A value is trying to be set on a copy of a slice from a DataFrame.\n",
      "Try using .loc[row_indexer,col_indexer] = value instead\n",
      "\n",
      "See the caveats in the documentation: http://pandas.pydata.org/pandas-docs/stable/user_guide/indexing.html#returning-a-view-versus-a-copy\n",
      "/home/shulai/anaconda3/envs/Lea/lib/python3.7/site-packages/ipykernel_launcher.py:25: SettingWithCopyWarning: \n",
      "A value is trying to be set on a copy of a slice from a DataFrame.\n",
      "Try using .loc[row_indexer,col_indexer] = value instead\n",
      "\n",
      "See the caveats in the documentation: http://pandas.pydata.org/pandas-docs/stable/user_guide/indexing.html#returning-a-view-versus-a-copy\n"
     ]
    },
    {
     "data": {
      "text/plain": [
       "(    Oldnew  Setsize Probtype  Lag FileCondi          RT     pred_rt\n",
       " 0      new        2       AN    0    ANpure  816.343927  862.418762\n",
       " 9      new        4       AN    0    ANpure  837.035915  864.022660\n",
       " 18     new        8       AN    0    ANpure  848.955107  866.133790\n",
       " 27     old        2       AN    1    ANpure  715.675351  812.395884\n",
       " 31     old        2       AN    2    ANpure  768.006263  834.287542\n",
       " ..     ...      ...      ...  ...       ...         ...         ...\n",
       " 148    old        8       VM    4    VMpure  912.040000  855.708210\n",
       " 149    old        8       VM    5    VMpure  925.304762  855.683625\n",
       " 150    old        8       VM    6    VMpure  988.977528  855.363565\n",
       " 151    old        8       VM    7    VMpure  971.861386  854.982669\n",
       " 152    old        8       VM    8    VMpure  996.842105  854.615054\n",
       " \n",
       " [153 rows x 7 columns],\n",
       "     Oldnew  Setsize Probtype  Lag FileCondi     Error  pred_error\n",
       " 0      new        2       AN    0    ANpure  0.067725    0.261799\n",
       " 9      new        4       AN    0    ANpure  0.097264    0.276955\n",
       " 18     new        8       AN    0    ANpure  0.112550    0.298664\n",
       " 27     old        2       AN    1    ANpure  0.025391    0.047996\n",
       " 31     old        2       AN    2    ANpure  0.049603    0.137539\n",
       " ..     ...      ...      ...  ...       ...       ...         ...\n",
       " 148    old        8       VM    4    VMpure  0.206349    0.433998\n",
       " 149    old        8       VM    5    VMpure  0.198473    0.473174\n",
       " 150    old        8       VM    6    VMpure  0.330827    0.499973\n",
       " 151    old        8       VM    7    VMpure  0.268116    0.519257\n",
       " 152    old        8       VM    8    VMpure  0.276190    0.533700\n",
       " \n",
       " [153 rows x 7 columns])"
      ]
     },
     "execution_count": 14,
     "metadata": {},
     "output_type": "execute_result"
    }
   ],
   "source": [
    "s_AN=0.01\n",
    "s_others = 0.07\n",
    "def finalRW(df_org, which):\n",
    "    names = df_org[\"FileCondi\"].astype(\"category\").cat.categories.to_numpy() #get categories name\n",
    "    df_all_crt= pd.DataFrame()\n",
    "    df_all_err= pd.DataFrame()\n",
    "\n",
    "    df_sub_err = df_org.groupby([\"Oldnew\",\"Setsize\",\"Probtype\",\"Lag\",\"FileCondi\"])[[\"Error\"]].agg([\"mean\"]).reset_index()\n",
    "    df_sub_crt = df_org[df_org[\"Error\"]==0].\\\n",
    "    groupby([\"Oldnew\",\"Setsize\",\"Probtype\",\"Lag\",\"FileCondi\"])[[\"RT\"]].agg([\"mean\"]).reset_index()\n",
    "\n",
    "    for iname in names:\n",
    "\n",
    "        pred_correct = calc_theoretical_RW(df_sub_err, iname,\"err\")\n",
    "        pred_crt= calc_theoretical_RW(df_sub_crt, iname,\"crt\")\n",
    "        \n",
    "        \n",
    "        df_temp_crt = df_sub_crt[df_sub_crt[\"FileCondi\"] == iname]\n",
    "        df_temp_err = df_sub_err[df_sub_err[\"FileCondi\"] == iname]\n",
    "        \n",
    "        df_temp_crt.columns = df_temp_crt.columns.droplevel(1)\n",
    "        df_temp_err.columns = df_temp_err.columns.droplevel(1)\n",
    "        \n",
    "        df_temp_crt[\"pred_rt\"] = pred_crt   \n",
    "        df_temp_err[\"pred_error\"] = 1- pred_correct\n",
    "\n",
    "        df_all_crt = df_all_crt.append(df_temp_crt)\n",
    "        df_all_err = df_all_err.append(df_temp_err)\n",
    "        \n",
    "        \n",
    "\n",
    "    return(df_all_crt, df_all_err)\n",
    "\n",
    "finalRW(df_org)"
   ]
  },
  {
   "cell_type": "markdown",
   "metadata": {
    "kernel": "Python3"
   },
   "source": [
    "## Assign param"
   ]
  },
  {
   "cell_type": "code",
   "execution_count": 139,
   "metadata": {
    "kernel": "Python3"
   },
   "outputs": [
    {
     "data": {
      "text/html": [
       "<div>\n",
       "<style scoped>\n",
       "    .dataframe tbody tr th:only-of-type {\n",
       "        vertical-align: middle;\n",
       "    }\n",
       "\n",
       "    .dataframe tbody tr th {\n",
       "        vertical-align: top;\n",
       "    }\n",
       "\n",
       "    .dataframe thead th {\n",
       "        text-align: right;\n",
       "    }\n",
       "</style>\n",
       "<table border=\"1\" class=\"dataframe\">\n",
       "  <thead>\n",
       "    <tr style=\"text-align: right;\">\n",
       "      <th></th>\n",
       "      <th>alpha</th>\n",
       "      <th>beta</th>\n",
       "      <th>s</th>\n",
       "      <th>c</th>\n",
       "      <th>old_crt</th>\n",
       "      <th>new_crt</th>\n",
       "      <th>t0</th>\n",
       "      <th>t0ann</th>\n",
       "      <th>kappa</th>\n",
       "      <th>F_cmoonn</th>\n",
       "      <th>L_cmoonn</th>\n",
       "      <th>Lcmonno</th>\n",
       "      <th>an_oool</th>\n",
       "    </tr>\n",
       "  </thead>\n",
       "  <tbody>\n",
       "    <tr>\n",
       "      <th>0</th>\n",
       "      <td>0.374106</td>\n",
       "      <td>1.00058</td>\n",
       "      <td>0.0300038</td>\n",
       "      <td>0.502996</td>\n",
       "      <td>3.21086</td>\n",
       "      <td>-4.16848</td>\n",
       "      <td>506.94</td>\n",
       "      <td>509.264</td>\n",
       "      <td>33.7678</td>\n",
       "      <td>0.124164</td>\n",
       "      <td>0.0546136</td>\n",
       "      <td>0.0446136</td>\n",
       "      <td>0.0492099</td>\n",
       "    </tr>\n",
       "    <tr>\n",
       "      <th>1</th>\n",
       "      <td>0.380151</td>\n",
       "      <td>0.760197</td>\n",
       "      <td>0.0383725</td>\n",
       "      <td>0.882313</td>\n",
       "      <td>5.26434</td>\n",
       "      <td>-6.79298</td>\n",
       "      <td>517.897</td>\n",
       "      <td>529.977</td>\n",
       "      <td>12.4709</td>\n",
       "      <td>0.36777</td>\n",
       "      <td>0.196073</td>\n",
       "      <td>0.186073</td>\n",
       "      <td>0.280153</td>\n",
       "    </tr>\n",
       "    <tr>\n",
       "      <th>0</th>\n",
       "      <td>0.01 ~ 1.0</td>\n",
       "      <td>0.01 ~ 3.0</td>\n",
       "      <td>0.01 ~ 1.0</td>\n",
       "      <td>0.01 ~ 2.0</td>\n",
       "      <td>1.0 ~ 8.0</td>\n",
       "      <td>-8.0 ~ -1.0</td>\n",
       "      <td>100.0 ~ 800.0</td>\n",
       "      <td>100.0 ~ 800.0</td>\n",
       "      <td>5.0 ~ 100.0</td>\n",
       "      <td>0.0 ~ 2.0</td>\n",
       "      <td>0.0 ~ 2.0</td>\n",
       "      <td>0.0 ~ 2.0</td>\n",
       "      <td>0.0 ~ 2.0</td>\n",
       "    </tr>\n",
       "  </tbody>\n",
       "</table>\n",
       "</div>"
      ],
      "text/plain": [
       "        alpha        beta           s           c    old_crt      new_crt  \\\n",
       "0    0.374106     1.00058   0.0300038    0.502996    3.21086     -4.16848   \n",
       "1    0.380151    0.760197   0.0383725    0.882313    5.26434     -6.79298   \n",
       "0  0.01 ~ 1.0  0.01 ~ 3.0  0.01 ~ 1.0  0.01 ~ 2.0  1.0 ~ 8.0  -8.0 ~ -1.0   \n",
       "\n",
       "              t0          t0ann        kappa   F_cmoonn   L_cmoonn    Lcmonno  \\\n",
       "0         506.94        509.264      33.7678   0.124164  0.0546136  0.0446136   \n",
       "1        517.897        529.977      12.4709    0.36777   0.196073   0.186073   \n",
       "0  100.0 ~ 800.0  100.0 ~ 800.0  5.0 ~ 100.0  0.0 ~ 2.0  0.0 ~ 2.0  0.0 ~ 2.0   \n",
       "\n",
       "     an_oool  \n",
       "0  0.0492099  \n",
       "1   0.280153  \n",
       "0  0.0 ~ 2.0  "
      ]
     },
     "execution_count": 139,
     "metadata": {},
     "output_type": "execute_result"
    }
   ],
   "source": [
    "fitsel"
   ]
  },
  {
   "cell_type": "code",
   "execution_count": 15,
   "metadata": {
    "kernel": "Python3"
   },
   "outputs": [
    {
     "ename": "NameError",
     "evalue": "name 'fitsel' is not defined",
     "output_type": "error",
     "traceback": [
      "\u001b[0;31m---------------------------------------------------------------------------\u001b[0m",
      "\u001b[0;31mNameError\u001b[0m                                 Traceback (most recent call last)",
      "\u001b[0;32m<ipython-input-15-08074d1dff23>\u001b[0m in \u001b[0;36m<module>\u001b[0;34m\u001b[0m\n\u001b[1;32m     13\u001b[0m \u001b[0mL\u001b[0m\u001b[0;34m[\u001b[0m\u001b[0;34m\"CM_oldinew_newiold\"\u001b[0m\u001b[0;34m]\u001b[0m\u001b[0;34m,\u001b[0m\u001b[0;34m\u001b[0m\u001b[0;34m\u001b[0m\u001b[0m\n\u001b[1;32m     14\u001b[0m F[\"AN_oldiold_oldinew\"]]=\\\n\u001b[0;32m---> 15\u001b[0;31m \u001b[0mfitsel\u001b[0m\u001b[0;34m.\u001b[0m\u001b[0miloc\u001b[0m\u001b[0;34m[\u001b[0m\u001b[0;36m1\u001b[0m\u001b[0;34m,\u001b[0m\u001b[0;34m:\u001b[0m\u001b[0;34m]\u001b[0m\u001b[0;34m.\u001b[0m\u001b[0mastype\u001b[0m\u001b[0;34m(\u001b[0m\u001b[0mfloat\u001b[0m\u001b[0;34m)\u001b[0m\u001b[0;34m.\u001b[0m\u001b[0mto_list\u001b[0m\u001b[0;34m(\u001b[0m\u001b[0;34m)\u001b[0m\u001b[0;34m\u001b[0m\u001b[0;34m\u001b[0m\u001b[0m\n\u001b[0m",
      "\u001b[0;31mNameError\u001b[0m: name 'fitsel' is not defined"
     ]
    }
   ],
   "source": [
    "# fitsel = pd.read_csv(\"11_25_02_36_single_test.csv\").iloc[:,1:]\n",
    "[alpha[\"all\"],\n",
    "beta[\"all\"],\n",
    "s[\"all\"],\n",
    "c,\n",
    "Old_crit,\n",
    "New_crit,\n",
    "t0[\"all\"],\n",
    "t0[\"ann\"],\n",
    "kao,\n",
    "F[\"CM_oldiold_oldinew\"],\n",
    "L[\"CM_oldiold_newinew\"],\n",
    "L[\"CM_oldinew_newiold\"],\n",
    "F[\"AN_oldiold_oldinew\"]]=\\\n",
    "fitsel.iloc[1,:].astype(float).to_list()"
   ]
  },
  {
   "cell_type": "markdown",
   "metadata": {
    "kernel": "SoS"
   },
   "source": [
    "## Error plot"
   ]
  },
  {
   "cell_type": "code",
   "execution_count": 16,
   "metadata": {
    "kernel": "Python3",
    "scrolled": false
   },
   "outputs": [
    {
     "name": "stderr",
     "output_type": "stream",
     "text": [
      "/home/shulai/anaconda3/envs/Lea/lib/python3.7/site-packages/ipykernel_launcher.py:24: SettingWithCopyWarning: \n",
      "A value is trying to be set on a copy of a slice from a DataFrame.\n",
      "Try using .loc[row_indexer,col_indexer] = value instead\n",
      "\n",
      "See the caveats in the documentation: http://pandas.pydata.org/pandas-docs/stable/user_guide/indexing.html#returning-a-view-versus-a-copy\n",
      "/home/shulai/anaconda3/envs/Lea/lib/python3.7/site-packages/ipykernel_launcher.py:25: SettingWithCopyWarning: \n",
      "A value is trying to be set on a copy of a slice from a DataFrame.\n",
      "Try using .loc[row_indexer,col_indexer] = value instead\n",
      "\n",
      "See the caveats in the documentation: http://pandas.pydata.org/pandas-docs/stable/user_guide/indexing.html#returning-a-view-versus-a-copy\n"
     ]
    },
    {
     "ename": "ValueError",
     "evalue": "cannot handle a non-unique multi-index!",
     "output_type": "error",
     "traceback": [
      "\u001b[0;31m---------------------------------------------------------------------------\u001b[0m",
      "\u001b[0;31mValueError\u001b[0m                                Traceback (most recent call last)",
      "\u001b[0;32m<ipython-input-16-7475122d098b>\u001b[0m in \u001b[0;36m<module>\u001b[0;34m\u001b[0m\n\u001b[1;32m     55\u001b[0m \u001b[0;34m\u001b[0m\u001b[0m\n\u001b[1;32m     56\u001b[0m \u001b[0;34m\u001b[0m\u001b[0m\n\u001b[0;32m---> 57\u001b[0;31m \u001b[0mall_plot\u001b[0m\u001b[0;34m(\u001b[0m\u001b[0mdf_all_aggnew\u001b[0m\u001b[0;34m,\u001b[0m \u001b[0;34m\"pred_error\"\u001b[0m\u001b[0;34m,\u001b[0m\u001b[0;34m(\u001b[0m\u001b[0;36m0\u001b[0m\u001b[0;34m,\u001b[0m\u001b[0;36m1\u001b[0m\u001b[0;34m)\u001b[0m\u001b[0;34m)\u001b[0m\u001b[0;34m\u001b[0m\u001b[0;34m\u001b[0m\u001b[0m\n\u001b[0m",
      "\u001b[0;32m<ipython-input-16-7475122d098b>\u001b[0m in \u001b[0;36mall_plot\u001b[0;34m(df_all_aggnew, plotwhaty, ylim)\u001b[0m\n\u001b[1;32m     33\u001b[0m     \u001b[0mline_width\u001b[0m \u001b[0;34m=\u001b[0m \u001b[0;36m2.5\u001b[0m\u001b[0;34m\u001b[0m\u001b[0;34m\u001b[0m\u001b[0m\n\u001b[1;32m     34\u001b[0m     \u001b[0mi\u001b[0m\u001b[0;34m=\u001b[0m\u001b[0;36m0\u001b[0m\u001b[0;34m\u001b[0m\u001b[0;34m\u001b[0m\u001b[0m\n\u001b[0;32m---> 35\u001b[0;31m     \u001b[0mnames\u001b[0m \u001b[0;34m=\u001b[0m \u001b[0mdf_all_aggnew\u001b[0m\u001b[0;34m[\u001b[0m\u001b[0;34m\"FileCondi\"\u001b[0m\u001b[0;34m]\u001b[0m\u001b[0;34m.\u001b[0m\u001b[0mastype\u001b[0m\u001b[0;34m(\u001b[0m\u001b[0;34m\"category\"\u001b[0m\u001b[0;34m)\u001b[0m\u001b[0;34m.\u001b[0m\u001b[0mcat\u001b[0m\u001b[0;34m.\u001b[0m\u001b[0mcategories\u001b[0m\u001b[0;34m.\u001b[0m\u001b[0mto_numpy\u001b[0m\u001b[0;34m(\u001b[0m\u001b[0;34m)\u001b[0m \u001b[0;31m#get categories name\u001b[0m\u001b[0;34m\u001b[0m\u001b[0;34m\u001b[0m\u001b[0m\n\u001b[0m\u001b[1;32m     36\u001b[0m     \u001b[0;32mfor\u001b[0m \u001b[0miname\u001b[0m \u001b[0;32min\u001b[0m \u001b[0mnames\u001b[0m\u001b[0;34m:\u001b[0m\u001b[0;34m\u001b[0m\u001b[0;34m\u001b[0m\u001b[0m\n\u001b[1;32m     37\u001b[0m         df_all_aggnew[df_all_aggnew[\"FileCondi\"]==iname].plot.line(x=\"Setsize\", y=plotwhaty,ax=axes[i],\\\n",
      "\u001b[0;32m~/anaconda3/envs/Lea/lib/python3.7/site-packages/pandas/core/frame.py\u001b[0m in \u001b[0;36m__getitem__\u001b[0;34m(self, key)\u001b[0m\n\u001b[1;32m   2992\u001b[0m         \u001b[0;32mif\u001b[0m \u001b[0mis_single_key\u001b[0m\u001b[0;34m:\u001b[0m\u001b[0;34m\u001b[0m\u001b[0;34m\u001b[0m\u001b[0m\n\u001b[1;32m   2993\u001b[0m             \u001b[0;32mif\u001b[0m \u001b[0mself\u001b[0m\u001b[0;34m.\u001b[0m\u001b[0mcolumns\u001b[0m\u001b[0;34m.\u001b[0m\u001b[0mnlevels\u001b[0m \u001b[0;34m>\u001b[0m \u001b[0;36m1\u001b[0m\u001b[0;34m:\u001b[0m\u001b[0;34m\u001b[0m\u001b[0;34m\u001b[0m\u001b[0m\n\u001b[0;32m-> 2994\u001b[0;31m                 \u001b[0;32mreturn\u001b[0m \u001b[0mself\u001b[0m\u001b[0;34m.\u001b[0m\u001b[0m_getitem_multilevel\u001b[0m\u001b[0;34m(\u001b[0m\u001b[0mkey\u001b[0m\u001b[0;34m)\u001b[0m\u001b[0;34m\u001b[0m\u001b[0;34m\u001b[0m\u001b[0m\n\u001b[0m\u001b[1;32m   2995\u001b[0m             \u001b[0mindexer\u001b[0m \u001b[0;34m=\u001b[0m \u001b[0mself\u001b[0m\u001b[0;34m.\u001b[0m\u001b[0mcolumns\u001b[0m\u001b[0;34m.\u001b[0m\u001b[0mget_loc\u001b[0m\u001b[0;34m(\u001b[0m\u001b[0mkey\u001b[0m\u001b[0;34m)\u001b[0m\u001b[0;34m\u001b[0m\u001b[0;34m\u001b[0m\u001b[0m\n\u001b[1;32m   2996\u001b[0m             \u001b[0;32mif\u001b[0m \u001b[0mis_integer\u001b[0m\u001b[0;34m(\u001b[0m\u001b[0mindexer\u001b[0m\u001b[0;34m)\u001b[0m\u001b[0;34m:\u001b[0m\u001b[0;34m\u001b[0m\u001b[0;34m\u001b[0m\u001b[0m\n",
      "\u001b[0;32m~/anaconda3/envs/Lea/lib/python3.7/site-packages/pandas/core/frame.py\u001b[0m in \u001b[0;36m_getitem_multilevel\u001b[0;34m(self, key)\u001b[0m\n\u001b[1;32m   3046\u001b[0m             \u001b[0mresult_columns\u001b[0m \u001b[0;34m=\u001b[0m \u001b[0mmaybe_droplevels\u001b[0m\u001b[0;34m(\u001b[0m\u001b[0mnew_columns\u001b[0m\u001b[0;34m,\u001b[0m \u001b[0mkey\u001b[0m\u001b[0;34m)\u001b[0m\u001b[0;34m\u001b[0m\u001b[0;34m\u001b[0m\u001b[0m\n\u001b[1;32m   3047\u001b[0m             \u001b[0;32mif\u001b[0m \u001b[0mself\u001b[0m\u001b[0;34m.\u001b[0m\u001b[0m_is_mixed_type\u001b[0m\u001b[0;34m:\u001b[0m\u001b[0;34m\u001b[0m\u001b[0;34m\u001b[0m\u001b[0m\n\u001b[0;32m-> 3048\u001b[0;31m                 \u001b[0mresult\u001b[0m \u001b[0;34m=\u001b[0m \u001b[0mself\u001b[0m\u001b[0;34m.\u001b[0m\u001b[0mreindex\u001b[0m\u001b[0;34m(\u001b[0m\u001b[0mcolumns\u001b[0m\u001b[0;34m=\u001b[0m\u001b[0mnew_columns\u001b[0m\u001b[0;34m)\u001b[0m\u001b[0;34m\u001b[0m\u001b[0;34m\u001b[0m\u001b[0m\n\u001b[0m\u001b[1;32m   3049\u001b[0m                 \u001b[0mresult\u001b[0m\u001b[0;34m.\u001b[0m\u001b[0mcolumns\u001b[0m \u001b[0;34m=\u001b[0m \u001b[0mresult_columns\u001b[0m\u001b[0;34m\u001b[0m\u001b[0;34m\u001b[0m\u001b[0m\n\u001b[1;32m   3050\u001b[0m             \u001b[0;32melse\u001b[0m\u001b[0;34m:\u001b[0m\u001b[0;34m\u001b[0m\u001b[0;34m\u001b[0m\u001b[0m\n",
      "\u001b[0;32m~/anaconda3/envs/Lea/lib/python3.7/site-packages/pandas/util/_decorators.py\u001b[0m in \u001b[0;36mwrapper\u001b[0;34m(*args, **kwargs)\u001b[0m\n\u001b[1;32m    219\u001b[0m         \u001b[0;34m@\u001b[0m\u001b[0mwraps\u001b[0m\u001b[0;34m(\u001b[0m\u001b[0mfunc\u001b[0m\u001b[0;34m)\u001b[0m\u001b[0;34m\u001b[0m\u001b[0;34m\u001b[0m\u001b[0m\n\u001b[1;32m    220\u001b[0m         \u001b[0;32mdef\u001b[0m \u001b[0mwrapper\u001b[0m\u001b[0;34m(\u001b[0m\u001b[0;34m*\u001b[0m\u001b[0margs\u001b[0m\u001b[0;34m,\u001b[0m \u001b[0;34m**\u001b[0m\u001b[0mkwargs\u001b[0m\u001b[0;34m)\u001b[0m\u001b[0;34m:\u001b[0m\u001b[0;34m\u001b[0m\u001b[0;34m\u001b[0m\u001b[0m\n\u001b[0;32m--> 221\u001b[0;31m             \u001b[0;32mreturn\u001b[0m \u001b[0mfunc\u001b[0m\u001b[0;34m(\u001b[0m\u001b[0;34m*\u001b[0m\u001b[0margs\u001b[0m\u001b[0;34m,\u001b[0m \u001b[0;34m**\u001b[0m\u001b[0mkwargs\u001b[0m\u001b[0;34m)\u001b[0m\u001b[0;34m\u001b[0m\u001b[0;34m\u001b[0m\u001b[0m\n\u001b[0m\u001b[1;32m    222\u001b[0m \u001b[0;34m\u001b[0m\u001b[0m\n\u001b[1;32m    223\u001b[0m         \u001b[0mkind\u001b[0m \u001b[0;34m=\u001b[0m \u001b[0minspect\u001b[0m\u001b[0;34m.\u001b[0m\u001b[0mParameter\u001b[0m\u001b[0;34m.\u001b[0m\u001b[0mPOSITIONAL_OR_KEYWORD\u001b[0m\u001b[0;34m\u001b[0m\u001b[0;34m\u001b[0m\u001b[0m\n",
      "\u001b[0;32m~/anaconda3/envs/Lea/lib/python3.7/site-packages/pandas/core/frame.py\u001b[0m in \u001b[0;36mreindex\u001b[0;34m(self, *args, **kwargs)\u001b[0m\n\u001b[1;32m   3974\u001b[0m         \u001b[0mkwargs\u001b[0m\u001b[0;34m.\u001b[0m\u001b[0mpop\u001b[0m\u001b[0;34m(\u001b[0m\u001b[0;34m\"axis\"\u001b[0m\u001b[0;34m,\u001b[0m \u001b[0;32mNone\u001b[0m\u001b[0;34m)\u001b[0m\u001b[0;34m\u001b[0m\u001b[0;34m\u001b[0m\u001b[0m\n\u001b[1;32m   3975\u001b[0m         \u001b[0mkwargs\u001b[0m\u001b[0;34m.\u001b[0m\u001b[0mpop\u001b[0m\u001b[0;34m(\u001b[0m\u001b[0;34m\"labels\"\u001b[0m\u001b[0;34m,\u001b[0m \u001b[0;32mNone\u001b[0m\u001b[0;34m)\u001b[0m\u001b[0;34m\u001b[0m\u001b[0;34m\u001b[0m\u001b[0m\n\u001b[0;32m-> 3976\u001b[0;31m         \u001b[0;32mreturn\u001b[0m \u001b[0msuper\u001b[0m\u001b[0;34m(\u001b[0m\u001b[0;34m)\u001b[0m\u001b[0;34m.\u001b[0m\u001b[0mreindex\u001b[0m\u001b[0;34m(\u001b[0m\u001b[0;34m**\u001b[0m\u001b[0mkwargs\u001b[0m\u001b[0;34m)\u001b[0m\u001b[0;34m\u001b[0m\u001b[0;34m\u001b[0m\u001b[0m\n\u001b[0m\u001b[1;32m   3977\u001b[0m \u001b[0;34m\u001b[0m\u001b[0m\n\u001b[1;32m   3978\u001b[0m     def drop(\n",
      "\u001b[0;32m~/anaconda3/envs/Lea/lib/python3.7/site-packages/pandas/core/generic.py\u001b[0m in \u001b[0;36mreindex\u001b[0;34m(self, *args, **kwargs)\u001b[0m\n\u001b[1;32m   4512\u001b[0m         \u001b[0;31m# perform the reindex on the axes\u001b[0m\u001b[0;34m\u001b[0m\u001b[0;34m\u001b[0m\u001b[0;34m\u001b[0m\u001b[0m\n\u001b[1;32m   4513\u001b[0m         return self._reindex_axes(\n\u001b[0;32m-> 4514\u001b[0;31m             \u001b[0maxes\u001b[0m\u001b[0;34m,\u001b[0m \u001b[0mlevel\u001b[0m\u001b[0;34m,\u001b[0m \u001b[0mlimit\u001b[0m\u001b[0;34m,\u001b[0m \u001b[0mtolerance\u001b[0m\u001b[0;34m,\u001b[0m \u001b[0mmethod\u001b[0m\u001b[0;34m,\u001b[0m \u001b[0mfill_value\u001b[0m\u001b[0;34m,\u001b[0m \u001b[0mcopy\u001b[0m\u001b[0;34m\u001b[0m\u001b[0;34m\u001b[0m\u001b[0m\n\u001b[0m\u001b[1;32m   4515\u001b[0m         ).__finalize__(self)\n\u001b[1;32m   4516\u001b[0m \u001b[0;34m\u001b[0m\u001b[0m\n",
      "\u001b[0;32m~/anaconda3/envs/Lea/lib/python3.7/site-packages/pandas/core/frame.py\u001b[0m in \u001b[0;36m_reindex_axes\u001b[0;34m(self, axes, level, limit, tolerance, method, fill_value, copy)\u001b[0m\n\u001b[1;32m   3856\u001b[0m         \u001b[0;32mif\u001b[0m \u001b[0mcolumns\u001b[0m \u001b[0;32mis\u001b[0m \u001b[0;32mnot\u001b[0m \u001b[0;32mNone\u001b[0m\u001b[0;34m:\u001b[0m\u001b[0;34m\u001b[0m\u001b[0;34m\u001b[0m\u001b[0m\n\u001b[1;32m   3857\u001b[0m             frame = frame._reindex_columns(\n\u001b[0;32m-> 3858\u001b[0;31m                 \u001b[0mcolumns\u001b[0m\u001b[0;34m,\u001b[0m \u001b[0mmethod\u001b[0m\u001b[0;34m,\u001b[0m \u001b[0mcopy\u001b[0m\u001b[0;34m,\u001b[0m \u001b[0mlevel\u001b[0m\u001b[0;34m,\u001b[0m \u001b[0mfill_value\u001b[0m\u001b[0;34m,\u001b[0m \u001b[0mlimit\u001b[0m\u001b[0;34m,\u001b[0m \u001b[0mtolerance\u001b[0m\u001b[0;34m\u001b[0m\u001b[0;34m\u001b[0m\u001b[0m\n\u001b[0m\u001b[1;32m   3859\u001b[0m             )\n\u001b[1;32m   3860\u001b[0m \u001b[0;34m\u001b[0m\u001b[0m\n",
      "\u001b[0;32m~/anaconda3/envs/Lea/lib/python3.7/site-packages/pandas/core/frame.py\u001b[0m in \u001b[0;36m_reindex_columns\u001b[0;34m(self, new_columns, method, copy, level, fill_value, limit, tolerance)\u001b[0m\n\u001b[1;32m   3898\u001b[0m     ):\n\u001b[1;32m   3899\u001b[0m         new_columns, indexer = self.columns.reindex(\n\u001b[0;32m-> 3900\u001b[0;31m             \u001b[0mnew_columns\u001b[0m\u001b[0;34m,\u001b[0m \u001b[0mmethod\u001b[0m\u001b[0;34m=\u001b[0m\u001b[0mmethod\u001b[0m\u001b[0;34m,\u001b[0m \u001b[0mlevel\u001b[0m\u001b[0;34m=\u001b[0m\u001b[0mlevel\u001b[0m\u001b[0;34m,\u001b[0m \u001b[0mlimit\u001b[0m\u001b[0;34m=\u001b[0m\u001b[0mlimit\u001b[0m\u001b[0;34m,\u001b[0m \u001b[0mtolerance\u001b[0m\u001b[0;34m=\u001b[0m\u001b[0mtolerance\u001b[0m\u001b[0;34m\u001b[0m\u001b[0;34m\u001b[0m\u001b[0m\n\u001b[0m\u001b[1;32m   3901\u001b[0m         )\n\u001b[1;32m   3902\u001b[0m         return self._reindex_with_indexers(\n",
      "\u001b[0;32m~/anaconda3/envs/Lea/lib/python3.7/site-packages/pandas/core/indexes/multi.py\u001b[0m in \u001b[0;36mreindex\u001b[0;34m(self, target, method, level, limit, tolerance)\u001b[0m\n\u001b[1;32m   2498\u001b[0m                     )\n\u001b[1;32m   2499\u001b[0m                 \u001b[0;32melse\u001b[0m\u001b[0;34m:\u001b[0m\u001b[0;34m\u001b[0m\u001b[0;34m\u001b[0m\u001b[0m\n\u001b[0;32m-> 2500\u001b[0;31m                     \u001b[0;32mraise\u001b[0m \u001b[0mValueError\u001b[0m\u001b[0;34m(\u001b[0m\u001b[0;34m\"cannot handle a non-unique multi-index!\"\u001b[0m\u001b[0;34m)\u001b[0m\u001b[0;34m\u001b[0m\u001b[0;34m\u001b[0m\u001b[0m\n\u001b[0m\u001b[1;32m   2501\u001b[0m \u001b[0;34m\u001b[0m\u001b[0m\n\u001b[1;32m   2502\u001b[0m         \u001b[0;32mif\u001b[0m \u001b[0;32mnot\u001b[0m \u001b[0misinstance\u001b[0m\u001b[0;34m(\u001b[0m\u001b[0mtarget\u001b[0m\u001b[0;34m,\u001b[0m \u001b[0mMultiIndex\u001b[0m\u001b[0;34m)\u001b[0m\u001b[0;34m:\u001b[0m\u001b[0;34m\u001b[0m\u001b[0;34m\u001b[0m\u001b[0m\n",
      "\u001b[0;31mValueError\u001b[0m: cannot handle a non-unique multi-index!"
     ]
    },
    {
     "data": {
      "image/png": "[encoded data removed]",
      "text/plain": [
       "<Figure size 1152x576 with 6 Axes>"
      ]
     },
     "metadata": {
      "needs_background": "light"
     },
     "output_type": "display_data"
    }
   ],
   "source": [
    "assign_value=0\n",
    "if assign_value == 1:\n",
    "    [alpha[\"all\"],\n",
    "    beta[\"all\"],\n",
    "    s[\"all\"],\n",
    "    c,\n",
    "    Old_crit,\n",
    "    New_crit,\n",
    "    t0,\n",
    "    kao,\n",
    "    F[\"CM_oldiold_oldinew\"],\n",
    "    L[\"CM_oldiold_newinew\"],\n",
    "    L[\"CM_oldinew_newiold\"],\n",
    "    F[\"AN_oldiold_oldinew\"]]=[\n",
    "    0.3,\n",
    "    0.2,\n",
    "    0.250000028640636132,\n",
    "    0.690640191843181,\n",
    "    3.999999835304936,\n",
    "    -2.194458887105686,\n",
    "    699.0,\n",
    "    37.0,\n",
    "    0.9785718066582388,\n",
    "    0.9899999996042117,\n",
    "    0.01,\n",
    "    0.01]\n",
    "# print(L[\"CM_oldinew_newiold\"])\n",
    "df_all_crt, df_all_err = finalRW(df_org)\n",
    "\n",
    "def all_plot(df_all_aggnew,plotwhaty,ylim):\n",
    "    fig, axes = plt.subplots(nrows=1, ncols=6, figsize=(16,8))\n",
    "    fig.canvas.set_window_title(plotwhaty)\n",
    "    line_width = 2.5\n",
    "    i=0\n",
    "    names = df_all_aggnew[\"FileCondi\"].astype(\"category\").cat.categories.to_numpy() #get categories name\n",
    "    for iname in names:\n",
    "        df_all_aggnew[df_all_aggnew[\"FileCondi\"]==iname].plot.line(x=\"Setsize\", y=plotwhaty,ax=axes[i],\\\n",
    "                                                                   title=iname,ylim=ylim )\n",
    "        i+=1\n",
    "\n",
    "\n",
    "df_all_agg = df_all_err.groupby([\"Oldnew\",\"Setsize\",\"Probtype\",\"FileCondi\"]).agg([\"mean\"])#.apply(lambda x: x)\n",
    "df_all_aggnew = df_all_agg.unstack([\"Oldnew\",\"Probtype\"])\n",
    "# df_all_aggnew = df_all_agg.unstack([\"FileCondi\",\"Oldnew\",\"Probtype\"])\n",
    "df_all_aggnew\n",
    "# df_all_aggnew= df_all_aggnew.swaplevel(i=0,j=2,axis = 1)\n",
    "\n",
    "df_all_aggnew.index.name = 'Setsize'\n",
    "df_all_aggnew.reset_index(inplace=True)\n",
    "\n",
    "\n",
    "# df_all_aggnew.columns = df_all_aggnew[df_all_aggnew[\"FileCondi\"]==iname].columns.droplevel([1,2])\n",
    "df_all_aggnew.columns = df_all_aggnew.columns.droplevel([1,2])\n",
    "# df_all_aggnew\n",
    "\n",
    "\n",
    "all_plot(df_all_aggnew, \"pred_error\",(0,1))\n"
   ]
  },
  {
   "cell_type": "code",
   "execution_count": null,
   "metadata": {
    "kernel": "SoS"
   },
   "outputs": [],
   "source": [
    "all_plot(df_all_aggnew, \"Error\",(0,0.3))"
   ]
  },
  {
   "cell_type": "markdown",
   "metadata": {
    "kernel": "SoS"
   },
   "source": [
    "## correct RT plot"
   ]
  },
  {
   "cell_type": "code",
   "execution_count": null,
   "metadata": {
    "kernel": "Python3"
   },
   "outputs": [],
   "source": [
    "def all_plot(df_all_aggnew,plotwhaty,ylim):\n",
    "    fig, axes = plt.subplots(nrows=1, ncols=6, figsize=(16,8))\n",
    "    fig.canvas.set_window_title(plotwhaty)\n",
    "    line_width = 2.5\n",
    "    i=0\n",
    "    names = df_all_aggnew[\"FileCondi\"].astype(\"category\").cat.categories.to_numpy() #get categories name\n",
    "    for iname in names:\n",
    "        df_all_aggnew[df_all_aggnew[\"FileCondi\"]==iname].plot.line(x=\"Setsize\", y=plotwhaty,ax=axes[i],\\\n",
    "                                                                   title=iname,ylim=ylim )\n",
    "        i+=1\n",
    "\n",
    "# all_plot(df_all_aggnew, \"RT\",(600,1100))\n",
    "# all_plot(df_all_aggnew, \"pred_rt\",(600,1100))\n",
    "# all_plot(df_all_aggnew, \"Error\",(0,0.3))\n",
    "# all_plot(df_all_aggnew, \"pred_error\",(0,1))\n",
    "\n",
    "df_all_agg = df_all_crt.groupby([\"Oldnew\",\"Setsize\",\"Probtype\",\"FileCondi\"]).agg([\"mean\"])#.apply(lambda x: x)\n",
    "df_all_aggnew = df_all_agg.unstack([\"Oldnew\",\"Probtype\"])\n",
    "# df_all_aggnew = df_all_agg.unstack([\"FileCondi\",\"Oldnew\",\"Probtype\"])\n",
    "df_all_aggnew\n",
    "# df_all_aggnew= df_all_aggnew.swaplevel(i=0,j=2,axis = 1)\n",
    "\n",
    "df_all_aggnew.index.name = 'Setsize'\n",
    "df_all_aggnew.reset_index(inplace=True)\n",
    "\n",
    "\n",
    "df_all_aggnew.columns = df_all_aggnew.columns.droplevel([1,2])\n",
    "# df_all_aggnew\n",
    "\n",
    "all_plot(df_all_aggnew, \"RT\",(600,1100))\n",
    "all_plot(df_all_aggnew, \"pred_rt\",(600,1100))"
   ]
  },
  {
   "cell_type": "code",
   "execution_count": 17,
   "metadata": {
    "kernel": "Python3"
   },
   "outputs": [
    {
     "ename": "TypeError",
     "evalue": "finalRW() takes 1 positional argument but 2 were given",
     "output_type": "error",
     "traceback": [
      "\u001b[0;31m---------------------------------------------------------------------------\u001b[0m",
      "\u001b[0;31mTypeError\u001b[0m                                 Traceback (most recent call last)",
      "\u001b[0;32m<ipython-input-17-d5425d66f0ec>\u001b[0m in \u001b[0;36m<module>\u001b[0;34m\u001b[0m\n\u001b[1;32m      1\u001b[0m \u001b[0mdf_err_sub\u001b[0m\u001b[0;34m=\u001b[0m\u001b[0mdf_err\u001b[0m\u001b[0;34m[\u001b[0m\u001b[0mdf_err\u001b[0m\u001b[0;34m[\u001b[0m\u001b[0;34m\"FileCondi\"\u001b[0m\u001b[0;34m]\u001b[0m\u001b[0;34m==\u001b[0m\u001b[0;34m\"MIX\"\u001b[0m\u001b[0;34m]\u001b[0m\u001b[0;34m\u001b[0m\u001b[0;34m\u001b[0m\u001b[0m\n\u001b[1;32m      2\u001b[0m \u001b[0;34m\u001b[0m\u001b[0m\n\u001b[0;32m----> 3\u001b[0;31m \u001b[0mdf_err_pred\u001b[0m \u001b[0;34m=\u001b[0m \u001b[0mfinalRW\u001b[0m\u001b[0;34m(\u001b[0m\u001b[0mdf_err_sub\u001b[0m\u001b[0;34m,\u001b[0m\u001b[0;34m\"err\"\u001b[0m\u001b[0;34m)\u001b[0m\u001b[0;34m\u001b[0m\u001b[0;34m\u001b[0m\u001b[0m\n\u001b[0m\u001b[1;32m      4\u001b[0m \u001b[0;34m\u001b[0m\u001b[0m\n\u001b[1;32m      5\u001b[0m \u001b[0mdf_err_pred\u001b[0m\u001b[0;34m\u001b[0m\u001b[0;34m\u001b[0m\u001b[0m\n",
      "\u001b[0;31mTypeError\u001b[0m: finalRW() takes 1 positional argument but 2 were given"
     ]
    }
   ],
   "source": [
    "df_err_sub=df_err[df_err[\"FileCondi\"]==\"MIX\"]\n",
    "\n",
    "df_err_pred = finalRW(df_err_sub,\"err\")\n",
    "\n",
    "df_err_pred"
   ]
  },
  {
   "cell_type": "code",
   "execution_count": null,
   "metadata": {
    "kernel": "Python3"
   },
   "outputs": [],
   "source": []
  },
  {
   "cell_type": "code",
   "execution_count": null,
   "metadata": {
    "kernel": "Python3"
   },
   "outputs": [],
   "source": []
  },
  {
   "cell_type": "code",
   "execution_count": null,
   "metadata": {
    "kernel": "Python3"
   },
   "outputs": [],
   "source": []
  },
  {
   "cell_type": "code",
   "execution_count": null,
   "metadata": {
    "kernel": "Python3"
   },
   "outputs": [],
   "source": []
  },
  {
   "cell_type": "code",
   "execution_count": null,
   "metadata": {
    "kernel": "Python3"
   },
   "outputs": [],
   "source": []
  },
  {
   "cell_type": "code",
   "execution_count": null,
   "metadata": {
    "kernel": "Python3"
   },
   "outputs": [],
   "source": []
  },
  {
   "cell_type": "code",
   "execution_count": null,
   "metadata": {
    "kernel": "Python3"
   },
   "outputs": [],
   "source": []
  },
  {
   "cell_type": "code",
   "execution_count": null,
   "metadata": {
    "kernel": "Python3"
   },
   "outputs": [],
   "source": []
  },
  {
   "cell_type": "code",
   "execution_count": null,
   "metadata": {
    "kernel": "Python3"
   },
   "outputs": [],
   "source": []
  }
 ],
 "metadata": {
  "kernelspec": {
   "display_name": "SoS",
   "language": "sos",
   "name": "sos"
  },
  "language_info": {
   "codemirror_mode": "sos",
   "file_extension": ".sos",
   "mimetype": "text/x-sos",
   "name": "sos",
   "nbconvert_exporter": "sos_notebook.converter.SoS_Exporter",
   "pygments_lexer": "sos"
  },
  "latex_envs": {
   "LaTeX_envs_menu_present": true,
   "autoclose": false,
   "autocomplete": true,
   "bibliofile": "biblio.bib",
   "cite_by": "apalike",
   "current_citInitial": 1,
   "eqLabelWithNumbers": true,
   "eqNumInitial": 1,
   "hotkeys": {
    "equation": "Ctrl-E",
    "itemize": "Ctrl-I"
   },
   "labels_anchors": false,
   "latex_user_defs": false,
   "report_style_numbering": false,
   "user_envs_cfg": false
  },
  "sos": {
   "kernels": [
    [
     "Python3",
     "python3",
     "Python3",
     "#FFD91A",
     {
      "name": "ipython",
      "version": 3
     }
    ],
    [
     "SoS",
     "sos",
     "",
     "",
     "sos"
    ]
   ],
   "panel": {
    "displayed": true,
    "height": 0
   },
   "version": "0.20.6"
  },
  "toc": {
   "base_numbering": 1,
   "nav_menu": {
    "height": "315px",
    "width": "281.441px"
   },
   "number_sections": true,
   "sideBar": true,
   "skip_h1_title": false,
   "title_cell": "Table of Contents",
   "title_sidebar": "Contents",
   "toc_cell": false,
   "toc_position": {
    "height": "694px",
    "left": "158px",
    "top": "2px",
    "width": "225.938px"
   },
   "toc_section_display": true,
   "toc_window_display": true
  }
 },
 "nbformat": 4,
 "nbformat_minor": 2
}
