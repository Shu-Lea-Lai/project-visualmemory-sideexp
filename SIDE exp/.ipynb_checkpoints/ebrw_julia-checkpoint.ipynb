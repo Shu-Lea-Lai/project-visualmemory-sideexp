{
 "cells": [
  {
   "cell_type": "markdown",
   "metadata": {
    "kernel": "SoS"
   },
   "source": [
    "# Read files"
   ]
  },
  {
   "cell_type": "code",
   "execution_count": 1,
   "metadata": {
    "kernel": "julia-1.2"
   },
   "outputs": [],
   "source": [
    "using CSV\n",
    "using Statistics\n",
    "using DataFrames, DataFramesMeta\n",
    "import Dates\n",
    "using NLopt\n",
    "using JuMP\n",
    "import Distributions: Uniform\n",
    "# import Lazy # enable @>\n",
    "\n",
    "# --- read files\n",
    "curdic = \"/home/shulai/Google Drive/IUB/Shiffrin Lab/mix_experiment/SIDE exp\"#dirname(@__FILE__)\n",
    "\n",
    "path = string(curdic,\"/sidedata\")\n",
    "df = CSV.File(joinpath(path,\"df.csv\"))|> DataFrame!\n",
    "df_org = CSV.File(joinpath(path,\"df_org.csv\"))|> DataFrame!\n",
    "df_err = CSV.File(joinpath(path,\"df_err.csv\"))|> DataFrame!\n",
    "df_crt = CSV.File(joinpath(path,\"df_crt.csv\"))|> DataFrame!;\n"
   ]
  },
  {
   "cell_type": "markdown",
   "metadata": {
    "kernel": "julia-1.2"
   },
   "source": [
    "# Global Values"
   ]
  },
  {
   "cell_type": "code",
   "execution_count": 91,
   "metadata": {
    "kernel": "julia-1.2"
   },
   "outputs": [
    {
     "data": {
      "text/plain": [
       "10-element Array{Any,1}:\n",
       "   Dict{Any,Any}(\"all\" => 0.19)                                                                                                                                                                                                                             \n",
       "   Dict{Any,Any}(\"all\" => 1.2)                                                                                                                                                                                                                              \n",
       "   Dict{Any,Any}(\"ss24\" => 0.01,\"ss8\" => 0.01,\"all\" => 0.01)                                                                                                                                                                                                \n",
       "   Dict{Any,Any}(\"CMpure\" => 0.3938,\"ANpure\" => 0.3938,\"MIX\" => 0.3938,\"MIX2\" => 0.3938,\"VMpure\" => 0.3938)                                                                                                                                                 \n",
       "   Dict{Any,Any}(\"CMpure\" => 1.9197,\"ANpure\" => 1.9197,\"MIX\" => 1.9197,\"MIX2\" => 1.9197,\"VMpure\" => 1.9197)                                                                                                                                                 \n",
       "   Dict{Any,Any}(\"CMpure\" => -2.33,\"ANpure\" => -2.33,\"MIX\" => -2.33,\"MIX2\" => -2.33,\"VMpure\" => -2.33)                                                                                                                                                      \n",
       "   Dict{Any,Any}(\"ann\" => 699.98,\"all\" => 699.98)                                                                                                                                                                                                           \n",
       " 37                                                                                                                                                                                                                                                         \n",
       "   Dict{Any,Any}(\"ANpure_AN_oldiold_oldinew\" => 0.2,\"MIX_AN_oldiold_oldinew\" => 0.2,\"MIX2_CM_oldiold_oldinew\" => 0.2,\"VMpure_VM_oldiold_oldinew\" => 0.2,\"CMpure_CM_oldiold_oldinew\" => 0.2,\"MIX_CM_oldiold_oldinew\" => 0.2,\"MIX2_AN_oldiold_oldinew\" => 0.2)\n",
       "   Dict{Any,Any}(\"MIX2_CM_oldiold_newinew\" => 0.2,\"CMpure_CM_oldinew_newiold\" => 0,\"MIX_CM_oldiold_newinew\" => 0.2,\"VMpure\" => 0.2,\"MIX2_CM_oldinew_newiold\" => 0.2,\"MIX_CM_oldinew_newiold\" => 0.2,\"CMpure_CM_oldiold_newinew\" => 0.2)                     "
      ]
     },
     "execution_count": 91,
     "metadata": {},
     "output_type": "execute_result"
    }
   ],
   "source": [
    "# global alpha, beta, s, c ,Old_crit ,New_crit ,\n",
    "#     t0 ,kao , F, L, c2\n",
    "\n",
    "alpha=Dict(); beta =Dict(); s = Dict(); F = Dict(); L = Dict(); c=Dict(); t0=Dict(); Old_crit=Dict(); New_crit=Dict()\n",
    "\n",
    "\n",
    "# boost = 1.05\n",
    "alpha[\"all\"] = 0.19\n",
    "# alpha['CM'] = 0.1969\n",
    "# alpha['VM'] = 0.1969\n",
    "# alpha[\"AN\"]=0.84\n",
    "\n",
    "beta[\"all\"] =1.2\n",
    "# beta['CM'] = 1.228\n",
    "# beta['VM'] = 1.228\n",
    "# beta[\"AN\"]= 1.708\n",
    "\n",
    "s[\"all\"]=0.01\n",
    "s[\"ss24\"]=0.01\n",
    "s[\"ss8\"]=0.01\n",
    "# s[\"AN\"] = 0.01\n",
    "# s[\"CM\"] = 0.02\n",
    "# s[\"VM\"] = 0.02\n",
    "c[\"ANpure\"] = 0.3938\n",
    "c[\"CMpure\"] = 0.3938\n",
    "c[\"VMpure\"] = 0.3938\n",
    "c[\"MIX\"] = 0.3938\n",
    "c[\"MIX2\"] = 0.3938\n",
    "# c[\"CMat\"] = 0.3938\n",
    "c2=0.3\n",
    "Old_crit[\"ANpure\"] = 1.9197\n",
    "New_crit[\"ANpure\"] = -2.33\n",
    "Old_crit[\"CMpure\"] = 1.9197\n",
    "New_crit[\"CMpure\"] = -2.33\n",
    "Old_crit[\"VMpure\"] = 1.9197\n",
    "New_crit[\"VMpure\"] = -2.33\n",
    "Old_crit[\"MIX\"] = 1.9197\n",
    "New_crit[\"MIX\"] = -2.33\n",
    "Old_crit[\"MIX2\"] = 1.9197\n",
    "New_crit[\"MIX2\"] = -2.33\n",
    "\n",
    "t0[\"all\"] = 699.98\n",
    "t0[\"ann\"] =  699.98\n",
    "kao = 37\n",
    "\n",
    "#---CM\n",
    "F[\"ANpure_AN_oldiold_oldinew\"] = 0.2\n",
    "\n",
    "F[\"CMpure_CM_oldiold_oldinew\"] = 0.2\n",
    "L[\"CMpure_CM_oldiold_newinew\"] = 0.2\n",
    "L[\"CMpure_CM_oldinew_newiold\"] = 0\n",
    "\n",
    "F[\"VMpure_VM_oldiold_oldinew\"] = 0.2\n",
    "L[\"VMpure\"] = 0.2\n",
    "\n",
    "F[\"MIX_CM_oldiold_oldinew\"] = 0.2\n",
    "L[\"MIX_CM_oldiold_newinew\"] = 0.2\n",
    "L[\"MIX_CM_oldinew_newiold\"] = 0.2\n",
    "F[\"MIX_AN_oldiold_oldinew\"] = 0.2\n",
    "\n",
    "F[\"MIX2_CM_oldiold_oldinew\"] = 0.2\n",
    "L[\"MIX2_CM_oldiold_newinew\"] = 0.2\n",
    "L[\"MIX2_CM_oldinew_newiold\"] = 0.2\n",
    "F[\"MIX2_AN_oldiold_oldinew\"] = 0.2\n",
    "\n",
    "\n",
    "all_vars = [alpha, beta, s, c ,Old_crit ,New_crit , t0 ,kao , F, L]"
   ]
  },
  {
   "cell_type": "markdown",
   "metadata": {
    "kernel": "julia-1.2"
   },
   "source": [
    "# GLobal Assignment"
   ]
  },
  {
   "cell_type": "code",
   "execution_count": 3,
   "metadata": {
    "kernel": "julia-1.2"
   },
   "outputs": [],
   "source": [
    "# global vary_ss, give_c2\n",
    "vary_ss=0\n",
    "give_c2=0\n",
    "\n",
    "# global nameset,is_search_allcondi_besideCMat,search_MIX1\n",
    "is_search_allcondi_besideCMat=1\n",
    "search_MIX1 = 0\n",
    "search_MIX2 = 0\n",
    "nameset = CategoricalArray(df_org.FileCondi) |> levels;"
   ]
  },
  {
   "cell_type": "markdown",
   "metadata": {
    "kernel": "SoS"
   },
   "source": [
    "# Assign LTM_globals"
   ]
  },
  {
   "cell_type": "code",
   "execution_count": 4,
   "metadata": {
    "kernel": "julia-1.2"
   },
   "outputs": [
    {
     "data": {
      "text/plain": [
       "0.2"
      ]
     },
     "execution_count": 4,
     "metadata": {},
     "output_type": "execute_result"
    }
   ],
   "source": [
    "#=====\n",
    "LTM global\n",
    "======#\n",
    "\n",
    "function assign_LTM_global(Filecondi,item_condi, walk, item)\n",
    "\n",
    "    global F,L,Fnow,Lnow\n",
    "    if Filecondi != \"VMpure\"\n",
    "        if item_condi == \"CM\"\n",
    "\n",
    "            if walk * \"i\" * item in [\"oldiold\",\"oldinew\"]\n",
    "\n",
    "                Fnow = F[Filecondi*\"_CM_oldiold_oldinew\"]\n",
    "            else Fnow = 0\n",
    "            end\n",
    "\n",
    "            if walk * \"i\" * item in [\"oldiold\",\"newinew\"]\n",
    "\n",
    "                Lnow = L[Filecondi*\"_CM_oldiold_newinew\"]\n",
    "            elseif walk * \"i\" * item in [\"oldinew\",\"newiold\"]\n",
    "\n",
    "                Lnow = L[Filecondi*\"_CM_oldinew_newiold\"]\n",
    "            else Lnow=0\n",
    "            end\n",
    "\n",
    "        elseif item_condi == \"AN\"\n",
    "\n",
    "            if walk * \"i\" * item in [\"oldiold\",\"oldinew\"]\n",
    "\n",
    "                Fnow = F[Filecondi*\"_AN_oldiold_oldinew\"]\n",
    "            else Fnow=0\n",
    "            end\n",
    "\n",
    "            Lnow = 0\n",
    "\n",
    "        else\n",
    "            println(\"wrong condi 1\",Filecondi,item_condi, walk*\"i\"*item)\n",
    "        end\n",
    "    elseif Filecondi == \"VMpure\"\n",
    "\n",
    "        if item_condi == \"VM\"\n",
    "            if walk*\"i\"*item in [\"oldiold\",\"oldinew\"]\n",
    "                Fnow = F[\"VMpure_VM_oldiold_oldinew\"]\n",
    "            else\n",
    "                Fnow = 0\n",
    "            end\n",
    "        else print(\"wrong condi 2\")\n",
    "        end\n",
    "\n",
    "        Lnow = L[\"VMpure\"]\n",
    "    else\n",
    "        print(\"wrong filecondi\")\n",
    "    end\n",
    "    return(Fnow + Lnow)\n",
    "end\n",
    "assign_LTM_global(\"MIX\",\"AN\",\"old\",\"old\")\n"
   ]
  },
  {
   "cell_type": "markdown",
   "metadata": {
    "kernel": "julia-1.2"
   },
   "source": [
    "# Calc A"
   ]
  },
  {
   "cell_type": "code",
   "execution_count": 5,
   "metadata": {
    "kernel": "julia-1.2"
   },
   "outputs": [],
   "source": [
    "# a[vcat(1,2,2,3),1] .=1"
   ]
  },
  {
   "cell_type": "code",
   "execution_count": 40,
   "metadata": {
    "kernel": "julia-1.2",
    "scrolled": true
   },
   "outputs": [
    {
     "data": {
      "text/plain": [
       "235-element Array{String,1}:\n",
       " \"ANpure-- 0.01815275281648062--2--AN--new\" \n",
       " \"ANpure-- 0.01815275281648062--2--AN--new\" \n",
       " \"ANpure-- 0.026523203730486056--4--AN--new\"\n",
       " \"ANpure-- 0.026523203730486056--4--AN--new\"\n",
       " \"ANpure-- 0.03853018295726592--8--AN--new\" \n",
       " \"ANpure-- 0.03853018295726592--8--AN--new\" \n",
       " \"ANpure-- 0.3082747349363387--8--AN--old\"  \n",
       " \"ANpure-- 0.3082747349363387--8--AN--old\"  \n",
       " \"ANpure-- 0.3224637264239054--8--AN--old\"  \n",
       " \"ANpure-- 0.3224637264239054--8--AN--old\"  \n",
       " \"ANpure-- 0.3419366575545765--8--AN--old\"  \n",
       " \"ANpure-- 0.3419366575545765--8--AN--old\"  \n",
       " \"ANpure-- 0.3701365563654497--8--AN--old\"  \n",
       " ⋮                                          \n",
       " \"VMpure-- 0.637175281648062--2--VM--old\"   \n",
       " \"VMpure-- 0.637175281648062--2--VM--old\"   \n",
       " \"VMpure-- 0.6455457325620675--4--VM--old\"  \n",
       " \"VMpure-- 0.6455457325620675--4--VM--old\"  \n",
       " \"VMpure-- 0.6575527117888473--8--VM--old\"  \n",
       " \"VMpure-- 0.6575527117888473--8--VM--old\"  \n",
       " \"VMpure-- 1.1962527528164806--2--VM--old\"  \n",
       " \"VMpure-- 1.1962527528164806--2--VM--old\"  \n",
       " \"VMpure-- 1.204623203730486--4--VM--old\"   \n",
       " \"VMpure-- 1.204623203730486--4--VM--old\"   \n",
       " \"VMpure-- 1.2166301829572657--8--VM--old\"  \n",
       " \"VMpure-- 1.2166301829572657--8--VM--old\"  "
      ]
     },
     "metadata": {},
     "output_type": "display_data"
    }
   ],
   "source": [
    "\n",
    "function calcA(df, all_vars)\n",
    "    \n",
    "    alpha, beta, s, c ,Old_crit ,New_crit , t0 ,kao , F, L = all_vars\n",
    "    \n",
    "    dnow = df\n",
    "    # a = Array{Union{Nothing,Float64}}(nothing,size(dnow)[1], 8)  #activation\n",
    "    a =   zeros(Float64, size(dnow)[1], 8)\n",
    "    betanow=beta[\"all\"] \n",
    "    alphanow=alpha[\"all\"]\n",
    "\n",
    "    m = [(j^(-betanow) + alphanow) for j in 1:8]\n",
    "    for j in 1:8\n",
    "\n",
    "        if vary_ss==0\n",
    "            a[(dnow.Lag .== j )|> Array,j] .= m[j]\n",
    "            a[(dnow.Lag .!= j )|> Array,j] .= m[j] .* s[\"all\"]\n",
    "        else\n",
    "            a[(dnow.Lag .!= j .& dnow.Setsize .!= 8)  |> Array,j] .= m[j] .* s[\"ss24\"]\n",
    "            a[(dnow.Lag .!= j .& dnow.Setsize .== 8)  |> Array,j] .= m[j] .* s[\"ss8\"]\n",
    "            a[(dnow.Lag .== j) |> Array,j] .= m[j]\n",
    "\n",
    "        end\n",
    "    end\n",
    "\n",
    "    for i in 1:size(a)[1]\n",
    "\n",
    "        a[i,df.Setsize[i]+1:end] .= 0 #a_ij suit for the correct amount of setsize\n",
    "    end\n",
    "\n",
    "    debug = 0\n",
    "    if debug==1\n",
    "        for i in range(a.shape[0])\n",
    "            println(i, \"beginn\",\"a is\",a[i].round(5),\n",
    "                  \"n m is\", np.array(m).round(3),\"n Probtype is\",\n",
    "                  \"n Lag is \",dnow.Lag[i],\n",
    "                  \"n Setsize is\", dnow.Setsize[i],\n",
    "                  \"n Probtype:\",\n",
    "                  dnow.Probtype[i],\n",
    "                  \"n Oldnew: \",dnow.Oldnew[i],\n",
    "                  \"n Ai is\", a[i,:].sum().round(2),\n",
    "                  \"n snow\", s[\"all\"],\n",
    "                 \"n------------------------------------------------\" )\n",
    "        end\n",
    "    end\n",
    "\n",
    "    A = sum(a, dims = 2)\n",
    "    \n",
    "    return(A)\n",
    "end\n",
    "\n",
    "A0=calcA(df, all_vars)\n",
    "present_now = [df.FileCondi[i] * \n",
    "        \"-- \" * (A0[i] |> string) * \n",
    "      \"--\" *  (df.Setsize[i] |> string)*\n",
    "      \"--\" * df.Probtype[i] * \n",
    "      \"--\" * df.Oldnew[i] for i in 1:size(A0)[1]];\n",
    "display(sort(present_now))\n",
    "# display(A0)\n"
   ]
  },
  {
   "cell_type": "code",
   "execution_count": 19,
   "metadata": {
    "kernel": "julia-1.2"
   },
   "outputs": [
    {
     "name": "stderr",
     "output_type": "stream",
     "text": [
      "Keyboard Interrupt\n"
     ]
    },
    {
     "name": "stdout",
     "output_type": "stream",
     "text": [
      "got 0.0 at [9.53451181239323e-17, 3.000000000000001, 5.843155926217647e-17] after 44371 iterations (returned FORCED_STOP)\n"
     ]
    }
   ],
   "source": [
    "# function tempfunc(x::Vector, grad::Vector)\n",
    "#     alpha[\"all\"] = x[1]\n",
    "#     beta[\"all\"] = x[2]\n",
    "#     s[\"all\"] = x[3]\n",
    "#     all_vars = [alpha, beta, s, c ,Old_crit ,New_crit , t0 ,kao , F, L ]\n",
    "#     A0=calcA(df,all_vars)\n",
    "#     return(sum(A0))\n",
    "# end\n",
    "    \n",
    "# opt = Opt(:GN_DIRECT_L, 3)#Opt(:LD_SLSQP, 3)\n",
    "# opt.lower_bounds = [0, 0, 0]\n",
    "# opt.upper_bounds = [3, 3, 1]\n",
    "# opt.xtol_rel = 1e-4\n",
    "# opt.maxtime = 10\n",
    "# opt.min_objective = tempfunc\n",
    "# (minf,minx,ret) = optimize(opt, [1.2,1.2,0.3])\n",
    "# numevals = opt.numevals\n",
    "# println(\"got $minf at $minx after $numevals iterations (returned $ret)\")"
   ]
  },
  {
   "cell_type": "code",
   "execution_count": 20,
   "metadata": {
    "kernel": "julia-1.2"
   },
   "outputs": [
    {
     "name": "stdout",
     "output_type": "stream",
     "text": [
      "got 0.5442423016581764 at [0.33332919907566905, 0.29619968291418947] after 31 iterations (returned XTOL_REACHED)\n"
     ]
    }
   ],
   "source": [
    "\n",
    "# function myfunc(x::Vector, grad::Vector)\n",
    "#     if length(grad) > 0\n",
    "# #         grad[1] = 0.5\n",
    "# #         grad[2] = 0.5/sqrt(x[2])\n",
    "#     end\n",
    "#     return sqrt(x[2])\n",
    "# end\n",
    "\n",
    "# function myconstraint(x::Vector, grad::Vector, a, b)\n",
    "#     if length(grad) > 0\n",
    "# #         grad[1] = 3a * (a*x[1] + b)^2\n",
    "# #         grad[2] = -1\n",
    "#     end\n",
    "#     (a*x[1] + b)^3 - x[2]\n",
    "# end\n",
    "\n",
    "# opt = Opt(:LN_COBYLA, 2)\n",
    "# opt.lower_bounds = [-Inf, 0.]\n",
    "# opt.xtol_rel = 1e-4\n",
    "\n",
    "# opt.min_objective = myfunc\n",
    "# inequality_constraint!(opt, (x,g) -> myconstraint(x,g,2,0), 1e-8)\n",
    "# inequality_constraint!(opt, (x,g) -> myconstraint(x,g,-1,1), 1e-8)\n",
    "\n",
    "# (minf,minx,ret) = optimize(opt, [1.234, 5.678])\n",
    "# numevals = opt.numevals # the number of function evaluations\n",
    "# println(\"got $minf at $minx after $numevals iterations (returned $ret)\")"
   ]
  },
  {
   "cell_type": "markdown",
   "metadata": {
    "kernel": "julia-1.2"
   },
   "source": [
    "# Calc p"
   ]
  },
  {
   "cell_type": "code",
   "execution_count": 41,
   "metadata": {
    "kernel": "julia-1.2"
   },
   "outputs": [
    {
     "data": {
      "text/plain": [
       "235-element Array{String,1}:\n",
       " \"ANpure-- 0.35648626762841407--2--AN--new\"\n",
       " \"ANpure-- 0.35648626762841407--2--AN--new\"\n",
       " \"ANpure-- 0.3651696444179838--4--AN--new\" \n",
       " \"ANpure-- 0.3651696444179838--4--AN--new\" \n",
       " \"ANpure-- 0.3772240980838744--8--AN--new\" \n",
       " \"ANpure-- 0.3772240980838744--8--AN--new\" \n",
       " \"ANpure-- 0.5634508042975052--8--AN--old\" \n",
       " \"ANpure-- 0.5634508042975052--8--AN--old\" \n",
       " \"ANpure-- 0.570211077178657--8--AN--old\"  \n",
       " \"ANpure-- 0.570211077178657--8--AN--old\"  \n",
       " \"ANpure-- 0.5791551000800332--8--AN--old\" \n",
       " \"ANpure-- 0.5791551000800332--8--AN--old\" \n",
       " \"ANpure-- 0.5914668891852861--8--AN--old\" \n",
       " ⋮                                         \n",
       " \"VMpure-- 0.6359233602853999--2--VM--old\" \n",
       " \"VMpure-- 0.6359233602853999--2--VM--old\" \n",
       " \"VMpure-- 0.6377823248595805--4--VM--old\" \n",
       " \"VMpure-- 0.6377823248595805--4--VM--old\" \n",
       " \"VMpure-- 0.6404160081847329--8--VM--old\" \n",
       " \"VMpure-- 0.6404160081847329--8--VM--old\" \n",
       " \"VMpure-- 0.7288649786009248--2--VM--old\" \n",
       " \"VMpure-- 0.7288649786009248--2--VM--old\" \n",
       " \"VMpure-- 0.72989731959143--4--VM--old\"   \n",
       " \"VMpure-- 0.72989731959143--4--VM--old\"   \n",
       " \"VMpure-- 0.7313645078780214--8--VM--old\" \n",
       " \"VMpure-- 0.7313645078780214--8--VM--old\" "
      ]
     },
     "metadata": {},
     "output_type": "display_data"
    }
   ],
   "source": [
    "# F[\"AN_oldiold_oldinew\"] = 0.099\n",
    "function calcp(df,all_vars)\n",
    "    \n",
    "    alpha, beta, s, c ,Old_crit ,New_crit , t0 ,kao , F, L = all_vars\n",
    "\n",
    "    A = calcA(df, all_vars)\n",
    "    dnow = df\n",
    "    p = Iterators.repeated(3.0, size(A)[1]) |> collect\n",
    "    filecondis = CategoricalArray(dnow.FileCondi) |> levels; #get categories name\n",
    "\n",
    "    for icondi in filecondis\n",
    "\n",
    "        #only ieterate through probs in that condition\n",
    "        probs = filter( t -> t[:FileCondi] == icondi, dnow).Probtype |> CategoricalArray |> levels\n",
    "        for iprob in probs\n",
    "\n",
    "            for ion in [\"old\",\"new\"]\n",
    "\n",
    "                tf_ion = (dnow.Oldnew .== ion)\n",
    "                tf_iprob = (dnow.Probtype .== iprob)\n",
    "                tf_icondi = (dnow.FileCondi .== icondi)\n",
    "\n",
    "                tf_combi1 = (tf_ion .& tf_iprob) |> Array\n",
    "                tf_all = (tf_combi1 .& tf_icondi) |> Array\n",
    "\n",
    "                IR_old_current = assign_LTM_global(icondi,iprob,\"old\",ion)\n",
    "                IR_new_current = assign_LTM_global(icondi, iprob,\"new\",ion)\n",
    "\n",
    "                p[tf_all] = (A[tf_all] .+ IR_old_current)./\n",
    "                (A[tf_all] .+ IR_old_current .+ c[icondi] .+ IR_new_current)\n",
    "            end\n",
    "        end\n",
    "    end\n",
    "\n",
    "    return(p)\n",
    "\n",
    "end\n",
    "\n",
    "p=calcp(df, all_vars)\n",
    "present_now = [df.FileCondi[i] * \n",
    "        \"-- \" * (p[i] |> string) * \n",
    "      \"--\" *  (df.Setsize[i] |> string)*\n",
    "      \"--\" * df.Probtype[i] * \n",
    "      \"--\" * df.Oldnew[i] for i in 1:size(p)[1]];\n",
    "display(sort(present_now))\n"
   ]
  },
  {
   "cell_type": "markdown",
   "metadata": {
    "kernel": "julia-1.2"
   },
   "source": [
    "# RW "
   ]
  },
  {
   "cell_type": "code",
   "execution_count": 93,
   "metadata": {
    "kernel": "julia-1.2"
   },
   "outputs": [
    {
     "data": {
      "text/plain": [
       "235-element Array{Float64,1}:\n",
       " 862.4187617089488\n",
       " 862.4187617089488\n",
       " 862.4187617089488\n",
       " 862.4187617089488\n",
       " 862.4187617089488\n",
       " 862.4187617089488\n",
       " 843.4943912648644\n",
       " 871.5118511632664\n",
       " 871.5118511632664\n",
       " 843.4943912648644\n",
       " 871.5118511632664\n",
       " 871.5118511632664\n",
       " 871.5118511632664\n",
       "   ⋮              \n",
       " 848.4110767152945\n",
       " 848.4110767152945\n",
       " 851.1955877448801\n",
       " 851.1955877448801\n",
       " 852.6180885766188\n",
       " 852.6180885766188\n",
       " 853.4364387072704\n",
       " 853.4364387072704\n",
       " 853.9495477254702\n",
       " 853.9495477254702\n",
       " 854.2927395404024\n",
       " 854.2927395404024"
      ]
     },
     "execution_count": 93,
     "metadata": {},
     "output_type": "execute_result"
    }
   ],
   "source": [
    "which_return=\"crt\"\n",
    "\n",
    "alpha, beta, s, c ,Old_crit ,New_crit , t0 ,kao , F, L = all_vars\n",
    "\n",
    "A = calcA(df, all_vars)\n",
    "p = calcp(df, all_vars)\n",
    "q = 1 .- p\n",
    "\n",
    "dnow = df\n",
    "filecondis = CategoricalArray(dnow.FileCondi) |> levels; #get categories name\n",
    "\n",
    "p_resp_old = zeros(size(p)[1])\n",
    "pred_correct = zeros(size(p)[1])\n",
    "pred_rt = zeros(size(p)[1])\n",
    "\n",
    "theta1 = zeros(size(p)[1])\n",
    "theta2 = zeros(size(q)[1])\n",
    "theta11 = zeros(size(p)[1])\n",
    "theta22 = zeros(size(q)[1])\n",
    "exp_nstep = zeros(size(p)[1])\n",
    "\n",
    "\n",
    "for ifile in filecondis\n",
    "\n",
    "    gen_tf = (dnow.FileCondi .== ifile)|> Array\n",
    "    AA = Old_crit[ifile]\n",
    "    BB = -New_crit[ifile] # bb is a postive number\n",
    "\n",
    "    if which_return==\"crt\"\n",
    "\n",
    "        pq = (p[gen_tf]./q[gen_tf])\n",
    "        theta1[gen_tf] = (pq .^(AA+BB) .+1)./(pq .^(AA+BB) .-1)\n",
    "        theta2[gen_tf] = (pq .^BB .+1)./(pq .^BB .-1)\n",
    "\n",
    "        tf = ((p .!= q) .& ((dnow.Oldnew .== \"old\").& gen_tf )) |> Array\n",
    "        exp_nstep[tf] = (1 ./ (p[tf] .-q[tf])).*(theta1[tf].*(AA+BB) .- theta2[tf].*BB)\n",
    "\n",
    "        tf = ((p .== q) .& ((dnow.Oldnew .== \"old\").& gen_tf)) |> Array\n",
    "        exp_nstep[tf] .= (AA/3)*(2*BB+AA)\n",
    "\n",
    "        theta11[gen_tf] = (pq .^ (-(AA+BB)) .+1) ./ (pq.^(-(AA+BB)) .-1)\n",
    "        theta22[gen_tf] = (pq .^ -AA .+1)./(pq .^ -AA .-1)\n",
    "\n",
    "        tf = ((p .!= q) .& (dnow.Oldnew .== \"new\") .& gen_tf) |> Array\n",
    "        exp_nstep[tf] = (1 ./(q[tf] .- p[tf])).*(theta11[tf].*(AA+BB) .- theta22[tf].*AA)\n",
    "\n",
    "        tf = ((p .== q) .& (dnow.Oldnew .== \"new\") .& gen_tf) |> Array\n",
    "        exp_nstep[tf] .= (BB/3)*(2*AA+BB);\n",
    "\n",
    "    #------------------- correct response\n",
    "    elseif which_return == \"err\"\n",
    "\n",
    "        qp = (q[gen_tf]./p[gen_tf])\n",
    "        qptfn = ((p .!= q) .& gen_tf) |> Array\n",
    "        qptf = ((p .== q) .& gen_tf) |> Array\n",
    "\n",
    "        p_resp_old[qptfn] = ((1 .- qp.^BB) ./ (1 .-qp.^(AA+BB)))[Array(p[gen_tf] .!= q[gen_tf])];\n",
    "        p_resp_old[qptf] .= BB/(AA +BB);\n",
    "\n",
    "    end\n",
    "end\n",
    "#------------------\n",
    "\n",
    "\n",
    "if which_return==\"crt\"\n",
    "    suprise = (((dnow.FileCondi.==\"MIX\") .| (dnow.FileCondi.==\"MIX2\")) .& \n",
    "            (dnow.Probtype.==\"AN\") .& (dnow.Oldnew.==\"new\") )|> Array\n",
    "\n",
    "    notsuprise = .!suprise\n",
    "\n",
    "    pred_rt[suprise] = t0[\"ann\"] .+ kao .* exp_nstep[suprise]\n",
    "    pred_rt[notsuprise] = t0[\"all\"] .+ kao .* exp_nstep[notsuprise]\n",
    "end\n",
    "\n",
    "#------------------\n",
    "\n",
    "if which_return == \"err\"\n",
    "    pred_correct[Array(dnow.Oldnew.==\"old\")] = p_resp_old[Array(dnow.Oldnew.==\"old\")]\n",
    "    pred_correct[Array(dnow.Oldnew.==\"new\")] = 1 .- p_resp_old[Array(dnow.Oldnew.==\"new\")]\n",
    "\n",
    "end\n",
    "\n",
    "pred_rt"
   ]
  },
  {
   "cell_type": "code",
   "execution_count": 99,
   "metadata": {
    "kernel": "julia-1.2"
   },
   "outputs": [
    {
     "name": "stdout",
     "output_type": "stream",
     "text": [
      "[862.4187617089488, 862.4187617089488, 862.4187617089488, 862.4187617089488, 862.4187617089488, 862.4187617089488, 843.4943912648644, 871.5118511632664, 871.5118511632664, 843.4943912648644, 871.5118511632664, 871.5118511632664, 871.5118511632664, 871.5118511632664, 864.0226597646537, 864.0226597646537, 864.0226597646537, 864.0226597646537, 864.0226597646537, 864.0226597646537, 845.2270189286455, 872.1134507596355, 872.1134507596355, 845.2270189286455, 872.1134507596355, 872.1134507596355, 872.1134507596355, 872.1134507596355, 866.1337901326389, 866.1337901326389, 866.1337901326389, 866.1337901326389, 866.1337901326389, 866.1337901326389, 847.6281934669834, 872.9081726512609, 872.9081726512609, 847.6281934669834, 872.9081726512609, 872.9081726512609, 872.9081726512609, 872.9081726512609, 812.3958843418486, 812.3958843418486, 812.3958843418486, 812.3958843418486, 812.3958843418486, 812.3958843418486, 834.2875419566728, 834.2875419566728, 834.2875419566728, 834.2875419566728, 834.2875419566728, 834.2875419566728, 807.5155307727304, 823.8054092420512, 823.8054092420512, 807.5155307727304, 823.8054092420512, 823.8054092420512, 824.7037912798427, 842.7562111636346, 842.7562111636346, 824.7037912798427, 842.7562111636346, 842.7562111636346, 823.8054092420512, 823.8054092420512, 842.7562111636346, 842.7562111636346, 812.1682931249746, 812.1682931249746, 812.1682931249746, 812.1682931249746, 812.1682931249746, 812.1682931249746, 833.8423725079314, 833.8423725079314, 833.8423725079314, 833.8423725079314, 833.8423725079314, 833.8423725079314, 843.2473084025207, 843.2473084025207, 843.2473084025207, 843.2473084025207, 843.2473084025207, 843.2473084025207, 847.7864619671054, 847.7864619671054, 847.7864619671054, 847.7864619671054, 847.7864619671054, 847.7864619671054, 807.3342363150462, 823.5766420930015, 823.5766420930015, 807.3342363150462, 823.5766420930015, 823.5766420930015, 824.3501731606282, 842.4286897707441, 842.4286897707441, 824.3501731606282, 842.4286897707441, 842.4286897707441, 832.0737975952054, 848.860468558948, 848.860468558948, 832.0737975952054, 848.860468558948, 848.860468558948, 836.1871305315594, 851.598096714013, 851.598096714013, 836.1871305315594, 851.598096714013, 851.598096714013, 823.5766420930015, 823.5766420930015, 842.4286897707441, 842.4286897707441, 848.860468558948, 848.860468558948, 851.598096714013, 851.598096714013, 811.8457128040193, 811.8457128040193, 811.8457128040193, 811.8457128040193, 833.210322528662, 833.210322528662, 833.210322528662, 833.210322528662, 833.210322528662, 842.5381872049757, 842.5381872049757, 842.5381872049757, 842.5381872049757, 842.5381872049757, 842.5381872049757, 847.0929509003043, 847.0929509003043, 847.0929509003043, 847.0929509003043, 847.0929509003043, 847.0929509003043, 849.5911748085382, 849.5911748085382, 849.5911748085382, 849.5911748085382, 849.5911748085382, 849.5911748085382, 851.0944746681396, 851.0944746681396, 851.0944746681396, 851.0944746681396, 851.0944746681396, 851.0944746681396, 852.0663107270921, 852.0663107270921, 852.0663107270921, 852.0663107270921, 852.0663107270921, 852.0663107270921, 852.7307414456359, 852.7307414456359, 852.7307414456359, 852.7307414456359, 852.7307414456359, 852.7307414456359, 807.0770569273441, 823.251230009624, 823.251230009624, 807.0770569273441, 823.251230009624, 823.251230009624, 823.8492794109677, 841.9596977560236, 841.9596977560236, 823.8492794109677, 841.9596977560236, 841.9596977560236, 831.4640348308831, 848.4110767152945, 848.4110767152945, 831.4640348308831, 848.4110767152945, 848.4110767152945, 835.5281768221605, 851.1955877448801, 851.1955877448801, 835.5281768221605, 851.1955877448801, 851.1955877448801, 837.9797206177149, 852.6180885766188, 852.6180885766188, 837.9797206177149, 852.6180885766188, 852.6180885766188, 839.5926104697805, 853.4364387072704, 853.4364387072704, 839.5926104697805, 853.4364387072704, 853.4364387072704, 840.7227799483755, 853.9495477254702, 853.9495477254702, 840.7227799483755, 853.9495477254702, 853.9495477254702, 841.5530675085844, 854.2927395404024, 854.2927395404024, 841.5530675085844, 854.2927395404024, 854.2927395404024, 823.251230009624, 823.251230009624, 841.9596977560236, 841.9596977560236, 848.4110767152945, 848.4110767152945, 851.1955877448801, 851.1955877448801, 852.6180885766188, 852.6180885766188, 853.4364387072704, 853.4364387072704, 853.9495477254702, 853.9495477254702, 854.2927395404024, 854.2927395404024]"
     ]
    }
   ],
   "source": [
    "\n",
    "function calc_theoretical_RW(df, which_return, all_vars)\n",
    "    \n",
    "    alpha, beta, s, c ,Old_crit ,New_crit , t0 ,kao , F, L = all_vars\n",
    "\n",
    "    A = calcA(df, all_vars)\n",
    "    p = calcp(df, all_vars)\n",
    "    q = 1 .- p\n",
    "\n",
    "    dnow = df\n",
    "    filecondis = CategoricalArray(dnow.FileCondi) |> levels; #get categories name\n",
    "\n",
    "    p_resp_old = zeros(size(p)[1])\n",
    "    pred_correct = zeros(size(p)[1])\n",
    "    pred_rt = zeros(size(p)[1])\n",
    "\n",
    "    theta1 = zeros(size(p)[1])\n",
    "    theta2 = zeros(size(q)[1])\n",
    "    theta11 = zeros(size(p)[1])\n",
    "    theta22 = zeros(size(q)[1])\n",
    "    exp_nstep = zeros(size(p)[1])\n",
    "\n",
    "\n",
    "    for ifile in filecondis\n",
    "\n",
    "        gen_tf = (dnow.FileCondi .== ifile)|> Array\n",
    "        AA = Old_crit[ifile]\n",
    "        BB = -New_crit[ifile] # bb is a postive number\n",
    "\n",
    "        if which_return==\"crt\"\n",
    "\n",
    "            pq = (p[gen_tf]./q[gen_tf])\n",
    "            theta1[gen_tf] = (pq .^(AA+BB) .+1)./(pq .^(AA+BB) .-1)\n",
    "            theta2[gen_tf] = (pq .^BB .+1)./(pq .^BB .-1)\n",
    "\n",
    "            tf = ((p .!= q) .& ((dnow.Oldnew .== \"old\").& gen_tf )) |> Array\n",
    "            exp_nstep[tf] = (1 ./ (p[tf] .-q[tf])).*(theta1[tf].*(AA+BB) .- theta2[tf].*BB)\n",
    "\n",
    "            tf = ((p .== q) .& ((dnow.Oldnew .== \"old\").& gen_tf)) |> Array\n",
    "            exp_nstep[tf] .= (AA/3)*(2*BB+AA)\n",
    "\n",
    "            theta11[gen_tf] = (pq .^ (-(AA+BB)) .+1) ./ (pq.^(-(AA+BB)) .-1)\n",
    "            theta22[gen_tf] = (pq .^ -AA .+1)./(pq .^ -AA .-1)\n",
    "\n",
    "            tf = ((p .!= q) .& (dnow.Oldnew .== \"new\") .& gen_tf) |> Array\n",
    "            exp_nstep[tf] = (1 ./(q[tf] .- p[tf])).*(theta11[tf].*(AA+BB) .- theta22[tf].*AA)\n",
    "\n",
    "            tf = ((p .== q) .& (dnow.Oldnew .== \"new\") .& gen_tf) |> Array\n",
    "            exp_nstep[tf] .= (BB/3)*(2*AA+BB);\n",
    "\n",
    "        #------------------- correct response\n",
    "        elseif which_return == \"err\"\n",
    "\n",
    "            qp = (q[gen_tf]./p[gen_tf])\n",
    "            qptfn = ((p .!= q) .& gen_tf) |> Array\n",
    "            qptf = ((p .== q) .& gen_tf) |> Array\n",
    "\n",
    "            p_resp_old[qptfn] = ((1 .- qp.^BB) ./ (1 .-qp.^(AA+BB)))[Array(p[gen_tf] .!= q[gen_tf])];\n",
    "            p_resp_old[qptf] .= BB/(AA +BB);\n",
    "\n",
    "        end\n",
    "    end\n",
    "    #------------------\n",
    "\n",
    "\n",
    "    if which_return==\"crt\"\n",
    "        suprise = (((dnow.FileCondi.==\"MIX\") .| (dnow.FileCondi.==\"MIX2\")) .& \n",
    "                (dnow.Probtype.==\"AN\") .& (dnow.Oldnew.==\"new\") )|> Array\n",
    "\n",
    "        notsuprise = .!suprise\n",
    "\n",
    "        pred_rt[suprise] = t0[\"ann\"] .+ kao .* exp_nstep[suprise]\n",
    "        pred_rt[notsuprise] = t0[\"all\"] .+ kao .* exp_nstep[notsuprise]\n",
    "    end\n",
    "\n",
    "    #------------------\n",
    "\n",
    "    if which_return == \"err\"\n",
    "        pred_correct[Array(dnow.Oldnew.==\"old\")] = p_resp_old[Array(dnow.Oldnew.==\"old\")]\n",
    "        pred_correct[Array(dnow.Oldnew.==\"new\")] = 1 .- p_resp_old[Array(dnow.Oldnew.==\"new\")]\n",
    "\n",
    "    end\n",
    "    \n",
    "        \n",
    "    if which_return == \"crt\"\n",
    "        return(pred_rt)\n",
    "    elseif which_return == \"err\"\n",
    "        return(pred_correct)\n",
    "    end\n",
    "          \n",
    "end\n",
    "\n",
    "rw = calc_theoretical_RW(df,\"crt\", all_vars)\n",
    "present_now = [df.FileCondi[i] * \n",
    "    \"--\" * df.Probtype[i] * \n",
    "      \"--\" *  (df.Setsize[i] |> string)*\n",
    "    \"--\" * df.Oldnew[i] *\n",
    "    \"-- \" * (rw[i] |> x -> round(x,digits=4) |> string) for i in 1:size(rw)[1]];\n",
    "display(sort(present_now))\n"
   ]
  },
  {
   "cell_type": "markdown",
   "metadata": {
    "kernel": "julia-1.2"
   },
   "source": [
    "# Calc Wssd"
   ]
  },
  {
   "cell_type": "code",
   "execution_count": 82,
   "metadata": {
    "kernel": "julia-1.2"
   },
   "outputs": [
    {
     "ename": "ArgumentError",
     "evalue": "ArgumentError: `nothing` should not be printed; use `show`, `repr`, or custom output instead.",
     "output_type": "error",
     "traceback": [
      "ArgumentError: `nothing` should not be printed; use `show`, `repr`, or custom output instead.",
      "",
      "Stacktrace:",
      " [1] print(::IJulia.IJuliaStdio{Base.PipeEndpoint}, ::Nothing) at ./show.jl:587",
      " [2] print(::IJulia.IJuliaStdio{Base.PipeEndpoint}, ::Nothing, ::Char) at ./strings/io.jl:48",
      " [3] println(::IJulia.IJuliaStdio{Base.PipeEndpoint}, ::Nothing) at ./strings/io.jl:75",
      " [4] println(::Nothing) at ./coreio.jl:4",
      " [5] top-level scope at In[82]:14"
     ]
    }
   ],
   "source": [
    "alpha, beta, s, c ,Old_crit ,New_crit , t0 ,kao , F, L = all_vars\n",
    "\n",
    "\n",
    "df_sub_err = df_err |> copy\n",
    "df_sub_crt = df_crt |> copy\n",
    "\n",
    "if search_MIX1 == 1\n",
    "    df_sub_err = filter(t -> t[:FileCondi]==\"MIX\", df_sub_err)\n",
    "    df_sub_crt = filter(t -> t[:FileCondi]==\"MIX\", df_sub_crt)\n",
    "end\n",
    "\n",
    "pred_correct = calc_theoretical_RW(df_sub_err,\"err\", all_vars)\n",
    "pred_crt = calc_theoretical_RW(df_sub_crt,\"crt\", all_vars)\n",
    "println(pred_crt)\n",
    "# df_sub_crt.pred_crt = pred_crt ./ 1000 #translate crt to seconds. \n",
    "# df_sub_err.pred_error = 1 .- pred_correct\n",
    "\n",
    "# df_sub_crt.RT = df_sub_crt.RT ./1000\n",
    "\n",
    "# df_sub_crt.SSD_RT = ((df_sub_crt.RT .- df_sub_crt.pred_crt) .^2)\n",
    "# df_sub_err.SSD_err = ((df_sub_err.Error .- df_sub_err.pred_error).^2)\n",
    "\n",
    "# df_sub_crt.wSSD_RT = [df_sub_crt.SSD_RT[i] * w[df_sub_crt.Oldnew[i] * \"_rt\"]\n",
    "#     for i in 1:size(df_sub_crt)[1]]\n",
    "\n",
    "# df_sub_err.wSSD_err = [df_sub_err.SSD_err[i] * w[df_sub_err.Oldnew[i] * \"_err\"]\n",
    "#     for i in 1:size(df_sub_err)[1]]\n",
    "\n",
    "\n",
    "# WSSD = (df_sub_err.wSSD_err |> sum)  .+ (df_sub_crt.wSSD_RT |> sum)"
   ]
  },
  {
   "cell_type": "code",
   "execution_count": 85,
   "metadata": {
    "kernel": "julia-1.2"
   },
   "outputs": [
    {
     "data": {
      "text/html": [
       "<table class=\"data-frame\"><thead><tr><th></th><th>Column1</th><th>index</th><th>Oldnew</th><th>Setsize</th><th>Probtype</th><th>Lag</th><th>FileCondi</th><th>RT</th></tr><tr><th></th><th>Int64</th><th>Int64</th><th>String</th><th>Int64</th><th>String</th><th>Int64</th><th>String</th><th>Float64</th></tr></thead><tbody><p>119 rows × 8 columns</p><tr><th>1</th><td>0</td><td>0</td><td>new</td><td>2</td><td>AN</td><td>0</td><td>ANpure</td><td>816.344</td></tr><tr><th>2</th><td>1</td><td>1</td><td>new</td><td>2</td><td>AN</td><td>0</td><td>MIX</td><td>746.881</td></tr><tr><th>3</th><td>2</td><td>2</td><td>new</td><td>2</td><td>AN</td><td>0</td><td>MIX2</td><td>896.76</td></tr><tr><th>4</th><td>3</td><td>3</td><td>new</td><td>2</td><td>CM</td><td>0</td><td>CMpure</td><td>766.146</td></tr><tr><th>5</th><td>4</td><td>4</td><td>new</td><td>2</td><td>CM</td><td>0</td><td>MIX</td><td>797.061</td></tr><tr><th>6</th><td>5</td><td>5</td><td>new</td><td>2</td><td>CM</td><td>0</td><td>MIX2</td><td>866.103</td></tr><tr><th>7</th><td>6</td><td>6</td><td>new</td><td>2</td><td>VM</td><td>0</td><td>VMpure</td><td>815.332</td></tr><tr><th>8</th><td>7</td><td>7</td><td>new</td><td>4</td><td>AN</td><td>0</td><td>ANpure</td><td>837.036</td></tr><tr><th>9</th><td>8</td><td>8</td><td>new</td><td>4</td><td>AN</td><td>0</td><td>MIX</td><td>777.151</td></tr><tr><th>10</th><td>9</td><td>9</td><td>new</td><td>4</td><td>AN</td><td>0</td><td>MIX2</td><td>887.399</td></tr><tr><th>11</th><td>10</td><td>10</td><td>new</td><td>4</td><td>CM</td><td>0</td><td>CMpure</td><td>791.992</td></tr><tr><th>12</th><td>11</td><td>11</td><td>new</td><td>4</td><td>CM</td><td>0</td><td>MIX</td><td>859.038</td></tr><tr><th>13</th><td>12</td><td>12</td><td>new</td><td>4</td><td>CM</td><td>0</td><td>MIX2</td><td>909.244</td></tr><tr><th>14</th><td>13</td><td>13</td><td>new</td><td>4</td><td>VM</td><td>0</td><td>VMpure</td><td>886.132</td></tr><tr><th>15</th><td>14</td><td>14</td><td>new</td><td>8</td><td>AN</td><td>0</td><td>ANpure</td><td>848.955</td></tr><tr><th>16</th><td>15</td><td>15</td><td>new</td><td>8</td><td>AN</td><td>0</td><td>MIX</td><td>807.824</td></tr><tr><th>17</th><td>16</td><td>16</td><td>new</td><td>8</td><td>AN</td><td>0</td><td>MIX2</td><td>937.88</td></tr><tr><th>18</th><td>17</td><td>17</td><td>new</td><td>8</td><td>CM</td><td>0</td><td>CMpure</td><td>820.669</td></tr><tr><th>19</th><td>18</td><td>18</td><td>new</td><td>8</td><td>CM</td><td>0</td><td>MIX</td><td>930.987</td></tr><tr><th>20</th><td>19</td><td>19</td><td>new</td><td>8</td><td>CM</td><td>0</td><td>MIX2</td><td>1012.12</td></tr><tr><th>21</th><td>20</td><td>20</td><td>new</td><td>8</td><td>VM</td><td>0</td><td>VMpure</td><td>949.085</td></tr><tr><th>22</th><td>21</td><td>21</td><td>old</td><td>2</td><td>AN</td><td>1</td><td>ANpure</td><td>715.675</td></tr><tr><th>23</th><td>22</td><td>22</td><td>old</td><td>2</td><td>AN</td><td>1</td><td>MIX</td><td>683.075</td></tr><tr><th>24</th><td>23</td><td>23</td><td>old</td><td>2</td><td>AN</td><td>1</td><td>MIX2</td><td>798.802</td></tr><tr><th>25</th><td>24</td><td>24</td><td>old</td><td>2</td><td>AN</td><td>2</td><td>ANpure</td><td>768.006</td></tr><tr><th>26</th><td>25</td><td>25</td><td>old</td><td>2</td><td>AN</td><td>2</td><td>MIX</td><td>733.848</td></tr><tr><th>27</th><td>26</td><td>26</td><td>old</td><td>2</td><td>AN</td><td>2</td><td>MIX2</td><td>781.254</td></tr><tr><th>28</th><td>27</td><td>27</td><td>old</td><td>2</td><td>CM</td><td>1</td><td>CMpure</td><td>678.765</td></tr><tr><th>29</th><td>28</td><td>28</td><td>old</td><td>2</td><td>CM</td><td>1</td><td>MIX</td><td>738.396</td></tr><tr><th>30</th><td>29</td><td>29</td><td>old</td><td>2</td><td>CM</td><td>1</td><td>MIX2</td><td>802.817</td></tr><tr><th>&vellip;</th><td>&vellip;</td><td>&vellip;</td><td>&vellip;</td><td>&vellip;</td><td>&vellip;</td><td>&vellip;</td><td>&vellip;</td><td>&vellip;</td></tr></tbody></table>"
      ],
      "text/latex": [
       "\\begin{tabular}{r|cccccccc}\n",
       "\t& Column1 & index & Oldnew & Setsize & Probtype & Lag & FileCondi & RT\\\\\n",
       "\t\\hline\n",
       "\t& Int64 & Int64 & String & Int64 & String & Int64 & String & Float64\\\\\n",
       "\t\\hline\n",
       "\t1 & 0 & 0 & new & 2 & AN & 0 & ANpure & 816.344 \\\\\n",
       "\t2 & 1 & 1 & new & 2 & AN & 0 & MIX & 746.881 \\\\\n",
       "\t3 & 2 & 2 & new & 2 & AN & 0 & MIX2 & 896.76 \\\\\n",
       "\t4 & 3 & 3 & new & 2 & CM & 0 & CMpure & 766.146 \\\\\n",
       "\t5 & 4 & 4 & new & 2 & CM & 0 & MIX & 797.061 \\\\\n",
       "\t6 & 5 & 5 & new & 2 & CM & 0 & MIX2 & 866.103 \\\\\n",
       "\t7 & 6 & 6 & new & 2 & VM & 0 & VMpure & 815.332 \\\\\n",
       "\t8 & 7 & 7 & new & 4 & AN & 0 & ANpure & 837.036 \\\\\n",
       "\t9 & 8 & 8 & new & 4 & AN & 0 & MIX & 777.151 \\\\\n",
       "\t10 & 9 & 9 & new & 4 & AN & 0 & MIX2 & 887.399 \\\\\n",
       "\t11 & 10 & 10 & new & 4 & CM & 0 & CMpure & 791.992 \\\\\n",
       "\t12 & 11 & 11 & new & 4 & CM & 0 & MIX & 859.038 \\\\\n",
       "\t13 & 12 & 12 & new & 4 & CM & 0 & MIX2 & 909.244 \\\\\n",
       "\t14 & 13 & 13 & new & 4 & VM & 0 & VMpure & 886.132 \\\\\n",
       "\t15 & 14 & 14 & new & 8 & AN & 0 & ANpure & 848.955 \\\\\n",
       "\t16 & 15 & 15 & new & 8 & AN & 0 & MIX & 807.824 \\\\\n",
       "\t17 & 16 & 16 & new & 8 & AN & 0 & MIX2 & 937.88 \\\\\n",
       "\t18 & 17 & 17 & new & 8 & CM & 0 & CMpure & 820.669 \\\\\n",
       "\t19 & 18 & 18 & new & 8 & CM & 0 & MIX & 930.987 \\\\\n",
       "\t20 & 19 & 19 & new & 8 & CM & 0 & MIX2 & 1012.12 \\\\\n",
       "\t21 & 20 & 20 & new & 8 & VM & 0 & VMpure & 949.085 \\\\\n",
       "\t22 & 21 & 21 & old & 2 & AN & 1 & ANpure & 715.675 \\\\\n",
       "\t23 & 22 & 22 & old & 2 & AN & 1 & MIX & 683.075 \\\\\n",
       "\t24 & 23 & 23 & old & 2 & AN & 1 & MIX2 & 798.802 \\\\\n",
       "\t25 & 24 & 24 & old & 2 & AN & 2 & ANpure & 768.006 \\\\\n",
       "\t26 & 25 & 25 & old & 2 & AN & 2 & MIX & 733.848 \\\\\n",
       "\t27 & 26 & 26 & old & 2 & AN & 2 & MIX2 & 781.254 \\\\\n",
       "\t28 & 27 & 27 & old & 2 & CM & 1 & CMpure & 678.765 \\\\\n",
       "\t29 & 28 & 28 & old & 2 & CM & 1 & MIX & 738.396 \\\\\n",
       "\t30 & 29 & 29 & old & 2 & CM & 1 & MIX2 & 802.817 \\\\\n",
       "\t$\\dots$ & $\\dots$ & $\\dots$ & $\\dots$ & $\\dots$ & $\\dots$ & $\\dots$ & $\\dots$ & $\\dots$ \\\\\n",
       "\\end{tabular}\n"
      ],
      "text/plain": [
       "119×8 DataFrame. Omitted printing of 1 columns\n",
       "│ Row │ Column1 │ index │ Oldnew │ Setsize │ Probtype │ Lag   │ FileCondi │\n",
       "│     │ \u001b[90mInt64\u001b[39m   │ \u001b[90mInt64\u001b[39m │ \u001b[90mString\u001b[39m │ \u001b[90mInt64\u001b[39m   │ \u001b[90mString\u001b[39m   │ \u001b[90mInt64\u001b[39m │ \u001b[90mString\u001b[39m    │\n",
       "├─────┼─────────┼───────┼────────┼─────────┼──────────┼───────┼───────────┤\n",
       "│ 1   │ 0       │ 0     │ new    │ 2       │ AN       │ 0     │ ANpure    │\n",
       "│ 2   │ 1       │ 1     │ new    │ 2       │ AN       │ 0     │ MIX       │\n",
       "│ 3   │ 2       │ 2     │ new    │ 2       │ AN       │ 0     │ MIX2      │\n",
       "│ 4   │ 3       │ 3     │ new    │ 2       │ CM       │ 0     │ CMpure    │\n",
       "│ 5   │ 4       │ 4     │ new    │ 2       │ CM       │ 0     │ MIX       │\n",
       "│ 6   │ 5       │ 5     │ new    │ 2       │ CM       │ 0     │ MIX2      │\n",
       "│ 7   │ 6       │ 6     │ new    │ 2       │ VM       │ 0     │ VMpure    │\n",
       "│ 8   │ 7       │ 7     │ new    │ 4       │ AN       │ 0     │ ANpure    │\n",
       "│ 9   │ 8       │ 8     │ new    │ 4       │ AN       │ 0     │ MIX       │\n",
       "│ 10  │ 9       │ 9     │ new    │ 4       │ AN       │ 0     │ MIX2      │\n",
       "⋮\n",
       "│ 109 │ 108     │ 108   │ old    │ 8       │ CM       │ 8     │ CMpure    │\n",
       "│ 110 │ 109     │ 109   │ old    │ 8       │ CM       │ 8     │ MIX       │\n",
       "│ 111 │ 110     │ 110   │ old    │ 8       │ CM       │ 8     │ MIX2      │\n",
       "│ 112 │ 111     │ 111   │ old    │ 8       │ VM       │ 1     │ VMpure    │\n",
       "│ 113 │ 112     │ 112   │ old    │ 8       │ VM       │ 2     │ VMpure    │\n",
       "│ 114 │ 113     │ 113   │ old    │ 8       │ VM       │ 3     │ VMpure    │\n",
       "│ 115 │ 114     │ 114   │ old    │ 8       │ VM       │ 4     │ VMpure    │\n",
       "│ 116 │ 115     │ 115   │ old    │ 8       │ VM       │ 5     │ VMpure    │\n",
       "│ 117 │ 116     │ 116   │ old    │ 8       │ VM       │ 6     │ VMpure    │\n",
       "│ 118 │ 117     │ 117   │ old    │ 8       │ VM       │ 7     │ VMpure    │\n",
       "│ 119 │ 118     │ 118   │ old    │ 8       │ VM       │ 8     │ VMpure    │"
      ]
     },
     "execution_count": 85,
     "metadata": {},
     "output_type": "execute_result"
    }
   ],
   "source": [
    "df_sub_crt"
   ]
  },
  {
   "cell_type": "code",
   "execution_count": 75,
   "metadata": {
    "kernel": "julia-1.2"
   },
   "outputs": [
    {
     "ename": "MethodError",
     "evalue": "MethodError: no method matching /(::Nothing, ::Int64)\nClosest candidates are:\n  /(!Matched::Missing, ::Number) at missing.jl:94\n  /(!Matched::BigInt, ::Union{Int16, Int32, Int64, Int8, UInt16, UInt32, UInt64, UInt8}) at gmp.jl:477\n  /(!Matched::BigFloat, ::Union{Int16, Int32, Int64, Int8}) at mpfr.jl:440\n  ...",
     "output_type": "error",
     "traceback": [
      "MethodError: no method matching /(::Nothing, ::Int64)\nClosest candidates are:\n  /(!Matched::Missing, ::Number) at missing.jl:94\n  /(!Matched::BigInt, ::Union{Int16, Int32, Int64, Int8, UInt16, UInt32, UInt64, UInt8}) at gmp.jl:477\n  /(!Matched::BigFloat, ::Union{Int16, Int32, Int64, Int8}) at mpfr.jl:440\n  ...",
      "",
      "Stacktrace:",
      " [1] _broadcast_getindex at ./broadcast.jl:625 [inlined]",
      " [2] getindex at ./broadcast.jl:558 [inlined]",
      " [3] copy at ./broadcast.jl:808 [inlined]",
      " [4] materialize(::Base.Broadcast.Broadcasted{Base.Broadcast.DefaultArrayStyle{0},Nothing,typeof(/),Tuple{Base.RefValue{Nothing},Int64}}) at ./broadcast.jl:798",
      " [5] calc_wssd(::DataFrame, ::DataFrame, ::Array{Any,1}) at ./In[75]:24",
      " [6] top-level scope at In[75]:51"
     ]
    }
   ],
   "source": [
    "w=Dict()\n",
    "\n",
    "w[\"new_rt\"] = 4*2\n",
    "w[\"old_rt\"] = 1*2\n",
    "w[\"new_err\"] = 4\n",
    "w[\"old_err\"] = 1\n",
    "\n",
    "function calc_wssd(df_err,df_crt, all_vars)\n",
    "\n",
    "    alpha, beta, s, c ,Old_crit ,New_crit , t0 ,kao , F, L = all_vars\n",
    "\n",
    "    \n",
    "    df_sub_err = df_err |> copy\n",
    "    df_sub_crt = df_crt |> copy\n",
    "\n",
    "    if search_MIX1 == 1\n",
    "        df_sub_err = filter(t -> t[:FileCondi]==\"MIX\", df_sub_err)\n",
    "        df_sub_crt = filter(t -> t[:FileCondi]==\"MIX\", df_sub_crt)\n",
    "    end\n",
    "    \n",
    "    pred_correct = calc_theoretical_RW(df_sub_err,\"err\", all_vars)\n",
    "    pred_crt = calc_theoretical_RW(df_sub_crt,\"crt\", all_vars)\n",
    "\n",
    "    df_sub_crt.pred_crt = pred_crt ./ 1000 #translate crt to seconds. \n",
    "    df_sub_err.pred_error = 1 .- pred_correct\n",
    "\n",
    "    df_sub_crt.RT = df_sub_crt.RT ./1000\n",
    "\n",
    "    df_sub_crt.SSD_RT = ((df_sub_crt.RT .- df_sub_crt.pred_crt) .^2)\n",
    "    df_sub_err.SSD_err = ((df_sub_err.Error .- df_sub_err.pred_error).^2)\n",
    "\n",
    "    df_sub_crt.wSSD_RT = [df_sub_crt.SSD_RT[i] * w[df_sub_crt.Oldnew[i] * \"_rt\"]\n",
    "        for i in 1:size(df_sub_crt)[1]]\n",
    "\n",
    "    df_sub_err.wSSD_err = [df_sub_err.SSD_err[i] * w[df_sub_err.Oldnew[i] * \"_err\"]\n",
    "        for i in 1:size(df_sub_err)[1]]\n",
    "\n",
    "\n",
    "    # # adj_oldnew=1\n",
    "    # # if adj_oldnew==1\n",
    "    # #     print(\"\\nERR\",\"old\",df_sub_err[df_sub_err[\"Oldnew\"]==\"old\"][\"wSSD_err\"].sum(),\\\n",
    "    # #          \"new\",df_sub_err[df_sub_err[\"Oldnew\"]==\"new\"][\"wSSD_err\"].sum(),\n",
    "    # #          \"\\nRT\",\"old\",df_sub_crt[df_sub_crt[\"Oldnew\"]==\"old\"][\"wSSD_RT\"].sum(),\\\n",
    "    # #          \"new\",df_sub_crt[df_sub_crt[\"Oldnew\"]==\"new\"][\"wSSD_RT\"].sum(),)\n",
    "    # #     print(df_sub_err[df_sub_err[\"Oldnew\"]==\"old\"].sum() + df[df_sub_crt[\"Oldnew\"]==\"new\"].sum())\n",
    "\n",
    "    WSSD = (df_sub_err.wSSD_err |> sum)  .+ (df_sub_crt.wSSD_RT |> sum)\n",
    "\n",
    "    return(WSSD)\n",
    "end\n",
    "\n",
    "# time1=Dates.now()\n",
    "calc_wssd(df_err,df_crt, all_vars)\n",
    "# print(Dates.now()-time1)\n"
   ]
  },
  {
   "cell_type": "code",
   "execution_count": 35,
   "metadata": {
    "kernel": "julia-1.2"
   },
   "outputs": [
    {
     "data": {
      "text/plain": [
       "152.52380255093163"
      ]
     },
     "execution_count": 35,
     "metadata": {},
     "output_type": "execute_result"
    }
   ],
   "source": [
    "alpha[\"all\"],beta[\"all\"],s[\"all\"], #3\n",
    "c[\"ANpure\"],c[\"CMpure\"],c[\"VMpure\"], #6\n",
    "c[\"MIX\"] ,c[\"MIX2\"] ,Old_crit[\"ANpure\"] , #9\n",
    "New_crit[\"ANpure\"] ,Old_crit[\"CMpure\"] ,New_crit[\"CMpure\"] , #12\n",
    "Old_crit[\"VMpure\"] ,New_crit[\"VMpure\"] ,Old_crit[\"MIX\"] , #15\n",
    "New_crit[\"MIX\"] ,Old_crit[\"MIX2\"] ,New_crit[\"MIX2\"] , #18\n",
    "t0[\"all\"] ,t0[\"ann\"] ,kao, #21\n",
    "F[\"ANpure_AN_oldiold_oldinew\"] ,F[\"CMpure_CM_oldiold_oldinew\"] ,L[\"CMpure_CM_oldiold_newinew\"] , #24\n",
    "L[\"CMpure_CM_oldinew_newiold\"] , F[\"VMpure_VM_oldiold_oldinew\"] , L[\"VMpure\"], #27\n",
    "F[\"MIX_CM_oldiold_oldinew\"], L[\"MIX_CM_oldiold_newinew\"], L[\"MIX_CM_oldinew_newiold\"], #30\n",
    "F[\"MIX_AN_oldiold_oldinew\"], F[\"MIX2_CM_oldiold_oldinew\"], L[\"MIX2_CM_oldiold_newinew\"], #33\n",
    "L[\"MIX2_CM_oldinew_newiold\"], F[\"MIX2_AN_oldiold_oldinew\"] = minx\n",
    "calc_wssd(df_err,df_crt,[alpha, beta, s, c ,Old_crit ,New_crit , t0 ,kao , F, L])"
   ]
  },
  {
   "cell_type": "markdown",
   "metadata": {
    "kernel": "julia-1.2"
   },
   "source": [
    "# Random_Start"
   ]
  },
  {
   "cell_type": "code",
   "execution_count": 25,
   "metadata": {
    "kernel": "julia-1.2"
   },
   "outputs": [
    {
     "name": "stdout",
     "output_type": "stream",
     "text": [
      "[1.1848593129422826, 0.3577030701847099, 0.775439565235512, 0.4060263260096734, 0.18479306259556014, 0.2212710286250968, 0.334130439109862, 0.7792364341537739, 1.6292473323404144, -4.040227998087687, 8.226357882505011, 0.9624045449797105, 8.115996330164595, -0.641441423252239, 5.358101714460945, -1.1025676860657132, 3.169007334843336, 4.183132071120535, 376.18828541301104, 251.24522835652792, 34.15761416355632, 0.37984515690912635, 0.4735181782319468, 0.23659069148505354, 0.7913538041730721, 0.7556172241633059, 0.12648066652027284, 0.6702170260516132, 0.6645362413062704, 0.2642407793312614, 0.1860319587389348, 0.2273607115265104, 0.7532334000789681, 0.10089416137639451, 0.5847006697294155]"
     ]
    }
   ],
   "source": [
    "function random_start0()\n",
    "    global alpha, beta, s, c ,Old_crit ,New_crit , t0 ,kao , F, L\n",
    "  \n",
    "    alpha=Dict(); beta =Dict(); s = Dict(); F = Dict(); L = Dict()\n",
    "\n",
    "    alpha[\"all\"] = rand(Uniform(0.1,3))\n",
    "    beta[\"all\"] = rand(Uniform(0.01,4))\n",
    "    s[\"all\"]= rand(Uniform(0.01,0.999))\n",
    "    c[\"ANpure\"] = rand(Uniform(0.01,0.99))\n",
    "    c[\"CMpure\"] = rand(Uniform(0.01,0.99))\n",
    "    c[\"VMpure\"] = rand(Uniform(0.01,0.99))\n",
    "    c[\"MIX\"] = rand(Uniform(0.01,0.99))\n",
    "    c[\"MIX2\"] = rand(Uniform(0.01,0.99))\n",
    "\n",
    "    Old_crit[\"ANpure\"] = rand(Uniform(1,10))\n",
    "    New_crit[\"ANpure\"] = rand(Uniform(-10,1))\n",
    "    Old_crit[\"CMpure\"] = rand(Uniform(1,10))\n",
    "    New_crit[\"CMpure\"] = rand(Uniform(-10,1))\n",
    "    Old_crit[\"VMpure\"] = rand(Uniform(1,10))\n",
    "    New_crit[\"VMpure\"] = rand(Uniform(-10,1))\n",
    "    Old_crit[\"MIX\"] = rand(Uniform(1,10))\n",
    "    New_crit[\"MIX\"] = rand(Uniform(-10,1))\n",
    "    Old_crit[\"MIX2\"] = rand(Uniform(1,10))\n",
    "    New_crit[\"MIX2\"] = rand(Uniform(1,10))\n",
    "\n",
    "    t0[\"all\"] =  rand(Uniform(1,900))\n",
    "    t0[\"ann\"] =  rand(Uniform(1,900))\n",
    "    kao = rand(Uniform(1,100))\n",
    "\n",
    "    #---CM\n",
    "    F[\"ANpure_AN_oldiold_oldinew\"] = rand(Uniform(0.0001,1))\n",
    "\n",
    "    F[\"CMpure_CM_oldiold_oldinew\"] = rand(Uniform(0.0001,1))\n",
    "    L[\"CMpure_CM_oldiold_newinew\"] = rand(Uniform(0.0001,1))\n",
    "    L[\"CMpure_CM_oldinew_newiold\"] = rand(Uniform(0.0001,1))\n",
    "    \n",
    "    F[\"VMpure_VM_oldiold_oldinew\"] = rand(Uniform(0.0001,1) )\n",
    "    L[\"VMpure\"] = rand(Uniform(0.0001,1) )\n",
    "\n",
    "    F[\"MIX_CM_oldiold_oldinew\"] = rand(Uniform(0.0001,1))\n",
    "    L[\"MIX_CM_oldiold_newinew\"] = rand(Uniform(0.0001,1))\n",
    "    L[\"MIX_CM_oldinew_newiold\"] = rand(Uniform(0.0001,1))\n",
    "    F[\"MIX_AN_oldiold_oldinew\"] = rand(Uniform(0.0001,1))\n",
    "\n",
    "    F[\"MIX2_CM_oldiold_oldinew\"] = rand(Uniform(0.0001,1))\n",
    "    L[\"MIX2_CM_oldiold_newinew\"] = rand(Uniform(0.0001,1))\n",
    "    L[\"MIX2_CM_oldinew_newiold\"] = rand(Uniform(0.0001,1))\n",
    "    F[\"MIX2_AN_oldiold_oldinew\"] = rand(Uniform(0.0001,1))\n",
    "    \n",
    "    if vary_ss==0\n",
    "        param_dic=Array([\n",
    "            alpha[\"all\"],beta[\"all\"],s[\"all\"],\n",
    "            c[\"ANpure\"],c[\"CMpure\"],c[\"VMpure\"], c[\"MIX\"] ,c[\"MIX2\"] ,\n",
    "            Old_crit[\"ANpure\"] ,New_crit[\"ANpure\"] ,Old_crit[\"CMpure\"] ,\n",
    "                New_crit[\"CMpure\"] ,\n",
    "            Old_crit[\"VMpure\"] ,New_crit[\"VMpure\"] ,Old_crit[\"MIX\"] ,\n",
    "                New_crit[\"MIX\"] ,Old_crit[\"MIX2\"] ,New_crit[\"MIX2\"] ,\n",
    "            t0[\"all\"] ,t0[\"ann\"] ,kao,\n",
    "            F[\"ANpure_AN_oldiold_oldinew\"] ,F[\"CMpure_CM_oldiold_oldinew\"] ,\n",
    "                L[\"CMpure_CM_oldiold_newinew\"] ,L[\"CMpure_CM_oldinew_newiold\"] ,\n",
    "            F[\"VMpure_VM_oldiold_oldinew\"] , L[\"VMpure\"], \n",
    "            F[\"MIX_CM_oldiold_oldinew\"], L[\"MIX_CM_oldiold_newinew\"], \n",
    "                L[\"MIX_CM_oldinew_newiold\"], F[\"MIX_AN_oldiold_oldinew\"], \n",
    "            F[\"MIX2_CM_oldiold_oldinew\"], L[\"MIX2_CM_oldiold_newinew\"],\n",
    "                L[\"MIX2_CM_oldinew_newiold\"], F[\"MIX2_AN_oldiold_oldinew\"]])\n",
    "    end\n",
    "    \n",
    "    if search_MIX1==1\n",
    "\n",
    "         param_dic=Array([alpha[\"all\"], beta[\"all\"], s[\"all\"],\n",
    "                    c[\"MIX\"], Old_crit[\"MIX\"], New_crit[\"MIX\"], \n",
    "                    t0[\"all\"],t0[\"ann\"], kao,\n",
    "                    F[\"MIX_CM_oldiold_oldinew\"], L[\"MIX_CM_oldiold_newinew\"], \n",
    "                    L[\"MIX_CM_oldinew_newiold\"],F[\"MIX_AN_oldiold_oldinew\"]])\n",
    "    end\n",
    "    \n",
    "    return(param_dic)\n",
    "end\n",
    "\n",
    "param_dic = random_start0()\n",
    "print(param_dic)\n",
    "\n",
    "random_start() = [rand(Uniform(bdd_lower[i],bdd_upper[i])) for i in 1:length(random_start0())]\n",
    "random_start();"
   ]
  },
  {
   "cell_type": "code",
   "execution_count": null,
   "metadata": {
    "kernel": "julia-1.2"
   },
   "outputs": [],
   "source": []
  },
  {
   "cell_type": "markdown",
   "metadata": {
    "kernel": "julia-1.2"
   },
   "source": [
    "# bdd"
   ]
  },
  {
   "cell_type": "code",
   "execution_count": 26,
   "metadata": {
    "kernel": "julia-1.2"
   },
   "outputs": [],
   "source": [
    "bdd = (\n",
    "    (0.1, 2.9),  # alpha,\n",
    "    (0.01, 4),  # beta,\n",
    "    (0.01, 0.999),  # s,\n",
    "    (0.01, 0.99),  # c_ANpure,\n",
    "    (0.01, 0.99),  # c_CMpure,\n",
    "    (0.01, 0.99),  # c_MIX,\n",
    "    (0.01, 0.99),  # c_MIX2,\n",
    "    (0.01, 0.99),  # c_VMpure,\n",
    "    (1, 10),  # BDDo_ANpure,\n",
    "    (-10, 1),  # BDDn_ANpure,\n",
    "    (1, 10),  # BDDo_CMpure,\n",
    "    (-10, 1),  # BDDn_CMpure,\n",
    "    (1, 10),  # BDDo_MIX,\n",
    "    (-10, 1),  # BDDn_MIX,\n",
    "    (1, 20),  # BDDo_MIX2,\n",
    "    (-10, 1),  # BDDn_MIX2,\n",
    "    (1, 10),  # BDDo_VMpure,\n",
    "    (-10, 1),  # BDDn_VMpure,\n",
    "    (100, 900),  # t0,\n",
    "    (100, 900),  # t0an,\n",
    "    (10, 100),  # kappa,\n",
    "    (0.0001, 1),  # F_ANpure_AN_oldiold_oldinew,\n",
    "    (0.0001, 1),  # F_CMpure_CM_oldiold_oldinew,\n",
    "    (0.0001, 1),  # L_CMpure_CM_oldiold_newinew,\n",
    "    (0.0001, 1),  # L_CMpure_CM_oldinew_newiold,\n",
    "    (0.0001, 1),  # F_VMpure_VM_oldiold_oldinew,\n",
    "    (0.0001, 1),  # L_VMpure,\n",
    "    (0.0001, 1),  # F_MIX_CM_oldiold_oldinew,\n",
    "    (0.0001, 1),  # L_MIX_CM_oldiold_newinew,\n",
    "    (0.0001, 1),  # L_MIX_CM_oldinew_newiold,\n",
    "    (0.0001, 1),  # F_MIX_AN_oldiold_oldinew,\n",
    "    (0.0001, 1),  # F_MIX2_CM_oldiold_oldinew,\n",
    "    (0.0001, 1),  # L_MIX2_CM_oldiold_newinew,\n",
    "    (0.0001, 1),  # L_MIX2_CM_oldinew_newiold,\n",
    "    (0.0001, 1)  # F_MIX2_AN_oldiold_oldinew\n",
    "      )\n",
    "bdd_lower = [i[1] for i in bdd];\n",
    "bdd_upper = [i[2] for i in bdd];"
   ]
  },
  {
   "cell_type": "markdown",
   "metadata": {
    "kernel": "julia-1.2"
   },
   "source": [
    "# NLopt*"
   ]
  },
  {
   "cell_type": "code",
   "execution_count": 32,
   "metadata": {
    "kernel": "julia-1.2"
   },
   "outputs": [
    {
     "name": "stdout",
     "output_type": "stream",
     "text": [
      "got 152.56437447135326 at [0.1, 2.745798863332033, 0.7636635825988807, 0.9867789704304796, 0.4328278500469033, 0.9899998654368201, 0.010000000000000002, 0.01, 1.4269187183260608, -2.71006123873492, 1.000001110675311, 0.9999999999999998, 3.4908833551621967, -3.0057379363995462, 2.2908877244401236, -2.8076079796473383, 9.924134050331514, -7.303185666875136, 786.4711497151401, 790.4492946540678, 10.0, 0.5340349729652125, 0.7649616937921807, 0.38067769508115673, 0.5743383886399036, 0.6265165331213253, 0.02395506281498227, 0.6535740767699373, 0.35162489902059496, 0.32580794466312335, 0.1447519972992849, 0.9667357269603145, 0.8809913411369611, 0.1633141255636495, 0.4761177085249582] after 9608 iterations (returned XTOL_REACHED)\n"
     ]
    }
   ],
   "source": [
    "function nlopt_opt(x::Vector, grad::Vector)\n",
    "    \n",
    "    alpha=Dict(); beta =Dict(); s = Dict(); F = Dict(); L = Dict(); c=Dict(); t0=Dict(); Old_crit=Dict(); New_crit=Dict()\n",
    "\n",
    "    alpha[\"all\"],beta[\"all\"],s[\"all\"], #3\n",
    "    c[\"ANpure\"],c[\"CMpure\"],c[\"VMpure\"], #6\n",
    "    c[\"MIX\"] ,c[\"MIX2\"] ,Old_crit[\"ANpure\"] , #9\n",
    "    New_crit[\"ANpure\"] ,Old_crit[\"CMpure\"] ,New_crit[\"CMpure\"] , #12\n",
    "    Old_crit[\"VMpure\"] ,New_crit[\"VMpure\"] ,Old_crit[\"MIX\"] , #15\n",
    "    New_crit[\"MIX\"] ,Old_crit[\"MIX2\"] ,New_crit[\"MIX2\"] , #18\n",
    "    t0[\"all\"] ,t0[\"ann\"] ,kao, #21\n",
    "    F[\"ANpure_AN_oldiold_oldinew\"] ,F[\"CMpure_CM_oldiold_oldinew\"] ,L[\"CMpure_CM_oldiold_newinew\"] , #24\n",
    "    L[\"CMpure_CM_oldinew_newiold\"] , F[\"VMpure_VM_oldiold_oldinew\"] , L[\"VMpure\"], #27\n",
    "    F[\"MIX_CM_oldiold_oldinew\"], L[\"MIX_CM_oldiold_newinew\"], L[\"MIX_CM_oldinew_newiold\"], #30\n",
    "    F[\"MIX_AN_oldiold_oldinew\"], F[\"MIX2_CM_oldiold_oldinew\"], L[\"MIX2_CM_oldiold_newinew\"], #33\n",
    "    L[\"MIX2_CM_oldinew_newiold\"], F[\"MIX2_AN_oldiold_oldinew\"] = x #35\n",
    "\n",
    "    all_vars = [alpha, beta, s, c ,Old_crit ,New_crit , t0 ,kao , F, L ]\n",
    "    \n",
    "    return(calc_wssd(df_err,df_crt, all_vars))\n",
    "end\n",
    "\n",
    "function myconstraint1(x::Vector, grad::Vector)\n",
    "    return(x[22]-x[23])\n",
    "end\n",
    "\n",
    "function myconstraint2(x::Vector, grad::Vector)\n",
    "    return(x[27]-x[24])\n",
    "end\n",
    "\n",
    "function myconstraint3(x::Vector, grad::Vector)\n",
    "    return(x[27]-x[25])\n",
    "end\n",
    "\n",
    "function myconstraint4(x::Vector, grad::Vector)\n",
    "    return(x[22]-x[26])\n",
    "end\n",
    "\n",
    "function myconstraint5(x::Vector, grad::Vector)\n",
    "    return(x[30]-x[29])\n",
    "end\n",
    "\n",
    "function myconstraint6(x::Vector, grad::Vector)\n",
    "    return(x[34]-x[33])\n",
    "end\n",
    "\n",
    "function myconstraint7(x::Vector, grad::Vector)\n",
    "    return(x[31]-x[28])\n",
    "end\n",
    "\n",
    "function myconstraint8(x::Vector, grad::Vector)\n",
    "    return(x[35]-x[32])\n",
    "end\n",
    "\n",
    "function myconstraint9(x::Vector, grad::Vector)\n",
    "    return(x[28]-x[32])\n",
    "end\n",
    "\n",
    "\n",
    "# opt = Opt(:GN_ISRES, length(random_start()))#Opt(:LD_SLSQP, 3)\n",
    "opt = Opt(:LN_COBYLA, length(random_start()))\n",
    "opt.lower_bounds = bdd_lower\n",
    "opt.upper_bounds = bdd_upper\n",
    "\n",
    "opt.xtol_rel = 1e-4\n",
    "# opt.maxtime = 10\n",
    "# opt.maxeval = 10000\n",
    "opt.min_objective = nlopt_opt\n",
    "\n",
    "inequality_constraint!(opt,(x,g) -> myconstraint1(x,g), 1e-8)\n",
    "inequality_constraint!(opt,(x,g) -> myconstraint2(x,g), 1e-8)\n",
    "inequality_constraint!(opt,(x,g) -> myconstraint3(x,g), 1e-8)\n",
    "inequality_constraint!(opt,(x,g) -> myconstraint4(x,g), 1e-8)\n",
    "inequality_constraint!(opt,(x,g) -> myconstraint5(x,g), 1e-8)\n",
    "inequality_constraint!(opt,(x,g) -> myconstraint6(x,g), 1e-8)\n",
    "inequality_constraint!(opt,(x,g) -> myconstraint7(x,g), 1e-8)\n",
    "inequality_constraint!(opt,(x,g) -> myconstraint8(x,g), 1e-8)\n",
    "inequality_constraint!(opt,(x,g) -> myconstraint9(x,g), 1e-8)\n",
    "\n",
    "(minf,minx,ret) = optimize(opt, random_start())\n",
    "numevals = opt.numevals\n",
    "println(\"got $minf at $minx after $numevals iterations (returned $ret)\")"
   ]
  },
  {
   "cell_type": "code",
   "execution_count": 33,
   "metadata": {
    "kernel": "julia-1.2"
   },
   "outputs": [
    {
     "name": "stdout",
     "output_type": "stream",
     "text": [
      "got 152.54658884865285 at [2.7736212139134753, 1.2216422854352356, 0.9562743699199828, 0.690197316566857, 0.970076814890864, 0.9312460754839638, 0.7475424655434834, 0.5891802415218631, 2.4944579003158363, -4.1387204809034515, 1.0, 0.9999999999999994, 8.378714237513762, -6.353701756169843, 1.0000000000000002, -3.564657570756027, 9.935250285307324, -9.999986866895439, 791.9449153194578, 763.1929039868597, 10.652472563097575, 0.18131914478309588, 0.387700880433336, 0.45889695758656635, 0.5199380871494089, 0.943271148145871, 0.4014465599407386, 0.7851739514307954, 0.9733693848759891, 0.9648064001085015, 0.7280583544696168, 0.9900082574769489, 0.22011702199030908, 0.19653543755804442, 0.986656302473278] after 13790 iterations (returned XTOL_REACHED)\n"
     ]
    }
   ],
   "source": [
    "function nlopt_opt(x::Vector, grad::Vector)\n",
    "    \n",
    "    alpha=Dict(); beta =Dict(); s = Dict(); F = Dict(); L = Dict(); c=Dict(); t0=Dict(); Old_crit=Dict(); New_crit=Dict()\n",
    "\n",
    "    alpha[\"all\"],beta[\"all\"],s[\"all\"], #3\n",
    "    c[\"ANpure\"],c[\"CMpure\"],c[\"VMpure\"], #6\n",
    "    c[\"MIX\"] ,c[\"MIX2\"] ,Old_crit[\"ANpure\"] , #9\n",
    "    New_crit[\"ANpure\"] ,Old_crit[\"CMpure\"] ,New_crit[\"CMpure\"] , #12\n",
    "    Old_crit[\"VMpure\"] ,New_crit[\"VMpure\"] ,Old_crit[\"MIX\"] , #15\n",
    "    New_crit[\"MIX\"] ,Old_crit[\"MIX2\"] ,New_crit[\"MIX2\"] , #18\n",
    "    t0[\"all\"] ,t0[\"ann\"] ,kao, #21\n",
    "    F[\"ANpure_AN_oldiold_oldinew\"] ,F[\"CMpure_CM_oldiold_oldinew\"] ,L[\"CMpure_CM_oldiold_newinew\"] , #24\n",
    "    L[\"CMpure_CM_oldinew_newiold\"] , F[\"VMpure_VM_oldiold_oldinew\"] , L[\"VMpure\"], #27\n",
    "    F[\"MIX_CM_oldiold_oldinew\"], L[\"MIX_CM_oldiold_newinew\"], L[\"MIX_CM_oldinew_newiold\"], #30\n",
    "    F[\"MIX_AN_oldiold_oldinew\"], F[\"MIX2_CM_oldiold_oldinew\"], L[\"MIX2_CM_oldiold_newinew\"], #33\n",
    "    L[\"MIX2_CM_oldinew_newiold\"], F[\"MIX2_AN_oldiold_oldinew\"] = x #35\n",
    "\n",
    "    all_vars = [alpha, beta, s, c ,Old_crit ,New_crit , t0 ,kao , F, L ]\n",
    "    \n",
    "    return(calc_wssd(df_err,df_crt, all_vars))\n",
    "end\n",
    "\n",
    "function myconstraint1(x::Vector, grad::Vector)\n",
    "    return(x[22]-x[23])\n",
    "end\n",
    "\n",
    "function myconstraint2(x::Vector, grad::Vector)\n",
    "    return(x[27]-x[24])\n",
    "end\n",
    "\n",
    "function myconstraint3(x::Vector, grad::Vector)\n",
    "    return(x[27]-x[25])\n",
    "end\n",
    "\n",
    "function myconstraint4(x::Vector, grad::Vector)\n",
    "    return(x[22]-x[26])\n",
    "end\n",
    "\n",
    "function myconstraint5(x::Vector, grad::Vector)\n",
    "    return(x[30]-x[29])\n",
    "end\n",
    "\n",
    "function myconstraint6(x::Vector, grad::Vector)\n",
    "    return(x[34]-x[33])\n",
    "end\n",
    "\n",
    "function myconstraint7(x::Vector, grad::Vector)\n",
    "    return(x[31]-x[28])\n",
    "end\n",
    "\n",
    "function myconstraint8(x::Vector, grad::Vector)\n",
    "    return(x[35]-x[32])\n",
    "end\n",
    "\n",
    "function myconstraint9(x::Vector, grad::Vector)\n",
    "    return(x[28]-x[32])\n",
    "end\n",
    "\n",
    "\n",
    "# opt = Opt(:GN_ISRES, length(random_start()))#Opt(:LD_SLSQP, 3)\n",
    "opt = Opt(:LN_COBYLA, length(random_start()))\n",
    "opt.lower_bounds = bdd_lower\n",
    "opt.upper_bounds = bdd_upper\n",
    "\n",
    "opt.xtol_rel = 1e-4\n",
    "# opt.maxtime = 10\n",
    "# opt.maxeval = 10000\n",
    "opt.min_objective = nlopt_opt\n",
    "\n",
    "inequality_constraint!(opt,(x,g) -> myconstraint1(x,g), 1e-8)\n",
    "inequality_constraint!(opt,(x,g) -> myconstraint2(x,g), 1e-8)\n",
    "inequality_constraint!(opt,(x,g) -> myconstraint3(x,g), 1e-8)\n",
    "inequality_constraint!(opt,(x,g) -> myconstraint4(x,g), 1e-8)\n",
    "inequality_constraint!(opt,(x,g) -> myconstraint5(x,g), 1e-8)\n",
    "inequality_constraint!(opt,(x,g) -> myconstraint6(x,g), 1e-8)\n",
    "inequality_constraint!(opt,(x,g) -> myconstraint7(x,g), 1e-8)\n",
    "inequality_constraint!(opt,(x,g) -> myconstraint8(x,g), 1e-8)\n",
    "inequality_constraint!(opt,(x,g) -> myconstraint9(x,g), 1e-8)\n",
    "\n",
    "(minf,minx,ret) = optimize(opt, random_start())\n",
    "numevals = opt.numevals\n",
    "println(\"got $minf at $minx after $numevals iterations (returned $ret)\")"
   ]
  },
  {
   "cell_type": "markdown",
   "metadata": {
    "kernel": "julia-1.2"
   },
   "source": [
    "# try what works"
   ]
  },
  {
   "cell_type": "code",
   "execution_count": 302,
   "metadata": {
    "kernel": "julia-1.2"
   },
   "outputs": [
    {
     "name": "stdout",
     "output_type": "stream",
     "text": [
      "got 0.0 at [-611.6370201145236, 0.0] after 6353194 iterations (returned MAXTIME_REACHED)\n"
     ]
    }
   ],
   "source": [
    "# using NLopt\n",
    "\n",
    "function myfunc(x::Vector, grad::Vector)\n",
    "#     if length(grad) > 0\n",
    "#         grad[1] = 0\n",
    "#         grad[2] = 0.5/sqrt(x[2])\n",
    "#     end\n",
    "    return sqrt(x[2])\n",
    "end\n",
    "\n",
    "function myconstraint(x::Vector, grad::Vector)\n",
    "#     if length(grad) > 0\n",
    "#         grad[1] = 3a * (a*x[1] + b)^2\n",
    "#         grad[2] = -1\n",
    "#     end\n",
    "    \n",
    "    (2*x[1] + 0)^3 - x[2]\n",
    "end\n",
    "\n",
    "# opt = Opt(:GN_AGS, 2)\n",
    "opt = Opt(:GN_ISRES, 2)\n",
    "opt.lower_bounds = [-1000, 0.]\n",
    "opt.upper_bounds = [1000,1000]\n",
    "opt.xtol_rel = 1e-4\n",
    "\n",
    "opt.min_objective = myfunc\n",
    "inequality_constraint!(opt, (x,g) -> myconstraint(x,g), 1e-8)\n",
    "# inequality_constraint!(opt, (x,g) -> myconstraint(x,g), 1e-8)\n",
    "opt.maxtime = 10 \n",
    "(minf,minx,ret) = optimize(opt, [1.234, 5.678])\n",
    "numevals = opt.numevals # the number of function evaluations\n",
    "println(\"got $minf at $minx after $numevals iterations (returned $ret)\")"
   ]
  },
  {
   "cell_type": "code",
   "execution_count": 297,
   "metadata": {
    "kernel": "julia-1.2"
   },
   "outputs": [
    {
     "name": "stderr",
     "output_type": "stream",
     "text": [
      "Keyboard Interrupt\n"
     ]
    },
    {
     "name": "stdout",
     "output_type": "stream",
     "text": [
      "got 0.0 at [-832.4140750537853, 0.0] after 7151764 iterations (returned FORCED_STOP)\n"
     ]
    }
   ],
   "source": [
    "# using NLopt\n",
    "\n",
    "function myfunc(x::Vector, grad::Vector)\n",
    "#     if length(grad) > 0\n",
    "#         grad[1] = 0\n",
    "#         grad[2] = 0.5/sqrt(x[2])\n",
    "#     end\n",
    "    return sqrt(x[2])\n",
    "end\n",
    "\n",
    "function myconstraint(x::Vector, grad::Vector, a, b)\n",
    "#     if length(grad) > 0\n",
    "#         grad[1] = 3a * (a*x[1] + b)^2\n",
    "#         grad[2] = -1\n",
    "#     end\n",
    "    (a*x[1] + b)^3 - x[2]\n",
    "end\n",
    "\n",
    "# opt = Opt(:GN_AGS, 2)\n",
    "opt = Opt(:GN_ISRES, 2)\n",
    "opt.lower_bounds = [-1000, 0.]\n",
    "opt.upper_bounds = [1000,1000]\n",
    "opt.xtol_rel = 1e-4\n",
    "\n",
    "opt.min_objective = myfunc\n",
    "inequality_constraint!(opt, (x,g) -> myconstraint(x,g,2,0), 1e-8)\n",
    "# inequality_constraint!(opt, (x,g) -> myconstraint(x,g,-1,1), 1e-8)\n",
    "\n",
    "(minf,minx,ret) = optimize(opt, [1.234, 5.678])\n",
    "numevals = opt.numevals # the number of function evaluations\n",
    "println(\"got $minf at $minx after $numevals iterations (returned $ret)\")"
   ]
  },
  {
   "cell_type": "code",
   "execution_count": 299,
   "metadata": {
    "kernel": "julia-1.2"
   },
   "outputs": [
    {
     "name": "stderr",
     "output_type": "stream",
     "text": [
      "Keyboard Interrupt\n"
     ]
    },
    {
     "name": "stdout",
     "output_type": "stream",
     "text": [
      "got NaN at [0.6378145204048905, NaN] after 100 iterations (returned FORCED_STOP)\n"
     ]
    }
   ],
   "source": [
    "# using NLopt\n",
    "\n",
    "function myfunc(x::Vector, grad::Vector)\n",
    "    if length(grad) > 0\n",
    "        grad[1] = 0\n",
    "        grad[2] = 0.5/sqrt(x[2])\n",
    "    end\n",
    "    return sqrt(x[2])\n",
    "end\n",
    "\n",
    "function myconstraint(x::Vector, grad::Vector, a, b)\n",
    "    if length(grad) > 0\n",
    "        grad[1] = 3a * (a*x[1] + b)^2\n",
    "        grad[2] = -1\n",
    "    end\n",
    "    (a*x[1] + b)^3 - x[2]\n",
    "end\n",
    "\n",
    "opt = Opt(:LD_MMA, 2)\n",
    "opt.lower_bounds = [-1000, 0.]\n",
    "opt.upper_bounds = [1000,1000]\n",
    "opt.xtol_rel = 1e-4\n",
    "\n",
    "opt.min_objective = myfunc\n",
    "inequality_constraint!(opt, (x,g) -> myconstraint(x,g,2,0), 1e-8)\n",
    "# inequality_constraint!(opt, (x,g) -> myconstraint(x,g,-1,1), 1e-8)\n",
    "\n",
    "(minf,minx,ret) = optimize(opt, [1.234, 5.678])\n",
    "numevals = opt.numevals # the number of function evaluations\n",
    "println(\"got $minf at $minx after $numevals iterations (returned $ret)\")"
   ]
  },
  {
   "cell_type": "code",
   "execution_count": 201,
   "metadata": {
    "kernel": "julia-1.2"
   },
   "outputs": [
    {
     "name": "stdout",
     "output_type": "stream",
     "text": [
      "0.10.010.010.010.010.010.010.011-101-101-101-101-10100100100.00010.00010.00010.00010.00010.00010.00010.00010.00010.00010.00010.00010.00010.0001"
     ]
    }
   ],
   "source": []
  },
  {
   "cell_type": "code",
   "execution_count": 198,
   "metadata": {
    "kernel": "julia-1.2"
   },
   "outputs": [
    {
     "data": {
      "text/plain": [
       "0.1"
      ]
     },
     "execution_count": 198,
     "metadata": {},
     "output_type": "execute_result"
    }
   ],
   "source": [
    "bdd[1][1]"
   ]
  },
  {
   "cell_type": "code",
   "execution_count": 185,
   "metadata": {
    "kernel": "julia-1.2"
   },
   "outputs": [
    {
     "ename": "BoundsError",
     "evalue": "BoundsError: attempt to access 13-element Array{Float64,1} at index [14]",
     "output_type": "error",
     "traceback": [
      "BoundsError: attempt to access 13-element Array{Float64,1} at index [14]",
      "",
      "Stacktrace:",
      " [1] getindex at ./array.jl:728 [inlined]",
      " [2] indexed_iterate(::Array{Float64,1}, ::Int64, ::Int64) at ./tuple.jl:64",
      " [3] top-level scope at In[184]:7"
     ]
    }
   ],
   "source": [
    "# global alpha, beta, s, c ,Old_crit ,New_crit ,t0 ,kao ,F, L\n",
    "\n",
    "# alpha=Dict(); beta =Dict(); s = Dict(); F = Dict(); L = Dict(); c=Dict(); t0=Dict(); Old_crit=Dict(); New_crit=Dict()\n",
    "\n",
    "# print(params)  # <-- you'll see that params is a NumPy array\n",
    "if (vary_ss==0) & (search_MIX1!=1)\n",
    "    alpha[\"all\"],beta[\"all\"],s[\"all\"],\n",
    "        c[\"ANpure\"],c[\"CMpure\"],c[\"VMpure\"], c[\"MIX\"] ,c[\"MIX2\"] ,\n",
    "        Old_crit[\"ANpure\"] ,New_crit[\"ANpure\"] ,Old_crit[\"CMpure\"] ,New_crit[\"CMpure\"] ,\n",
    "        Old_crit[\"VMpure\"] ,New_crit[\"VMpure\"] ,Old_crit[\"MIX\"] ,\n",
    "        New_crit[\"MIX\"] ,Old_crit[\"MIX2\"] ,New_crit[\"MIX2\"] ,\n",
    "        t0[\"all\"] ,t0[\"ann\"] ,kao,\n",
    "        F[\"ANpure_AN_oldiold_oldinew\"] ,F[\"CMpure_CM_oldiold_oldinew\"] ,\n",
    "        L[\"CMpure_CM_oldiold_newinew\"] ,L[\"CMpure_CM_oldinew_newiold\"] ,\n",
    "        F[\"VMpure_VM_oldiold_oldinew\"] , L[\"VMpure\"], \n",
    "        F[\"MIX_CM_oldiold_oldinew\"], L[\"MIX_CM_oldiold_newinew\"], \n",
    "        L[\"MIX_CM_oldinew_newiold\"], F[\"MIX_AN_oldiold_oldinew\"], \n",
    "        F[\"MIX2_CM_oldiold_oldinew\"], L[\"MIX2_CM_oldiold_newinew\"], \n",
    "        L[\"MIX2_CM_oldinew_newiold\"], F[\"MIX2_AN_oldiold_oldinew\"] = initial_params\n",
    "end\n",
    "if search_MIX1==1\n",
    "    alpha[\"all\"],beta[\"all\"],s[\"all\"],\n",
    "    c[\"MIX\"] ,\n",
    "    Old_crit[\"MIX\"] ,New_crit[\"MIX\"] ,\n",
    "    t0[\"all\"] ,t0[\"ann\"] ,kao,\n",
    "    F[\"MIX_CM_oldiold_oldinew\"], L[\"MIX_CM_oldiold_newinew\"],\n",
    "     L[\"MIX_CM_oldinew_newiold\"], F[\"MIX_AN_oldiold_oldinew\"] = initial_params\n",
    "end"
   ]
  },
  {
   "cell_type": "markdown",
   "metadata": {
    "kernel": "julia-1.2"
   },
   "source": [
    "# Initial optim_wsse"
   ]
  },
  {
   "cell_type": "code",
   "execution_count": 40,
   "metadata": {
    "kernel": "julia-1.2"
   },
   "outputs": [
    {
     "data": {
      "text/plain": [
       "49.220780851125426"
      ]
     },
     "execution_count": 40,
     "metadata": {},
     "output_type": "execute_result"
    }
   ],
   "source": [
    "function optim_wsse(initial_params)\n",
    "    global alpha, beta, s, c ,Old_crit ,New_crit ,t0 ,kao ,F, L\n",
    "\n",
    "    alpha=Dict(); beta =Dict(); s = Dict(); F = Dict(); L = Dict(); c=Dict(); t0=Dict(); Old_crit=Dict(); New_crit=Dict()\n",
    "\n",
    "    if (vary_ss==0) & (search_MIX1!=1)\n",
    "        alpha[\"all\"],beta[\"all\"],s[\"all\"],\n",
    "            c[\"ANpure\"],c[\"CMpure\"],c[\"VMpure\"], c[\"MIX\"] ,c[\"MIX2\"] ,\n",
    "            Old_crit[\"ANpure\"] ,New_crit[\"ANpure\"] ,Old_crit[\"CMpure\"] ,New_crit[\"CMpure\"] ,\n",
    "            Old_crit[\"VMpure\"] ,New_crit[\"VMpure\"] ,Old_crit[\"MIX\"] ,\n",
    "            New_crit[\"MIX\"] ,Old_crit[\"MIX2\"] ,New_crit[\"MIX2\"] ,\n",
    "            t0[\"all\"] ,t0[\"ann\"] ,kao,\n",
    "            F[\"ANpure_AN_oldiold_oldinew\"] ,F[\"CMpure_CM_oldiold_oldinew\"] ,\n",
    "            L[\"CMpure_CM_oldiold_newinew\"] ,L[\"CMpure_CM_oldinew_newiold\"] ,\n",
    "            F[\"VMpure_VM_oldiold_oldinew\"] , L[\"VMpure\"], \n",
    "            F[\"MIX_CM_oldiold_oldinew\"], L[\"MIX_CM_oldiold_newinew\"], \n",
    "            L[\"MIX_CM_oldinew_newiold\"], F[\"MIX_AN_oldiold_oldinew\"], \n",
    "            F[\"MIX2_CM_oldiold_oldinew\"], L[\"MIX2_CM_oldiold_newinew\"], \n",
    "            L[\"MIX2_CM_oldinew_newiold\"], F[\"MIX2_AN_oldiold_oldinew\"] = initial_params\n",
    "    end\n",
    "    if search_MIX1==1\n",
    "        alpha[\"all\"],beta[\"all\"],s[\"all\"],\n",
    "        c[\"MIX\"] ,\n",
    "        Old_crit[\"MIX\"] ,New_crit[\"MIX\"] ,\n",
    "        t0[\"all\"] ,t0[\"ann\"] ,kao,\n",
    "        F[\"MIX_CM_oldiold_oldinew\"], L[\"MIX_CM_oldiold_newinew\"],\n",
    "         L[\"MIX_CM_oldinew_newiold\"], F[\"MIX_AN_oldiold_oldinew\"] = initial_params\n",
    "        \n",
    "        α_all,β_all,s_all,c_mix,o_mix,n_mix,t0_all,\n",
    "    end\n",
    "\n",
    "    return calc_wssd(df_err,df_crt)\n",
    "end\n",
    "optim_wsse(param_dic)\n"
   ]
  },
  {
   "cell_type": "code",
   "execution_count": 116,
   "metadata": {
    "kernel": "julia-1.2"
   },
   "outputs": [
    {
     "name": "stdout",
     "output_type": "stream",
     "text": [
      "got 0.0 at [1.234, 5.678] after 1 iterations (returned FORCED_STOP)\n"
     ]
    }
   ],
   "source": [
    "function myfunc(x::Vector, grad::Vector)\n",
    "    c_crr = dict()\n",
    "    c_crr = x\n",
    "    if length(grad) > 0\n",
    "        grad[1] = 0\n",
    "        grad[2] = 0.5/sqrt(c_crr[2])\n",
    "    end\n",
    "    return sqrt(x[2])\n",
    "end\n",
    "\n",
    "function myconstraint(x::Vector, grad::Vector, a, b)\n",
    "    if length(grad) > 0\n",
    "        grad[1] = 3a * (a*x[1] + b)^2\n",
    "        grad[2] = -1\n",
    "    end\n",
    "    (a*x[1] + b)^3 - x[2]\n",
    "end\n",
    "\n",
    "opt = Opt(:LD_MMA, 2)\n",
    "opt.lower_bounds = [-Inf, 0.]\n",
    "opt.xtol_rel = 1e-4\n",
    "\n",
    "opt.min_objective = myfunc\n",
    "inequality_constraint!(opt, (x,g) -> myconstraint(x,g,2,0), 1e-8)\n",
    "inequality_constraint!(opt, (x,g) -> myconstraint(x,g,-1,1), 1e-8)\n",
    "\n",
    "(minf,minx,ret) = optimize(opt, [1.234, 5.678])\n",
    "numevals = opt.numevals # the number of function evaluations\n",
    "println(\"got $minf at $minx after $numevals iterations (returned $ret)\")"
   ]
  },
  {
   "cell_type": "code",
   "execution_count": 106,
   "metadata": {
    "kernel": "julia-1.2"
   },
   "outputs": [
    {
     "name": "stdout",
     "output_type": "stream",
     "text": [
      "\u001b[37m\u001b[1mTest Summary:                                                                                                    | \u001b[22m\u001b[39m\u001b[32m\u001b[1mPass  \u001b[22m\u001b[39m\u001b[36m\u001b[1mTotal\u001b[22m\u001b[39m\n",
      "Testing NLP with NLoptSolver(:LD_SLSQP, NaN, 1.0e-7, NaN, 1.0e-7, nothing, 1.0e-7, 0, 0, nothing, 0, nothing, 0) | \u001b[32m   7  \u001b[39m\u001b[36m    7\u001b[39m\n",
      "\u001b[37m\u001b[1mTest Summary:                                                                                                                                | \u001b[22m\u001b[39m\u001b[32m\u001b[1mPass  \u001b[22m\u001b[39m\u001b[36m\u001b[1mTotal\u001b[22m\u001b[39m\n",
      "Testing NLP on the Rosenbrock function with NLoptSolver(:LN_PRAXIS, NaN, 1.0e-7, NaN, 1.0e-7, nothing, 1.0e-7, 0, 0, nothing, 0, nothing, 0) | \u001b[32m   5  \u001b[39m\u001b[36m    5\u001b[39m\n"
     ]
    },
    {
     "data": {
      "text/plain": [
       "Test.DefaultTestSet(\"Testing NLP on the Rosenbrock function with NLoptSolver(:LN_PRAXIS, NaN, 1.0e-7, NaN, 1.0e-7, nothing, 1.0e-7, 0, 0, nothing, 0, nothing, 0)\", Any[], 5, false)"
      ]
     },
     "execution_count": 106,
     "metadata": {},
     "output_type": "execute_result"
    }
   ],
   "source": [
    "nlp = joinpath(dirname(Base.find_package(NLopt, \"MathProgBase\")), \"..\", \"test\", \"nlp.jl\")\n",
    "include(nlp)\n",
    "\n",
    "nlptest(NLoptSolver(algorithm=:LD_SLSQP))\n",
    "# test derivative-free\n",
    "rosenbrocktest(NLoptSolver(algorithm=:LN_PRAXIS))"
   ]
  },
  {
   "cell_type": "code",
   "execution_count": 112,
   "metadata": {
    "kernel": "julia-1.2"
   },
   "outputs": [
    {
     "ename": "MethodError",
     "evalue": "MethodError: no method matching solver_name(::Model, ::NLoptSolver)\nClosest candidates are:\n  solver_name(::Model) at /home/shulai/.juliapro/JuliaPro_v1.2.0-1/packages/JuMP/MsUSY/src/JuMP.jl:297",
     "output_type": "error",
     "traceback": [
      "MethodError: no method matching solver_name(::Model, ::NLoptSolver)\nClosest candidates are:\n  solver_name(::Model) at /home/shulai/.juliapro/JuliaPro_v1.2.0-1/packages/JuMP/MsUSY/src/JuMP.jl:297",
      "",
      "Stacktrace:",
      " [1] top-level scope at In[111]:3"
     ]
    }
   ],
   "source": [
    "# m = Model(solver = NLoptSolver(algorithm=:LD_SLSQP))\n",
    "m=Model()\n",
    "JuMP.solver_name(m,NLoptSolver(algorithm=:LD_SLSQP))\n",
    "ns = [\"now\",\"pass\"]\n",
    "@variable(m, x[ns], Int)\n",
    "@NLobjective(m, Min, x[\"now\"]^2+x[\"pass\"])\n",
    "set_start_value(x[\"now\"], 1.234)\n",
    "set_start_value(x[\"pass\"], 5.678)\n",
    "\n",
    "status = JuMP.optimize!(m)\n",
    "\n",
    "println(\"got \", getobjectivevalue(m), \" at \", [getvalue(x[\"now\"]),getvalue(x[\"pass\"])])"
   ]
  },
  {
   "cell_type": "code",
   "execution_count": null,
   "metadata": {
    "kernel": "julia-1.2"
   },
   "outputs": [],
   "source": [
    "m = Model()\n",
    "\n",
    "\n",
    "param_dic = random_start()\n",
    "\n",
    "@variable(m, alpha[\"all\"])\n",
    "@variable(m, x2 >= 0 <= )\n",
    "\n",
    "JuMP.register(m, :optim_wsse, length(param_dic), optim_wsse, autodiff=true)\n",
    "@NLobjective(m, Min, optim_wsse(param_dic))\n",
    "# @NLconstraint(m, x2 >= (a1*x1+b1)^3)\n",
    "# @NLconstraint(m, x2 >= (a2*x1+b2)^3)\n",
    "\n",
    "setvalue(x1, 1.234)\n",
    "setvalue(x2, 5.678)\n",
    "\n",
    "status = solve(m)\n",
    "\n",
    "println(\"got \", getobjectivevalue(m), \" at \", [getvalue(x1),getvalue(x2)])"
   ]
  },
  {
   "cell_type": "code",
   "execution_count": null,
   "metadata": {
    "kernel": "julia-1.2"
   },
   "outputs": [],
   "source": []
  },
  {
   "cell_type": "code",
   "execution_count": null,
   "metadata": {
    "kernel": "julia-1.2"
   },
   "outputs": [],
   "source": []
  },
  {
   "cell_type": "code",
   "execution_count": null,
   "metadata": {
    "kernel": "julia-1.2"
   },
   "outputs": [],
   "source": []
  },
  {
   "cell_type": "code",
   "execution_count": null,
   "metadata": {
    "kernel": "julia-1.2"
   },
   "outputs": [],
   "source": []
  },
  {
   "cell_type": "code",
   "execution_count": null,
   "metadata": {
    "kernel": "julia-1.2"
   },
   "outputs": [],
   "source": []
  },
  {
   "cell_type": "code",
   "execution_count": null,
   "metadata": {
    "kernel": "julia-1.2"
   },
   "outputs": [],
   "source": []
  },
  {
   "cell_type": "code",
   "execution_count": null,
   "metadata": {
    "kernel": "julia-1.2"
   },
   "outputs": [],
   "source": []
  },
  {
   "cell_type": "code",
   "execution_count": null,
   "metadata": {
    "kernel": "julia-1.2"
   },
   "outputs": [],
   "source": []
  }
 ],
 "metadata": {
  "kernelspec": {
   "display_name": "SoS",
   "language": "sos",
   "name": "sos"
  },
  "language_info": {
   "codemirror_mode": "sos",
   "file_extension": ".sos",
   "mimetype": "text/x-sos",
   "name": "sos",
   "nbconvert_exporter": "sos_notebook.converter.SoS_Exporter",
   "pygments_lexer": "sos"
  },
  "sos": {
   "kernels": [
    [
     "julia-1.2",
     "julia-1.2",
     "julia",
     "",
     ""
    ]
   ],
   "panel": {
    "displayed": true,
    "height": 0
   },
   "version": "0.20.6"
  },
  "toc": {
   "base_numbering": 1,
   "nav_menu": {},
   "number_sections": true,
   "sideBar": true,
   "skip_h1_title": false,
   "title_cell": "Table of Contents",
   "title_sidebar": "Contents",
   "toc_cell": false,
   "toc_position": {
    "height": "1020px",
    "left": "277.753px",
    "top": "37.78px",
    "width": "412.205px"
   },
   "toc_section_display": true,
   "toc_window_display": true
  },
  "varInspector": {
   "cols": {
    "lenName": 16,
    "lenType": 16,
    "lenVar": 40
   },
   "kernels_config": {
    "python": {
     "delete_cmd_postfix": "",
     "delete_cmd_prefix": "del ",
     "library": "var_list.py",
     "varRefreshCmd": "print(var_dic_list())"
    },
    "r": {
     "delete_cmd_postfix": ") ",
     "delete_cmd_prefix": "rm(",
     "library": "var_list.r",
     "varRefreshCmd": "cat(var_dic_list()) "
    }
   },
   "types_to_exclude": [
    "module",
    "function",
    "builtin_function_or_method",
    "instance",
    "_Feature"
   ],
   "window_display": false
  }
 },
 "nbformat": 4,
 "nbformat_minor": 2
}
