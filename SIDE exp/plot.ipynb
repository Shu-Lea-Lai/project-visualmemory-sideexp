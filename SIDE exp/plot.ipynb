{
 "cells": [
  {
   "cell_type": "markdown",
   "metadata": {
    "kernel": "SoS"
   },
   "source": [
    "# import lib"
   ]
  },
  {
   "cell_type": "code",
   "execution_count": 2,
   "metadata": {
    "kernel": "Python3"
   },
   "outputs": [],
   "source": [
    "import numpy as np\n",
    "import pandas as pd\n",
    "import time\n",
    "import matplotlib.pyplot as plt\n",
    "import sys\n",
    "import scipy.optimize as optimize\n",
    "import threading\n",
    "from scipy.optimize import LinearConstraint\n",
    "from datetime import datetime\n",
    "\n",
    "npand = np.logical_and\n",
    "npor = np.logical_or\n",
    "npnot = np.logical_not"
   ]
  },
  {
   "cell_type": "markdown",
   "metadata": {
    "kernel": "SoS"
   },
   "source": [
    "# load data"
   ]
  },
  {
   "cell_type": "code",
   "execution_count": 3,
   "metadata": {
    "kernel": "Python3"
   },
   "outputs": [],
   "source": [
    "\n",
    "path=\"./\" + \"sidedata/\"\n",
    "filename = path + \"Alldata2.csv\"\n",
    "\n",
    "df=pd.read_csv(filename, index_col=None)\n",
    "\n",
    "df = df[df[\"FileCondi\"]!=\"CMat\"]\n",
    "df['Probtype'] = np.where(df['Stimkind']==1, \"CM\",\n",
    "                   np.where(df['Stimkind']==0, \"AN\",\n",
    "                   np.where(df['Stimkind']==3, 'VM',\"wrong\")))\n",
    "\n",
    "df['Oldnew'] = np.where(df['Old']==1, \"old\",\n",
    "                   np.where(df['Old']==2, \"new\",\"wrong\"))\n",
    "df['Error'] = 1-df['Correctness']\n",
    "df_giver = df\n",
    "df0=df.copy()# = df.copy()\n",
    "# df_giver.columns=df_giver.columns.droplevel(1)\n",
    "df_org = df[df['RT']<2000]\n",
    "df = df_org.groupby([\"Oldnew\",\"Setsize\",\"Probtype\",\"Lag\",\"Error\",\"FileCondi\"])[[\"RT\"]].agg([\"mean\"])\n",
    "# df[[\"Correctness\",\"Error\"]]\n",
    "# df.groupby(\"Error\")\n",
    "df.index.name = 'Setsize'\n",
    "df.reset_index(inplace=True)\n",
    "# df[\"Error\"]\n",
    "\n",
    "\n",
    "df_err = df_org.groupby([\"Oldnew\",\"Setsize\",\"Probtype\",\"Lag\",\"FileCondi\"])[[\"Error\"]].agg([\"mean\"]).reset_index()\n",
    "df_crt = df_org[df_org[\"Error\"]==0].\\\n",
    "groupby([\"Oldnew\",\"Setsize\",\"Probtype\",\"Lag\",\"FileCondi\"])[[\"RT\"]].agg([\"mean\"]).reset_index()\n",
    "\n",
    "df_err.columns = df_err.columns.droplevel(1)\n",
    "df_crt.columns = df_crt.columns.droplevel(1)\n",
    "\n",
    "df_err = df_err.reset_index()\n",
    "df_crt = df_crt.reset_index()"
   ]
  },
  {
   "cell_type": "markdown",
   "metadata": {
    "kernel": "SoS"
   },
   "source": [
    "# Gloabal Setting"
   ]
  },
  {
   "cell_type": "code",
   "execution_count": 4,
   "metadata": {
    "kernel": "Python3"
   },
   "outputs": [],
   "source": [
    "global vary_ss, give_c2, vary_ssan, alphabeta_ANnew\n",
    "vary_ss=0\n",
    "vary_ssan=0\n",
    "give_c2=0\n",
    "alphabeta_ANnew=1\n",
    "\n",
    "global nameset,is_search_allcondi_besideCMat,search_MIX1\n",
    "is_search_allcondi_besideCMat=0\n",
    "search_MIX1 = 1\n",
    "search_MIX2 = 0\n",
    "nameset = df_org[\"FileCondi\"].astype(\"category\").cat.categories.to_numpy()\n",
    "global alpha, beta, s, c ,Old_crit ,New_crit ,\\\n",
    "    t0 ,kao , F, L, c2"
   ]
  },
  {
   "cell_type": "markdown",
   "metadata": {
    "kernel": "SoS"
   },
   "source": [
    "# Gloabl parameters"
   ]
  },
  {
   "cell_type": "code",
   "execution_count": 5,
   "metadata": {
    "kernel": "Python3"
   },
   "outputs": [],
   "source": [
    "alpha={}; beta ={}; s = {}; F = {}; L = {}; c={}; t0={}; Old_crit={}; New_crit={}\n",
    "\n",
    "\n",
    "# boost = 1.05\n",
    "alpha[\"all\"] = 0.19\n",
    "alpha['ANnew'] = 0.1969 \n",
    "# alpha['VM'] = 0.1969 \n",
    "# alpha[\"AN\"]=0.84\n",
    "\n",
    "beta[\"all\"] =1.2\n",
    "beta['ANnew'] = 1.228\n",
    "# beta['VM'] = 1.228\n",
    "# beta[\"AN\"]= 1.708\n",
    "\n",
    "s[\"all\"]=0.01\n",
    "s[\"ss2\"]=0.01\n",
    "s[\"ss4\"]=0.01\n",
    "s[\"ss8\"]=0.01\n",
    "s[\"ANnew\"] = 0.01\n",
    "# s[\"AN\"] = 0.01\n",
    "# s[\"CM\"] = 0.02\n",
    "# s[\"VM\"] = 0.02\n",
    "c[\"ANpure\"] = 0.3938\n",
    "c[\"CMpure\"] = 0.3938\n",
    "c[\"VMpure\"] = 0.3938\n",
    "c[\"MIX\"] = 0.3938\n",
    "c[\"MIX2\"] = 0.3938\n",
    "# c[\"CMat\"] = 0.3938\n",
    "c2=0.3\n",
    "Old_crit[\"ANpure\"] = 1.9197\n",
    "New_crit[\"ANpure\"] = -2.33\n",
    "Old_crit[\"CMpure\"] = 1.9197\n",
    "New_crit[\"CMpure\"] = -2.33\n",
    "Old_crit[\"VMpure\"] = 1.9197\n",
    "New_crit[\"VMpure\"] = -2.33\n",
    "Old_crit[\"MIX\"] = 1.9197\n",
    "New_crit[\"MIX\"] = -2.33\n",
    "Old_crit[\"MIX2\"] = 1.9197\n",
    "New_crit[\"MIX2\"] = -2.33\n",
    "\n",
    "t0[\"all\"] = 699.98\n",
    "t0[\"ann\"] =  699.98\n",
    "kao = 37\n",
    "\n",
    "#---CM\n",
    "F[\"ANpure_AN_oldiold_oldinew\"] = 0.2\n",
    "\n",
    "F[\"CMpure_CM_oldiold_oldinew\"] = 0.2\n",
    "L[\"CMpure_CM_oldiold_newinew\"] = 0.2\n",
    "L[\"CMpure_CM_oldinew_newiold\"] = 0\n",
    "\n",
    "F[\"VMpure_VM_oldiold_oldinew\"] = 0.2\n",
    "L[\"VMpure\"] = 0.2 \n",
    "\n",
    "F[\"MIX_CM_oldiold_oldinew\"] = 0.2\n",
    "L[\"MIX_CM_oldiold_newinew\"] = 0.2\n",
    "L[\"MIX_CM_oldinew_newiold\"] = 0.2\n",
    "F[\"MIX_AN_oldiold_oldinew\"] = 0.2\n",
    "\n",
    "F[\"MIX2_CM_oldiold_oldinew\"] = 0.2\n",
    "L[\"MIX2_CM_oldiold_newinew\"] = 0.2\n",
    "L[\"MIX2_CM_oldinew_newiold\"] = 0.2\n",
    "F[\"MIX2_AN_oldiold_oldinew\"] = 0.2"
   ]
  },
  {
   "cell_type": "markdown",
   "metadata": {
    "kernel": "SoS"
   },
   "source": [
    "# Assign_LTM_global()"
   ]
  },
  {
   "cell_type": "code",
   "execution_count": 6,
   "metadata": {
    "kernel": "Python3"
   },
   "outputs": [],
   "source": [
    "def assign_LTM_global(Filecondi,item_condi, walk, item):\n",
    "    \n",
    "    global F,L,Fnow,Lnow\n",
    "    if Filecondi != \"VMpure\":\n",
    "        if item_condi == \"CM\":\n",
    "\n",
    "            if walk+\"i\"+item == \"oldiold\" or walk+\"i\"+item == \"oldinew\":\n",
    "\n",
    "                Fnow = F[Filecondi+\"_CM_oldiold_oldinew\"]\n",
    "            else: Fnow = 0\n",
    "\n",
    "            if walk+\"i\"+item == \"oldiold\" or walk+\"i\"+item == \"newinew\":\n",
    "\n",
    "                Lnow = L[Filecondi+\"_CM_oldiold_newinew\"]\n",
    "            elif walk+\"i\"+item == \"oldinew\" or walk+\"i\"+item == \"newiold\":\n",
    "\n",
    "                Lnow = L[Filecondi+\"_CM_oldinew_newiold\"]\n",
    "            else: Lnow=0\n",
    "\n",
    "        elif item_condi == \"AN\":\n",
    "\n",
    "            if walk+\"i\"+item == \"oldiold\" or walk+\"i\"+item == \"oldinew\":\n",
    "\n",
    "                Fnow = F[Filecondi+\"_AN_oldiold_oldinew\"]\n",
    "            else: Fnow=0\n",
    "\n",
    "            Lnow = 0\n",
    "            \n",
    "        else: print(\"wrong condi 1\",Filecondi,item_condi, walk+\"i\"+item)\n",
    "            \n",
    "    elif Filecondi == \"VMpure\":\n",
    "        \n",
    "        if item_condi == \"VM\":\n",
    "            if walk+\"i\"+item == \"oldiold\" or walk+\"i\"+item == \"oldinew\":\n",
    "                Fnow = F[\"VMpure_VM_oldiold_oldinew\"]\n",
    "            else: Fnow = 0\n",
    "        else: print(\"wrong condi 2\")\n",
    "            \n",
    "        Lnow = L[\"VMpure\"]\n",
    "    else:\n",
    "        print(\"wrong filecondi\")\n",
    "    \n",
    "    return(Fnow + Lnow)"
   ]
  },
  {
   "cell_type": "markdown",
   "metadata": {
    "kernel": "SoS"
   },
   "source": [
    "# CalcA(df) *"
   ]
  },
  {
   "cell_type": "code",
   "execution_count": 7,
   "metadata": {
    "kernel": "Python3"
   },
   "outputs": [],
   "source": [
    "def calcA(df):\n",
    "\n",
    "    \n",
    "    dnow = df\n",
    "    a = np.zeros((dnow.shape[0], 8))  #activation\n",
    "    \n",
    "    snow=s[\"all\"]\n",
    "    betanow=beta[\"all\"] \n",
    "    alphanow=alpha[\"all\"]\n",
    "    \n",
    "    m = np.array([(j**(-betanow) + alphanow) for j in np.arange(1,9)])\n",
    "    \n",
    "    if alphabeta_ANnew==1:\n",
    "        m_ANnew = np.repeat(9999.0,8)\n",
    "        m_all = np.repeat(9999.0,8)\n",
    "        tfcondi1 = np.array([npand.reduce((dnow[\"Lag\"]!=j,dnow[\"Probtype\"]==\"AN\",dnow[\"Oldnew\"]==\"new\")) for j in range(1,9)])\n",
    "        tfcondi0 = np.array([npand.reduce((dnow[\"Lag\"]!=j,npnot(npand(dnow[\"Probtype\"]==\"AN\",dnow[\"Oldnew\"]==\"new\")))) for j in range(1,9)])\n",
    "        tfcondi11 = np.array([npand.reduce((dnow[\"Lag\"]==j,dnow[\"Probtype\"]==\"AN\",dnow[\"Oldnew\"]==\"new\")) for j in range(1,9)])\n",
    "        tfcondi00 = np.array([npand.reduce((dnow[\"Lag\"]==j,npnot(npand(dnow[\"Probtype\"]==\"AN\",dnow[\"Oldnew\"]==\"new\")))) for j in range(1,9)])\n",
    "        \n",
    "    for j in range(1,9):\n",
    "\n",
    "        indexj = j-1\n",
    "        \n",
    "        \n",
    "        if vary_ss==0 and alphabeta_ANnew==0:\n",
    "            \n",
    "            a[dnow[\"Lag\"]==j,indexj] = m[indexj]\n",
    "            a[dnow[\"Lag\"]!=j,indexj] = m[indexj] * s[\"all\"]\n",
    "        elif vary_ss==1 and alphabeta_ANnew==0:\n",
    "            a[np.logical_and(dnow[\"Lag\"]!=j,dnow[\"Setsize\"]==2),indexj] = m[indexj] * s[\"ss2\"]\n",
    "            a[np.logical_and(dnow[\"Lag\"]!=j,dnow[\"Setsize\"]==4),indexj] = m[indexj] * s[\"ss4\"]\n",
    "            a[np.logical_and(dnow[\"Lag\"]!=j,dnow[\"Setsize\"]==8),indexj] = m[indexj] * s[\"ss8\"]\n",
    "            a[dnow[\"Lag\"]==j,indexj] = m[indexj]\n",
    "        elif vary_ss==0 and vary_ssan==1:\n",
    "            \n",
    "            a[npand.reduce((\\\n",
    "                dnow[\"Lag\"]!=j,npnot(npand(dnow[\"Probtype\"]==\"AN\",dnow[\"Oldnew\"]==\"new\")))),indexj] = m[indexj] * s[\"all\"]\n",
    "            a[npand.reduce((\\\n",
    "                dnow[\"Lag\"]!=j,dnow[\"Probtype\"]==\"AN\",dnow[\"Oldnew\"]==\"new\")),indexj] = m[indexj] * s[\"ANnew\"]\n",
    "            a[dnow[\"Lag\"]==j,indexj] = m[indexj]\n",
    "            \n",
    "        elif alphabeta_ANnew==1:\n",
    "            m_all[indexj] = j**(-beta[\"all\"]) + alpha[\"all\"]\n",
    "            m_ANnew[indexj] = j**(-beta[\"ANnew\"]) + alpha[\"ANnew\"]\n",
    "\n",
    "            a[tfcondi1[indexj,:],indexj] = m_ANnew[indexj] * s[\"all\"]\n",
    "            a[tfcondi0[indexj,:],indexj] = m_all[indexj] * s[\"all\"]\n",
    "            a[tfcondi11[indexj,:],indexj] = m_ANnew[indexj]\n",
    "            a[tfcondi00[indexj,:],indexj] = m_all[indexj]\n",
    "        else:\n",
    "            print(\"something wrong: CalcA\")\n",
    "        \n",
    "        \n",
    "#         print(m[indexj] * s[\"all\"])\n",
    "    for i in range(a.shape[0]): a[i,dnow['Setsize'].iloc[i]:] = 0 #a_ij suit for the correct amount of setsize\n",
    "    debug = 0\n",
    "    if debug==1:\n",
    "        for i in range(a.shape[0]):\n",
    "            print(i, \"begin\\n\",\"a is\",a[i].round(5),\\\n",
    "                  \"\\n m is\", np.array(m).round(3),\"\\n Probtype is\",\\\n",
    "                  \"\\n Lag is \",dnow['Lag'].iloc[i],\\\n",
    "                  \"\\n Setsize is\", dnow[\"Setsize\"].iloc[i],\\\n",
    "                  \"\\n Probtype:\",\\\n",
    "                  dnow[\"Probtype\"].iloc[i],\\\n",
    "                  \"\\n Oldnew: \",dnow[\"Oldnew\"].iloc[i],\\\n",
    "                  \"\\n Ai is\", a[i,:].sum().round(2),\\\n",
    "                  \"\\n snow\", s[\"all\"],\\\n",
    "                 \"\\n------------------------------------------------\" )\n",
    "\n",
    "    \n",
    "    A = a.sum(axis = 1)\n",
    "    \n",
    "    return(A)"
   ]
  },
  {
   "cell_type": "markdown",
   "metadata": {
    "kernel": "SoS"
   },
   "source": [
    "# calcp(df)"
   ]
  },
  {
   "cell_type": "code",
   "execution_count": 8,
   "metadata": {
    "kernel": "Python3"
   },
   "outputs": [],
   "source": [
    "def calcp(df):\n",
    "    \n",
    "    A = calcA(df)\n",
    "    dnow = df\n",
    "    p = np.repeat(3.0, A.shape[0])\n",
    "#     print(p.size)\n",
    "    filecondis = dnow[\"FileCondi\"].astype(\"category\").cat.categories.to_numpy() #get categories name\n",
    "\n",
    "    for icondi in filecondis:\n",
    "        \n",
    "        #only ieterate through probs in that condition\n",
    "        probs = dnow[dnow[\"FileCondi\"]==icondi][\"Probtype\"].astype(\"category\").cat.categories.to_numpy()\n",
    "        for iprob in probs:\n",
    "\n",
    "            for ion in [\"old\",\"new\"]:\n",
    "                    \n",
    "                tf_ion = (dnow['Oldnew'] == ion)\n",
    "                tf_iprob = (dnow['Probtype'] == iprob)\n",
    "                tf_icondi = (dnow[\"FileCondi\"] == icondi)\n",
    "                \n",
    "                tf_combi1 = np.logical_and(tf_ion, tf_iprob)\n",
    "                tf_all = np.logical_and(tf_combi1,tf_icondi)\n",
    "\n",
    "                IR_old_current = assign_LTM_global(icondi,iprob,\"old\",ion)\n",
    "                IR_new_current = assign_LTM_global(icondi, iprob,\"new\",ion)\n",
    "\n",
    "                p[tf_all] = (A[tf_all] + IR_old_current)/(A[tf_all] + IR_old_current + c[icondi] + IR_new_current)\n",
    "    return(np.array(p))"
   ]
  },
  {
   "cell_type": "markdown",
   "metadata": {
    "kernel": "SoS"
   },
   "source": [
    "# calc_theoretical_rw()"
   ]
  },
  {
   "cell_type": "code",
   "execution_count": 9,
   "metadata": {
    "kernel": "Python3"
   },
   "outputs": [],
   "source": [
    "def calc_theoretical_RW(df, which):\n",
    "    \n",
    "    #which = \"err\" or 'crt'\n",
    "\n",
    "    A = calcA(df)\n",
    "    p = calcp(df)\n",
    "    q = 1-p\n",
    "    \n",
    "    dnow = df\n",
    "    filecondis = dnow[\"FileCondi\"].astype(\"category\").cat.categories.to_numpy() #get categories name\n",
    "    \n",
    "    p_resp_old = np.zeros(p.size)\n",
    "    pred_correct = np.zeros(p.size)\n",
    "    pred_rt = np.zeros(p.size)\n",
    "\n",
    "    theta1 = np.zeros(p.size)\n",
    "    theta2 = np.zeros(q.size)\n",
    "    theta11 = np.zeros(p.size)\n",
    "    theta22 = np.zeros(q.size)\n",
    "    exp_nstep = np.zeros(p.shape[0])\n",
    "    \n",
    "    for ifile in filecondis: \n",
    "        \n",
    "        gen_tf = dnow[\"FileCondi\"]==ifile\n",
    "        AA = Old_crit[ifile]\n",
    "        BB = -New_crit[ifile] # bb is a postive number\n",
    "        \n",
    "        if which==\"crt\":\n",
    "            \n",
    "            pq = (p[gen_tf]/q[gen_tf])\n",
    "            theta1[gen_tf] = (pq**(AA+BB)+1)/(pq**(AA+BB)-1)\n",
    "            theta2[gen_tf] = (pq**BB+1)/(pq**BB-1)\n",
    "\n",
    "            tf = np.logical_and.reduce((p!=q , dnow[\"Oldnew\"]=='old', gen_tf))\n",
    "            exp_nstep[tf] = (1/(p[tf]-q[tf]))*(theta1[tf]*(AA+BB) - theta2[tf]*BB)\n",
    "\n",
    "            tf = np.logical_and.reduce((p==q , dnow[\"Oldnew\"]=='old', gen_tf))\n",
    "            exp_nstep[tf] = (AA/3)*(2*BB+AA)\n",
    "            \n",
    "            theta11[gen_tf] = (pq**(-(AA+BB))+1)/(pq**(-(AA+BB))-1)\n",
    "            theta22[gen_tf] = (pq**-AA+1)/(pq**-AA-1)\n",
    "\n",
    "            tf = np.logical_and.reduce((p!=q , dnow[\"Oldnew\"]=='new', gen_tf))\n",
    "            exp_nstep[tf] = (1/(q[tf]-p[tf]))*(theta11[tf]*(AA+BB) - theta22[tf]*AA)\n",
    "\n",
    "            tf = np.logical_and.reduce((p==q , dnow[\"Oldnew\"]=='new', gen_tf))\n",
    "            exp_nstep[tf] = (BB/3)*(2*AA+BB)\n",
    "            \n",
    "\n",
    "        #------------------- correct response\n",
    "        elif which == \"err\":\n",
    "            \n",
    "            qp = (q[gen_tf]/p[gen_tf])\n",
    "            qptfn =np.logical_and(p!=q,gen_tf)\n",
    "            qptf =np.logical_and(p==q,gen_tf)\n",
    "\n",
    "            p_resp_old[qptfn] = ((1-qp**BB)/(1-qp**(AA+BB)))[p[gen_tf]!=q[gen_tf]]\n",
    "            p_resp_old[qptf] = BB/(AA+BB)\n",
    "    #------------------\n",
    "    if which==\"crt\":\n",
    "        suprise = np.logical_and.reduce((np.logical_or(dnow[\"FileCondi\"]==\"MIX\",dnow[\"FileCondi\"]==\"MIX2\"),\n",
    "                                         dnow[\"Probtype\"]==\"AN\",dnow[\"Oldnew\"]==\"new\"))\n",
    "        notsuprise = np.logical_not(suprise)\n",
    "\n",
    "        pred_rt[suprise] = t0[\"ann\"] + kao * exp_nstep[suprise]\n",
    "        pred_rt[notsuprise] = t0[\"all\"] + kao * exp_nstep[notsuprise]\n",
    "\n",
    "    #------------------\n",
    "            \n",
    "    if which == \"err\":\n",
    "        pred_correct[dnow[\"Oldnew\"]=='old'] = p_resp_old[dnow[\"Oldnew\"]==\"old\"]\n",
    "        pred_correct[dnow[\"Oldnew\"]==\"new\"] = 1-p_resp_old[dnow[\"Oldnew\"]==\"new\"]\n",
    "\n",
    "    \n",
    "\n",
    "    \n",
    "    if which == \"crt\": \n",
    "        return(np.array(pred_rt))\n",
    "    elif which == \"err\":\n",
    "        return(np.array(pred_correct))"
   ]
  },
  {
   "cell_type": "markdown",
   "metadata": {
    "kernel": "SoS"
   },
   "source": [
    "# calc_wssd"
   ]
  },
  {
   "cell_type": "code",
   "execution_count": 10,
   "metadata": {
    "kernel": "Python3"
   },
   "outputs": [
    {
     "data": {
      "text/plain": [
       "2.660396672013317"
      ]
     },
     "execution_count": 10,
     "metadata": {},
     "output_type": "execute_result"
    }
   ],
   "source": [
    "def calc_wssd(df_err,df_crt):\n",
    "    w={}\n",
    "        \n",
    "    w[\"new_rt\"] = 4*2\n",
    "    w[\"old_rt\"] = 1*2\n",
    "    w[\"new_err\"] = 4\n",
    "    w[\"old_err\"] = 1\n",
    "    \n",
    "    df_sub_err = df_err.copy()\n",
    "    df_sub_crt = df_crt.copy()\n",
    "    if search_MIX1==1:\n",
    "        df_sub_err=df_sub_err[df_sub_err[\"FileCondi\"]==\"MIX\"]\n",
    "        df_sub_crt=df_sub_crt[df_sub_crt[\"FileCondi\"]==\"MIX\"]\n",
    "        df_sub_err.reset_index(inplace=True)\n",
    "        df_sub_crt.reset_index(inplace=True)\n",
    "        \n",
    "    if search_MIX2==1:\n",
    "        df_sub_err=df_sub_err[df_sub_err[\"FileCondi\"]==\"MIX2\"]\n",
    "        df_sub_crt=df_sub_crt[df_sub_crt[\"FileCondi\"]==\"MIX2\"]\n",
    "        df_sub_err.reset_index(inplace=True)\n",
    "        df_sub_crt.reset_index(inplace=True)\n",
    "        \n",
    "    pred_correct = calc_theoretical_RW(df_sub_err,\"err\")\n",
    "    pred_crt = calc_theoretical_RW(df_sub_crt,\"crt\")\n",
    "\n",
    "    df_sub_crt[\"pred_crt\"] = pred_crt/1000 #translate crt to seconds. \n",
    "    df_sub_err[\"pred_error\"] = 1- pred_correct\n",
    "\n",
    "    df_sub_crt[\"RT\"]= df_sub_crt[\"RT\"]/1000\n",
    "\n",
    "    df_sub_crt[\"SSD_RT\"] = ((df_sub_crt[\"RT\"] - df_sub_crt[\"pred_crt\"])**2).to_numpy()\n",
    "    df_sub_err[\"SSD_err\"] = ((df_sub_err[\"Error\"] - df_sub_err[\"pred_error\"])**2).to_numpy()\n",
    "\n",
    "    df_sub_crt[\"wSSD_RT\"] = [df_sub_crt.loc[i,\"SSD_RT\"] *\\\n",
    "                             w[df_sub_crt.loc[i,\"Oldnew\"]+\"_rt\"] for i in range(df_sub_crt.shape[0])]\n",
    "\n",
    "    df_sub_err[\"wSSD_err\"] = [df_sub_err.loc[i,\"SSD_err\"] *\\\n",
    "                             w[df_sub_err.loc[i,\"Oldnew\"] + \"_err\"] for i in range(df_sub_err.shape[0])]\n",
    "    \n",
    "    \n",
    "    adj_oldnew=0\n",
    "    if adj_oldnew==1:\n",
    "        print(\"\\nERR\",\"old\",df_sub_err[df_sub_err[\"Oldnew\"]==\"old\"][\"wSSD_err\"].sum(),\\\n",
    "             \"new\",df_sub_err[df_sub_err[\"Oldnew\"]==\"new\"][\"wSSD_err\"].sum(),\n",
    "             \"\\nRT\",\"old\",df_sub_crt[df_sub_crt[\"Oldnew\"]==\"old\"][\"wSSD_RT\"].sum(),\\\n",
    "             \"new\",df_sub_crt[df_sub_crt[\"Oldnew\"]==\"new\"][\"wSSD_RT\"].sum(),)\n",
    "    #     print(df_sub_err[df_sub_err[\"Oldnew\"]==\"old\"].sum() + df[df_sub_crt[\"Oldnew\"]==\"new\"].sum())\n",
    "\n",
    "    WSSD = df_sub_err[\"wSSD_err\"].sum() + df_sub_crt[\"wSSD_RT\"].sum()\n",
    "    \n",
    "#     print(df_sub_crt)\n",
    "    return(WSSD)\n",
    "\n",
    "calc_wssd(df_err,df_crt)"
   ]
  },
  {
   "cell_type": "markdown",
   "metadata": {
    "kernel": "SoS"
   },
   "source": [
    "# random_start() *"
   ]
  },
  {
   "cell_type": "code",
   "execution_count": 11,
   "metadata": {
    "kernel": "Python3"
   },
   "outputs": [],
   "source": [
    "def random_start():\n",
    "    global alpha, beta, s, c ,Old_crit ,New_crit ,\\\n",
    "    t0 ,kao , F, L\n",
    "  \n",
    "    alpha={}; beta ={}; s = {}; F = {}; L = {}; c={}; t0={}; Old_crit={}; New_crit={}\n",
    "\n",
    "    alpha[\"all\"] = np.random.uniform(0.1,3)\n",
    "    alpha[\"ANnew\"] = np.random.uniform(0.1,3)\n",
    "    beta[\"all\"] = np.random.uniform(0.01,4)\n",
    "    beta[\"ANnew\"] = np.random.uniform(0.01,4)\n",
    "    s[\"all\"]= np.random.uniform(0.01,0.999)\n",
    "    s[\"ss2\"]= np.random.uniform(0.01,0.999)\n",
    "    s[\"ss4\"]= np.random.uniform(0.01,0.999)\n",
    "    s[\"ss8\"]= np.random.uniform(0.01,0.999)\n",
    "    s[\"ANnew\"]= np.random.uniform(0.01,0.999)\n",
    "    c[\"ANpure\"] = np.random.uniform(0.01,0.99)\n",
    "    c[\"CMpure\"] = np.random.uniform(0.01,0.99)\n",
    "    c[\"VMpure\"] = np.random.uniform(0.01,0.99)\n",
    "    c[\"MIX\"] = np.random.uniform(0.01,0.99)\n",
    "    c[\"MIX2\"] = np.random.uniform(0.01,0.99)\n",
    "\n",
    "    Old_crit[\"ANpure\"] = np.random.uniform(1,10)\n",
    "    New_crit[\"ANpure\"] = np.random.uniform(-10,1)\n",
    "    Old_crit[\"CMpure\"] = np.random.uniform(1,10)\n",
    "    New_crit[\"CMpure\"] = np.random.uniform(-10,1)\n",
    "    Old_crit[\"VMpure\"] = np.random.uniform(1,10)\n",
    "    New_crit[\"VMpure\"] = np.random.uniform(-10,1)\n",
    "    Old_crit[\"MIX\"] = np.random.uniform(1,10)\n",
    "    New_crit[\"MIX\"] = np.random.uniform(-10,1)\n",
    "    Old_crit[\"MIX2\"] = np.random.uniform(1,10)\n",
    "    New_crit[\"MIX2\"] = np.random.uniform(1,10)\n",
    "\n",
    "    t0[\"all\"] =  np.random.uniform(1,900)\n",
    "    t0[\"ann\"] =  np.random.uniform(1,900)\n",
    "    \n",
    "    kao = np.random.uniform(1,100)\n",
    "\n",
    "    #---CM\n",
    "    F[\"ANpure_AN_oldiold_oldinew\"] = np.random.uniform(0.0001,1)\n",
    "\n",
    "    F[\"CMpure_CM_oldiold_oldinew\"] = np.random.uniform(0.0001,1)\n",
    "    L[\"CMpure_CM_oldiold_newinew\"] = np.random.uniform(0.0001,1)\n",
    "    L[\"CMpure_CM_oldinew_newiold\"] = np.random.uniform(0.0001,1)\n",
    "    \n",
    "    F[\"VMpure_VM_oldiold_oldinew\"] = np.random.uniform(0.0001,1) \n",
    "    L[\"VMpure\"] = np.random.uniform(0.0001,1) \n",
    "\n",
    "    F[\"MIX_CM_oldiold_oldinew\"] = np.random.uniform(0.0001,1)\n",
    "    L[\"MIX_CM_oldiold_newinew\"] = np.random.uniform(0.0001,1)\n",
    "    L[\"MIX_CM_oldinew_newiold\"] = np.random.uniform(0.0001,1)\n",
    "    F[\"MIX_AN_oldiold_oldinew\"] = np.random.uniform(0.0001,1)\n",
    "\n",
    "    F[\"MIX2_CM_oldiold_oldinew\"] = np.random.uniform(0.0001,1)\n",
    "    L[\"MIX2_CM_oldiold_newinew\"] = np.random.uniform(0.0001,1)\n",
    "    L[\"MIX2_CM_oldinew_newiold\"] = np.random.uniform(0.0001,1)\n",
    "    F[\"MIX2_AN_oldiold_oldinew\"] = np.random.uniform(0.0001,1)\n",
    "    \n",
    "    if vary_ss==0 and  is_search_allcondi_besideCMat==1:\n",
    "        param_dic=np.array((\\\n",
    "            alpha[\"all\"],beta[\"all\"],s[\"all\"],\n",
    "            c[\"ANpure\"],c[\"CMpure\"],c[\"VMpure\"], c[\"MIX\"] ,c[\"MIX2\"] ,\n",
    "            Old_crit[\"ANpure\"] ,New_crit[\"ANpure\"] ,Old_crit[\"CMpure\"] ,New_crit[\"CMpure\"] ,\n",
    "            Old_crit[\"VMpure\"] ,New_crit[\"VMpure\"] ,Old_crit[\"MIX\"] ,New_crit[\"MIX\"] ,Old_crit[\"MIX2\"] ,New_crit[\"MIX2\"] ,\n",
    "            t0[\"all\"] ,t0[\"ann\"] ,kao,\n",
    "            F[\"ANpure_AN_oldiold_oldinew\"] ,F[\"CMpure_CM_oldiold_oldinew\"] ,\n",
    "                            L[\"CMpure_CM_oldiold_newinew\"] ,L[\"CMpure_CM_oldinew_newiold\"] ,\n",
    "            F[\"VMpure_VM_oldiold_oldinew\"] , L[\"VMpure\"], \n",
    "            F[\"MIX_CM_oldiold_oldinew\"], L[\"MIX_CM_oldiold_newinew\"],\n",
    "                            L[\"MIX_CM_oldinew_newiold\"], F[\"MIX_AN_oldiold_oldinew\"], \n",
    "            F[\"MIX2_CM_oldiold_oldinew\"], L[\"MIX2_CM_oldiold_newinew\"],\n",
    "                            L[\"MIX2_CM_oldinew_newiold\"], F[\"MIX2_AN_oldiold_oldinew\"]))\n",
    "    elif search_MIX1==1 and vary_ss==0:\n",
    "\n",
    "         param_dic=np.array((alpha[\"all\"], beta[\"all\"], s[\"all\"],\n",
    "                             c[\"MIX\"], Old_crit[\"MIX\"], New_crit[\"MIX\"], t0[\"all\"],t0[\"ann\"], kao,\n",
    "                             F[\"MIX_CM_oldiold_oldinew\"], L[\"MIX_CM_oldiold_newinew\"], L[\"MIX_CM_oldinew_newiold\"],\n",
    "                             F[\"MIX_AN_oldiold_oldinew\"]))\n",
    "            \n",
    "    elif search_MIX1==1 and vary_ss==1:\n",
    "        param_dic=np.array((\\\n",
    "            alpha[\"all\"],beta[\"all\"],s[\"ss2\"],s[\"ss4\"],s[\"ss8\"],\n",
    "                             c[\"MIX\"], Old_crit[\"MIX\"], New_crit[\"MIX\"], t0[\"all\"],t0[\"ann\"], kao,\n",
    "                             F[\"MIX_CM_oldiold_oldinew\"], L[\"MIX_CM_oldiold_newinew\"], L[\"MIX_CM_oldinew_newiold\"],\n",
    "                             F[\"MIX_AN_oldiold_oldinew\"]))\n",
    "    elif search_MIX1==1 and vary_ss==0 and vary_ssan==1:\n",
    "         param_dic=np.array((alpha[\"all\"], beta[\"all\"], s[\"all\"],s[\"ANnew\"],\n",
    "                             c[\"MIX\"], Old_crit[\"MIX\"], New_crit[\"MIX\"], t0[\"all\"],t0[\"ann\"], kao,\n",
    "                             F[\"MIX_CM_oldiold_oldinew\"], L[\"MIX_CM_oldiold_newinew\"], L[\"MIX_CM_oldinew_newiold\"],\n",
    "                             F[\"MIX_AN_oldiold_oldinew\"]))\n",
    "    elif search_MIX2==1 and vary_ss==0 and vary_ssan==1:\n",
    "         param_dic=np.array((alpha[\"all\"], beta[\"all\"], s[\"all\"],s[\"ANnew\"],\n",
    "                             c[\"MIX2\"], Old_crit[\"MIX2\"], New_crit[\"MIX2\"], t0[\"all\"],t0[\"ann\"], kao,\n",
    "                             F[\"MIX2_CM_oldiold_oldinew\"], L[\"MIX2_CM_oldiold_newinew\"],\n",
    "                             L[\"MIX2_CM_oldinew_newiold\"],F[\"MIX2_AN_oldiold_oldinew\"]))\n",
    "    elif search_MIX2==1 and vary_ss==1 and vary_ssan==0:\n",
    "\n",
    "        param_dic=np.array((alpha[\"all\"], beta[\"all\"],s[\"ss2\"],s[\"ss4\"],s[\"ss8\"],\n",
    "         c[\"MIX2\"], Old_crit[\"MIX2\"], New_crit[\"MIX2\"], t0[\"all\"],t0[\"ann\"], kao,\n",
    "         F[\"MIX2_CM_oldiold_oldinew\"], L[\"MIX2_CM_oldiold_newinew\"], L[\"MIX2_CM_oldinew_newiold\"],\n",
    "         F[\"MIX2_AN_oldiold_oldinew\"]))\n",
    "        \n",
    "    elif alphabeta_ANnew==1 and search_MIX1==1:\n",
    "        param_dic=np.array((alpha[\"all\"],alpha[\"ANnew\"], beta[\"all\"],beta[\"ANnew\"],s[\"all\"],\n",
    "        c[\"MIX\"] ,Old_crit[\"MIX\"] ,New_crit[\"MIX\"] ,\n",
    "        t0[\"all\"] ,t0[\"ann\"] ,kao,\n",
    "        F[\"MIX_CM_oldiold_oldinew\"], L[\"MIX_CM_oldiold_newinew\"],\n",
    "         L[\"MIX_CM_oldinew_newiold\"], F[\"MIX_AN_oldiold_oldinew\"]))\n",
    "                           \n",
    "    else: print(\"something wrong random_start\")\n",
    "                           \n",
    "    return(param_dic)\n",
    "\n",
    "params_dic=random_start()"
   ]
  },
  {
   "cell_type": "markdown",
   "metadata": {
    "kernel": "Python3"
   },
   "source": [
    "# optim_wsse(params_dic)*"
   ]
  },
  {
   "cell_type": "code",
   "execution_count": 12,
   "metadata": {
    "kernel": "Python3"
   },
   "outputs": [],
   "source": [
    "def optim_wsse(params_dic):\n",
    "    global alpha, beta, s, c ,Old_crit ,New_crit ,\\\n",
    "        t0 ,kao ,F, L\n",
    "\n",
    "    alpha={}; beta ={}; s = {}; F = {}; L = {}; c={}; t0={}; Old_crit={}; New_crit={}\n",
    "    \n",
    "    # print(params)  # <-- you'll see that params is a NumPy array\n",
    "    if vary_ss==0 and is_search_allcondi_besideCMat==1:\n",
    "        [alpha[\"all\"],beta[\"all\"],s[\"all\"],\n",
    "        c[\"ANpure\"],c[\"CMpure\"],c[\"VMpure\"], c[\"MIX\"] ,c[\"MIX2\"] ,\n",
    "        Old_crit[\"ANpure\"] ,New_crit[\"ANpure\"] ,Old_crit[\"CMpure\"] ,New_crit[\"CMpure\"] ,\n",
    "        Old_crit[\"VMpure\"] ,New_crit[\"VMpure\"] ,Old_crit[\"MIX\"] ,New_crit[\"MIX\"] ,\n",
    "         Old_crit[\"MIX2\"] ,New_crit[\"MIX2\"] ,\n",
    "        t0[\"all\"] ,t0[\"ann\"] ,kao,\n",
    "        F[\"ANpure_AN_oldiold_oldinew\"] ,\n",
    "         F[\"CMpure_CM_oldiold_oldinew\"] ,L[\"CMpure_CM_oldiold_newinew\"] ,L[\"CMpure_CM_oldinew_newiold\"] ,\n",
    "        F[\"VMpure_VM_oldiold_oldinew\"] , L[\"VMpure\"], \n",
    "        F[\"MIX_CM_oldiold_oldinew\"], L[\"MIX_CM_oldiold_newinew\"],\n",
    "         L[\"MIX_CM_oldinew_newiold\"], F[\"MIX_AN_oldiold_oldinew\"], \n",
    "        F[\"MIX2_CM_oldiold_oldinew\"], L[\"MIX2_CM_oldiold_newinew\"], L[\"MIX2_CM_oldinew_newiold\"], \n",
    "         F[\"MIX2_AN_oldiold_oldinew\"]] = params_dic\n",
    "    elif search_MIX1==1 and vary_ss==0:\n",
    "        [alpha[\"all\"],beta[\"all\"],s[\"all\"],\n",
    "        c[\"MIX\"] ,\n",
    "        Old_crit[\"MIX\"] ,New_crit[\"MIX\"] ,\n",
    "        t0[\"all\"] ,t0[\"ann\"] ,kao,\n",
    "        F[\"MIX_CM_oldiold_oldinew\"], L[\"MIX_CM_oldiold_newinew\"],\n",
    "         L[\"MIX_CM_oldinew_newiold\"], F[\"MIX_AN_oldiold_oldinew\"]]\\\n",
    "        = params_dic\n",
    "    elif search_MIX1==1 and vary_ss==1:\n",
    "        [ alpha[\"all\"],beta[\"all\"],s[\"ss2\"],s[\"ss4\"],s[\"ss8\"],\n",
    "                             c[\"MIX\"], Old_crit[\"MIX\"], New_crit[\"MIX\"], t0[\"all\"],t0[\"ann\"], kao,\n",
    "                             F[\"MIX_CM_oldiold_oldinew\"], L[\"MIX_CM_oldiold_newinew\"], L[\"MIX_CM_oldinew_newiold\"],\n",
    "                             F[\"MIX_AN_oldiold_oldinew\"]] = params_dic\n",
    "    elif search_MIX1==1 and vary_ss==0 and vary_ssan==1:\n",
    "        [alpha[\"all\"],beta[\"all\"],s[\"all\"],s[\"ANnew\"],\n",
    "        c[\"MIX\"] ,\n",
    "        Old_crit[\"MIX\"] ,New_crit[\"MIX\"] ,\n",
    "        t0[\"all\"] ,t0[\"ann\"] ,kao,\n",
    "        F[\"MIX_CM_oldiold_oldinew\"], L[\"MIX_CM_oldiold_newinew\"],\n",
    "         L[\"MIX_CM_oldinew_newiold\"], F[\"MIX_AN_oldiold_oldinew\"]]\\\n",
    "        = params_dic\n",
    "    elif search_MIX2==1 and vary_ss==0 and vary_ssan==1:\n",
    "        [alpha[\"all\"], beta[\"all\"], s[\"all\"],s[\"ANnew\"],\n",
    "         c[\"MIX2\"], Old_crit[\"MIX2\"], New_crit[\"MIX2\"], t0[\"all\"],t0[\"ann\"], kao,\n",
    "         F[\"MIX2_CM_oldiold_oldinew\"], L[\"MIX2_CM_oldiold_newinew\"],\n",
    "         L[\"MIX2_CM_oldinew_newiold\"],F[\"MIX2_AN_oldiold_oldinew\"]]\\\n",
    "        = params_dic\n",
    "    elif search_MIX2==1 and vary_ss==1 and vary_ssan==0:\n",
    "\n",
    "        [alpha[\"all\"], beta[\"all\"],s[\"ss2\"],s[\"ss4\"],s[\"ss8\"],\n",
    "         c[\"MIX2\"], Old_crit[\"MIX2\"], New_crit[\"MIX2\"], t0[\"all\"],t0[\"ann\"], kao,\n",
    "         F[\"MIX2_CM_oldiold_oldinew\"], L[\"MIX2_CM_oldiold_newinew\"], L[\"MIX2_CM_oldinew_newiold\"],\n",
    "         F[\"MIX2_AN_oldiold_oldinew\"]] = params_dic\n",
    "        \n",
    "    elif alphabeta_ANnew==1 and search_MIX1==1:\n",
    "        [alpha[\"all\"],alpha[\"ANnew\"], beta[\"all\"],beta[\"ANnew\"],s[\"all\"],\n",
    "        c[\"MIX\"] ,Old_crit[\"MIX\"] ,New_crit[\"MIX\"] ,\n",
    "        t0[\"all\"] ,t0[\"ann\"] ,kao,\n",
    "        F[\"MIX_CM_oldiold_oldinew\"], L[\"MIX_CM_oldiold_newinew\"],\n",
    "         L[\"MIX_CM_oldinew_newiold\"], F[\"MIX_AN_oldiold_oldinew\"]] = params_dics\n",
    "    else:\n",
    "        print(\"something wrong Optim_wsse\")\n",
    "        \n",
    "    return calc_wssd(df_err,df_crt)\n"
   ]
  },
  {
   "cell_type": "markdown",
   "metadata": {
    "kernel": "Python3"
   },
   "source": [
    "# finalRW"
   ]
  },
  {
   "cell_type": "code",
   "execution_count": 13,
   "metadata": {
    "kernel": "Python3"
   },
   "outputs": [],
   "source": [
    "def finalRW(df_what,kind):\n",
    "\n",
    "    if kind == \"err\":\n",
    "        df_what[\"Pred_error\"] = 1-calc_theoretical_RW(df_what,kind)\n",
    "    elif kind == \"crt\":\n",
    "        df_what[\"Pred_cRT\"]=calc_theoretical_RW(df_what,kind)\n",
    "    else: print(\"error input of name kind\")\n",
    "    \n",
    "    return(df_what)"
   ]
  },
  {
   "cell_type": "markdown",
   "metadata": {
    "kernel": "Python3"
   },
   "source": [
    "# all_plot"
   ]
  },
  {
   "cell_type": "code",
   "execution_count": 14,
   "metadata": {
    "kernel": "Python3"
   },
   "outputs": [],
   "source": [
    "def all_plot(df_all,plotwhaty,ylim):\n",
    "    df_all_err = df_all.copy()\n",
    "    df_all_agg = df_all_err.groupby([\"Oldnew\",\"Setsize\",\"Probtype\",\"FileCondi\"]).agg([\"mean\"])#.apply(lambda x: x)\n",
    "    df_all_aggnew = df_all_agg.unstack([\"Oldnew\",\"Probtype\"])\n",
    "    df_all_aggnew.columns = df_all_aggnew.columns.droplevel([1])\n",
    "\n",
    "#     df_all_aggnew.index.name = 'Setsize'\n",
    "    df_all_aggnew.reset_index(inplace=True)\n",
    "    fig, axes = plt.subplots(nrows=1, ncols=6, figsize=(16,8))\n",
    "    fig.canvas.set_window_title(plotwhaty)\n",
    "    line_width = 2.5\n",
    "    i=0\n",
    "    names = df_all_aggnew[\"FileCondi\"].astype(\"category\").cat.categories.to_numpy() #get categories name\n",
    "    plt.figure()\n",
    "#     plt.title(plotwhaty)\n",
    "    for iname in names:\n",
    "        \n",
    "        df_all_aggnew[df_all_aggnew[\"FileCondi\"]==iname].plot.line(x=\"Setsize\", y=plotwhaty,ax=axes[i],\\\n",
    "                                                                   title=iname,ylim=ylim )\n",
    "        i+=1\n",
    "    \n",
    "    plt.show()\n",
    "    plt.close()"
   ]
  },
  {
   "cell_type": "markdown",
   "metadata": {
    "kernel": "Python3"
   },
   "source": [
    "# grant plot*"
   ]
  },
  {
   "cell_type": "code",
   "execution_count": 15,
   "metadata": {
    "kernel": "Python3"
   },
   "outputs": [],
   "source": [
    "def grant_plot(fitsel, which, lowl, highl, is_grant=1, which_pic=1, true=0):\n",
    "    \n",
    "    if is_grant==0: iter_range=np.array([which_pic])\n",
    "    else: iter_range = np.array(range(fitsel.shape[0]-1))\n",
    "    for i in iter_range:\n",
    "\n",
    "        if vary_ss==0 and is_search_allcondi_besideCMat==1:\n",
    "            [alpha[\"all\"],beta[\"all\"],s[\"all\"],\n",
    "            c[\"ANpure\"],c[\"CMpure\"],c[\"VMpure\"], c[\"MIX\"] ,c[\"MIX2\"] ,\n",
    "            Old_crit[\"ANpure\"] ,New_crit[\"ANpure\"] ,Old_crit[\"CMpure\"] ,New_crit[\"CMpure\"] ,\n",
    "            Old_crit[\"VMpure\"] ,New_crit[\"VMpure\"] ,Old_crit[\"MIX\"] ,New_crit[\"MIX\"] ,Old_crit[\"MIX2\"] ,New_crit[\"MIX2\"] ,\n",
    "            t0[\"all\"] ,t0[\"ann\"] ,kao,\n",
    "            F[\"ANpure_AN_oldiold_oldinew\"] ,\n",
    "             F[\"CMpure_CM_oldiold_oldinew\"] ,L[\"CMpure_CM_oldiold_newinew\"] ,L[\"CMpure_CM_oldinew_newiold\"] ,\n",
    "            F[\"VMpure_VM_oldiold_oldinew\"] , L[\"VMpure\"], \n",
    "            F[\"MIX_CM_oldiold_oldinew\"], L[\"MIX_CM_oldiold_newinew\"], \n",
    "             L[\"MIX_CM_oldinew_newiold\"], F[\"MIX_AN_oldiold_oldinew\"], \n",
    "            F[\"MIX2_CM_oldiold_oldinew\"], L[\"MIX2_CM_oldiold_newinew\"],\n",
    "             L[\"MIX2_CM_oldinew_newiold\"], F[\"MIX2_AN_oldiold_oldinew\"]] =\\\n",
    "            fitsel.iloc[i,:fitsel.shape[1]-2].astype(float).to_list()\n",
    "\n",
    "            df_crt_pred = finalRW(df_crt,\"crt\")\n",
    "            df_err_pred = finalRW(df_err,\"err\")\n",
    "\n",
    "        elif search_MIX1==1 and vary_ss==0 and vary_ssan==0 and alphabeta_ANnew==0:\n",
    "            [alpha[\"all\"], beta[\"all\"], s[\"all\"],\n",
    "             c[\"MIX\"], Old_crit[\"MIX\"], New_crit[\"MIX\"], t0[\"all\"],t0[\"ann\"], kao,\n",
    "             F[\"MIX_CM_oldiold_oldinew\"], L[\"MIX_CM_oldiold_newinew\"], L[\"MIX_CM_oldinew_newiold\"],\n",
    "             F[\"MIX_AN_oldiold_oldinew\"]]=\\\n",
    "            fitsel.iloc[i,:fitsel.shape[1]-2].astype(float).to_list()     \n",
    "\n",
    "            df_crt_sub=df_crt.copy()\n",
    "            df_crt_sub=df_crt_sub[df_crt_sub[\"FileCondi\"]==\"MIX\"]\n",
    "            df_err_sub=df_err.copy()\n",
    "            df_err_sub=df_err_sub[df_err_sub[\"FileCondi\"]==\"MIX\"]\n",
    "\n",
    "            df_crt_pred = finalRW(df_crt_sub,\"crt\")\n",
    "            df_err_pred = finalRW(df_err_sub,\"err\")\n",
    "        elif search_MIX2==1 and vary_ss==0 and vary_ssan==0:\n",
    "\n",
    "            [alpha[\"all\"], beta[\"all\"], s[\"all\"],\n",
    "             c[\"MIX2\"], Old_crit[\"MIX2\"], New_crit[\"MIX2\"], t0[\"all\"],t0[\"ann\"], kao,\n",
    "             F[\"MIX2_CM_oldiold_oldinew\"], L[\"MIX2_CM_oldiold_newinew\"], L[\"MIX2_CM_oldinew_newiold\"],\n",
    "             F[\"MIX2_AN_oldiold_oldinew\"]]=\\\n",
    "            fitsel.iloc[i,:fitsel.shape[1]-2].astype(float).to_list()\n",
    "\n",
    "            df_crt_sub=df_crt.copy()\n",
    "            df_crt_sub=df_crt_sub[df_crt_sub[\"FileCondi\"]==\"MIX2\"]\n",
    "            df_err_sub=df_err.copy()\n",
    "            df_err_sub=df_err_sub[df_err_sub[\"FileCondi\"]==\"MIX2\"]\n",
    "\n",
    "            df_crt_pred = finalRW(df_crt_sub,\"crt\")\n",
    "            df_err_pred = finalRW(df_err_sub,\"err\")\n",
    "        elif search_MIX1==1 and vary_ss==1:\n",
    "\n",
    "            [alpha[\"all\"], beta[\"all\"],s[\"ss2\"],s[\"ss4\"],s[\"ss8\"],\n",
    "             c[\"MIX\"], Old_crit[\"MIX\"], New_crit[\"MIX\"], t0[\"all\"],t0[\"ann\"], kao,\n",
    "             F[\"MIX_CM_oldiold_oldinew\"], L[\"MIX_CM_oldiold_newinew\"], L[\"MIX_CM_oldinew_newiold\"],\n",
    "             F[\"MIX_AN_oldiold_oldinew\"]]=\\\n",
    "            fitsel.iloc[i,:fitsel.shape[1]-2].astype(float).to_list()\n",
    "\n",
    "            df_crt_sub=df_crt.copy()\n",
    "            df_crt_sub=df_crt_sub[df_crt_sub[\"FileCondi\"]==\"MIX\"]\n",
    "            df_err_sub=df_err.copy()\n",
    "            df_err_sub=df_err_sub[df_err_sub[\"FileCondi\"]==\"MIX\"]\n",
    "\n",
    "            df_crt_pred = finalRW(df_crt_sub,\"crt\")\n",
    "            df_err_pred = finalRW(df_err_sub,\"err\")\n",
    "        elif search_MIX1==1 and vary_ss==0 and vary_ssan==1:\n",
    "            \n",
    "            [alpha[\"all\"], beta[\"all\"],s[\"all\"],s[\"ANnew\"],\n",
    "             c[\"MIX\"], Old_crit[\"MIX\"], New_crit[\"MIX\"], t0[\"all\"],t0[\"ann\"], kao,\n",
    "             F[\"MIX_CM_oldiold_oldinew\"], L[\"MIX_CM_oldiold_newinew\"], L[\"MIX_CM_oldinew_newiold\"],\n",
    "             F[\"MIX_AN_oldiold_oldinew\"]]=\\\n",
    "            fitsel.iloc[i,:fitsel.shape[1]-2].astype(float).to_list()\n",
    "\n",
    "            df_crt_sub=df_crt.copy()\n",
    "            df_crt_sub=df_crt_sub[df_crt_sub[\"FileCondi\"]==\"MIX\"]\n",
    "            df_err_sub=df_err.copy()\n",
    "            df_err_sub=df_err_sub[df_err_sub[\"FileCondi\"]==\"MIX\"]\n",
    "\n",
    "            df_crt_pred = finalRW(df_crt_sub,\"crt\")\n",
    "            df_err_pred = finalRW(df_err_sub,\"err\")\n",
    "        \n",
    "        elif search_MIX2==1 and vary_ss==0 and vary_ssan==1:\n",
    "            \n",
    "            [alpha[\"all\"], beta[\"all\"],s[\"all\"],s[\"ANnew\"],\n",
    "             c[\"MIX2\"], Old_crit[\"MIX2\"], New_crit[\"MIX2\"], t0[\"all\"],t0[\"ann\"], kao,\n",
    "             F[\"MIX2_CM_oldiold_oldinew\"], L[\"MIX2_CM_oldiold_newinew\"], L[\"MIX2_CM_oldinew_newiold\"],\n",
    "             F[\"MIX2_AN_oldiold_oldinew\"]]=\\\n",
    "            fitsel.iloc[i,:fitsel.shape[1]-2].astype(float).to_list()\n",
    "\n",
    "            df_crt_sub=df_crt.copy()\n",
    "            df_crt_sub=df_crt_sub[df_crt_sub[\"FileCondi\"]==\"MIX2\"]\n",
    "            df_err_sub=df_err.copy()\n",
    "            df_err_sub=df_err_sub[df_err_sub[\"FileCondi\"]==\"MIX2\"]\n",
    "\n",
    "            df_crt_pred = finalRW(df_crt_sub,\"crt\")\n",
    "            df_err_pred = finalRW(df_err_sub,\"err\")\n",
    "        elif search_MIX2==1 and vary_ss==1 and vary_ssan==0:\n",
    "            \n",
    "            [alpha[\"all\"], beta[\"all\"],s[\"ss2\"],s[\"ss4\"],s[\"ss8\"],\n",
    "             c[\"MIX2\"], Old_crit[\"MIX2\"], New_crit[\"MIX2\"], t0[\"all\"],t0[\"ann\"], kao,\n",
    "             F[\"MIX2_CM_oldiold_oldinew\"], L[\"MIX2_CM_oldiold_newinew\"], L[\"MIX2_CM_oldinew_newiold\"],\n",
    "             F[\"MIX2_AN_oldiold_oldinew\"]]=\\\n",
    "            fitsel.iloc[i,:fitsel.shape[1]-2].astype(float).to_list()\n",
    "\n",
    "            df_crt_sub=df_crt.copy()\n",
    "            df_crt_sub=df_crt_sub[df_crt_sub[\"FileCondi\"]==\"MIX2\"]\n",
    "            df_err_sub=df_err.copy()\n",
    "            df_err_sub=df_err_sub[df_err_sub[\"FileCondi\"]==\"MIX2\"]\n",
    "\n",
    "            df_crt_pred = finalRW(df_crt_sub,\"crt\")\n",
    "            df_err_pred = finalRW(df_err_sub,\"err\")\n",
    "            \n",
    "        elif alphabeta_ANnew==1 and search_MIX1==1:\n",
    "            \n",
    "            [alpha[\"all\"],alpha[\"ANnew\"], beta[\"all\"],beta[\"ANnew\"],s[\"all\"],\n",
    "             c[\"MIX2\"], Old_crit[\"MIX2\"], New_crit[\"MIX2\"], t0[\"all\"],t0[\"ann\"], kao,\n",
    "             F[\"MIX2_CM_oldiold_oldinew\"], L[\"MIX2_CM_oldiold_newinew\"], L[\"MIX2_CM_oldinew_newiold\"],\n",
    "             F[\"MIX2_AN_oldiold_oldinew\"]] = fitsel.iloc[i,:fitsel.shape[1]-2].astype(float).to_list()\n",
    "            \n",
    "            df_crt_sub=df_crt.copy()\n",
    "            df_crt_sub=df_crt_sub[df_crt_sub[\"FileCondi\"]==\"MIX\"]\n",
    "            df_err_sub=df_err.copy()\n",
    "            df_err_sub=df_err_sub[df_err_sub[\"FileCondi\"]==\"MIX\"]\n",
    "\n",
    "            df_crt_pred = finalRW(df_crt_sub,\"crt\")\n",
    "            df_err_pred = finalRW(df_err_sub,\"err\")\n",
    "            \n",
    "        else:\n",
    "            print(\"Something is wrong here *grant_plot\")\n",
    "\n",
    "\n",
    "            \n",
    "        print(\"**\",i,fitsel[\"wssd\"][i],\"**\")\n",
    "#         print(\"**\",i,calc_wssd(df_err_sub,df_crt_sub),\"**\")\n",
    "        \n",
    "        \n",
    "        if which==\"err\":\n",
    "\n",
    "            if true!=1: all_plot(df_err_pred,\"Pred_error\",(lowl,highl))\n",
    "            if i==fitsel.shape[0]-2 or npand(true==1,iter_range.size==1):\n",
    "                print(\"true\")\n",
    "                if search_MIX1==1: all_plot(df_err_pred[df_err_pred[\"FileCondi\"]==\"MIX\"],\"Error\",(lowl,highl))\n",
    "                if search_MIX2==1: all_plot(df_err_pred[df_err_pred[\"FileCondi\"]==\"MIX2\"],\"Error\",(lowl,highl)) \n",
    "\n",
    "        elif which==\"crt\":\n",
    "\n",
    "            if true!=1: all_plot(df_crt_pred,\"Pred_cRT\",(lowl,highl))\n",
    "            if i==fitsel.shape[0]-2 or npand(true==1,iter_range.size==1):\n",
    "                print(\"true\")\n",
    "                if search_MIX1==1: all_plot(df_crt[df_crt[\"FileCondi\"]==\"MIX\"],\"RT\",(lowl,highl))\n",
    "                if search_MIX2==1: all_plot(df_crt_sub,\"RT\",(lowl,highl))\n",
    "\n",
    "        \n",
    "        \n"
   ]
  },
  {
   "cell_type": "markdown",
   "metadata": {
    "kernel": "SoS"
   },
   "source": [
    "# **** PLOT"
   ]
  },
  {
   "cell_type": "markdown",
   "metadata": {
    "kernel": "Python3"
   },
   "source": [
    "## plot from julia"
   ]
  },
  {
   "cell_type": "code",
   "execution_count": 16,
   "metadata": {
    "kernel": "Python3",
    "scrolled": true
   },
   "outputs": [
    {
     "ename": "FileNotFoundError",
     "evalue": "[Errno 2] File b'2019-12-04T00:34:37.073_julia_MIX1_ss-revise-changeopt.csv' does not exist: b'2019-12-04T00:34:37.073_julia_MIX1_ss-revise-changeopt.csv'",
     "output_type": "error",
     "traceback": [
      "\u001b[1;31m---------------------------------------------------------------------------\u001b[0m",
      "\u001b[1;31mFileNotFoundError\u001b[0m                         Traceback (most recent call last)",
      "\u001b[1;32m<ipython-input-16-18300be23b4b>\u001b[0m in \u001b[0;36m<module>\u001b[1;34m\u001b[0m\n\u001b[0;32m     11\u001b[0m \u001b[1;33m\u001b[0m\u001b[0m\n\u001b[0;32m     12\u001b[0m \u001b[1;33m\u001b[0m\u001b[0m\n\u001b[1;32m---> 13\u001b[1;33m \u001b[0mfitsel\u001b[0m \u001b[1;33m=\u001b[0m \u001b[0mpd\u001b[0m\u001b[1;33m.\u001b[0m\u001b[0mread_csv\u001b[0m\u001b[1;33m(\u001b[0m\u001b[1;34m\"2019-12-04T00:34:37.073_julia_MIX1_ss-revise-changeopt.csv\"\u001b[0m\u001b[1;33m)\u001b[0m\u001b[1;33m\u001b[0m\u001b[1;33m\u001b[0m\u001b[0m\n\u001b[0m\u001b[0;32m     14\u001b[0m \u001b[0mfitsel\u001b[0m\u001b[1;33m=\u001b[0m\u001b[0mfitsel\u001b[0m\u001b[1;33m.\u001b[0m\u001b[0mjoin\u001b[0m\u001b[1;33m(\u001b[0m\u001b[0mpd\u001b[0m\u001b[1;33m.\u001b[0m\u001b[0mDataFrame\u001b[0m\u001b[1;33m(\u001b[0m\u001b[0mnp\u001b[0m\u001b[1;33m.\u001b[0m\u001b[0mzeros\u001b[0m\u001b[1;33m(\u001b[0m\u001b[0mfitsel\u001b[0m\u001b[1;33m.\u001b[0m\u001b[0mshape\u001b[0m\u001b[1;33m[\u001b[0m\u001b[1;36m1\u001b[0m\u001b[1;33m]\u001b[0m\u001b[1;33m)\u001b[0m\u001b[1;33m)\u001b[0m\u001b[1;33m)\u001b[0m\u001b[1;33m\u001b[0m\u001b[1;33m\u001b[0m\u001b[0m\n\u001b[0;32m     15\u001b[0m \u001b[0mfitsel\u001b[0m\u001b[1;33m\u001b[0m\u001b[1;33m\u001b[0m\u001b[0m\n",
      "\u001b[1;32m~\\.conda\\envs\\Lea\\lib\\site-packages\\pandas\\io\\parsers.py\u001b[0m in \u001b[0;36mparser_f\u001b[1;34m(filepath_or_buffer, sep, delimiter, header, names, index_col, usecols, squeeze, prefix, mangle_dupe_cols, dtype, engine, converters, true_values, false_values, skipinitialspace, skiprows, skipfooter, nrows, na_values, keep_default_na, na_filter, verbose, skip_blank_lines, parse_dates, infer_datetime_format, keep_date_col, date_parser, dayfirst, cache_dates, iterator, chunksize, compression, thousands, decimal, lineterminator, quotechar, quoting, doublequote, escapechar, comment, encoding, dialect, error_bad_lines, warn_bad_lines, delim_whitespace, low_memory, memory_map, float_precision)\u001b[0m\n\u001b[0;32m    683\u001b[0m         )\n\u001b[0;32m    684\u001b[0m \u001b[1;33m\u001b[0m\u001b[0m\n\u001b[1;32m--> 685\u001b[1;33m         \u001b[1;32mreturn\u001b[0m \u001b[0m_read\u001b[0m\u001b[1;33m(\u001b[0m\u001b[0mfilepath_or_buffer\u001b[0m\u001b[1;33m,\u001b[0m \u001b[0mkwds\u001b[0m\u001b[1;33m)\u001b[0m\u001b[1;33m\u001b[0m\u001b[1;33m\u001b[0m\u001b[0m\n\u001b[0m\u001b[0;32m    686\u001b[0m \u001b[1;33m\u001b[0m\u001b[0m\n\u001b[0;32m    687\u001b[0m     \u001b[0mparser_f\u001b[0m\u001b[1;33m.\u001b[0m\u001b[0m__name__\u001b[0m \u001b[1;33m=\u001b[0m \u001b[0mname\u001b[0m\u001b[1;33m\u001b[0m\u001b[1;33m\u001b[0m\u001b[0m\n",
      "\u001b[1;32m~\\.conda\\envs\\Lea\\lib\\site-packages\\pandas\\io\\parsers.py\u001b[0m in \u001b[0;36m_read\u001b[1;34m(filepath_or_buffer, kwds)\u001b[0m\n\u001b[0;32m    455\u001b[0m \u001b[1;33m\u001b[0m\u001b[0m\n\u001b[0;32m    456\u001b[0m     \u001b[1;31m# Create the parser.\u001b[0m\u001b[1;33m\u001b[0m\u001b[1;33m\u001b[0m\u001b[1;33m\u001b[0m\u001b[0m\n\u001b[1;32m--> 457\u001b[1;33m     \u001b[0mparser\u001b[0m \u001b[1;33m=\u001b[0m \u001b[0mTextFileReader\u001b[0m\u001b[1;33m(\u001b[0m\u001b[0mfp_or_buf\u001b[0m\u001b[1;33m,\u001b[0m \u001b[1;33m**\u001b[0m\u001b[0mkwds\u001b[0m\u001b[1;33m)\u001b[0m\u001b[1;33m\u001b[0m\u001b[1;33m\u001b[0m\u001b[0m\n\u001b[0m\u001b[0;32m    458\u001b[0m \u001b[1;33m\u001b[0m\u001b[0m\n\u001b[0;32m    459\u001b[0m     \u001b[1;32mif\u001b[0m \u001b[0mchunksize\u001b[0m \u001b[1;32mor\u001b[0m \u001b[0miterator\u001b[0m\u001b[1;33m:\u001b[0m\u001b[1;33m\u001b[0m\u001b[1;33m\u001b[0m\u001b[0m\n",
      "\u001b[1;32m~\\.conda\\envs\\Lea\\lib\\site-packages\\pandas\\io\\parsers.py\u001b[0m in \u001b[0;36m__init__\u001b[1;34m(self, f, engine, **kwds)\u001b[0m\n\u001b[0;32m    893\u001b[0m             \u001b[0mself\u001b[0m\u001b[1;33m.\u001b[0m\u001b[0moptions\u001b[0m\u001b[1;33m[\u001b[0m\u001b[1;34m\"has_index_names\"\u001b[0m\u001b[1;33m]\u001b[0m \u001b[1;33m=\u001b[0m \u001b[0mkwds\u001b[0m\u001b[1;33m[\u001b[0m\u001b[1;34m\"has_index_names\"\u001b[0m\u001b[1;33m]\u001b[0m\u001b[1;33m\u001b[0m\u001b[1;33m\u001b[0m\u001b[0m\n\u001b[0;32m    894\u001b[0m \u001b[1;33m\u001b[0m\u001b[0m\n\u001b[1;32m--> 895\u001b[1;33m         \u001b[0mself\u001b[0m\u001b[1;33m.\u001b[0m\u001b[0m_make_engine\u001b[0m\u001b[1;33m(\u001b[0m\u001b[0mself\u001b[0m\u001b[1;33m.\u001b[0m\u001b[0mengine\u001b[0m\u001b[1;33m)\u001b[0m\u001b[1;33m\u001b[0m\u001b[1;33m\u001b[0m\u001b[0m\n\u001b[0m\u001b[0;32m    896\u001b[0m \u001b[1;33m\u001b[0m\u001b[0m\n\u001b[0;32m    897\u001b[0m     \u001b[1;32mdef\u001b[0m \u001b[0mclose\u001b[0m\u001b[1;33m(\u001b[0m\u001b[0mself\u001b[0m\u001b[1;33m)\u001b[0m\u001b[1;33m:\u001b[0m\u001b[1;33m\u001b[0m\u001b[1;33m\u001b[0m\u001b[0m\n",
      "\u001b[1;32m~\\.conda\\envs\\Lea\\lib\\site-packages\\pandas\\io\\parsers.py\u001b[0m in \u001b[0;36m_make_engine\u001b[1;34m(self, engine)\u001b[0m\n\u001b[0;32m   1133\u001b[0m     \u001b[1;32mdef\u001b[0m \u001b[0m_make_engine\u001b[0m\u001b[1;33m(\u001b[0m\u001b[0mself\u001b[0m\u001b[1;33m,\u001b[0m \u001b[0mengine\u001b[0m\u001b[1;33m=\u001b[0m\u001b[1;34m\"c\"\u001b[0m\u001b[1;33m)\u001b[0m\u001b[1;33m:\u001b[0m\u001b[1;33m\u001b[0m\u001b[1;33m\u001b[0m\u001b[0m\n\u001b[0;32m   1134\u001b[0m         \u001b[1;32mif\u001b[0m \u001b[0mengine\u001b[0m \u001b[1;33m==\u001b[0m \u001b[1;34m\"c\"\u001b[0m\u001b[1;33m:\u001b[0m\u001b[1;33m\u001b[0m\u001b[1;33m\u001b[0m\u001b[0m\n\u001b[1;32m-> 1135\u001b[1;33m             \u001b[0mself\u001b[0m\u001b[1;33m.\u001b[0m\u001b[0m_engine\u001b[0m \u001b[1;33m=\u001b[0m \u001b[0mCParserWrapper\u001b[0m\u001b[1;33m(\u001b[0m\u001b[0mself\u001b[0m\u001b[1;33m.\u001b[0m\u001b[0mf\u001b[0m\u001b[1;33m,\u001b[0m \u001b[1;33m**\u001b[0m\u001b[0mself\u001b[0m\u001b[1;33m.\u001b[0m\u001b[0moptions\u001b[0m\u001b[1;33m)\u001b[0m\u001b[1;33m\u001b[0m\u001b[1;33m\u001b[0m\u001b[0m\n\u001b[0m\u001b[0;32m   1136\u001b[0m         \u001b[1;32melse\u001b[0m\u001b[1;33m:\u001b[0m\u001b[1;33m\u001b[0m\u001b[1;33m\u001b[0m\u001b[0m\n\u001b[0;32m   1137\u001b[0m             \u001b[1;32mif\u001b[0m \u001b[0mengine\u001b[0m \u001b[1;33m==\u001b[0m \u001b[1;34m\"python\"\u001b[0m\u001b[1;33m:\u001b[0m\u001b[1;33m\u001b[0m\u001b[1;33m\u001b[0m\u001b[0m\n",
      "\u001b[1;32m~\\.conda\\envs\\Lea\\lib\\site-packages\\pandas\\io\\parsers.py\u001b[0m in \u001b[0;36m__init__\u001b[1;34m(self, src, **kwds)\u001b[0m\n\u001b[0;32m   1915\u001b[0m         \u001b[0mkwds\u001b[0m\u001b[1;33m[\u001b[0m\u001b[1;34m\"usecols\"\u001b[0m\u001b[1;33m]\u001b[0m \u001b[1;33m=\u001b[0m \u001b[0mself\u001b[0m\u001b[1;33m.\u001b[0m\u001b[0musecols\u001b[0m\u001b[1;33m\u001b[0m\u001b[1;33m\u001b[0m\u001b[0m\n\u001b[0;32m   1916\u001b[0m \u001b[1;33m\u001b[0m\u001b[0m\n\u001b[1;32m-> 1917\u001b[1;33m         \u001b[0mself\u001b[0m\u001b[1;33m.\u001b[0m\u001b[0m_reader\u001b[0m \u001b[1;33m=\u001b[0m \u001b[0mparsers\u001b[0m\u001b[1;33m.\u001b[0m\u001b[0mTextReader\u001b[0m\u001b[1;33m(\u001b[0m\u001b[0msrc\u001b[0m\u001b[1;33m,\u001b[0m \u001b[1;33m**\u001b[0m\u001b[0mkwds\u001b[0m\u001b[1;33m)\u001b[0m\u001b[1;33m\u001b[0m\u001b[1;33m\u001b[0m\u001b[0m\n\u001b[0m\u001b[0;32m   1918\u001b[0m         \u001b[0mself\u001b[0m\u001b[1;33m.\u001b[0m\u001b[0munnamed_cols\u001b[0m \u001b[1;33m=\u001b[0m \u001b[0mself\u001b[0m\u001b[1;33m.\u001b[0m\u001b[0m_reader\u001b[0m\u001b[1;33m.\u001b[0m\u001b[0munnamed_cols\u001b[0m\u001b[1;33m\u001b[0m\u001b[1;33m\u001b[0m\u001b[0m\n\u001b[0;32m   1919\u001b[0m \u001b[1;33m\u001b[0m\u001b[0m\n",
      "\u001b[1;32mpandas/_libs/parsers.pyx\u001b[0m in \u001b[0;36mpandas._libs.parsers.TextReader.__cinit__\u001b[1;34m()\u001b[0m\n",
      "\u001b[1;32mpandas/_libs/parsers.pyx\u001b[0m in \u001b[0;36mpandas._libs.parsers.TextReader._setup_parser_source\u001b[1;34m()\u001b[0m\n",
      "\u001b[1;31mFileNotFoundError\u001b[0m: [Errno 2] File b'2019-12-04T00:34:37.073_julia_MIX1_ss-revise-changeopt.csv' does not exist: b'2019-12-04T00:34:37.073_julia_MIX1_ss-revise-changeopt.csv'"
     ]
    }
   ],
   "source": [
    "global vary_ss, give_c2, vary_ssan\n",
    "vary_ss=1\n",
    "vary_ssan=0\n",
    "give_c2=0\n",
    "\n",
    "global nameset,is_search_allcondi_besideCMat,search_MIX1\n",
    "is_search_allcondi_besideCMat=0\n",
    "search_MIX1 = 1\n",
    "search_MIX2 = 0\n",
    "nameset = df_org[\"FileCondi\"].astype(\"category\").cat.categories.to_numpy()\n",
    "\n",
    "\n",
    "fitsel = pd.read_csv(\"2019-12-04T00:34:37.073_julia_MIX1_ss-revise-changeopt.csv\")\n",
    "fitsel=fitsel.join(pd.DataFrame(np.zeros(fitsel.shape[1])))\n",
    "fitsel\n",
    "# grant_plot(fitsel,\"crt\",700,1000)\n",
    "grant_plot(fitsel,\"err\",0,0.3)"
   ]
  },
  {
   "cell_type": "code",
   "execution_count": 60,
   "metadata": {
    "kernel": "Python3"
   },
   "outputs": [
    {
     "data": {
      "text/plain": [
       "(5, 17)"
      ]
     },
     "execution_count": 60,
     "metadata": {},
     "output_type": "execute_result"
    }
   ],
   "source": [
    "fitsel.shape"
   ]
  },
  {
   "cell_type": "markdown",
   "metadata": {
    "kernel": "Python3"
   },
   "source": [
    "## plot from python"
   ]
  },
  {
   "cell_type": "code",
   "execution_count": 160,
   "metadata": {
    "kernel": "Python3"
   },
   "outputs": [],
   "source": [
    "fitsel = pd.read_csv(\"12_02_12_33_puresingle_test_MIX2_vary_ss.csv\").iloc[:,1:]\n",
    "[alpha[\"all\"], beta[\"all\"],s[\"ss2\"],s[\"ss4\"],s[\"ss8\"],\n",
    "             c[\"MIX2\"], Old_crit[\"MIX2\"], New_crit[\"MIX2\"], t0[\"all\"],t0[\"ann\"], kao,\n",
    "             F[\"MIX2_CM_oldiold_oldinew\"], L[\"MIX2_CM_oldiold_newinew\"], L[\"MIX2_CM_oldinew_newiold\"],\n",
    "             F[\"MIX2_AN_oldiold_oldinew\"]]=\\\n",
    "            fitsel.iloc[4,:fitsel.shape[1]-2].astype(float).to_list()"
   ]
  },
  {
   "cell_type": "code",
   "execution_count": 162,
   "metadata": {
    "kernel": "Python3",
    "scrolled": true
   },
   "outputs": [
    {
     "name": "stdout",
     "output_type": "stream",
     "text": [
      "\n",
      "----- [870.19223099 890.89858791 888.59984014 914.59538661 961.01156487\n",
      " 982.80175074 796.58989351 903.45306302 800.74709369 895.76442874\n",
      " 796.21508163 898.58431139 963.45500298 991.62027121 800.36210807\n",
      " 891.93344684 941.00978192 961.91748483 795.03269007 884.97256904\n",
      " 938.98511627 963.10900325 974.61318122 980.73911315 984.31807087\n",
      " 986.56519834 799.14474418 881.03398334 922.87806271 940.75450608\n",
      " 949.24824902 953.78767056 956.45015203 958.12702553] 2       896.760000\n",
      "5       866.102908\n",
      "9       887.398649\n",
      "12      909.243956\n",
      "16      937.880392\n",
      "19     1012.118812\n",
      "23      798.801653\n",
      "26      781.254310\n",
      "29      802.816667\n",
      "32      930.840376\n",
      "37      767.435185\n",
      "40      883.847458\n",
      "43      896.247191\n",
      "46     1006.974138\n",
      "49      783.481481\n",
      "52      901.890909\n",
      "55      970.726415\n",
      "58      984.019802\n",
      "65      914.150000\n",
      "68      907.671875\n",
      "71     1001.629032\n",
      "74     1006.745455\n",
      "77      983.275000\n",
      "80      981.147541\n",
      "83     1006.672131\n",
      "86      936.770492\n",
      "89      775.457627\n",
      "92      842.078125\n",
      "95      963.500000\n",
      "98      960.757143\n",
      "101     939.774194\n",
      "104     980.000000\n",
      "107     896.360000\n",
      "110     919.255319\n",
      "Name: RT, dtype: float64\n"
     ]
    }
   ],
   "source": [
    "vary_ss=1\n",
    "vary_ssan=0\n",
    "give_c2=0\n",
    "\n",
    "global nameset,is_search_allcondi_besideCMat,search_MIX1\n",
    "is_search_allcondi_besideCMat=0\n",
    "search_MIX1 = 0\n",
    "search_MIX2 = 1\n",
    "\n",
    "\n",
    "name=\"MIX2\"\n",
    "df_sub_err = df_err.copy()\n",
    "df_sub_crt = df_crt.copy()\n",
    "df_sub_err=df_sub_err[df_sub_err[\"FileCondi\"]==name]\n",
    "df_sub_crt=df_sub_crt[df_sub_crt[\"FileCondi\"]==name]\n",
    "print(\"\\n-----\",calc_theoretical_RW(df_sub_crt,\"crt\"),df_sub_crt[\"RT\"])\n",
    "# print(\"\\n-----\",calcA(df_sub_crt))"
   ]
  },
  {
   "cell_type": "code",
   "execution_count": null,
   "metadata": {
    "kernel": "Python3"
   },
   "outputs": [],
   "source": []
  },
  {
   "cell_type": "code",
   "execution_count": 219,
   "metadata": {
    "kernel": "Python3",
    "scrolled": true
   },
   "outputs": [
    {
     "name": "stdout",
     "output_type": "stream",
     "text": [
      "** 6 1.3060985380122634 **\n"
     ]
    },
    {
     "data": {
      "image/png": "[encoded data removed]",
      "text/plain": [
       "<Figure size 1152x576 with 6 Axes>"
      ]
     },
     "metadata": {
      "needs_background": "light"
     },
     "output_type": "display_data"
    },
    {
     "data": {
      "text/plain": [
       "<Figure size 432x288 with 0 Axes>"
      ]
     },
     "metadata": {},
     "output_type": "display_data"
    },
    {
     "name": "stdout",
     "output_type": "stream",
     "text": [
      "** 6 1.3060985380122634 **\n"
     ]
    },
    {
     "data": {
      "image/png": "[encoded data removed]",
      "text/plain": [
       "<Figure size 1152x576 with 6 Axes>"
      ]
     },
     "metadata": {
      "needs_background": "light"
     },
     "output_type": "display_data"
    },
    {
     "data": {
      "text/plain": [
       "<Figure size 432x288 with 0 Axes>"
      ]
     },
     "metadata": {},
     "output_type": "display_data"
    },
    {
     "name": "stderr",
     "output_type": "stream",
     "text": [
      "/home/shulai/anaconda3/envs/Lea/lib/python3.7/site-packages/ipykernel_launcher.py:21: SettingWithCopyWarning: \n",
      "A value is trying to be set on a copy of a slice from a DataFrame\n",
      "\n",
      "See the caveats in the documentation: http://pandas.pydata.org/pandas-docs/stable/user_guide/indexing.html#returning-a-view-versus-a-copy\n"
     ]
    },
    {
     "name": "stdout",
     "output_type": "stream",
     "text": [
      "** 6 1.3060985380122634 **\n"
     ]
    },
    {
     "data": {
      "image/png": "[encoded data removed]",
      "text/plain": [
       "<Figure size 1152x576 with 6 Axes>"
      ]
     },
     "metadata": {
      "needs_background": "light"
     },
     "output_type": "display_data"
    },
    {
     "data": {
      "text/plain": [
       "<Figure size 432x288 with 0 Axes>"
      ]
     },
     "metadata": {},
     "output_type": "display_data"
    },
    {
     "name": "stdout",
     "output_type": "stream",
     "text": [
      "** 6 1.3060985380122634 **\n"
     ]
    },
    {
     "data": {
      "image/png": "[encoded data removed]",
      "text/plain": [
       "<Figure size 1152x576 with 6 Axes>"
      ]
     },
     "metadata": {
      "needs_background": "light"
     },
     "output_type": "display_data"
    },
    {
     "data": {
      "text/plain": [
       "<Figure size 432x288 with 0 Axes>"
      ]
     },
     "metadata": {},
     "output_type": "display_data"
    }
   ],
   "source": [
    "global vary_ss, give_c2, vary_ssan, alphabeta_ANnew\n",
    "vary_ss=0\n",
    "vary_ssan=0\n",
    "give_c2=0\n",
    "alphabeta_ANnew=1\n",
    "\n",
    "global nameset,is_search_allcondi_besideCMat,search_MIX1\n",
    "is_search_allcondi_besideCMat=0\n",
    "search_MIX1 = 1\n",
    "search_MIX2 = 0\n",
    "\n",
    "# nm=\"12_02_12_33_puresingle_test_MIX2_vary_ss.csv\"\n",
    "nm = \"2019-12-04T05:16:46_single_test_MIX1_alphabeta-ANnew.csv\"\n",
    "fitsel = pd.read_csv(nm).iloc[:,1:]\n",
    "# fitsel.shape\n",
    "which_pic=6\n",
    "\n",
    "grant_plot(fitsel,\"crt\",780,1040,is_grant=0,which_pic=which_pic)\n",
    "grant_plot(fitsel,\"err\",0,0.3,is_grant=0,which_pic=which_pic)\n",
    "\n",
    "fitsel[\"t0\"][which_pic]=638\n",
    "\n",
    "grant_plot(fitsel,\"crt\",780,1040,is_grant=0,which_pic=which_pic)\n",
    "grant_plot(fitsel,\"err\",0,0.3,is_grant=0,which_pic=which_pic)\n",
    "\n",
    "\n",
    "# grant_plot(fitsel,\"crt\",780,1040,true=1)\n",
    "# grant_plot(fitsel,\"err\",0,0.3,true=1)"
   ]
  },
  {
   "cell_type": "code",
   "execution_count": 171,
   "metadata": {
    "kernel": "Python3"
   },
   "outputs": [
    {
     "data": {
      "text/html": [
       "<div>\n",
       "<style scoped>\n",
       "    .dataframe tbody tr th:only-of-type {\n",
       "        vertical-align: middle;\n",
       "    }\n",
       "\n",
       "    .dataframe tbody tr th {\n",
       "        vertical-align: top;\n",
       "    }\n",
       "\n",
       "    .dataframe thead th {\n",
       "        text-align: right;\n",
       "    }\n",
       "</style>\n",
       "<table border=\"1\" class=\"dataframe\">\n",
       "  <thead>\n",
       "    <tr style=\"text-align: right;\">\n",
       "      <th></th>\n",
       "      <th>alpha</th>\n",
       "      <th>beta</th>\n",
       "      <th>s_ss2</th>\n",
       "      <th>s_ss4</th>\n",
       "      <th>s_ss8</th>\n",
       "      <th>c</th>\n",
       "      <th>old_crt</th>\n",
       "      <th>new_crt</th>\n",
       "      <th>t0</th>\n",
       "      <th>t0ann</th>\n",
       "      <th>kappa</th>\n",
       "      <th>F_cmoonn</th>\n",
       "      <th>L_cmoonn</th>\n",
       "      <th>Lcmonno</th>\n",
       "      <th>an_oool</th>\n",
       "      <th>wssd</th>\n",
       "      <th>w</th>\n",
       "    </tr>\n",
       "  </thead>\n",
       "  <tbody>\n",
       "    <tr>\n",
       "      <th>0</th>\n",
       "      <td>0.243584349170678</td>\n",
       "      <td>2.29576438126046</td>\n",
       "      <td>0.01</td>\n",
       "      <td>0.013194592807346</td>\n",
       "      <td>0.021462827426077</td>\n",
       "      <td>0.200461958126083</td>\n",
       "      <td>3.82795730370735</td>\n",
       "      <td>-3.6028704054025</td>\n",
       "      <td>638.730233835774</td>\n",
       "      <td>742.716726397961</td>\n",
       "      <td>29.8942157715742</td>\n",
       "      <td>0.056204960874706</td>\n",
       "      <td>0.043945120786779</td>\n",
       "      <td>0.033945120789737</td>\n",
       "      <td>1.29965679563005E-11</td>\n",
       "      <td>3.201999</td>\n",
       "      <td>new_rt:50</td>\n",
       "    </tr>\n",
       "    <tr>\n",
       "      <th>1</th>\n",
       "      <td>0.244027927068505</td>\n",
       "      <td>2.2938744068807</td>\n",
       "      <td>0.010000000000111</td>\n",
       "      <td>0.013201351379523</td>\n",
       "      <td>0.021466016963274</td>\n",
       "      <td>0.200821380871323</td>\n",
       "      <td>3.82825713947544</td>\n",
       "      <td>-3.60258779946881</td>\n",
       "      <td>638.571285947617</td>\n",
       "      <td>742.676947828319</td>\n",
       "      <td>29.9081794539222</td>\n",
       "      <td>0.056321985043696</td>\n",
       "      <td>0.044019365958745</td>\n",
       "      <td>0.034019365958948</td>\n",
       "      <td>1.91712562233586E-13</td>\n",
       "      <td>3.222514</td>\n",
       "      <td>old_rt:10</td>\n",
       "    </tr>\n",
       "    <tr>\n",
       "      <th>2</th>\n",
       "      <td>0.257812165732617</td>\n",
       "      <td>2.24736095108911</td>\n",
       "      <td>0.01</td>\n",
       "      <td>0.013305596734106</td>\n",
       "      <td>0.021634634363348</td>\n",
       "      <td>0.211571360601621</td>\n",
       "      <td>3.92320731328931</td>\n",
       "      <td>-3.63307345009048</td>\n",
       "      <td>635.582935810951</td>\n",
       "      <td>745.315560393506</td>\n",
       "      <td>29.2589959257338</td>\n",
       "      <td>0.060926024106956</td>\n",
       "      <td>0.04836335474817</td>\n",
       "      <td>0.038363354748172</td>\n",
       "      <td>0</td>\n",
       "      <td>3.759242</td>\n",
       "      <td>new_err:5</td>\n",
       "    </tr>\n",
       "    <tr>\n",
       "      <th>3</th>\n",
       "      <td>0.151105232569456</td>\n",
       "      <td>2.65791490956432</td>\n",
       "      <td>0.010000000031572</td>\n",
       "      <td>0.0132211556471</td>\n",
       "      <td>0.022399906575411</td>\n",
       "      <td>0.167987545164338</td>\n",
       "      <td>3.80302831767269</td>\n",
       "      <td>-4.09485800231419</td>\n",
       "      <td>689.342266015696</td>\n",
       "      <td>701.652332448786</td>\n",
       "      <td>22.2998105676819</td>\n",
       "      <td>0.057252919795242</td>\n",
       "      <td>0.013601068076938</td>\n",
       "      <td>0.003601068106534</td>\n",
       "      <td>0.036551289402449</td>\n",
       "      <td>0.836318</td>\n",
       "      <td>old_err:1</td>\n",
       "    </tr>\n",
       "    <tr>\n",
       "      <th>4</th>\n",
       "      <td>0.241966169988135</td>\n",
       "      <td>2.30191523706527</td>\n",
       "      <td>0.010000000000381</td>\n",
       "      <td>0.013179119717044</td>\n",
       "      <td>0.02143127519917</td>\n",
       "      <td>0.199082109593695</td>\n",
       "      <td>3.81700827093649</td>\n",
       "      <td>-3.59791017720972</td>\n",
       "      <td>638.976779642932</td>\n",
       "      <td>742.314322964718</td>\n",
       "      <td>29.9951899380152</td>\n",
       "      <td>0.055647341104556</td>\n",
       "      <td>0.043399227006582</td>\n",
       "      <td>0.033399227002703</td>\n",
       "      <td>0</td>\n",
       "      <td>3.149768</td>\n",
       "      <td>--------------</td>\n",
       "    </tr>\n",
       "    <tr>\n",
       "      <th>5</th>\n",
       "      <td>0.2451262106944</td>\n",
       "      <td>2.28976432609157</td>\n",
       "      <td>0.01</td>\n",
       "      <td>0.013216438232755</td>\n",
       "      <td>0.021491653576453</td>\n",
       "      <td>0.201817415871007</td>\n",
       "      <td>3.83288710223022</td>\n",
       "      <td>-3.60702066014934</td>\n",
       "      <td>638.449938511143</td>\n",
       "      <td>742.844620096586</td>\n",
       "      <td>29.8504229523005</td>\n",
       "      <td>0.056634374199839</td>\n",
       "      <td>0.044348636700855</td>\n",
       "      <td>0.03434863670085</td>\n",
       "      <td>1.63891775567511E-15</td>\n",
       "      <td>3.256967</td>\n",
       "      <td>--------------</td>\n",
       "    </tr>\n",
       "    <tr>\n",
       "      <th>6</th>\n",
       "      <td>0.150143073831689</td>\n",
       "      <td>2.66512104276131</td>\n",
       "      <td>0.01</td>\n",
       "      <td>0.013204652690356</td>\n",
       "      <td>0.022360100444448</td>\n",
       "      <td>0.166727773528468</td>\n",
       "      <td>3.81168417046603</td>\n",
       "      <td>-4.08876611291778</td>\n",
       "      <td>689.414121002821</td>\n",
       "      <td>701.768171140926</td>\n",
       "      <td>22.275744103188</td>\n",
       "      <td>0.056964238182511</td>\n",
       "      <td>0.01359208066483</td>\n",
       "      <td>0.003592080664735</td>\n",
       "      <td>0.036357785643444</td>\n",
       "      <td>0.840368</td>\n",
       "      <td>--------------</td>\n",
       "    </tr>\n",
       "    <tr>\n",
       "      <th>7</th>\n",
       "      <td>0.01 ~ 1.0</td>\n",
       "      <td>0.01 ~ 3.0</td>\n",
       "      <td>0.01 ~ 1.0</td>\n",
       "      <td>0.01 ~ 1.0</td>\n",
       "      <td>0.01 ~ 1.0</td>\n",
       "      <td>0.01 ~ 2.0</td>\n",
       "      <td>1.0 ~ 8.0</td>\n",
       "      <td>-8.0 ~ -1.0</td>\n",
       "      <td>100.0 ~ 800.0</td>\n",
       "      <td>100.0 ~ 800.0</td>\n",
       "      <td>5.0 ~ 100.0</td>\n",
       "      <td>0.0 ~ 2.0</td>\n",
       "      <td>0.0 ~ 2.0</td>\n",
       "      <td>0.0 ~ 2.0</td>\n",
       "      <td>0.0 ~ 2.0</td>\n",
       "      <td>0.000000</td>\n",
       "      <td>--------------</td>\n",
       "    </tr>\n",
       "  </tbody>\n",
       "</table>\n",
       "</div>"
      ],
      "text/plain": [
       "               alpha              beta              s_ss2              s_ss4  \\\n",
       "0  0.243584349170678  2.29576438126046               0.01  0.013194592807346   \n",
       "1  0.244027927068505   2.2938744068807  0.010000000000111  0.013201351379523   \n",
       "2  0.257812165732617  2.24736095108911               0.01  0.013305596734106   \n",
       "3  0.151105232569456  2.65791490956432  0.010000000031572    0.0132211556471   \n",
       "4  0.241966169988135  2.30191523706527  0.010000000000381  0.013179119717044   \n",
       "5    0.2451262106944  2.28976432609157               0.01  0.013216438232755   \n",
       "6  0.150143073831689  2.66512104276131               0.01  0.013204652690356   \n",
       "7         0.01 ~ 1.0        0.01 ~ 3.0         0.01 ~ 1.0         0.01 ~ 1.0   \n",
       "\n",
       "               s_ss8                  c           old_crt            new_crt  \\\n",
       "0  0.021462827426077  0.200461958126083  3.82795730370735   -3.6028704054025   \n",
       "1  0.021466016963274  0.200821380871323  3.82825713947544  -3.60258779946881   \n",
       "2  0.021634634363348  0.211571360601621  3.92320731328931  -3.63307345009048   \n",
       "3  0.022399906575411  0.167987545164338  3.80302831767269  -4.09485800231419   \n",
       "4   0.02143127519917  0.199082109593695  3.81700827093649  -3.59791017720972   \n",
       "5  0.021491653576453  0.201817415871007  3.83288710223022  -3.60702066014934   \n",
       "6  0.022360100444448  0.166727773528468  3.81168417046603  -4.08876611291778   \n",
       "7         0.01 ~ 1.0         0.01 ~ 2.0         1.0 ~ 8.0        -8.0 ~ -1.0   \n",
       "\n",
       "                 t0             t0ann             kappa           F_cmoonn  \\\n",
       "0  638.730233835774  742.716726397961  29.8942157715742  0.056204960874706   \n",
       "1  638.571285947617  742.676947828319  29.9081794539222  0.056321985043696   \n",
       "2  635.582935810951  745.315560393506  29.2589959257338  0.060926024106956   \n",
       "3  689.342266015696  701.652332448786  22.2998105676819  0.057252919795242   \n",
       "4  638.976779642932  742.314322964718  29.9951899380152  0.055647341104556   \n",
       "5  638.449938511143  742.844620096586  29.8504229523005  0.056634374199839   \n",
       "6  689.414121002821  701.768171140926   22.275744103188  0.056964238182511   \n",
       "7     100.0 ~ 800.0     100.0 ~ 800.0       5.0 ~ 100.0          0.0 ~ 2.0   \n",
       "\n",
       "            L_cmoonn            Lcmonno               an_oool      wssd  \\\n",
       "0  0.043945120786779  0.033945120789737  1.29965679563005E-11  3.201999   \n",
       "1  0.044019365958745  0.034019365958948  1.91712562233586E-13  3.222514   \n",
       "2   0.04836335474817  0.038363354748172                     0  3.759242   \n",
       "3  0.013601068076938  0.003601068106534     0.036551289402449  0.836318   \n",
       "4  0.043399227006582  0.033399227002703                     0  3.149768   \n",
       "5  0.044348636700855   0.03434863670085  1.63891775567511E-15  3.256967   \n",
       "6   0.01359208066483  0.003592080664735     0.036357785643444  0.840368   \n",
       "7          0.0 ~ 2.0          0.0 ~ 2.0             0.0 ~ 2.0  0.000000   \n",
       "\n",
       "                w  \n",
       "0       new_rt:50  \n",
       "1       old_rt:10  \n",
       "2       new_err:5  \n",
       "3       old_err:1  \n",
       "4  --------------  \n",
       "5  --------------  \n",
       "6  --------------  \n",
       "7  --------------  "
      ]
     },
     "execution_count": 171,
     "metadata": {},
     "output_type": "execute_result"
    }
   ],
   "source": [
    "fitsel"
   ]
  },
  {
   "cell_type": "code",
   "execution_count": 42,
   "metadata": {
    "kernel": "Python3"
   },
   "outputs": [
    {
     "name": "stdout",
     "output_type": "stream",
     "text": [
      "\n",
      "----- [865.53798959 897.85015453 896.93651759 927.7521595  950.58403169\n",
      " 969.13538194 797.62477513 909.3138519  803.29815496 909.97438253\n",
      " 797.04536884 900.33564956 956.98087733 978.79290916 802.67106432\n",
      " 902.27406424 949.38973724 967.0654272  795.87044622 887.28589945\n",
      " 935.65204826 954.92389675 963.52112294 967.90681992 970.38994257\n",
      " 971.91061203 801.39688276 890.86648612 931.99302843 947.72184492\n",
      " 954.68645857 958.23638184 960.24705695 961.47902061]\n"
     ]
    }
   ],
   "source": [
    "global vary_ss, give_c2, vary_ssan, alphabeta_ANnew\n",
    "vary_ss=1\n",
    "vary_ssan=0\n",
    "give_c2=0\n",
    "alphabeta_ANnew=0\n",
    "\n",
    "global nameset,is_search_allcondi_besideCMat,search_MIX1\n",
    "is_search_allcondi_besideCMat=0\n",
    "search_MIX1 = 0\n",
    "search_MIX2 = 1\n",
    "\n",
    "# nm=\"12_02_12_33_puresingle_test_MIX2_vary_ss.csv\"\n",
    "# nm = \"2019-12-04T05:16:46_single_test_MIX1_alphabeta-ANnew.csv\"\n",
    "# nm=\"2019-12-04T08_55_55_single_test_MIX1_ssANnew-FinalAdj.csv\"\n",
    "nm=\"12_04_12_28_puresingle_test_MIX2_vary_ss.csv\"\n",
    "fitsel = pd.read_csv(nm).iloc[:,1:]\n",
    "\n",
    "[alpha[\"all\"], beta[\"all\"],s[\"ss2\"],s[\"ss4\"],s[\"ss8\"],\n",
    "             c[\"MIX2\"], Old_crit[\"MIX2\"], New_crit[\"MIX2\"], t0[\"all\"],t0[\"ann\"], kao,\n",
    "             F[\"MIX2_CM_oldiold_oldinew\"], L[\"MIX2_CM_oldiold_newinew\"], L[\"MIX2_CM_oldinew_newiold\"],\n",
    "             F[\"MIX2_AN_oldiold_oldinew\"]]=\\\n",
    "            fitsel.iloc[2,:fitsel.shape[1]-2].astype(float).to_list()\n",
    "\n",
    "name=\"MIX2\"\n",
    "df_sub_err = df_err.copy()\n",
    "df_sub_crt = df_crt.copy()\n",
    "df_sub_err=df_sub_err[df_sub_err[\"FileCondi\"]==name]\n",
    "df_sub_crt=df_sub_crt[df_sub_crt[\"FileCondi\"]==name]\n",
    "print(\"\\n-----\",calc_theoretical_RW(df_sub_crt,\"crt\"))\n",
    "# print(\"\\n-----\",calcA(df_sub_crt))\n",
    "# print(\"\\n-----\",calcp(df_sub_crt))\n",
    "\n",
    "\n",
    "# grant_plot(fitsel,\"crt\",0,2000)\n",
    "# grant_plot(fitsel,\"err\",0,1)"
   ]
  },
  {
   "cell_type": "code",
   "execution_count": 234,
   "metadata": {
    "kernel": "Python3"
   },
   "outputs": [
    {
     "data": {
      "text/html": [
       "<div>\n",
       "<style scoped>\n",
       "    .dataframe tbody tr th:only-of-type {\n",
       "        vertical-align: middle;\n",
       "    }\n",
       "\n",
       "    .dataframe tbody tr th {\n",
       "        vertical-align: top;\n",
       "    }\n",
       "\n",
       "    .dataframe thead th {\n",
       "        text-align: right;\n",
       "    }\n",
       "</style>\n",
       "<table border=\"1\" class=\"dataframe\">\n",
       "  <thead>\n",
       "    <tr style=\"text-align: right;\">\n",
       "      <th></th>\n",
       "      <th>alpha</th>\n",
       "      <th>beta</th>\n",
       "      <th>s_ss2</th>\n",
       "      <th>s_ss4</th>\n",
       "      <th>s_ss8</th>\n",
       "      <th>c</th>\n",
       "      <th>old_crt</th>\n",
       "      <th>new_crt</th>\n",
       "      <th>t0</th>\n",
       "      <th>t0ann</th>\n",
       "      <th>kappa</th>\n",
       "      <th>F_cmoonn</th>\n",
       "      <th>L_cmoonn</th>\n",
       "      <th>Lcmonno</th>\n",
       "      <th>an_oool</th>\n",
       "      <th>wssd</th>\n",
       "      <th>w</th>\n",
       "    </tr>\n",
       "  </thead>\n",
       "  <tbody>\n",
       "    <tr>\n",
       "      <th>0</th>\n",
       "      <td>0.243584349170678</td>\n",
       "      <td>2.29576438126046</td>\n",
       "      <td>0.01</td>\n",
       "      <td>0.013194592807346</td>\n",
       "      <td>0.021462827426077</td>\n",
       "      <td>0.200461958126083</td>\n",
       "      <td>3.82795730370735</td>\n",
       "      <td>-3.6028704054025</td>\n",
       "      <td>638.730233835774</td>\n",
       "      <td>742.716726397961</td>\n",
       "      <td>29.8942157715742</td>\n",
       "      <td>0.056204960874706</td>\n",
       "      <td>0.043945120786779</td>\n",
       "      <td>0.033945120789737</td>\n",
       "      <td>1.29965679563005E-11</td>\n",
       "      <td>3.201999</td>\n",
       "      <td>new_rt:50</td>\n",
       "    </tr>\n",
       "    <tr>\n",
       "      <th>1</th>\n",
       "      <td>0.244027927068505</td>\n",
       "      <td>2.2938744068807</td>\n",
       "      <td>0.010000000000111</td>\n",
       "      <td>0.013201351379523</td>\n",
       "      <td>0.021466016963274</td>\n",
       "      <td>0.200821380871323</td>\n",
       "      <td>3.82825713947544</td>\n",
       "      <td>-3.60258779946881</td>\n",
       "      <td>638.571285947617</td>\n",
       "      <td>742.676947828319</td>\n",
       "      <td>29.9081794539222</td>\n",
       "      <td>0.056321985043696</td>\n",
       "      <td>0.044019365958745</td>\n",
       "      <td>0.034019365958948</td>\n",
       "      <td>1.91712562233586E-13</td>\n",
       "      <td>3.222514</td>\n",
       "      <td>old_rt:10</td>\n",
       "    </tr>\n",
       "    <tr>\n",
       "      <th>2</th>\n",
       "      <td>0.257812165732617</td>\n",
       "      <td>2.24736095108911</td>\n",
       "      <td>0.01</td>\n",
       "      <td>0.013305596734106</td>\n",
       "      <td>0.021634634363348</td>\n",
       "      <td>0.211571360601621</td>\n",
       "      <td>3.92320731328931</td>\n",
       "      <td>-3.63307345009048</td>\n",
       "      <td>635.582935810951</td>\n",
       "      <td>745.315560393506</td>\n",
       "      <td>29.2589959257338</td>\n",
       "      <td>0.060926024106956</td>\n",
       "      <td>0.04836335474817</td>\n",
       "      <td>0.038363354748172</td>\n",
       "      <td>0</td>\n",
       "      <td>3.759242</td>\n",
       "      <td>new_err:5</td>\n",
       "    </tr>\n",
       "    <tr>\n",
       "      <th>3</th>\n",
       "      <td>0.151105232569456</td>\n",
       "      <td>2.65791490956432</td>\n",
       "      <td>0.010000000031572</td>\n",
       "      <td>0.0132211556471</td>\n",
       "      <td>0.022399906575411</td>\n",
       "      <td>0.167987545164338</td>\n",
       "      <td>3.80302831767269</td>\n",
       "      <td>-4.09485800231419</td>\n",
       "      <td>689.342266015696</td>\n",
       "      <td>701.652332448786</td>\n",
       "      <td>22.2998105676819</td>\n",
       "      <td>0.057252919795242</td>\n",
       "      <td>0.013601068076938</td>\n",
       "      <td>0.003601068106534</td>\n",
       "      <td>0.036551289402449</td>\n",
       "      <td>0.836318</td>\n",
       "      <td>old_err:1</td>\n",
       "    </tr>\n",
       "    <tr>\n",
       "      <th>4</th>\n",
       "      <td>0.241966169988135</td>\n",
       "      <td>2.30191523706527</td>\n",
       "      <td>0.010000000000381</td>\n",
       "      <td>0.013179119717044</td>\n",
       "      <td>0.02143127519917</td>\n",
       "      <td>0.199082109593695</td>\n",
       "      <td>3.81700827093649</td>\n",
       "      <td>-3.59791017720972</td>\n",
       "      <td>638.976779642932</td>\n",
       "      <td>742.314322964718</td>\n",
       "      <td>29.9951899380152</td>\n",
       "      <td>0.055647341104556</td>\n",
       "      <td>0.043399227006582</td>\n",
       "      <td>0.033399227002703</td>\n",
       "      <td>0</td>\n",
       "      <td>3.149768</td>\n",
       "      <td>--------------</td>\n",
       "    </tr>\n",
       "    <tr>\n",
       "      <th>5</th>\n",
       "      <td>0.2451262106944</td>\n",
       "      <td>2.28976432609157</td>\n",
       "      <td>0.01</td>\n",
       "      <td>0.013216438232755</td>\n",
       "      <td>0.021491653576453</td>\n",
       "      <td>0.201817415871007</td>\n",
       "      <td>3.83288710223022</td>\n",
       "      <td>-3.60702066014934</td>\n",
       "      <td>638.449938511143</td>\n",
       "      <td>742.844620096586</td>\n",
       "      <td>29.8504229523005</td>\n",
       "      <td>0.056634374199839</td>\n",
       "      <td>0.044348636700855</td>\n",
       "      <td>0.03434863670085</td>\n",
       "      <td>1.63891775567511E-15</td>\n",
       "      <td>3.256967</td>\n",
       "      <td>--------------</td>\n",
       "    </tr>\n",
       "    <tr>\n",
       "      <th>6</th>\n",
       "      <td>0.150143073831689</td>\n",
       "      <td>2.66512104276131</td>\n",
       "      <td>0.01</td>\n",
       "      <td>0.013204652690356</td>\n",
       "      <td>0.022360100444448</td>\n",
       "      <td>0.166727773528468</td>\n",
       "      <td>3.81168417046603</td>\n",
       "      <td>-4.08876611291778</td>\n",
       "      <td>689.414121002821</td>\n",
       "      <td>701.768171140926</td>\n",
       "      <td>22.275744103188</td>\n",
       "      <td>0.056964238182511</td>\n",
       "      <td>0.01359208066483</td>\n",
       "      <td>0.003592080664735</td>\n",
       "      <td>0.036357785643444</td>\n",
       "      <td>0.840368</td>\n",
       "      <td>--------------</td>\n",
       "    </tr>\n",
       "    <tr>\n",
       "      <th>7</th>\n",
       "      <td>0.01 ~ 1.0</td>\n",
       "      <td>0.01 ~ 3.0</td>\n",
       "      <td>0.01 ~ 1.0</td>\n",
       "      <td>0.01 ~ 1.0</td>\n",
       "      <td>0.01 ~ 1.0</td>\n",
       "      <td>0.01 ~ 2.0</td>\n",
       "      <td>1.0 ~ 8.0</td>\n",
       "      <td>-8.0 ~ -1.0</td>\n",
       "      <td>100.0 ~ 800.0</td>\n",
       "      <td>100.0 ~ 800.0</td>\n",
       "      <td>5.0 ~ 100.0</td>\n",
       "      <td>0.0 ~ 2.0</td>\n",
       "      <td>0.0 ~ 2.0</td>\n",
       "      <td>0.0 ~ 2.0</td>\n",
       "      <td>0.0 ~ 2.0</td>\n",
       "      <td>0.000000</td>\n",
       "      <td>--------------</td>\n",
       "    </tr>\n",
       "  </tbody>\n",
       "</table>\n",
       "</div>"
      ],
      "text/plain": [
       "               alpha              beta              s_ss2              s_ss4  \\\n",
       "0  0.243584349170678  2.29576438126046               0.01  0.013194592807346   \n",
       "1  0.244027927068505   2.2938744068807  0.010000000000111  0.013201351379523   \n",
       "2  0.257812165732617  2.24736095108911               0.01  0.013305596734106   \n",
       "3  0.151105232569456  2.65791490956432  0.010000000031572    0.0132211556471   \n",
       "4  0.241966169988135  2.30191523706527  0.010000000000381  0.013179119717044   \n",
       "5    0.2451262106944  2.28976432609157               0.01  0.013216438232755   \n",
       "6  0.150143073831689  2.66512104276131               0.01  0.013204652690356   \n",
       "7         0.01 ~ 1.0        0.01 ~ 3.0         0.01 ~ 1.0         0.01 ~ 1.0   \n",
       "\n",
       "               s_ss8                  c           old_crt            new_crt  \\\n",
       "0  0.021462827426077  0.200461958126083  3.82795730370735   -3.6028704054025   \n",
       "1  0.021466016963274  0.200821380871323  3.82825713947544  -3.60258779946881   \n",
       "2  0.021634634363348  0.211571360601621  3.92320731328931  -3.63307345009048   \n",
       "3  0.022399906575411  0.167987545164338  3.80302831767269  -4.09485800231419   \n",
       "4   0.02143127519917  0.199082109593695  3.81700827093649  -3.59791017720972   \n",
       "5  0.021491653576453  0.201817415871007  3.83288710223022  -3.60702066014934   \n",
       "6  0.022360100444448  0.166727773528468  3.81168417046603  -4.08876611291778   \n",
       "7         0.01 ~ 1.0         0.01 ~ 2.0         1.0 ~ 8.0        -8.0 ~ -1.0   \n",
       "\n",
       "                 t0             t0ann             kappa           F_cmoonn  \\\n",
       "0  638.730233835774  742.716726397961  29.8942157715742  0.056204960874706   \n",
       "1  638.571285947617  742.676947828319  29.9081794539222  0.056321985043696   \n",
       "2  635.582935810951  745.315560393506  29.2589959257338  0.060926024106956   \n",
       "3  689.342266015696  701.652332448786  22.2998105676819  0.057252919795242   \n",
       "4  638.976779642932  742.314322964718  29.9951899380152  0.055647341104556   \n",
       "5  638.449938511143  742.844620096586  29.8504229523005  0.056634374199839   \n",
       "6  689.414121002821  701.768171140926   22.275744103188  0.056964238182511   \n",
       "7     100.0 ~ 800.0     100.0 ~ 800.0       5.0 ~ 100.0          0.0 ~ 2.0   \n",
       "\n",
       "            L_cmoonn            Lcmonno               an_oool      wssd  \\\n",
       "0  0.043945120786779  0.033945120789737  1.29965679563005E-11  3.201999   \n",
       "1  0.044019365958745  0.034019365958948  1.91712562233586E-13  3.222514   \n",
       "2   0.04836335474817  0.038363354748172                     0  3.759242   \n",
       "3  0.013601068076938  0.003601068106534     0.036551289402449  0.836318   \n",
       "4  0.043399227006582  0.033399227002703                     0  3.149768   \n",
       "5  0.044348636700855   0.03434863670085  1.63891775567511E-15  3.256967   \n",
       "6   0.01359208066483  0.003592080664735     0.036357785643444  0.840368   \n",
       "7          0.0 ~ 2.0          0.0 ~ 2.0             0.0 ~ 2.0  0.000000   \n",
       "\n",
       "                w  \n",
       "0       new_rt:50  \n",
       "1       old_rt:10  \n",
       "2       new_err:5  \n",
       "3       old_err:1  \n",
       "4  --------------  \n",
       "5  --------------  \n",
       "6  --------------  \n",
       "7  --------------  "
      ]
     },
     "execution_count": 234,
     "metadata": {},
     "output_type": "execute_result"
    }
   ],
   "source": [
    "fitsel"
   ]
  },
  {
   "cell_type": "code",
   "execution_count": 49,
   "metadata": {
    "kernel": "Python3",
    "scrolled": false
   },
   "outputs": [
    {
     "name": "stdout",
     "output_type": "stream",
     "text": [
      "** 0 16.78591942055533 **\n"
     ]
    },
    {
     "data": {
      "image/png": "[encoded data removed]",
      "text/plain": [
       "<Figure size 1152x576 with 6 Axes>"
      ]
     },
     "metadata": {
      "needs_background": "light"
     },
     "output_type": "display_data"
    },
    {
     "data": {
      "text/plain": [
       "<Figure size 432x288 with 0 Axes>"
      ]
     },
     "metadata": {},
     "output_type": "display_data"
    },
    {
     "name": "stdout",
     "output_type": "stream",
     "text": [
      "** 1 16.850227851923027 **\n"
     ]
    },
    {
     "data": {
      "image/png": "[encoded data removed]",
      "text/plain": [
       "<Figure size 1152x576 with 6 Axes>"
      ]
     },
     "metadata": {
      "needs_background": "light"
     },
     "output_type": "display_data"
    },
    {
     "data": {
      "text/plain": [
       "<Figure size 432x288 with 0 Axes>"
      ]
     },
     "metadata": {},
     "output_type": "display_data"
    },
    {
     "name": "stdout",
     "output_type": "stream",
     "text": [
      "** 2 16.90191574249463 **\n"
     ]
    },
    {
     "data": {
      "image/png": "[encoded data removed]",
      "text/plain": [
       "<Figure size 1152x576 with 6 Axes>"
      ]
     },
     "metadata": {
      "needs_background": "light"
     },
     "output_type": "display_data"
    },
    {
     "data": {
      "text/plain": [
       "<Figure size 432x288 with 0 Axes>"
      ]
     },
     "metadata": {},
     "output_type": "display_data"
    },
    {
     "name": "stdout",
     "output_type": "stream",
     "text": [
      "** 3 17.085693859596287 **\n"
     ]
    },
    {
     "data": {
      "image/png": "[encoded data removed]",
      "text/plain": [
       "<Figure size 1152x576 with 6 Axes>"
      ]
     },
     "metadata": {
      "needs_background": "light"
     },
     "output_type": "display_data"
    },
    {
     "data": {
      "text/plain": [
       "<Figure size 432x288 with 0 Axes>"
      ]
     },
     "metadata": {},
     "output_type": "display_data"
    },
    {
     "name": "stdout",
     "output_type": "stream",
     "text": [
      "** 4 16.923843815767764 **\n"
     ]
    },
    {
     "data": {
      "image/png": "[encoded data removed]",
      "text/plain": [
       "<Figure size 1152x576 with 6 Axes>"
      ]
     },
     "metadata": {
      "needs_background": "light"
     },
     "output_type": "display_data"
    },
    {
     "data": {
      "text/plain": [
       "<Figure size 432x288 with 0 Axes>"
      ]
     },
     "metadata": {},
     "output_type": "display_data"
    },
    {
     "name": "stdout",
     "output_type": "stream",
     "text": [
      "** 5 16.828400025539388 **\n"
     ]
    },
    {
     "data": {
      "image/png": "[encoded data removed]",
      "text/plain": [
       "<Figure size 1152x576 with 6 Axes>"
      ]
     },
     "metadata": {
      "needs_background": "light"
     },
     "output_type": "display_data"
    },
    {
     "data": {
      "text/plain": [
       "<Figure size 432x288 with 0 Axes>"
      ]
     },
     "metadata": {},
     "output_type": "display_data"
    },
    {
     "name": "stdout",
     "output_type": "stream",
     "text": [
      "true\n"
     ]
    },
    {
     "data": {
      "image/png": "[encoded data removed]",
      "text/plain": [
       "<Figure size 1152x576 with 6 Axes>"
      ]
     },
     "metadata": {
      "needs_background": "light"
     },
     "output_type": "display_data"
    },
    {
     "data": {
      "text/plain": [
       "<Figure size 432x288 with 0 Axes>"
      ]
     },
     "metadata": {},
     "output_type": "display_data"
    }
   ],
   "source": [
    "global vary_ss, give_c2, vary_ssan, alphabeta_ANnew\n",
    "vary_ss=1\n",
    "vary_ssan=0\n",
    "give_c2=0\n",
    "alphabeta_ANnew=0\n",
    "\n",
    "global nameset,is_search_allcondi_besideCMat,search_MIX1\n",
    "is_search_allcondi_besideCMat=0\n",
    "search_MIX1 = 1\n",
    "search_MIX2 = 0\n",
    "\n",
    "# nm=\"12_02_12_33_puresingle_test_MIX2_vary_ss.csv\"\n",
    "# nm = \"2019-12-04T05:16:46_single_test_MIX1_alphabeta-ANnew.csv\"\n",
    "nm=\"12_04_12_28_puresingle_test_MIX2_vary_ss.csv\"\n",
    "fitsel = pd.read_csv(nm).iloc[:,1:]\n",
    "\n",
    "grant_plot(fitsel,\"crt\",700,1200)\n",
    "# grant_plot(fitsel,\"err\",0,0.3)"
   ]
  }
 ],
 "metadata": {
  "kernelspec": {
   "display_name": "SoS",
   "language": "sos",
   "name": "sos"
  },
  "language_info": {
   "codemirror_mode": "sos",
   "file_extension": ".sos",
   "mimetype": "text/x-sos",
   "name": "sos",
   "nbconvert_exporter": "sos_notebook.converter.SoS_Exporter",
   "pygments_lexer": "sos"
  },
  "sos": {
   "kernels": [
    [
     "Python3",
     "python3",
     "Python3",
     "#FFD91A",
     {
      "name": "ipython",
      "version": 3
     }
    ]
   ],
   "panel": {
    "displayed": true,
    "height": 0
   },
   "version": "0.20.6"
  },
  "toc": {
   "base_numbering": 1,
   "nav_menu": {},
   "number_sections": true,
   "sideBar": true,
   "skip_h1_title": false,
   "title_cell": "Table of Contents",
   "title_sidebar": "Contents",
   "toc_cell": false,
   "toc_position": {
    "height": "1160px",
    "left": "449px",
    "top": "130.453px",
    "width": "480px"
   },
   "toc_section_display": true,
   "toc_window_display": true
  }
 },
 "nbformat": 4,
 "nbformat_minor": 2
}
