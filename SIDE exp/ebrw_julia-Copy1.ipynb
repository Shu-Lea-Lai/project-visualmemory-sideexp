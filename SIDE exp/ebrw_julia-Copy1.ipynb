{
 "cells": [
  {
   "cell_type": "markdown",
   "metadata": {
    "kernel": "SoS"
   },
   "source": [
    "# Read files"
   ]
  },
  {
   "cell_type": "code",
   "execution_count": 1,
   "metadata": {
    "kernel": "julia-1.2"
   },
   "outputs": [],
   "source": [
    "using CSV\n",
    "using Statistics\n",
    "using DataFrames, DataFramesMeta\n",
    "import Dates\n",
    "using NLopt\n",
    "using JuMP\n",
    "import Distributions: Uniform\n",
    "# import Lazy # enable @>\n",
    "\n",
    "# --- read files\n",
    "curdic = \"/home/shulai/Google Drive/IUB/Shiffrin Lab/mix_experiment/SIDE exp\"#dirname(@__FILE__)\n",
    "\n",
    "path = string(curdic,\"/sidedata\")\n",
    "df = CSV.File(joinpath(path,\"df.csv\"))|> DataFrame!\n",
    "df_org = CSV.File(joinpath(path,\"df_org.csv\"))|> DataFrame!\n",
    "df_err = CSV.File(joinpath(path,\"df_err.csv\"))|> DataFrame!\n",
    "df_crt = CSV.File(joinpath(path,\"df_crt.csv\"))|> DataFrame!;\n"
   ]
  },
  {
   "cell_type": "markdown",
   "metadata": {
    "kernel": "julia-1.2"
   },
   "source": [
    "# Global Values"
   ]
  },
  {
   "cell_type": "code",
   "execution_count": 2,
   "metadata": {
    "kernel": "julia-1.2"
   },
   "outputs": [
    {
     "data": {
      "text/plain": [
       "10-element Array{Any,1}:\n",
       "   Dict{Any,Any}(\"all\" => 0.19)                                                                                                                                                                                                                             \n",
       "   Dict{Any,Any}(\"all\" => 1.2)                                                                                                                                                                                                                              \n",
       "   Dict{Any,Any}(\"ss24\" => 0.01,\"ss8\" => 0.01,\"all\" => 0.01)                                                                                                                                                                                                \n",
       "   Dict{Any,Any}(\"CMpure\" => 0.3938,\"ANpure\" => 0.3938,\"MIX\" => 0.3938,\"MIX2\" => 0.3938,\"VMpure\" => 0.3938)                                                                                                                                                 \n",
       "   Dict{Any,Any}(\"CMpure\" => 1.9197,\"ANpure\" => 1.9197,\"MIX\" => 1.9197,\"MIX2\" => 1.9197,\"VMpure\" => 1.9197)                                                                                                                                                 \n",
       "   Dict{Any,Any}(\"CMpure\" => -2.33,\"ANpure\" => -2.33,\"MIX\" => -2.33,\"MIX2\" => -2.33,\"VMpure\" => -2.33)                                                                                                                                                      \n",
       "   Dict{Any,Any}(\"ann\" => 699.98,\"all\" => 699.98)                                                                                                                                                                                                           \n",
       " 37                                                                                                                                                                                                                                                         \n",
       "   Dict{Any,Any}(\"ANpure_AN_oldiold_oldinew\" => 0.2,\"MIX_AN_oldiold_oldinew\" => 0.2,\"MIX2_CM_oldiold_oldinew\" => 0.2,\"VMpure_VM_oldiold_oldinew\" => 0.2,\"CMpure_CM_oldiold_oldinew\" => 0.2,\"MIX_CM_oldiold_oldinew\" => 0.2,\"MIX2_AN_oldiold_oldinew\" => 0.2)\n",
       "   Dict{Any,Any}(\"MIX2_CM_oldiold_newinew\" => 0.2,\"CMpure_CM_oldinew_newiold\" => 0,\"MIX_CM_oldiold_newinew\" => 0.2,\"VMpure\" => 0.2,\"MIX2_CM_oldinew_newiold\" => 0.2,\"MIX_CM_oldinew_newiold\" => 0.2,\"CMpure_CM_oldiold_newinew\" => 0.2)                     "
      ]
     },
     "execution_count": 2,
     "metadata": {},
     "output_type": "execute_result"
    }
   ],
   "source": [
    "# global alpha, beta, s, c ,Old_crit ,New_crit ,\n",
    "#     t0 ,kao , F, L, c2\n",
    "\n",
    "alpha=Dict(); beta =Dict(); s = Dict(); F = Dict(); L = Dict(); c=Dict(); t0=Dict(); Old_crit=Dict(); New_crit=Dict()\n",
    "\n",
    "\n",
    "# boost = 1.05\n",
    "alpha[\"all\"] = 0.19\n",
    "# alpha['CM'] = 0.1969\n",
    "# alpha['VM'] = 0.1969\n",
    "# alpha[\"AN\"]=0.84\n",
    "\n",
    "beta[\"all\"] =1.2\n",
    "# beta['CM'] = 1.228\n",
    "# beta['VM'] = 1.228\n",
    "# beta[\"AN\"]= 1.708\n",
    "\n",
    "s[\"all\"]=0.01\n",
    "s[\"ss24\"]=0.01\n",
    "s[\"ss8\"]=0.01\n",
    "# s[\"AN\"] = 0.01\n",
    "# s[\"CM\"] = 0.02\n",
    "# s[\"VM\"] = 0.02\n",
    "c[\"ANpure\"] = 0.3938\n",
    "c[\"CMpure\"] = 0.3938\n",
    "c[\"VMpure\"] = 0.3938\n",
    "c[\"MIX\"] = 0.3938\n",
    "c[\"MIX2\"] = 0.3938\n",
    "# c[\"CMat\"] = 0.3938\n",
    "c2=0.3\n",
    "Old_crit[\"ANpure\"] = 1.9197\n",
    "New_crit[\"ANpure\"] = -2.33\n",
    "Old_crit[\"CMpure\"] = 1.9197\n",
    "New_crit[\"CMpure\"] = -2.33\n",
    "Old_crit[\"VMpure\"] = 1.9197\n",
    "New_crit[\"VMpure\"] = -2.33\n",
    "Old_crit[\"MIX\"] = 1.9197\n",
    "New_crit[\"MIX\"] = -2.33\n",
    "Old_crit[\"MIX2\"] = 1.9197\n",
    "New_crit[\"MIX2\"] = -2.33\n",
    "\n",
    "t0[\"all\"] = 699.98\n",
    "t0[\"ann\"] =  699.98\n",
    "kao = 37\n",
    "\n",
    "#---CM\n",
    "F[\"ANpure_AN_oldiold_oldinew\"] = 0.2\n",
    "\n",
    "F[\"CMpure_CM_oldiold_oldinew\"] = 0.2\n",
    "L[\"CMpure_CM_oldiold_newinew\"] = 0.2\n",
    "L[\"CMpure_CM_oldinew_newiold\"] = 0\n",
    "\n",
    "F[\"VMpure_VM_oldiold_oldinew\"] = 0.2\n",
    "L[\"VMpure\"] = 0.2\n",
    "\n",
    "F[\"MIX_CM_oldiold_oldinew\"] = 0.2\n",
    "L[\"MIX_CM_oldiold_newinew\"] = 0.2\n",
    "L[\"MIX_CM_oldinew_newiold\"] = 0.2\n",
    "F[\"MIX_AN_oldiold_oldinew\"] = 0.2\n",
    "\n",
    "F[\"MIX2_CM_oldiold_oldinew\"] = 0.2\n",
    "L[\"MIX2_CM_oldiold_newinew\"] = 0.2\n",
    "L[\"MIX2_CM_oldinew_newiold\"] = 0.2\n",
    "F[\"MIX2_AN_oldiold_oldinew\"] = 0.2\n",
    "\n",
    "\n",
    "all_vars = [alpha, beta, s, c ,Old_crit ,New_crit , t0 ,kao , F, L]"
   ]
  },
  {
   "cell_type": "markdown",
   "metadata": {
    "kernel": "julia-1.2"
   },
   "source": [
    "# GLobal Assignment"
   ]
  },
  {
   "cell_type": "code",
   "execution_count": 3,
   "metadata": {
    "kernel": "julia-1.2"
   },
   "outputs": [],
   "source": [
    "# global vary_ss, give_c2\n",
    "vary_ss=0\n",
    "give_c2=0\n",
    "\n",
    "# global nameset,is_search_allcondi_besideCMat,search_MIX1\n",
    "is_search_allcondi_besideCMat=1\n",
    "search_MIX1 = 0\n",
    "search_MIX2 = 0\n",
    "nameset = CategoricalArray(df_org.FileCondi) |> levels;"
   ]
  },
  {
   "cell_type": "markdown",
   "metadata": {
    "kernel": "SoS"
   },
   "source": [
    "# Assign LTM_globals"
   ]
  },
  {
   "cell_type": "code",
   "execution_count": 4,
   "metadata": {
    "kernel": "julia-1.2"
   },
   "outputs": [
    {
     "data": {
      "text/plain": [
       "0.2"
      ]
     },
     "execution_count": 4,
     "metadata": {},
     "output_type": "execute_result"
    }
   ],
   "source": [
    "#=====\n",
    "LTM global\n",
    "======#\n",
    "\n",
    "function assign_LTM_global(Filecondi,item_condi, walk, item)\n",
    "\n",
    "    global F,L,Fnow,Lnow\n",
    "    if Filecondi != \"VMpure\"\n",
    "        if item_condi == \"CM\"\n",
    "\n",
    "            if walk * \"i\" * item in [\"oldiold\",\"oldinew\"]\n",
    "\n",
    "                Fnow = F[Filecondi*\"_CM_oldiold_oldinew\"]\n",
    "            else Fnow = 0\n",
    "            end\n",
    "\n",
    "            if walk * \"i\" * item in [\"oldiold\",\"newinew\"]\n",
    "\n",
    "                Lnow = L[Filecondi*\"_CM_oldiold_newinew\"]\n",
    "            elseif walk * \"i\" * item in [\"oldinew\",\"newiold\"]\n",
    "\n",
    "                Lnow = L[Filecondi*\"_CM_oldinew_newiold\"]\n",
    "            else Lnow=0\n",
    "            end\n",
    "\n",
    "        elseif item_condi == \"AN\"\n",
    "\n",
    "            if walk * \"i\" * item in [\"oldiold\",\"oldinew\"]\n",
    "\n",
    "                Fnow = F[Filecondi*\"_AN_oldiold_oldinew\"]\n",
    "            else Fnow=0\n",
    "            end\n",
    "\n",
    "            Lnow = 0\n",
    "\n",
    "        else\n",
    "            println(\"wrong condi 1\",Filecondi,item_condi, walk*\"i\"*item)\n",
    "        end\n",
    "    elseif Filecondi == \"VMpure\"\n",
    "\n",
    "        if item_condi == \"VM\"\n",
    "            if walk*\"i\"*item in [\"oldiold\",\"oldinew\"]\n",
    "                Fnow = F[\"VMpure_VM_oldiold_oldinew\"]\n",
    "            else\n",
    "                Fnow = 0\n",
    "            end\n",
    "        else print(\"wrong condi 2\")\n",
    "        end\n",
    "\n",
    "        Lnow = L[\"VMpure\"]\n",
    "    else\n",
    "        print(\"wrong filecondi\")\n",
    "    end\n",
    "    return(Fnow + Lnow)\n",
    "end\n",
    "assign_LTM_global(\"MIX\",\"AN\",\"old\",\"old\")\n"
   ]
  },
  {
   "cell_type": "markdown",
   "metadata": {
    "kernel": "julia-1.2"
   },
   "source": [
    "# Calc A"
   ]
  },
  {
   "cell_type": "code",
   "execution_count": 5,
   "metadata": {
    "kernel": "julia-1.2"
   },
   "outputs": [],
   "source": [
    "# a[vcat(1,2,2,3),1] .=1"
   ]
  },
  {
   "cell_type": "code",
   "execution_count": 18,
   "metadata": {
    "kernel": "julia-1.2",
    "scrolled": true
   },
   "outputs": [
    {
     "data": {
      "text/plain": [
       "235×1 Array{Float64,2}:\n",
       " 6.573550416970968e-17\n",
       " 6.573550416970968e-17\n",
       " 6.573550416970968e-17\n",
       " 6.573550416970968e-17\n",
       " 6.573550416970968e-17\n",
       " 6.573550416970968e-17\n",
       " 6.573550416970968e-17\n",
       " 6.573550416970968e-17\n",
       " 6.573550416970968e-17\n",
       " 6.573550416970968e-17\n",
       " 6.573550416970968e-17\n",
       " 6.573550416970968e-17\n",
       " 6.573550416970968e-17\n",
       " ⋮                    \n",
       " 0.03703703703703716  \n",
       " 0.03703703703703716  \n",
       " 0.015625000000000146 \n",
       " 0.015625000000000146 \n",
       " 0.008000000000000153 \n",
       " 0.008000000000000153 \n",
       " 0.004629629629629787 \n",
       " 0.004629629629629787 \n",
       " 0.0029154518950438913\n",
       " 0.0029154518950438913\n",
       " 0.0019531250000001613\n",
       " 0.0019531250000001613"
      ]
     },
     "metadata": {},
     "output_type": "display_data"
    }
   ],
   "source": [
    "\n",
    "function calcA(df, all_vars)\n",
    "    \n",
    "    alpha, beta, s, c ,Old_crit ,New_crit , t0 ,kao , F, L = all_vars\n",
    "    \n",
    "    dnow = df\n",
    "    # a = Array{Union{Nothing,Float64}}(nothing,size(dnow)[1], 8)  #activation\n",
    "    a =   zeros(Float64, size(dnow)[1], 8)\n",
    "    betanow=beta[\"all\"] \n",
    "    alphanow=alpha[\"all\"]\n",
    "\n",
    "    m = [(j^(-betanow) + alphanow) for j in 1:8]\n",
    "    for j in 1:8\n",
    "\n",
    "        if vary_ss==0\n",
    "            a[(dnow.Lag .== j )|> Array,j] .= m[j]\n",
    "            a[(dnow.Lag .!= j )|> Array,j] .= m[j] .* s[\"all\"]\n",
    "        else\n",
    "            a[(dnow.Lag .!= j .& dnow.Setsize .!= 8)  |> Array,j] .= m[j] .* s[\"ss24\"]\n",
    "            a[(dnow.Lag .!= j .& dnow.Setsize .== 8)  |> Array,j] .= m[j] .* s[\"ss8\"]\n",
    "            a[(dnow.Lag .== j) |> Array,j] .= m[j]\n",
    "\n",
    "        end\n",
    "    end\n",
    "\n",
    "    for i in 1:size(a)[1]\n",
    "\n",
    "        a[i,df.Setsize[i]+1:end] .= 0 #a_ij suit for the correct amount of setsize\n",
    "    end\n",
    "\n",
    "    debug = 0\n",
    "    if debug==1\n",
    "        for i in range(a.shape[0])\n",
    "            println(i, \"beginn\",\"a is\",a[i].round(5),\n",
    "                  \"n m is\", np.array(m).round(3),\"n Probtype is\",\n",
    "                  \"n Lag is \",dnow.Lag[i],\n",
    "                  \"n Setsize is\", dnow.Setsize[i],\n",
    "                  \"n Probtype:\",\n",
    "                  dnow.Probtype[i],\n",
    "                  \"n Oldnew: \",dnow.Oldnew[i],\n",
    "                  \"n Ai is\", a[i,:].sum().round(2),\n",
    "                  \"n snow\", s[\"all\"],\n",
    "                 \"n------------------------------------------------\" )\n",
    "        end\n",
    "    end\n",
    "\n",
    "    A = sum(a, dims = 2)\n",
    "    \n",
    "    return(A)\n",
    "end\n",
    "\n",
    "A0=calcA(df, all_vars)\n",
    "# present_now = [df.FileCondi[i] * \n",
    "#         \"-- \" * (A0[i] |> string) * \n",
    "#       \"--\" *  (df.Setsize[i] |> string)*\n",
    "#       \"--\" * df.Probtype[i] * \n",
    "#       \"--\" * df.Oldnew[i] for i in 1:size(A0)[1]];\n",
    "# display(sort(present_now))\n",
    "display(A0)\n"
   ]
  },
  {
   "cell_type": "markdown",
   "metadata": {
    "kernel": "julia-1.2"
   },
   "source": [
    "# Calc p"
   ]
  },
  {
   "cell_type": "code",
   "execution_count": 21,
   "metadata": {
    "kernel": "julia-1.2"
   },
   "outputs": [
    {
     "data": {
      "text/plain": [
       "235-element Array{String,1}:\n",
       " \"ANpure-- 0.33681374200067365--2--AN--new\"\n",
       " \"ANpure-- 0.33681374200067365--2--AN--new\"\n",
       " \"ANpure-- 0.33681374200067365--4--AN--new\"\n",
       " \"ANpure-- 0.33681374200067365--4--AN--new\"\n",
       " \"ANpure-- 0.3368137420006737--8--AN--new\" \n",
       " \"ANpure-- 0.3368137420006737--8--AN--new\" \n",
       " \"ANpure-- 0.33898794068432314--8--AN--old\"\n",
       " \"ANpure-- 0.33898794068432314--8--AN--old\"\n",
       " \"ANpure-- 0.3400539591368494--8--AN--old\" \n",
       " \"ANpure-- 0.3400539591368494--8--AN--old\" \n",
       " \"ANpure-- 0.3419443481705206--8--AN--old\" \n",
       " \"ANpure-- 0.3419443481705206--8--AN--old\" \n",
       " \"ANpure-- 0.3456297773346629--8--AN--old\" \n",
       " ⋮                                         \n",
       " \"VMpure-- 0.469252770825885--2--VM--old\"  \n",
       " \"VMpure-- 0.469252770825885--2--VM--old\"  \n",
       " \"VMpure-- 0.469252770825885--4--VM--old\"  \n",
       " \"VMpure-- 0.469252770825885--4--VM--old\"  \n",
       " \"VMpure-- 0.469252770825885--8--VM--old\"  \n",
       " \"VMpure-- 0.469252770825885--8--VM--old\"  \n",
       " \"VMpure-- 0.7021767479185476--2--VM--old\" \n",
       " \"VMpure-- 0.7021767479185476--2--VM--old\" \n",
       " \"VMpure-- 0.7021767479185476--4--VM--old\" \n",
       " \"VMpure-- 0.7021767479185476--4--VM--old\" \n",
       " \"VMpure-- 0.7021767479185476--8--VM--old\" \n",
       " \"VMpure-- 0.7021767479185476--8--VM--old\" "
      ]
     },
     "metadata": {},
     "output_type": "display_data"
    }
   ],
   "source": [
    "# F[\"AN_oldiold_oldinew\"] = 0.099\n",
    "function calcp(df,all_vars)\n",
    "    \n",
    "    alpha, beta, s, c ,Old_crit ,New_crit , t0 ,kao , F, L = all_vars\n",
    "\n",
    "    A = calcA(df, all_vars)\n",
    "    dnow = df\n",
    "    p = Iterators.repeated(3.0, size(A)[1]) |> collect\n",
    "    filecondis = CategoricalArray(dnow.FileCondi) |> levels; #get categories name\n",
    "\n",
    "    for icondi in filecondis\n",
    "\n",
    "        #only ieterate through probs in that condition\n",
    "        probs = filter( t -> t[:FileCondi] == icondi, dnow).Probtype |> CategoricalArray |> levels\n",
    "        for iprob in probs\n",
    "\n",
    "            for ion in [\"old\",\"new\"]\n",
    "\n",
    "                tf_ion = (dnow.Oldnew .== ion)\n",
    "                tf_iprob = (dnow.Probtype .== iprob)\n",
    "                tf_icondi = (dnow.FileCondi .== icondi)\n",
    "\n",
    "                tf_combi1 = (tf_ion .& tf_iprob) |> Array\n",
    "                tf_all = (tf_combi1 .& tf_icondi) |> Array\n",
    "\n",
    "                IR_old_current = assign_LTM_global(icondi,iprob,\"old\",ion)\n",
    "                IR_new_current = assign_LTM_global(icondi, iprob,\"new\",ion)\n",
    "\n",
    "                p[tf_all] = (A[tf_all] .+ IR_old_current)./\n",
    "                (A[tf_all] .+ IR_old_current .+ c[icondi] .+ IR_new_current)\n",
    "            end\n",
    "        end\n",
    "    end\n",
    "\n",
    "    return(p)\n",
    "\n",
    "end\n",
    "\n",
    "p=calcp(df, all_vars)\n",
    "present_now = [df.FileCondi[i] * \n",
    "        \"-- \" * (p[i] |> string) * \n",
    "      \"--\" *  (df.Setsize[i] |> string)*\n",
    "      \"--\" * df.Probtype[i] * \n",
    "      \"--\" * df.Oldnew[i] for i in 1:size(p)[1]];\n",
    "display(sort(present_now))\n"
   ]
  },
  {
   "cell_type": "markdown",
   "metadata": {
    "kernel": "julia-1.2"
   },
   "source": [
    "# RW "
   ]
  },
  {
   "cell_type": "code",
   "execution_count": 22,
   "metadata": {
    "kernel": "julia-1.2"
   },
   "outputs": [
    {
     "data": {
      "text/plain": [
       "235-element Array{String,1}:\n",
       " \"ANpure-- 818.4447576462073--2--AN--old\"\n",
       " \"ANpure-- 818.4447576462073--2--AN--old\"\n",
       " \"ANpure-- 818.4447576462073--4--AN--old\"\n",
       " \"ANpure-- 818.4447576462073--4--AN--old\"\n",
       " \"ANpure-- 818.4447576462073--8--AN--old\"\n",
       " \"ANpure-- 818.4447576462073--8--AN--old\"\n",
       " \"ANpure-- 838.10687048688--8--AN--old\"  \n",
       " \"ANpure-- 838.10687048688--8--AN--old\"  \n",
       " \"ANpure-- 838.3137279950549--8--AN--old\"\n",
       " \"ANpure-- 838.3137279950549--8--AN--old\"\n",
       " \"ANpure-- 838.6786861588197--8--AN--old\"\n",
       " \"ANpure-- 838.6786861588197--8--AN--old\"\n",
       " \"ANpure-- 839.38315191576--8--AN--old\"  \n",
       " ⋮                                       \n",
       " \"VMpure-- 855.0401863724344--2--VM--old\"\n",
       " \"VMpure-- 855.0401863724344--2--VM--old\"\n",
       " \"VMpure-- 855.0401863724344--4--VM--old\"\n",
       " \"VMpure-- 855.0401863724344--4--VM--old\"\n",
       " \"VMpure-- 855.0401863724344--8--VM--old\"\n",
       " \"VMpure-- 855.0401863724344--8--VM--old\"\n",
       " \"VMpure-- 870.067644456442--2--VM--new\" \n",
       " \"VMpure-- 870.067644456442--2--VM--new\" \n",
       " \"VMpure-- 870.067644456442--4--VM--new\" \n",
       " \"VMpure-- 870.067644456442--4--VM--new\" \n",
       " \"VMpure-- 870.067644456442--8--VM--new\" \n",
       " \"VMpure-- 870.067644456442--8--VM--new\" "
      ]
     },
     "metadata": {},
     "output_type": "display_data"
    }
   ],
   "source": [
    "\n",
    "function calc_theoretical_RW(df, which, all_vars)\n",
    "    \n",
    "    alpha, beta, s, c ,Old_crit ,New_crit , t0 ,kao , F, L = all_vars\n",
    "\n",
    "    which_return = \"crt\"\n",
    "    A = calcA(df, all_vars)\n",
    "    p = calcp(df, all_vars)\n",
    "    q = 1 .- p\n",
    "\n",
    "    dnow = df\n",
    "    filecondis = CategoricalArray(dnow.FileCondi) |> levels; #get categories name\n",
    "\n",
    "    p_resp_old = zeros(size(p)[1])\n",
    "    pred_correct = zeros(size(p)[1])\n",
    "    pred_rt = zeros(size(p)[1])\n",
    "\n",
    "    theta1 = zeros(size(p)[1])\n",
    "    theta2 = zeros(size(q)[1])\n",
    "    theta11 = zeros(size(p)[1])\n",
    "    theta22 = zeros(size(q)[1])\n",
    "    exp_nstep = zeros(size(p)[1])\n",
    "\n",
    "\n",
    "    for ifile in filecondis\n",
    "\n",
    "        gen_tf = (dnow.FileCondi .== ifile)|> Array\n",
    "        AA = Old_crit[ifile]\n",
    "        BB = -New_crit[ifile] # bb is a postive number\n",
    "\n",
    "        if which_return==\"crt\"\n",
    "\n",
    "            pq = (p[gen_tf]./q[gen_tf])\n",
    "            theta1[gen_tf] = (pq .^(AA+BB) .+1)./(pq .^(AA+BB) .-1)\n",
    "            theta2[gen_tf] = (pq .^BB .+1)./(pq .^BB .-1)\n",
    "\n",
    "            tf = ((p .!= q) .& ((dnow.Oldnew .== \"old\").& gen_tf )) |> Array\n",
    "            exp_nstep[tf] = (1 ./ (p[tf] .-q[tf])).*(theta1[tf].*(AA+BB) .- theta2[tf].*BB)\n",
    "\n",
    "            tf = ((p .== q) .& ((dnow.Oldnew .== \"old\").& gen_tf)) |> Array\n",
    "            exp_nstep[tf] .= (AA/3)*(2*BB+AA)\n",
    "\n",
    "            theta11[gen_tf] = (pq .^ (-(AA+BB)) .+1) ./ (pq.^(-(AA+BB)) .-1)\n",
    "            theta22[gen_tf] = (pq .^ -AA .+1)./(pq .^ -AA .-1)\n",
    "\n",
    "            tf = ((p .!= q) .& (dnow.Oldnew .== \"new\") .& gen_tf) |> Array\n",
    "            exp_nstep[tf] = (1 ./(q[tf] .- p[tf])).*(theta11[tf].*(AA+BB) .- theta22[tf].*AA)\n",
    "\n",
    "            tf = ((p .== q) .& (dnow.Oldnew .== \"new\") .& gen_tf) |> Array\n",
    "            exp_nstep[tf] .= (BB/3)*(2*AA+BB);\n",
    "\n",
    "        #------------------- correct response\n",
    "        elseif which_return == \"err\"\n",
    "\n",
    "            qp = (q[gen_tf]./p[gen_tf])\n",
    "            qptfn = ((p .!= q) .& gen_tf) |> Array\n",
    "            qptf = ((p .== q) .& gen_tf) |> Array\n",
    "\n",
    "            p_resp_old[qptfn] = ((1 .- qp.^BB) ./ (1 .-qp.^(AA+BB)))[Array(p[gen_tf] .!= q[gen_tf])];\n",
    "            p_resp_old[qptf] .= BB/(AA +BB);\n",
    "        end\n",
    "    end\n",
    "    #------------------\n",
    "\n",
    "\n",
    "    if which_return==\"crt\"\n",
    "        suprise = (((dnow.FileCondi.==\"MIX\") .| (dnow.FileCondi.==\"MIX2\")) .& \n",
    "                (dnow.Probtype.==\"AN\") .& (dnow.Oldnew.==\"new\") )|> Array\n",
    "\n",
    "        notsuprise = .!suprise\n",
    "\n",
    "        pred_rt[suprise] = t0[\"ann\"] .+ kao .* exp_nstep[suprise]\n",
    "        pred_rt[notsuprise] = t0[\"all\"] .+ kao .* exp_nstep[notsuprise]\n",
    "    end\n",
    "\n",
    "    #------------------\n",
    "\n",
    "    if which_return == \"err\"\n",
    "        pred_correct[Array(dnow.Oldnew.==\"old\")] = p_resp_old[Array(dnow.Oldnew.==\"old\")]\n",
    "        pred_correct[Array(dnow.Oldnew.==\"new\")] = 1-p_resp_old[Array(dnow.Oldnew.==\"new\")]\n",
    "\n",
    "    end\n",
    "\n",
    "    \n",
    "    if which == \"crt\"\n",
    "        return(pred_rt)\n",
    "    elseif which == \"err\"\n",
    "        return(pred_correct)\n",
    "    end\n",
    "          \n",
    "end\n",
    "\n",
    "rw = calc_theoretical_RW(df,\"crt\", all_vars)\n",
    "present_now = [df.FileCondi[i] * \n",
    "        \"-- \" * (rw[i] |> string) * \n",
    "      \"--\" *  (df.Setsize[i] |> string)*\n",
    "      \"--\" * df.Probtype[i] * \n",
    "      \"--\" * df.Oldnew[i] for i in 1:size(rw)[1]];\n",
    "display(sort(present_now))\n"
   ]
  },
  {
   "cell_type": "markdown",
   "metadata": {
    "kernel": "julia-1.2"
   },
   "source": [
    "# Calc Wssd"
   ]
  },
  {
   "cell_type": "code",
   "execution_count": 24,
   "metadata": {
    "kernel": "julia-1.2"
   },
   "outputs": [
    {
     "data": {
      "text/plain": [
       "153.1500052845756"
      ]
     },
     "execution_count": 24,
     "metadata": {},
     "output_type": "execute_result"
    }
   ],
   "source": [
    "w=Dict()\n",
    "\n",
    "w[\"new_rt\"] = 4*2\n",
    "w[\"old_rt\"] = 1*2\n",
    "w[\"new_err\"] = 4\n",
    "w[\"old_err\"] = 1\n",
    "\n",
    "function calc_wssd(df_err,df_crt, all_vars)\n",
    "\n",
    "    alpha, beta, s, c ,Old_crit ,New_crit , t0 ,kao , F, L = all_vars\n",
    "\n",
    "    \n",
    "    df_sub_err = df_err |> copy\n",
    "    df_sub_crt = df_crt |> copy\n",
    "\n",
    "    if search_MIX1 == 1\n",
    "        df_sub_err = filter(t -> t[:FileCondi]==\"MIX\", df_sub_err)\n",
    "        df_sub_crt = filter(t -> t[:FileCondi]==\"MIX\", df_sub_crt)\n",
    "    end\n",
    "    pred_correct = calc_theoretical_RW(df_sub_err,\"err\", all_vars)\n",
    "    pred_crt = calc_theoretical_RW(df_sub_crt,\"crt\", all_vars)\n",
    "\n",
    "    df_sub_crt.pred_crt = pred_crt ./ 1000 #translate crt to seconds. \n",
    "    df_sub_err.pred_error = 1 .- pred_correct\n",
    "\n",
    "    df_sub_crt.RT = df_sub_crt.RT ./1000\n",
    "\n",
    "    df_sub_crt.SSD_RT = ((df_sub_crt.RT .- df_sub_crt.pred_crt) .^2)\n",
    "    df_sub_err.SSD_err = ((df_sub_err.Error .- df_sub_err.pred_error).^2)\n",
    "\n",
    "    df_sub_crt.wSSD_RT = [df_sub_crt.SSD_RT[i] * w[df_sub_crt.Oldnew[i] * \"_rt\"]\n",
    "        for i in 1:size(df_sub_crt)[1]]\n",
    "\n",
    "    df_sub_err.wSSD_err = [df_sub_err.SSD_err[i] * w[df_sub_err.Oldnew[i] * \"_err\"]\n",
    "        for i in 1:size(df_sub_err)[1]]\n",
    "\n",
    "\n",
    "    # # adj_oldnew=1\n",
    "    # # if adj_oldnew==1\n",
    "    # #     print(\"\\nERR\",\"old\",df_sub_err[df_sub_err[\"Oldnew\"]==\"old\"][\"wSSD_err\"].sum(),\\\n",
    "    # #          \"new\",df_sub_err[df_sub_err[\"Oldnew\"]==\"new\"][\"wSSD_err\"].sum(),\n",
    "    # #          \"\\nRT\",\"old\",df_sub_crt[df_sub_crt[\"Oldnew\"]==\"old\"][\"wSSD_RT\"].sum(),\\\n",
    "    # #          \"new\",df_sub_crt[df_sub_crt[\"Oldnew\"]==\"new\"][\"wSSD_RT\"].sum(),)\n",
    "    # #     print(df_sub_err[df_sub_err[\"Oldnew\"]==\"old\"].sum() + df[df_sub_crt[\"Oldnew\"]==\"new\"].sum())\n",
    "\n",
    "    WSSD = (df_sub_err.wSSD_err |> sum)  .+ (df_sub_crt.wSSD_RT |> sum)\n",
    "\n",
    "    return(WSSD)\n",
    "end\n",
    "\n",
    "# time1=Dates.now()\n",
    "calc_wssd(df_err,df_crt, all_vars)\n",
    "# print(Dates.now()-time1)\n"
   ]
  },
  {
   "cell_type": "markdown",
   "metadata": {
    "kernel": "julia-1.2"
   },
   "source": [
    "# Random_Start"
   ]
  },
  {
   "cell_type": "code",
   "execution_count": 25,
   "metadata": {
    "kernel": "julia-1.2"
   },
   "outputs": [
    {
     "name": "stdout",
     "output_type": "stream",
     "text": [
      "[1.1848593129422826, 0.3577030701847099, 0.775439565235512, 0.4060263260096734, 0.18479306259556014, 0.2212710286250968, 0.334130439109862, 0.7792364341537739, 1.6292473323404144, -4.040227998087687, 8.226357882505011, 0.9624045449797105, 8.115996330164595, -0.641441423252239, 5.358101714460945, -1.1025676860657132, 3.169007334843336, 4.183132071120535, 376.18828541301104, 251.24522835652792, 34.15761416355632, 0.37984515690912635, 0.4735181782319468, 0.23659069148505354, 0.7913538041730721, 0.7556172241633059, 0.12648066652027284, 0.6702170260516132, 0.6645362413062704, 0.2642407793312614, 0.1860319587389348, 0.2273607115265104, 0.7532334000789681, 0.10089416137639451, 0.5847006697294155]"
     ]
    }
   ],
   "source": [
    "function random_start0()\n",
    "    global alpha, beta, s, c ,Old_crit ,New_crit , t0 ,kao , F, L\n",
    "  \n",
    "    alpha=Dict(); beta =Dict(); s = Dict(); F = Dict(); L = Dict()\n",
    "\n",
    "    alpha[\"all\"] = rand(Uniform(0.1,3))\n",
    "    beta[\"all\"] = rand(Uniform(0.01,4))\n",
    "    s[\"all\"]= rand(Uniform(0.01,0.999))\n",
    "    c[\"ANpure\"] = rand(Uniform(0.01,0.99))\n",
    "    c[\"CMpure\"] = rand(Uniform(0.01,0.99))\n",
    "    c[\"VMpure\"] = rand(Uniform(0.01,0.99))\n",
    "    c[\"MIX\"] = rand(Uniform(0.01,0.99))\n",
    "    c[\"MIX2\"] = rand(Uniform(0.01,0.99))\n",
    "\n",
    "    Old_crit[\"ANpure\"] = rand(Uniform(1,10))\n",
    "    New_crit[\"ANpure\"] = rand(Uniform(-10,1))\n",
    "    Old_crit[\"CMpure\"] = rand(Uniform(1,10))\n",
    "    New_crit[\"CMpure\"] = rand(Uniform(-10,1))\n",
    "    Old_crit[\"VMpure\"] = rand(Uniform(1,10))\n",
    "    New_crit[\"VMpure\"] = rand(Uniform(-10,1))\n",
    "    Old_crit[\"MIX\"] = rand(Uniform(1,10))\n",
    "    New_crit[\"MIX\"] = rand(Uniform(-10,1))\n",
    "    Old_crit[\"MIX2\"] = rand(Uniform(1,10))\n",
    "    New_crit[\"MIX2\"] = rand(Uniform(1,10))\n",
    "\n",
    "    t0[\"all\"] =  rand(Uniform(1,900))\n",
    "    t0[\"ann\"] =  rand(Uniform(1,900))\n",
    "    kao = rand(Uniform(1,100))\n",
    "\n",
    "    #---CM\n",
    "    F[\"ANpure_AN_oldiold_oldinew\"] = rand(Uniform(0.0001,1))\n",
    "\n",
    "    F[\"CMpure_CM_oldiold_oldinew\"] = rand(Uniform(0.0001,1))\n",
    "    L[\"CMpure_CM_oldiold_newinew\"] = rand(Uniform(0.0001,1))\n",
    "    L[\"CMpure_CM_oldinew_newiold\"] = rand(Uniform(0.0001,1))\n",
    "    \n",
    "    F[\"VMpure_VM_oldiold_oldinew\"] = rand(Uniform(0.0001,1) )\n",
    "    L[\"VMpure\"] = rand(Uniform(0.0001,1) )\n",
    "\n",
    "    F[\"MIX_CM_oldiold_oldinew\"] = rand(Uniform(0.0001,1))\n",
    "    L[\"MIX_CM_oldiold_newinew\"] = rand(Uniform(0.0001,1))\n",
    "    L[\"MIX_CM_oldinew_newiold\"] = rand(Uniform(0.0001,1))\n",
    "    F[\"MIX_AN_oldiold_oldinew\"] = rand(Uniform(0.0001,1))\n",
    "\n",
    "    F[\"MIX2_CM_oldiold_oldinew\"] = rand(Uniform(0.0001,1))\n",
    "    L[\"MIX2_CM_oldiold_newinew\"] = rand(Uniform(0.0001,1))\n",
    "    L[\"MIX2_CM_oldinew_newiold\"] = rand(Uniform(0.0001,1))\n",
    "    F[\"MIX2_AN_oldiold_oldinew\"] = rand(Uniform(0.0001,1))\n",
    "    \n",
    "    if vary_ss==0\n",
    "        param_dic=Array([\n",
    "            alpha[\"all\"],beta[\"all\"],s[\"all\"],\n",
    "            c[\"ANpure\"],c[\"CMpure\"],c[\"VMpure\"], c[\"MIX\"] ,c[\"MIX2\"] ,\n",
    "            Old_crit[\"ANpure\"] ,New_crit[\"ANpure\"] ,Old_crit[\"CMpure\"] ,\n",
    "                New_crit[\"CMpure\"] ,\n",
    "            Old_crit[\"VMpure\"] ,New_crit[\"VMpure\"] ,Old_crit[\"MIX\"] ,\n",
    "                New_crit[\"MIX\"] ,Old_crit[\"MIX2\"] ,New_crit[\"MIX2\"] ,\n",
    "            t0[\"all\"] ,t0[\"ann\"] ,kao,\n",
    "            F[\"ANpure_AN_oldiold_oldinew\"] ,F[\"CMpure_CM_oldiold_oldinew\"] ,\n",
    "                L[\"CMpure_CM_oldiold_newinew\"] ,L[\"CMpure_CM_oldinew_newiold\"] ,\n",
    "            F[\"VMpure_VM_oldiold_oldinew\"] , L[\"VMpure\"], \n",
    "            F[\"MIX_CM_oldiold_oldinew\"], L[\"MIX_CM_oldiold_newinew\"], \n",
    "                L[\"MIX_CM_oldinew_newiold\"], F[\"MIX_AN_oldiold_oldinew\"], \n",
    "            F[\"MIX2_CM_oldiold_oldinew\"], L[\"MIX2_CM_oldiold_newinew\"],\n",
    "                L[\"MIX2_CM_oldinew_newiold\"], F[\"MIX2_AN_oldiold_oldinew\"]])\n",
    "    end\n",
    "    \n",
    "    if search_MIX1==1\n",
    "\n",
    "         param_dic=Array([alpha[\"all\"], beta[\"all\"], s[\"all\"],\n",
    "                    c[\"MIX\"], Old_crit[\"MIX\"], New_crit[\"MIX\"], \n",
    "                    t0[\"all\"],t0[\"ann\"], kao,\n",
    "                    F[\"MIX_CM_oldiold_oldinew\"], L[\"MIX_CM_oldiold_newinew\"], \n",
    "                    L[\"MIX_CM_oldinew_newiold\"],F[\"MIX_AN_oldiold_oldinew\"]])\n",
    "    end\n",
    "    \n",
    "    return(param_dic)\n",
    "end\n",
    "\n",
    "param_dic = random_start0()\n",
    "print(param_dic)\n",
    "\n",
    "random_start() = [rand(Uniform(bdd_lower[i],bdd_upper[i])) for i in 1:length(random_start0())]\n",
    "random_start();"
   ]
  },
  {
   "cell_type": "code",
   "execution_count": null,
   "metadata": {
    "kernel": "julia-1.2"
   },
   "outputs": [],
   "source": []
  },
  {
   "cell_type": "markdown",
   "metadata": {
    "kernel": "julia-1.2"
   },
   "source": [
    "# bdd"
   ]
  },
  {
   "cell_type": "code",
   "execution_count": 26,
   "metadata": {
    "kernel": "julia-1.2"
   },
   "outputs": [],
   "source": [
    "bdd = (\n",
    "    (0.1, 2.9),  # alpha,\n",
    "    (0.01, 4),  # beta,\n",
    "    (0.01, 0.999),  # s,\n",
    "    (0.01, 0.99),  # c_ANpure,\n",
    "    (0.01, 0.99),  # c_CMpure,\n",
    "    (0.01, 0.99),  # c_MIX,\n",
    "    (0.01, 0.99),  # c_MIX2,\n",
    "    (0.01, 0.99),  # c_VMpure,\n",
    "    (1, 10),  # BDDo_ANpure,\n",
    "    (-10, 1),  # BDDn_ANpure,\n",
    "    (1, 10),  # BDDo_CMpure,\n",
    "    (-10, 1),  # BDDn_CMpure,\n",
    "    (1, 10),  # BDDo_MIX,\n",
    "    (-10, 1),  # BDDn_MIX,\n",
    "    (1, 20),  # BDDo_MIX2,\n",
    "    (-10, 1),  # BDDn_MIX2,\n",
    "    (1, 10),  # BDDo_VMpure,\n",
    "    (-10, 1),  # BDDn_VMpure,\n",
    "    (100, 900),  # t0,\n",
    "    (100, 900),  # t0an,\n",
    "    (10, 100),  # kappa,\n",
    "    (0.0001, 1),  # F_ANpure_AN_oldiold_oldinew,\n",
    "    (0.0001, 1),  # F_CMpure_CM_oldiold_oldinew,\n",
    "    (0.0001, 1),  # L_CMpure_CM_oldiold_newinew,\n",
    "    (0.0001, 1),  # L_CMpure_CM_oldinew_newiold,\n",
    "    (0.0001, 1),  # F_VMpure_VM_oldiold_oldinew,\n",
    "    (0.0001, 1),  # L_VMpure,\n",
    "    (0.0001, 1),  # F_MIX_CM_oldiold_oldinew,\n",
    "    (0.0001, 1),  # L_MIX_CM_oldiold_newinew,\n",
    "    (0.0001, 1),  # L_MIX_CM_oldinew_newiold,\n",
    "    (0.0001, 1),  # F_MIX_AN_oldiold_oldinew,\n",
    "    (0.0001, 1),  # F_MIX2_CM_oldiold_oldinew,\n",
    "    (0.0001, 1),  # L_MIX2_CM_oldiold_newinew,\n",
    "    (0.0001, 1),  # L_MIX2_CM_oldinew_newiold,\n",
    "    (0.0001, 1)  # F_MIX2_AN_oldiold_oldinew\n",
    "      )\n",
    "bdd_lower = [i[1] for i in bdd];\n",
    "bdd_upper = [i[2] for i in bdd];"
   ]
  },
  {
   "cell_type": "markdown",
   "metadata": {
    "kernel": "julia-1.2"
   },
   "source": [
    "# NLopt*"
   ]
  },
  {
   "cell_type": "code",
   "execution_count": null,
   "metadata": {
    "kernel": "julia-1.2"
   },
   "outputs": [],
   "source": [
    "function nlopt_opt(x::Vector, grad::Vector)\n",
    "    \n",
    "    alpha=Dict(); beta =Dict(); s = Dict(); F = Dict(); L = Dict(); c=Dict(); t0=Dict(); Old_crit=Dict(); New_crit=Dict()\n",
    "\n",
    "    alpha[\"all\"],beta[\"all\"],s[\"all\"], #3\n",
    "    c[\"ANpure\"],c[\"CMpure\"],c[\"VMpure\"], #6\n",
    "    c[\"MIX\"] ,c[\"MIX2\"] ,Old_crit[\"ANpure\"] , #9\n",
    "    New_crit[\"ANpure\"] ,Old_crit[\"CMpure\"] ,New_crit[\"CMpure\"] , #12\n",
    "    Old_crit[\"VMpure\"] ,New_crit[\"VMpure\"] ,Old_crit[\"MIX\"] , #15\n",
    "    New_crit[\"MIX\"] ,Old_crit[\"MIX2\"] ,New_crit[\"MIX2\"] , #18\n",
    "    t0[\"all\"] ,t0[\"ann\"] ,kao, #21\n",
    "    F[\"ANpure_AN_oldiold_oldinew\"] ,F[\"CMpure_CM_oldiold_oldinew\"] ,L[\"CMpure_CM_oldiold_newinew\"] , #24\n",
    "    L[\"CMpure_CM_oldinew_newiold\"] , F[\"VMpure_VM_oldiold_oldinew\"] , L[\"VMpure\"], #27\n",
    "    F[\"MIX_CM_oldiold_oldinew\"], L[\"MIX_CM_oldiold_newinew\"], L[\"MIX_CM_oldinew_newiold\"], #30\n",
    "    F[\"MIX_AN_oldiold_oldinew\"], F[\"MIX2_CM_oldiold_oldinew\"], L[\"MIX2_CM_oldiold_newinew\"], #33\n",
    "    L[\"MIX2_CM_oldinew_newiold\"], F[\"MIX2_AN_oldiold_oldinew\"] = x #35\n",
    "\n",
    "    all_vars = [alpha, beta, s, c ,Old_crit ,New_crit , t0 ,kao , F, L ]\n",
    "    \n",
    "    return(calc_wssd(df_err,df_crt, all_vars))\n",
    "end\n",
    "\n",
    "function myconstraint1(x::Vector, grad::Vector)\n",
    "    return(x[22]-x[23])\n",
    "end\n",
    "\n",
    "function myconstraint2(x::Vector, grad::Vector)\n",
    "    return(x[27]-x[24])\n",
    "end\n",
    "\n",
    "function myconstraint3(x::Vector, grad::Vector)\n",
    "    return(x[27]-x[25])\n",
    "end\n",
    "\n",
    "function myconstraint4(x::Vector, grad::Vector)\n",
    "    return(x[22]-x[26])\n",
    "end\n",
    "\n",
    "function myconstraint5(x::Vector, grad::Vector)\n",
    "    return(x[30]-x[29])\n",
    "end\n",
    "\n",
    "function myconstraint6(x::Vector, grad::Vector)\n",
    "    return(x[34]-x[33])\n",
    "end\n",
    "\n",
    "function myconstraint7(x::Vector, grad::Vector)\n",
    "    return(x[31]-x[28])\n",
    "end\n",
    "\n",
    "function myconstraint8(x::Vector, grad::Vector)\n",
    "    return(x[35]-x[32])\n",
    "end\n",
    "\n",
    "function myconstraint9(x::Vector, grad::Vector)\n",
    "    return(x[28]-x[32])\n",
    "end\n",
    "\n",
    "\n",
    "opt = Opt(:GN_ISRES, length(random_start()))#Opt(:LD_SLSQP, 3)\n",
    "opt.lower_bounds = bdd_lower\n",
    "opt.upper_bounds = bdd_upper\n",
    "\n",
    "opt.xtol_rel = 1e-4\n",
    "# opt.maxtime = 10\n",
    "opt.maxeval = 10000\n",
    "opt.min_objective = nlopt_opt\n",
    "\n",
    "inequality_constraint!(opt,(x,g) -> myconstraint1(x,g), 1e-8)\n",
    "inequality_constraint!(opt,(x,g) -> myconstraint2(x,g), 1e-8)\n",
    "inequality_constraint!(opt,(x,g) -> myconstraint3(x,g), 1e-8)\n",
    "inequality_constraint!(opt,(x,g) -> myconstraint4(x,g), 1e-8)\n",
    "inequality_constraint!(opt,(x,g) -> myconstraint5(x,g), 1e-8)\n",
    "inequality_constraint!(opt,(x,g) -> myconstraint6(x,g), 1e-8)\n",
    "inequality_constraint!(opt,(x,g) -> myconstraint7(x,g), 1e-8)\n",
    "inequality_constraint!(opt,(x,g) -> myconstraint8(x,g), 1e-8)\n",
    "inequality_constraint!(opt,(x,g) -> myconstraint9(x,g), 1e-8)\n",
    "\n",
    "(minf,minx,ret) = optimize(opt, random_start())\n",
    "numevals = opt.numevals\n",
    "println(\"got $minf at $minx after $numevals iterations (returned $ret)\")"
   ]
  },
  {
   "cell_type": "code",
   "execution_count": null,
   "metadata": {
    "kernel": "julia-1.2"
   },
   "outputs": [],
   "source": []
  },
  {
   "cell_type": "code",
   "execution_count": null,
   "metadata": {
    "kernel": "julia-1.2"
   },
   "outputs": [],
   "source": []
  }
 ],
 "metadata": {
  "kernelspec": {
   "display_name": "Julia 1.2.0",
   "language": "julia",
   "name": "julia-1.2"
  },
  "language_info": {
   "file_extension": ".jl",
   "mimetype": "application/julia",
   "name": "julia",
   "version": "1.2.0"
  },
  "sos": {
   "kernels": [
    [
     "julia-1.2",
     "julia-1.2",
     "julia",
     "",
     ""
    ]
   ],
   "panel": {
    "displayed": true,
    "height": 0
   },
   "version": "0.20.6"
  },
  "toc": {
   "base_numbering": 1,
   "nav_menu": {},
   "number_sections": true,
   "sideBar": true,
   "skip_h1_title": false,
   "title_cell": "Table of Contents",
   "title_sidebar": "Contents",
   "toc_cell": false,
   "toc_position": {
    "height": "1020px",
    "left": "277.753px",
    "top": "37.78px",
    "width": "412.205px"
   },
   "toc_section_display": true,
   "toc_window_display": true
  },
  "varInspector": {
   "cols": {
    "lenName": 16,
    "lenType": 16,
    "lenVar": 40
   },
   "kernels_config": {
    "python": {
     "delete_cmd_postfix": "",
     "delete_cmd_prefix": "del ",
     "library": "var_list.py",
     "varRefreshCmd": "print(var_dic_list())"
    },
    "r": {
     "delete_cmd_postfix": ") ",
     "delete_cmd_prefix": "rm(",
     "library": "var_list.r",
     "varRefreshCmd": "cat(var_dic_list()) "
    }
   },
   "types_to_exclude": [
    "module",
    "function",
    "builtin_function_or_method",
    "instance",
    "_Feature"
   ],
   "window_display": false
  }
 },
 "nbformat": 4,
 "nbformat_minor": 2
}
